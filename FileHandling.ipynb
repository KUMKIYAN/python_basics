{
 "cells": [
  {
   "cell_type": "code",
   "execution_count": null,
   "metadata": {
    "collapsed": true
   },
   "outputs": [],
   "source": [
    "File Handling:"
   ]
  },
  {
   "cell_type": "code",
   "execution_count": null,
   "metadata": {
    "collapsed": true
   },
   "outputs": [],
   "source": [
    "Types of Files: Text file & binary file (images, video , audio and others)"
   ]
  },
  {
   "cell_type": "code",
   "execution_count": null,
   "metadata": {
    "collapsed": true
   },
   "outputs": [],
   "source": [
    "To Open A file\n",
    "\n",
    "f=open(fileName,mode)\n",
    "f=open(\"123.txt\",r) => by default Read mode. if file not exit then we get FileNotFound error. ptr is at the begining.\n",
    "f=open(\"123.txt\",w) => to override the file. if file not exit then create one and write\n",
    "f=open(\"123.txt\",a) => to append the file. if file not exit then create one and write\n",
    "f=open(\"123.txt\",r+)=> to read and write \n",
    "f=open(\"123.txt\",w+)=> to override and read\n",
    "f=open(\"123.txt\",a+)=> to append and read\n",
    "f=open(\"123.txt\",x) => exclusive means create new file and write data. if file exit then it will file exist error.\n",
    "\n",
    "All the above are for text files. for binary files we need to append b in the mode.\n",
    "rb,wb,ab,r+b,w+b,a+b,xb => For binary files.\n",
    "\n",
    "f.close() to close the file. if we not close too many files opening error we may face.\n",
    "\n",
    "Varisous properies of file object:\n",
    "    f.name\n",
    "    f.mode\n",
    "    f.closed\n",
    "    f.readable()\n",
    "    f.writable()"
   ]
  },
  {
   "cell_type": "code",
   "execution_count": 1,
   "metadata": {
    "collapsed": false
   },
   "outputs": [
    {
     "name": "stdout",
     "output_type": "stream",
     "text": [
      "File Name:  kiyan.txt\n",
      "File Mode:  w\n",
      "Is File Readable:  False\n",
      "Is File Writable:  True\n",
      "Is File Closed :  False\n",
      "Is File Closed :  True\n"
     ]
    }
   ],
   "source": [
    "f=open(\"kiyan.txt\",'w') # create file in current directory\n",
    "print(\"File Name: \",f.name)\n",
    "print(\"File Mode: \",f.mode)\n",
    "print(\"Is File Readable: \",f.readable())\n",
    "print(\"Is File Writable: \",f.writable())\n",
    "print(\"Is File Closed : \",f.closed)\n",
    "f.close()\n",
    "print(\"Is File Closed : \",f.closed)"
   ]
  },
  {
   "cell_type": "code",
   "execution_count": 2,
   "metadata": {
    "collapsed": false
   },
   "outputs": [
    {
     "name": "stdout",
     "output_type": "stream",
     "text": [
      "Data written to the file successfully\n"
     ]
    }
   ],
   "source": [
    "f=open(\"kiyan.txt\",'w')\n",
    "f.write(\"Kiyan\\n\")\n",
    "f.write(\"Kumar\\n\")\n",
    "f.write(\"machine learning\")\n",
    "print(\"Data written to the file successfully\")\n",
    "f.close()"
   ]
  },
  {
   "cell_type": "code",
   "execution_count": 3,
   "metadata": {
    "collapsed": true
   },
   "outputs": [],
   "source": [
    "l = [\"Kiyandoor\\n\",\"Kumar\\n\",\"Want\\n\",\"Learn\\n\",\"Machine Learning\\n\"]\n",
    "f = open(\"kiyan.txt\",'w')\n",
    "f.writelines(l)\n",
    "f.close()"
   ]
  },
  {
   "cell_type": "code",
   "execution_count": 4,
   "metadata": {
    "collapsed": true
   },
   "outputs": [],
   "source": [
    "l = [\"Ramu\\n\",\"Wants\\n\",\"Learn\\n\",\"Machine Learning\\n\"]\n",
    "f = open(\"kiyan.txt\",'a')\n",
    "f.writelines(l)\n",
    "f.close()"
   ]
  },
  {
   "cell_type": "code",
   "execution_count": 5,
   "metadata": {
    "collapsed": true
   },
   "outputs": [],
   "source": [
    "l = [\"Shankar\\n\",\"also\\n\",\"Want\\n\",\"Learn\\n\"]\n",
    "f = open(\"kiyan.txt\",'a')\n",
    "f.writelines(l)\n",
    "f.close()"
   ]
  },
  {
   "cell_type": "code",
   "execution_count": null,
   "metadata": {
    "collapsed": true
   },
   "outputs": [],
   "source": [
    "read() = > to read complete file\n",
    "read(n) => to read n characters\n",
    "readline => read line by line\n",
    "readlines => all lines into list"
   ]
  },
  {
   "cell_type": "code",
   "execution_count": 6,
   "metadata": {
    "collapsed": false
   },
   "outputs": [
    {
     "name": "stdout",
     "output_type": "stream",
     "text": [
      "Kiyandoor\n",
      "Kumar\n",
      "Want\n",
      "Learn\n",
      "Machine Learning\n",
      "Ramu\n",
      "Wants\n",
      "Learn\n",
      "Machine Learning\n",
      "Shankar\n",
      "also\n",
      "Want\n",
      "Learn\n",
      "\n"
     ]
    }
   ],
   "source": [
    "f = open(\"kiyan.txt\",'r')\n",
    "print(f.read())\n",
    "f.close()"
   ]
  },
  {
   "cell_type": "code",
   "execution_count": 7,
   "metadata": {
    "collapsed": false
   },
   "outputs": [
    {
     "name": "stdout",
     "output_type": "stream",
     "text": [
      "Kiyandoor\n",
      "Kumar\n",
      "\n"
     ]
    }
   ],
   "source": [
    "f = open(\"kiyan.txt\",'r')\n",
    "print(f.read(16))"
   ]
  },
  {
   "cell_type": "code",
   "execution_count": 8,
   "metadata": {
    "collapsed": false
   },
   "outputs": [
    {
     "name": "stdout",
     "output_type": "stream",
     "text": [
      "Want\n",
      "\n",
      "Learn\n",
      "\n"
     ]
    }
   ],
   "source": [
    "print(f.readline())\n",
    "print(f.readline())\n",
    "# here new line is also there"
   ]
  },
  {
   "cell_type": "code",
   "execution_count": 9,
   "metadata": {
    "collapsed": false
   },
   "outputs": [
    {
     "name": "stdout",
     "output_type": "stream",
     "text": [
      "Machine Learning\n",
      "\n",
      "Ramu\n",
      "\n",
      "Wants\n",
      "\n",
      "Learn\n",
      "\n",
      "Machine Learning\n",
      "\n",
      "Shankar\n",
      "\n",
      "also\n",
      "\n",
      "Want\n",
      "\n",
      "Learn\n",
      "\n"
     ]
    }
   ],
   "source": [
    "mylist = f.readlines()\n",
    "for x in mylist:\n",
    "    print(x)"
   ]
  },
  {
   "cell_type": "code",
   "execution_count": 10,
   "metadata": {
    "collapsed": false
   },
   "outputs": [
    {
     "name": "stdout",
     "output_type": "stream",
     "text": [
      "Kiyandoor\n",
      "Kumar\n",
      "Want\n",
      "Learn\n",
      "Machine Learning\n",
      "Ramu\n",
      "Wants\n",
      "Learn\n",
      "Machine Learning\n",
      "Shankar\n",
      "also\n",
      "Want\n",
      "Learn\n"
     ]
    }
   ],
   "source": [
    "f.close()\n",
    "f = open(\"kiyan.txt\",\"r\")\n",
    "mylist = f.readlines()\n",
    "for x in mylist:\n",
    "    print(x,end=\"\")\n",
    "f.close()"
   ]
  },
  {
   "cell_type": "code",
   "execution_count": 11,
   "metadata": {
    "collapsed": false
   },
   "outputs": [
    {
     "name": "stdout",
     "output_type": "stream",
     "text": [
      "Kiyandoor\n",
      "\n",
      "Kumar\n",
      "\n",
      "Want\n",
      "\n",
      "Learn\n",
      "\n",
      "Machine Learning\n",
      "\n",
      "Ramu\n",
      "\n",
      "Wants\n",
      "\n",
      "Learn\n",
      "\n",
      "Machine Learning\n",
      "\n",
      "Shankar\n",
      "\n",
      "also\n",
      "\n",
      "Want\n",
      "\n",
      "Learn\n",
      "\n",
      "file closed ? False\n",
      "file closed ? True\n"
     ]
    }
   ],
   "source": [
    "with open(\"kiyan.txt\", \"r\") as f:\n",
    "    for c in f.readlines():\n",
    "        print(c)\n",
    "    print(\"file closed ?\", f.closed)\n",
    "print(\"file closed ?\", f.closed)\n",
    "\n",
    "when we open a file with, the file will be closed automatically after block. even exceptions it will closed.\n",
    "with can be used with any mode."
   ]
  },
  {
   "cell_type": "code",
   "execution_count": null,
   "metadata": {
    "collapsed": true
   },
   "outputs": [],
   "source": [
    "tell() => where the ptr\n",
    "seek() => to go to specific ptr\n",
    "f.seek(fromWhere)"
   ]
  },
  {
   "cell_type": "code",
   "execution_count": 12,
   "metadata": {
    "collapsed": false
   },
   "outputs": [
    {
     "name": "stdout",
     "output_type": "stream",
     "text": [
      "0\n",
      "kiyan is villen\n",
      "The current position is : 15\n",
      "9\n",
      "The current position is : 9\n",
      "kiyan is Hero..\n",
      "The current position is : 15\n",
      "\n"
     ]
    }
   ],
   "source": [
    "data = \"kiyan is villen\"\n",
    "f = open(\"kiyan1.txt\",'w')\n",
    "f.write(data)\n",
    "f.close()\n",
    "with open(\"kiyan1.txt\",'r+') as f: \n",
    "    print(f.tell())\n",
    "    k = f.read()\n",
    "    print(k)\n",
    "    print(\"The current position is :\", f.tell())\n",
    "    print(f.seek(9))\n",
    "    print(\"The current position is :\", f.tell())\n",
    "    f.write('Hero..')\n",
    "    f.seek(0)\n",
    "    print(f.read())\n",
    "    f.seek(15)\n",
    "    print(\"The current position is :\", f.tell())\n",
    "    print(f.read())"
   ]
  },
  {
   "cell_type": "code",
   "execution_count": null,
   "metadata": {
    "collapsed": true
   },
   "outputs": [],
   "source": [
    "Check existing of file."
   ]
  },
  {
   "cell_type": "code",
   "execution_count": 1,
   "metadata": {
    "collapsed": false
   },
   "outputs": [
    {
     "name": "stdout",
     "output_type": "stream",
     "text": [
      "Enter File Name:kiyan1.txt\n",
      "File exist kiyan1.txt\n",
      "kiyan is Hero..\n"
     ]
    }
   ],
   "source": [
    "import os,sys\n",
    "fname = input(\"Enter File Name:\")\n",
    "if os.path.isfile(fname):\n",
    "    print(\"File exist\", fname)\n",
    "    f = open(fname,'r')\n",
    "    data = f.read()\n",
    "    print(data)\n",
    "else:\n",
    "    print(\"File not exit\", fname)\n",
    "    sys.exit(0)"
   ]
  },
  {
   "cell_type": "code",
   "execution_count": 2,
   "metadata": {
    "collapsed": false
   },
   "outputs": [
    {
     "name": "stdout",
     "output_type": "stream",
     "text": [
      "Enter File Name:xyz.txt\n",
      "File not exit xyz.txt\n"
     ]
    },
    {
     "ename": "SystemExit",
     "evalue": "0",
     "output_type": "error",
     "traceback": [
      "An exception has occurred, use %tb to see the full traceback.\n",
      "\u001b[1;31mSystemExit\u001b[0m\u001b[1;31m:\u001b[0m 0\n"
     ]
    },
    {
     "name": "stderr",
     "output_type": "stream",
     "text": [
      "To exit: use 'exit', 'quit', or Ctrl-D.\n"
     ]
    }
   ],
   "source": [
    "import os,sys\n",
    "fname = input(\"Enter File Name:\")\n",
    "if os.path.isfile(fname):\n",
    "    print(\"File exist\", fname)\n",
    "    f = open(fname,'r')\n",
    "    data = f.read()\n",
    "    print(data)\n",
    "else:\n",
    "    print(\"File not exit\", fname)\n",
    "    sys.exit(0)"
   ]
  },
  {
   "cell_type": "code",
   "execution_count": 1,
   "metadata": {
    "collapsed": false
   },
   "outputs": [
    {
     "name": "stdout",
     "output_type": "stream",
     "text": [
      "File exist kiyan1.txt\n",
      "<_io.TextIOWrapper name='kiyan1.txt' mode='r' encoding='UTF-8'>\n",
      "the number of lines 1\n",
      "the number of characters 15\n",
      "the number of words 3\n"
     ]
    }
   ],
   "source": [
    "import os,sys\n",
    "if os.path.isfile(\"kiyan1.txt\"):\n",
    "    print(\"File exist\", \"kiyan1.txt\")\n",
    "    f = open(\"kiyan1.txt\",'r')\n",
    "    print(f)\n",
    "else:\n",
    "    print(\"File not exit\", \"kiyan1.txt\")\n",
    "    sys.exit(0)\n",
    "lcount=wcount=ccount=0\n",
    "for line in f:\n",
    "    lcount = lcount+1\n",
    "    ccount=ccount+len(line)\n",
    "    words = line.split()\n",
    "    wcount= wcount + len(words)\n",
    "print(\"the number of lines\",lcount)\n",
    "print(\"the number of characters\",ccount)\n",
    "print(\"the number of words\",wcount)"
   ]
  },
  {
   "cell_type": "code",
   "execution_count": null,
   "metadata": {
    "collapsed": true
   },
   "outputs": [],
   "source": [
    "Dealing with binary Data ( video, image, audio files):"
   ]
  },
  {
   "cell_type": "code",
   "execution_count": 3,
   "metadata": {
    "collapsed": false
   },
   "outputs": [
    {
     "data": {
      "text/plain": [
       "33833"
      ]
     },
     "execution_count": 3,
     "metadata": {},
     "output_type": "execute_result"
    }
   ],
   "source": [
    "f1 = open(\"module.png\",\"rb\")\n",
    "f2 = open(\"logs.png\",\"wb\")\n",
    "bites = f1.read()\n",
    "f2.write(bites)"
   ]
  },
  {
   "cell_type": "code",
   "execution_count": 4,
   "metadata": {
    "collapsed": false
   },
   "outputs": [
    {
     "name": "stdout",
     "output_type": "stream",
     "text": [
      "Enter Number of Employees:3\n",
      "Enter Employee No:101\n",
      "Enter Employee Name:kiyan\n",
      "Enter Employee Salary:100\n",
      "Enter Employee Address:hmt\n",
      "Enter Employee No:102\n",
      "Enter Employee Name:kum\n",
      "Enter Employee Salary:kondapur\n",
      "Enter Employee Address:konapur\n",
      "Enter Employee No:103\n",
      "Enter Employee Name:shiva\n",
      "Enter Employee Salary:103\n",
      "Enter Employee Address:golkonda\n",
      "Total Employees data written to csv file successfully\n"
     ]
    }
   ],
   "source": [
    "import csv\n",
    "with open(\"emp.csv\",\"w\",newline='') as f:\n",
    "    w=csv.writer(f) # returns csv writer object\n",
    "    w.writerow([\"ENO\",\"ENAME\",\"ESAL\",\"EADDR\"])\n",
    "    n=int(input(\"Enter Number of Employees:\"))\n",
    "    for i in range(n):\n",
    "        eno=input(\"Enter Employee No:\")\n",
    "        ename=input(\"Enter Employee Name:\")\n",
    "        esal=input(\"Enter Employee Salary:\")\n",
    "        eaddr=input(\"Enter Employee Address:\")\n",
    "        w.writerow([eno,ename,esal,eaddr])\n",
    "    print(\"Total Employees data written to csv file successfully\")"
   ]
  },
  {
   "cell_type": "code",
   "execution_count": 5,
   "metadata": {
    "collapsed": false
   },
   "outputs": [
    {
     "name": "stdout",
     "output_type": "stream",
     "text": [
      "[['ENO', 'ENAME', 'ESAL', 'EADDR'], ['101', 'kiyan', '100', 'hmt'], ['102', 'kum', 'kondapur', 'konapur'], ['103', 'shiva', '103', 'golkonda']]\n",
      "ENO \tENAME \tESAL \tEADDR \t\n",
      "101 \tkiyan \t100 \thmt \t\n",
      "102 \tkum \tkondapur \tkonapur \t\n",
      "103 \tshiva \t103 \tgolkonda \t\n"
     ]
    }
   ],
   "source": [
    "import csv\n",
    "f=open(\"emp.csv\",'r')\n",
    "r=csv.reader(f) #returns csv reader object\n",
    "data=list(r)\n",
    "print(data)\n",
    "for line in data:\n",
    "    for word in line:\n",
    "        print(word,\"\\t\",end='')\n",
    "    print()"
   ]
  },
  {
   "cell_type": "code",
   "execution_count": 6,
   "metadata": {
    "collapsed": false
   },
   "outputs": [
    {
     "name": "stdout",
     "output_type": "stream",
     "text": [
      "Enter Number of Employees:2\n",
      "Enter Employee No:101\n",
      "Enter Employee Name:kiyan\n",
      "Enter Employee Salary:100\n",
      "Enter Employee Address:hmt\n",
      "Enter Employee No:102\n",
      "Enter Employee Name:kumar\n",
      "Enter Employee Salary:102\n",
      "Enter Employee Address:kondapur\n",
      "Total Employees data written to csv file successfully\n"
     ]
    }
   ],
   "source": [
    "import csv\n",
    "with open(\"emp1.csv\",\"w\") as f:\n",
    "    w=csv.writer(f) # returns csv writer object\n",
    "    w.writerow([\"ENO\",\"ENAME\",\"ESAL\",\"EADDR\"])\n",
    "    n=int(input(\"Enter Number of Employees:\"))\n",
    "    for i in range(n):\n",
    "        eno=input(\"Enter Employee No:\")\n",
    "        ename=input(\"Enter Employee Name:\")\n",
    "        esal=input(\"Enter Employee Salary:\")\n",
    "        eaddr=input(\"Enter Employee Address:\")\n",
    "        w.writerow([eno,ename,esal,eaddr])\n",
    "    print(\"Total Employees data written to csv file successfully\")"
   ]
  },
  {
   "cell_type": "code",
   "execution_count": null,
   "metadata": {
    "collapsed": true
   },
   "outputs": [],
   "source": [
    "In the above program if we not include new line attribute then in CSV we see misalignment."
   ]
  },
  {
   "cell_type": "code",
   "execution_count": null,
   "metadata": {
    "collapsed": true
   },
   "outputs": [],
   "source": [
    "To handle zipfiles we have zipfile module in which we have ZipFile class"
   ]
  },
  {
   "cell_type": "code",
   "execution_count": 7,
   "metadata": {
    "collapsed": false
   },
   "outputs": [
    {
     "name": "stdout",
     "output_type": "stream",
     "text": [
      "files.zip file created successfully\n"
     ]
    }
   ],
   "source": [
    "from zipfile import *\n",
    "f=ZipFile(\"files.zip\",'w',ZIP_DEFLATED) # here ZIP_DEFLATED represents we are creating zip file\n",
    "f.write(\"module.png\")\n",
    "f.write(\"logs.png\")\n",
    "f.write(\"emp1.csv\")\n",
    "f.close()\n",
    "print(\"files.zip file created successfully\")"
   ]
  },
  {
   "cell_type": "code",
   "execution_count": 8,
   "metadata": {
    "collapsed": false
   },
   "outputs": [
    {
     "name": "stdout",
     "output_type": "stream",
     "text": [
      "['module.png', 'logs.png', 'emp1.csv']\n"
     ]
    }
   ],
   "source": [
    "from zipfile import *\n",
    "f=ZipFile(\"files.zip\",'r',ZIP_STORED) # here ZIP_STORE represents we are unzipping the zip file\n",
    "names=f.namelist()\n",
    "print(names)"
   ]
  },
  {
   "cell_type": "code",
   "execution_count": 9,
   "metadata": {
    "collapsed": false
   },
   "outputs": [
    {
     "name": "stdout",
     "output_type": "stream",
     "text": [
      "['module.png', 'logs.png', 'emp1.csv']\n",
      "File Name:  module.png\n",
      "The Content of this file is:\n"
     ]
    },
    {
     "ename": "UnicodeDecodeError",
     "evalue": "'utf-8' codec can't decode byte 0x89 in position 0: invalid start byte",
     "output_type": "error",
     "traceback": [
      "\u001b[1;31m---------------------------------------------------------------------------\u001b[0m",
      "\u001b[1;31mUnicodeDecodeError\u001b[0m                        Traceback (most recent call last)",
      "\u001b[1;32m<ipython-input-9-feb1df284203>\u001b[0m in \u001b[0;36m<module>\u001b[1;34m()\u001b[0m\n\u001b[0;32m      7\u001b[0m     \u001b[0mprint\u001b[0m\u001b[1;33m(\u001b[0m\u001b[1;34m\"The Content of this file is:\"\u001b[0m\u001b[1;33m)\u001b[0m\u001b[1;33m\u001b[0m\u001b[0m\n\u001b[0;32m      8\u001b[0m     \u001b[0mf1\u001b[0m\u001b[1;33m=\u001b[0m\u001b[0mopen\u001b[0m\u001b[1;33m(\u001b[0m\u001b[0mname\u001b[0m\u001b[1;33m,\u001b[0m\u001b[1;34m'r'\u001b[0m\u001b[1;33m)\u001b[0m\u001b[1;33m\u001b[0m\u001b[0m\n\u001b[1;32m----> 9\u001b[1;33m     \u001b[0mprint\u001b[0m\u001b[1;33m(\u001b[0m\u001b[0mf1\u001b[0m\u001b[1;33m.\u001b[0m\u001b[0mread\u001b[0m\u001b[1;33m(\u001b[0m\u001b[1;33m)\u001b[0m\u001b[1;33m)\u001b[0m \u001b[1;31m# use text file for data on console.\u001b[0m\u001b[1;33m\u001b[0m\u001b[0m\n\u001b[0m\u001b[0;32m     10\u001b[0m     \u001b[0mprint\u001b[0m\u001b[1;33m(\u001b[0m\u001b[1;33m)\u001b[0m\u001b[1;33m\u001b[0m\u001b[0m\n",
      "\u001b[1;32m/usr/lib/python3.4/codecs.py\u001b[0m in \u001b[0;36mdecode\u001b[1;34m(self, input, final)\u001b[0m\n\u001b[0;32m    317\u001b[0m         \u001b[1;31m# decode input (taking the buffer into account)\u001b[0m\u001b[1;33m\u001b[0m\u001b[1;33m\u001b[0m\u001b[0m\n\u001b[0;32m    318\u001b[0m         \u001b[0mdata\u001b[0m \u001b[1;33m=\u001b[0m \u001b[0mself\u001b[0m\u001b[1;33m.\u001b[0m\u001b[0mbuffer\u001b[0m \u001b[1;33m+\u001b[0m \u001b[0minput\u001b[0m\u001b[1;33m\u001b[0m\u001b[0m\n\u001b[1;32m--> 319\u001b[1;33m         \u001b[1;33m(\u001b[0m\u001b[0mresult\u001b[0m\u001b[1;33m,\u001b[0m \u001b[0mconsumed\u001b[0m\u001b[1;33m)\u001b[0m \u001b[1;33m=\u001b[0m \u001b[0mself\u001b[0m\u001b[1;33m.\u001b[0m\u001b[0m_buffer_decode\u001b[0m\u001b[1;33m(\u001b[0m\u001b[0mdata\u001b[0m\u001b[1;33m,\u001b[0m \u001b[0mself\u001b[0m\u001b[1;33m.\u001b[0m\u001b[0merrors\u001b[0m\u001b[1;33m,\u001b[0m \u001b[0mfinal\u001b[0m\u001b[1;33m)\u001b[0m\u001b[1;33m\u001b[0m\u001b[0m\n\u001b[0m\u001b[0;32m    320\u001b[0m         \u001b[1;31m# keep undecoded input until the next call\u001b[0m\u001b[1;33m\u001b[0m\u001b[1;33m\u001b[0m\u001b[0m\n\u001b[0;32m    321\u001b[0m         \u001b[0mself\u001b[0m\u001b[1;33m.\u001b[0m\u001b[0mbuffer\u001b[0m \u001b[1;33m=\u001b[0m \u001b[0mdata\u001b[0m\u001b[1;33m[\u001b[0m\u001b[0mconsumed\u001b[0m\u001b[1;33m:\u001b[0m\u001b[1;33m]\u001b[0m\u001b[1;33m\u001b[0m\u001b[0m\n",
      "\u001b[1;31mUnicodeDecodeError\u001b[0m: 'utf-8' codec can't decode byte 0x89 in position 0: invalid start byte"
     ]
    }
   ],
   "source": [
    "from zipfile import *\n",
    "f=ZipFile(\"files.zip\",'r',ZIP_STORED) # here ZIP_STORE represents we are unzipping the zip file\n",
    "names=f.namelist()\n",
    "print(names)\n",
    "for name in names:\n",
    "    print( \"File Name: \",name)\n",
    "    print(\"The Content of this file is:\")\n",
    "    f1=open(name,'r')\n",
    "    print(f1.read()) # use text file for data on console.\n",
    "    print()"
   ]
  },
  {
   "cell_type": "code",
   "execution_count": 10,
   "metadata": {
    "collapsed": false
   },
   "outputs": [
    {
     "name": "stdout",
     "output_type": "stream",
     "text": [
      "Current Working Directory: /notebooks\n"
     ]
    }
   ],
   "source": [
    "import os\n",
    "cwd = os.getcwd()\n",
    "print(\"Current Working Directory:\",cwd)"
   ]
  },
  {
   "cell_type": "code",
   "execution_count": 11,
   "metadata": {
    "collapsed": true
   },
   "outputs": [],
   "source": [
    "os.mkdir(\"mysub\")"
   ]
  },
  {
   "cell_type": "code",
   "execution_count": 12,
   "metadata": {
    "collapsed": true
   },
   "outputs": [],
   "source": [
    "os.mkdir(\"mysub/mysub2\")"
   ]
  },
  {
   "cell_type": "code",
   "execution_count": 13,
   "metadata": {
    "collapsed": true
   },
   "outputs": [],
   "source": [
    "os.makedirs(\"sub1/sub2/sub3\")"
   ]
  },
  {
   "cell_type": "code",
   "execution_count": 14,
   "metadata": {
    "collapsed": true
   },
   "outputs": [],
   "source": [
    "os.rmdir(\"mysub/mysub2\")"
   ]
  },
  {
   "cell_type": "code",
   "execution_count": 15,
   "metadata": {
    "collapsed": true
   },
   "outputs": [],
   "source": [
    "os.removedirs(\"sub1/sub2/sub3\")"
   ]
  },
  {
   "cell_type": "code",
   "execution_count": 16,
   "metadata": {
    "collapsed": true
   },
   "outputs": [],
   "source": [
    "os.rename(\"mysub\",\"newdir\")"
   ]
  },
  {
   "cell_type": "code",
   "execution_count": 17,
   "metadata": {
    "collapsed": false
   },
   "outputs": [
    {
     "name": "stdout",
     "output_type": "stream",
     "text": [
      "['kiyan1.txt', 'Python Class 6.ipynb', 'myMath3.py', 'emp.csv', 'exception.png', 'myMath4.py', '__pycache__', 'kiyan.txt', 'newdir', 'emp1.csv', '.ipynb_checkpoints', 'Untitled.ipynb', 'Python Class 4.ipynb', 'myMath1.py', 'log.txt', 'files.zip', 'module.png', 'logs.png', 'myMath.py', 'Python Class 5.ipynb']\n"
     ]
    }
   ],
   "source": [
    "print(os.listdir(\".\"))"
   ]
  },
  {
   "cell_type": "code",
   "execution_count": 18,
   "metadata": {
    "collapsed": false
   },
   "outputs": [
    {
     "name": "stdout",
     "output_type": "stream",
     "text": [
      "Current Directory Path: .\n",
      "Directories: ['__pycache__', 'newdir', '.ipynb_checkpoints']\n",
      "Files: ['kiyan1.txt', 'Python Class 6.ipynb', 'myMath3.py', 'emp.csv', 'exception.png', 'myMath4.py', 'kiyan.txt', 'emp1.csv', 'Untitled.ipynb', 'Python Class 4.ipynb', 'myMath1.py', 'log.txt', 'files.zip', 'module.png', 'logs.png', 'myMath.py', 'Python Class 5.ipynb']\n",
      "\n",
      "Current Directory Path: ./__pycache__\n",
      "Directories: []\n",
      "Files: ['myMath2.cpython-34.pyc', 'myMath3.cpython-34.pyc', 'myMath1.cpython-34.pyc', 'myMath4.cpython-34.pyc', 'myMath.cpython-34.pyc']\n",
      "\n",
      "Current Directory Path: ./newdir\n",
      "Directories: []\n",
      "Files: []\n",
      "\n",
      "Current Directory Path: ./.ipynb_checkpoints\n",
      "Directories: []\n",
      "Files: ['Python Class 4-checkpoint.ipynb', 'Python Class 6-checkpoint.ipynb', 'Untitled-checkpoint.ipynb', 'Python Class 5-checkpoint.ipynb']\n",
      "\n"
     ]
    }
   ],
   "source": [
    "import os\n",
    "for dirpath,dirnames,filenames in os.walk('.'):\n",
    "    print(\"Current Directory Path:\",dirpath)\n",
    "    print(\"Directories:\",dirnames)\n",
    "    print(\"Files:\",filenames)\n",
    "    print()"
   ]
  },
  {
   "cell_type": "code",
   "execution_count": null,
   "metadata": {
    "collapsed": true
   },
   "outputs": [],
   "source": [
    "os.listdir(\".\") os.listdir(\"com\") will do display current foloder and its files\n",
    "os.walk(\".\") os.walk(\"com\") will do display all sub folders and their files"
   ]
  },
  {
   "cell_type": "code",
   "execution_count": null,
   "metadata": {
    "collapsed": true
   },
   "outputs": [],
   "source": [
    "os.system(\"commad string\") => argument is any command of DOS."
   ]
  },
  {
   "cell_type": "code",
   "execution_count": 19,
   "metadata": {
    "collapsed": false
   },
   "outputs": [
    {
     "name": "stdout",
     "output_type": "stream",
     "text": [
      "os.stat_result(st_mode=33188, st_ino=3413275, st_dev=2049, st_nlink=1, st_uid=0, st_gid=0, st_size=33833, st_atime=1561094887, st_mtime=1561094616, st_ctime=1561094616)\n"
     ]
    }
   ],
   "source": [
    "import os\n",
    "stats=os.stat(\"logs.png\")\n",
    "print(stats)"
   ]
  },
  {
   "cell_type": "code",
   "execution_count": 22,
   "metadata": {
    "collapsed": false
   },
   "outputs": [
    {
     "name": "stdout",
     "output_type": "stream",
     "text": [
      "File Size in Bytes: 33833\n",
      "File Last Accessed Time: 2019-06-21 05:28:07.749648\n",
      "File Last Modified Time: 2019-06-21 05:23:36.072563\n"
     ]
    }
   ],
   "source": [
    "import os\n",
    "from datetime import *\n",
    "stats=os.stat(\"logs.png\")\n",
    "print(\"File Size in Bytes:\",stats.st_size)\n",
    "print(\"File Last Accessed Time:\",datetime.fromtimestamp(stats.st_atime))\n",
    "print(\"File Last Modified Time:\",datetime.fromtimestamp(stats.st_mtime))"
   ]
  },
  {
   "cell_type": "code",
   "execution_count": null,
   "metadata": {
    "collapsed": true
   },
   "outputs": [],
   "source": [
    "pickling and unpickling\n",
    "\n",
    "write objects to file called pickling\n",
    "reading object from a file is called unpickling\n",
    "pickle module helps us to this acitivity.\n",
    "\n",
    "pickle module dump() function to perform pickling. pickle.dump(object,file)\n",
    "pickle module load() function to perform unpickling obj=pickle.load(file)"
   ]
  },
  {
   "cell_type": "code",
   "execution_count": 23,
   "metadata": {
    "collapsed": true
   },
   "outputs": [],
   "source": [
    "class Student:\n",
    "    def __init__(self,sno,sname,smarks):\n",
    "        self.sno=sno;\n",
    "        self.sname=sname;\n",
    "        self.smarks=smarks;\n",
    "    def display(self):\n",
    "        print(self.sno,\"\\t\",self.sname,\"\\t\",self.smarks,\"\\t\")"
   ]
  },
  {
   "cell_type": "code",
   "execution_count": 24,
   "metadata": {
    "collapsed": false
   },
   "outputs": [
    {
     "name": "stdout",
     "output_type": "stream",
     "text": [
      "Enter The number of Students:2\n",
      "Enter Student Number:101\n",
      "Enter Student Name:kumar\n",
      "Enter Strudent Marks:35\n",
      "Student Objects pickled successfully\n",
      "Enter Student Number:102\n",
      "Enter Student Name:ravi\n",
      "Enter Strudent Marks:70\n",
      "Student Objects pickled successfully\n"
     ]
    }
   ],
   "source": [
    "import pickle\n",
    "fi=open(\"stud1.txt\",\"wb\")\n",
    "n=int(input(\"Enter The number of Students:\"))\n",
    "for i in range(n):\n",
    "    sno=int(input(\"Enter Student Number:\"))\n",
    "    sname=input(\"Enter Student Name:\")\n",
    "    smarks=int(input(\"Enter Strudent Marks:\"))\n",
    "    s=Student(sno,sname,smarks)\n",
    "    pickle.dump(s,fi)\n",
    "    print(\"Student Objects pickled successfully\")\n",
    "fi.close()"
   ]
  },
  {
   "cell_type": "code",
   "execution_count": 25,
   "metadata": {
    "collapsed": false
   },
   "outputs": [
    {
     "name": "stdout",
     "output_type": "stream",
     "text": [
      "b'\\x80\\x03c__main__\\nStudent\\nq\\x00)\\x81q\\x01}q\\x02(X\\x05\\x00\\x00\\x00snameq\\x03X\\x05\\x00\\x00\\x00kumarq\\x04X\\x06\\x00\\x00\\x00smarksq\\x05K#X\\x03\\x00\\x00\\x00snoq\\x06Keub.\\x80\\x03c__main__\\nStudent\\nq\\x00)\\x81q\\x01}q\\x02(X\\x05\\x00\\x00\\x00snameq\\x03X\\x04\\x00\\x00\\x00raviq\\x04X\\x06\\x00\\x00\\x00smarksq\\x05KFX\\x03\\x00\\x00\\x00snoq\\x06Kfub.'\n"
     ]
    }
   ],
   "source": [
    "f = open('stud1.txt','rb')\n",
    "print(f.read())\n",
    "f.close()"
   ]
  },
  {
   "cell_type": "code",
   "execution_count": 26,
   "metadata": {
    "collapsed": false
   },
   "outputs": [
    {
     "name": "stdout",
     "output_type": "stream",
     "text": [
      "Student Details:\n",
      "101 \t kumar \t 35 \t\n",
      "102 \t ravi \t 70 \t\n",
      "All Students Completed\n"
     ]
    }
   ],
   "source": [
    "fi=open(\"stud1.txt\",\"rb\")\n",
    "print(\"Student Details:\")\n",
    "while True:\n",
    "    try:\n",
    "        obj=pickle.load(fi)\n",
    "        obj.display()\n",
    "    except EOFError:\n",
    "        print(\"All Students Completed\")\n",
    "        break\n",
    "f.close()"
   ]
  },
  {
   "cell_type": "code",
   "execution_count": null,
   "metadata": {
    "collapsed": true
   },
   "outputs": [],
   "source": []
  }
 ],
 "metadata": {
  "kernelspec": {
   "display_name": "Python 3",
   "language": "python",
   "name": "python3"
  },
  "language_info": {
   "codemirror_mode": {
    "name": "ipython",
    "version": 3
   },
   "file_extension": ".py",
   "mimetype": "text/x-python",
   "name": "python",
   "nbconvert_exporter": "python",
   "pygments_lexer": "ipython3",
   "version": "3.4.3"
  }
 },
 "nbformat": 4,
 "nbformat_minor": 0
}
