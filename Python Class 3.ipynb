{
 "cells": [
  {
   "cell_type": "code",
   "execution_count": null,
   "metadata": {
    "collapsed": true
   },
   "outputs": [],
   "source": [
    "List can be created as follow: \n",
    "    \n",
    "    l = []\n",
    "    l = [10,20,30,40]\n",
    "    l = eval(input(\"enter some list:\"))\n",
    "    l = list(sequence)\n",
    "    l = s.split(separator)\n",
    "    \n",
    "Nested list \n",
    "    [10,20,[30,40]]\n",
    "    index\n",
    "    slice\n",
    "List is by default immutable => we can insert change, the index value, increase the value"
   ]
  },
  {
   "cell_type": "code",
   "execution_count": 1,
   "metadata": {
    "collapsed": false
   },
   "outputs": [
    {
     "name": "stdout",
     "output_type": "stream",
     "text": [
      "[10, 20, 30, 40]\n"
     ]
    }
   ],
   "source": [
    "l = list([10,20,30,40])\n",
    "print(l)"
   ]
  },
  {
   "cell_type": "code",
   "execution_count": 2,
   "metadata": {
    "collapsed": false
   },
   "outputs": [
    {
     "name": "stdout",
     "output_type": "stream",
     "text": [
      "[10, 20, 30, 40]\n",
      "4\n"
     ]
    }
   ],
   "source": [
    "#len will give length of list\n",
    "print(l)\n",
    "print(len(l))"
   ]
  },
  {
   "cell_type": "code",
   "execution_count": 3,
   "metadata": {
    "collapsed": false
   },
   "outputs": [
    {
     "name": "stdout",
     "output_type": "stream",
     "text": [
      "A is avaialble at positive index : 0 . And at negative: -4\n",
      "B is avaialble at positive index : 1 . And at negative: -3\n",
      "C is avaialble at positive index : 2 . And at negative: -2\n",
      "D is avaialble at positive index : 3 . And at negative: -1\n"
     ]
    }
   ],
   "source": [
    "list = [\"A\",\"B\",\"C\",\"D\"]\n",
    "x = len(list)\n",
    "for i in range(x):\n",
    "    print(list[i], \"is avaialble at positive index :\", i, \". And at negative:\", i-x)"
   ]
  },
  {
   "cell_type": "code",
   "execution_count": null,
   "metadata": {
    "collapsed": true
   },
   "outputs": [],
   "source": [
    "Any method outside of class is called function -> (functional programming)\n",
    "if we use funtion inside a class is called methods. -> (object oriented programming language)\n",
    "so python is funtional programming and object oriented language."
   ]
  },
  {
   "cell_type": "code",
   "execution_count": 5,
   "metadata": {
    "collapsed": false
   },
   "outputs": [
    {
     "name": "stdout",
     "output_type": "stream",
     "text": [
      "I am Function\n",
      "I am Method\n"
     ]
    }
   ],
   "source": [
    "def f1():\n",
    "    print(\"I am Function\")\n",
    "class F2:\n",
    "    def f3(self):\n",
    "        print(\"I am Method\")\n",
    "f1()\n",
    "a=F2()\n",
    "a.f3()"
   ]
  },
  {
   "cell_type": "code",
   "execution_count": null,
   "metadata": {
    "collapsed": true
   },
   "outputs": [],
   "source": [
    "len of list is function."
   ]
  },
  {
   "cell_type": "code",
   "execution_count": 6,
   "metadata": {
    "collapsed": false
   },
   "outputs": [
    {
     "data": {
      "text/plain": [
       "2"
      ]
     },
     "execution_count": 6,
     "metadata": {},
     "output_type": "execute_result"
    }
   ],
   "source": [
    "# count is method of list.\n",
    "l.append(10) # to add element in a list\n",
    "l.count(10)"
   ]
  },
  {
   "cell_type": "code",
   "execution_count": 7,
   "metadata": {
    "collapsed": false
   },
   "outputs": [
    {
     "data": {
      "text/plain": [
       "0"
      ]
     },
     "execution_count": 7,
     "metadata": {},
     "output_type": "execute_result"
    }
   ],
   "source": [
    "l.index(10) # Index will give only first occurance."
   ]
  },
  {
   "cell_type": "code",
   "execution_count": null,
   "metadata": {
    "collapsed": true
   },
   "outputs": [],
   "source": [
    "rindex method is not available"
   ]
  },
  {
   "cell_type": "code",
   "execution_count": 8,
   "metadata": {
    "collapsed": false
   },
   "outputs": [
    {
     "ename": "ValueError",
     "evalue": "50 is not in list",
     "output_type": "error",
     "traceback": [
      "\u001b[1;31m---------------------------------------------------------------------------\u001b[0m",
      "\u001b[1;31mValueError\u001b[0m                                Traceback (most recent call last)",
      "\u001b[1;32m<ipython-input-8-bcf77dcc93ae>\u001b[0m in \u001b[0;36m<module>\u001b[1;34m()\u001b[0m\n\u001b[1;32m----> 1\u001b[1;33m \u001b[0ml\u001b[0m\u001b[1;33m.\u001b[0m\u001b[0mindex\u001b[0m\u001b[1;33m(\u001b[0m\u001b[1;36m50\u001b[0m\u001b[1;33m)\u001b[0m \u001b[1;31m# when we try for not a member of object index always throw error as shown below.\u001b[0m\u001b[1;33m\u001b[0m\u001b[0m\n\u001b[0m\u001b[0;32m      2\u001b[0m             \u001b[1;31m# use membership keyword as shown below\u001b[0m\u001b[1;33m\u001b[0m\u001b[1;33m\u001b[0m\u001b[0m\n",
      "\u001b[1;31mValueError\u001b[0m: 50 is not in list"
     ]
    }
   ],
   "source": [
    "l.index(50) # when we try for not a member of object index always throw error as shown below. \n",
    "            # use membership keyword as shown below"
   ]
  },
  {
   "cell_type": "code",
   "execution_count": 9,
   "metadata": {
    "collapsed": false
   },
   "outputs": [
    {
     "data": {
      "text/plain": [
       "False"
      ]
     },
     "execution_count": 9,
     "metadata": {},
     "output_type": "execute_result"
    }
   ],
   "source": [
    "50 in l "
   ]
  },
  {
   "cell_type": "code",
   "execution_count": 10,
   "metadata": {
    "collapsed": false
   },
   "outputs": [
    {
     "name": "stdout",
     "output_type": "stream",
     "text": [
      "[10, 20, 30, 40, 10]\n",
      "None\n",
      "[10, 20, 30, 40, 50, 10]\n"
     ]
    }
   ],
   "source": [
    "#append method Always add value at the last index of list.\n",
    "#inorder to add where ever we want use insert method as shown below.\n",
    "print(l)\n",
    "print(l.insert(4,50))\n",
    "print(l)"
   ]
  },
  {
   "cell_type": "code",
   "execution_count": null,
   "metadata": {
    "collapsed": true
   },
   "outputs": [],
   "source": [
    "index value is less than len of index it will add in specified place else it will add at the end of the list\n",
    "index value is less than 0 it will add the value as the first place."
   ]
  },
  {
   "cell_type": "code",
   "execution_count": null,
   "metadata": {
    "collapsed": true
   },
   "outputs": [],
   "source": [
    "extend: this method just like addAll method. it will return none value. the left opeand will have complete value."
   ]
  },
  {
   "cell_type": "code",
   "execution_count": 11,
   "metadata": {
    "collapsed": false
   },
   "outputs": [
    {
     "name": "stdout",
     "output_type": "stream",
     "text": [
      "['10', '20', '30', 'A', 'B', 'C']\n"
     ]
    }
   ],
   "source": [
    "l = [\"10\",\"20\",\"30\"]\n",
    "y = [\"A\",\"B\",\"C\"]\n",
    "l.extend(y)\n",
    "print(l)\n",
    "#We can also use l + y for this.\n",
    "#When we add a string, each character in string will be added in list a an element."
   ]
  },
  {
   "cell_type": "code",
   "execution_count": 12,
   "metadata": {
    "collapsed": true
   },
   "outputs": [],
   "source": [
    "l.extend(\"kiyan\")"
   ]
  },
  {
   "cell_type": "code",
   "execution_count": 13,
   "metadata": {
    "collapsed": false
   },
   "outputs": [
    {
     "data": {
      "text/plain": [
       "['10', '20', '30', 'A', 'B', 'C', 'k', 'i', 'y', 'a', 'n']"
      ]
     },
     "execution_count": 13,
     "metadata": {},
     "output_type": "execute_result"
    }
   ],
   "source": [
    "l"
   ]
  },
  {
   "cell_type": "code",
   "execution_count": 14,
   "metadata": {
    "collapsed": false
   },
   "outputs": [
    {
     "name": "stdout",
     "output_type": "stream",
     "text": [
      "['10', '20', '30', 'A', 'B', 'C', 'k', 'i', 'y', 'a', 'n']\n"
     ]
    }
   ],
   "source": [
    "print(l)"
   ]
  },
  {
   "cell_type": "code",
   "execution_count": null,
   "metadata": {
    "collapsed": true
   },
   "outputs": [],
   "source": [
    "remove : to remove specific element use this method. if an element is not present then it will give error method. "
   ]
  },
  {
   "cell_type": "code",
   "execution_count": 15,
   "metadata": {
    "collapsed": false
   },
   "outputs": [
    {
     "name": "stdout",
     "output_type": "stream",
     "text": [
      "None\n",
      "['10', '20', '30', 'A', 'B', 'C', 'k', 'i', 'a', 'n']\n"
     ]
    }
   ],
   "source": [
    "print(l.remove('y'))\n",
    "print(l)"
   ]
  },
  {
   "cell_type": "code",
   "execution_count": 16,
   "metadata": {
    "collapsed": false
   },
   "outputs": [
    {
     "ename": "ValueError",
     "evalue": "list.remove(x): x not in list",
     "output_type": "error",
     "traceback": [
      "\u001b[1;31m---------------------------------------------------------------------------\u001b[0m",
      "\u001b[1;31mValueError\u001b[0m                                Traceback (most recent call last)",
      "\u001b[1;32m<ipython-input-16-8470337b6ed1>\u001b[0m in \u001b[0;36m<module>\u001b[1;34m()\u001b[0m\n\u001b[1;32m----> 1\u001b[1;33m \u001b[0mprint\u001b[0m\u001b[1;33m(\u001b[0m\u001b[0ml\u001b[0m\u001b[1;33m.\u001b[0m\u001b[0mremove\u001b[0m\u001b[1;33m(\u001b[0m\u001b[1;34m\"Z\"\u001b[0m\u001b[1;33m)\u001b[0m\u001b[1;33m)\u001b[0m \u001b[1;31m# use membership function to avoid value Error.\u001b[0m\u001b[1;33m\u001b[0m\u001b[0m\n\u001b[0m",
      "\u001b[1;31mValueError\u001b[0m: list.remove(x): x not in list"
     ]
    }
   ],
   "source": [
    "print(l.remove(\"Z\")) # use membership function to avoid value Error."
   ]
  },
  {
   "cell_type": "code",
   "execution_count": 17,
   "metadata": {
    "collapsed": false
   },
   "outputs": [
    {
     "name": "stdout",
     "output_type": "stream",
     "text": [
      "n\n"
     ]
    }
   ],
   "source": [
    "print(l.pop()) # remove and return last element of list\n",
    "               # To apply pop on a list, it should not be empty. otherwise we get index error."
   ]
  },
  {
   "cell_type": "code",
   "execution_count": 18,
   "metadata": {
    "collapsed": false
   },
   "outputs": [
    {
     "name": "stdout",
     "output_type": "stream",
     "text": [
      "['10', '20', '30', 'A', 'B', 'C', 'k', 'i', 'a']\n"
     ]
    }
   ],
   "source": [
    "print(l)"
   ]
  },
  {
   "cell_type": "code",
   "execution_count": 19,
   "metadata": {
    "collapsed": false
   },
   "outputs": [
    {
     "ename": "IndexError",
     "evalue": "pop from empty list",
     "output_type": "error",
     "traceback": [
      "\u001b[1;31m---------------------------------------------------------------------------\u001b[0m",
      "\u001b[1;31mIndexError\u001b[0m                                Traceback (most recent call last)",
      "\u001b[1;32m<ipython-input-19-b6fd136f65d9>\u001b[0m in \u001b[0;36m<module>\u001b[1;34m()\u001b[0m\n\u001b[0;32m      1\u001b[0m \u001b[0ml1\u001b[0m \u001b[1;33m=\u001b[0m \u001b[1;33m[\u001b[0m\u001b[1;33m]\u001b[0m\u001b[1;33m\u001b[0m\u001b[0m\n\u001b[1;32m----> 2\u001b[1;33m \u001b[0ml1\u001b[0m\u001b[1;33m.\u001b[0m\u001b[0mpop\u001b[0m\u001b[1;33m(\u001b[0m\u001b[1;33m)\u001b[0m\u001b[1;33m\u001b[0m\u001b[0m\n\u001b[0m",
      "\u001b[1;31mIndexError\u001b[0m: pop from empty list"
     ]
    }
   ],
   "source": [
    "l1 = []\n",
    "l1.pop()"
   ]
  },
  {
   "cell_type": "code",
   "execution_count": 20,
   "metadata": {
    "collapsed": true
   },
   "outputs": [],
   "source": [
    "l.reverse()"
   ]
  },
  {
   "cell_type": "code",
   "execution_count": 21,
   "metadata": {
    "collapsed": false
   },
   "outputs": [
    {
     "name": "stdout",
     "output_type": "stream",
     "text": [
      "['a', 'i', 'k', 'C', 'B', 'A', '30', '20', '10']\n"
     ]
    }
   ],
   "source": [
    "print(l)"
   ]
  },
  {
   "cell_type": "code",
   "execution_count": 22,
   "metadata": {
    "collapsed": false
   },
   "outputs": [
    {
     "name": "stdout",
     "output_type": "stream",
     "text": [
      "None\n"
     ]
    }
   ],
   "source": [
    "print(l.sort())"
   ]
  },
  {
   "cell_type": "code",
   "execution_count": 23,
   "metadata": {
    "collapsed": false
   },
   "outputs": [
    {
     "name": "stdout",
     "output_type": "stream",
     "text": [
      "['10', '20', '30', 'A', 'B', 'C', 'a', 'i', 'k']\n"
     ]
    }
   ],
   "source": [
    "print(l)"
   ]
  },
  {
   "cell_type": "code",
   "execution_count": 24,
   "metadata": {
    "collapsed": false
   },
   "outputs": [
    {
     "name": "stdout",
     "output_type": "stream",
     "text": [
      "[30, 40, 'kumar', 'kiyan']\n"
     ]
    },
    {
     "ename": "TypeError",
     "evalue": "unorderable types: str() < int()",
     "output_type": "error",
     "traceback": [
      "\u001b[1;31m---------------------------------------------------------------------------\u001b[0m",
      "\u001b[1;31mTypeError\u001b[0m                                 Traceback (most recent call last)",
      "\u001b[1;32m<ipython-input-24-43a8d0cf7dfa>\u001b[0m in \u001b[0;36m<module>\u001b[1;34m()\u001b[0m\n\u001b[0;32m      2\u001b[0m \u001b[0ml2\u001b[0m \u001b[1;33m=\u001b[0m \u001b[1;33m[\u001b[0m\u001b[1;36m30\u001b[0m\u001b[1;33m,\u001b[0m\u001b[1;36m40\u001b[0m\u001b[1;33m,\u001b[0m\u001b[1;34m\"kumar\"\u001b[0m\u001b[1;33m,\u001b[0m\u001b[1;34m\"kiyan\"\u001b[0m\u001b[1;33m]\u001b[0m\u001b[1;33m\u001b[0m\u001b[0m\n\u001b[0;32m      3\u001b[0m \u001b[0mprint\u001b[0m\u001b[1;33m(\u001b[0m\u001b[0ml2\u001b[0m\u001b[1;33m)\u001b[0m\u001b[1;33m\u001b[0m\u001b[0m\n\u001b[1;32m----> 4\u001b[1;33m \u001b[0ml2\u001b[0m\u001b[1;33m.\u001b[0m\u001b[0msort\u001b[0m\u001b[1;33m(\u001b[0m\u001b[1;33m)\u001b[0m\u001b[1;33m\u001b[0m\u001b[0m\n\u001b[0m\u001b[0;32m      5\u001b[0m \u001b[0mprint\u001b[0m\u001b[1;33m(\u001b[0m\u001b[0ml2\u001b[0m\u001b[1;33m)\u001b[0m\u001b[1;33m\u001b[0m\u001b[0m\n",
      "\u001b[1;31mTypeError\u001b[0m: unorderable types: str() < int()"
     ]
    }
   ],
   "source": [
    "# we can not apply sort function for hetrogenious objects in python 3. this facility was there in python 2.\n",
    "l2 = [30,40,\"kumar\",\"kiyan\"]\n",
    "print(l2)\n",
    "l2.sort()\n",
    "print(l2)"
   ]
  },
  {
   "cell_type": "code",
   "execution_count": null,
   "metadata": {
    "collapsed": true
   },
   "outputs": [],
   "source": [
    "For decending order -> we can do like list.sort(reverse=True)"
   ]
  },
  {
   "cell_type": "code",
   "execution_count": 25,
   "metadata": {
    "collapsed": false
   },
   "outputs": [
    {
     "name": "stdout",
     "output_type": "stream",
     "text": [
      "['Sudha', 'Ravi', 'Rajesh', 'Kumar', 'Kiyna']\n"
     ]
    }
   ],
   "source": [
    "l2 = [\"Kumar\",\"Kiyna\",\"Rajesh\",\"Ravi\",\"Sudha\"]\n",
    "l2.sort(reverse=True)\n",
    "print(l2)"
   ]
  },
  {
   "cell_type": "code",
   "execution_count": 26,
   "metadata": {
    "collapsed": false
   },
   "outputs": [
    {
     "name": "stdout",
     "output_type": "stream",
     "text": [
      "140410146480072\n",
      "140410146480072\n"
     ]
    }
   ],
   "source": [
    "x = [10,20,30]\n",
    "y = x #(alias => both representing same object. not recommened)\n",
    "# create duplicate object is called clone => using slicing / copy methods.\n",
    "print(id(x))\n",
    "print(id(y))"
   ]
  },
  {
   "cell_type": "code",
   "execution_count": 27,
   "metadata": {
    "collapsed": false
   },
   "outputs": [
    {
     "name": "stdout",
     "output_type": "stream",
     "text": [
      "140410160045640\n",
      "140410146478792\n"
     ]
    }
   ],
   "source": [
    "#using slicing\n",
    "x = [10,20,30]\n",
    "y = x[:]\n",
    "print(id(x))\n",
    "print(id(y))\n",
    "# with slicing we can clone customized array. like even element/odd element/first 10 elements..etc"
   ]
  },
  {
   "cell_type": "code",
   "execution_count": 28,
   "metadata": {
    "collapsed": false
   },
   "outputs": [
    {
     "name": "stdout",
     "output_type": "stream",
     "text": [
      "140410146480072\n",
      "140410212757128\n"
     ]
    }
   ],
   "source": [
    "#using copy\n",
    "x = [10,20,30]\n",
    "y = x.copy\n",
    "print(id(x))\n",
    "print(id(y))"
   ]
  },
  {
   "cell_type": "code",
   "execution_count": null,
   "metadata": {
    "collapsed": true
   },
   "outputs": [],
   "source": [
    "==\n",
    "The number of elements should be same.\n",
    "The order and case of elements should be same."
   ]
  },
  {
   "cell_type": "code",
   "execution_count": 30,
   "metadata": {
    "collapsed": false
   },
   "outputs": [
    {
     "name": "stdout",
     "output_type": "stream",
     "text": [
      "140410146486216\n",
      "140410146486152\n",
      "140410146895048\n",
      "140410146895048\n"
     ]
    }
   ],
   "source": [
    "#list element are string.\n",
    "#Strings in python wont create duplicate objects if already one exist.\n",
    "l1 = [\"kumar\",\"kiyandoor\"]\n",
    "l2 = [\"kumar\",\"kiyandoor\"]\n",
    "print(id(l1))\n",
    "print(id(l2))\n",
    "print(id(l1[0]))\n",
    "print(id(l2[0]))"
   ]
  },
  {
   "cell_type": "code",
   "execution_count": 31,
   "metadata": {
    "collapsed": false
   },
   "outputs": [
    {
     "name": "stdout",
     "output_type": "stream",
     "text": [
      "140410146497288\n",
      "140410146496904\n",
      "10106112\n",
      "10106112\n",
      "140410217793296\n",
      "140410217793552\n"
     ]
    }
   ],
   "source": [
    "#Integer in python wont create duplicate objects till 256 if already one exist.\n",
    "l1 = [10,257]\n",
    "l2 = [10,257]\n",
    "print(id(l1))\n",
    "print(id(l2))\n",
    "print(id(l1[0]))\n",
    "print(id(l2[0]))\n",
    "print(id(l1[1]))\n",
    "print(id(l2[1]))"
   ]
  },
  {
   "cell_type": "code",
   "execution_count": 32,
   "metadata": {
    "collapsed": false
   },
   "outputs": [
    {
     "name": "stdout",
     "output_type": "stream",
     "text": [
      "True\n",
      "False\n"
     ]
    }
   ],
   "source": [
    "#When compare two list of intergers, it consider only the first element. \n",
    "#if first elements are same then it will go for second elements of two list and so on\n",
    "l1 = [20,30]\n",
    "l2 = [30,40]\n",
    "print(l1<l2)\n",
    "print(l1>l2)"
   ]
  },
  {
   "cell_type": "code",
   "execution_count": 33,
   "metadata": {
    "collapsed": false
   },
   "outputs": [
    {
     "name": "stdout",
     "output_type": "stream",
     "text": [
      "True\n",
      "False\n"
     ]
    }
   ],
   "source": [
    "l1 = [30,30]\n",
    "l2 = [30,40]\n",
    "print(l1<l2)\n",
    "print(l1>l2)"
   ]
  },
  {
   "cell_type": "code",
   "execution_count": 34,
   "metadata": {
    "collapsed": false
   },
   "outputs": [
    {
     "data": {
      "text/plain": [
       "[30, 40]"
      ]
     },
     "execution_count": 34,
     "metadata": {},
     "output_type": "execute_result"
    }
   ],
   "source": [
    "l2"
   ]
  },
  {
   "cell_type": "code",
   "execution_count": 35,
   "metadata": {
    "collapsed": false
   },
   "outputs": [
    {
     "data": {
      "text/plain": [
       "[]"
      ]
     },
     "execution_count": 35,
     "metadata": {},
     "output_type": "execute_result"
    }
   ],
   "source": [
    "#To clear a list\n",
    "l2.clear()\n",
    "l2"
   ]
  },
  {
   "cell_type": "code",
   "execution_count": 36,
   "metadata": {
    "collapsed": false
   },
   "outputs": [
    {
     "name": "stdout",
     "output_type": "stream",
     "text": [
      "[50, 60]\n",
      "50\n",
      "60\n"
     ]
    }
   ],
   "source": [
    "#Nested list\n",
    "l = [10,20,[50,60]]\n",
    "print(l[2])\n",
    "print(l[2][0])\n",
    "print(l[2][1])"
   ]
  },
  {
   "cell_type": "code",
   "execution_count": 37,
   "metadata": {
    "collapsed": false
   },
   "outputs": [
    {
     "name": "stdout",
     "output_type": "stream",
     "text": [
      "[10, 20, 30]\n",
      "[40, 50, 60]\n",
      "[70, 80, 90]\n"
     ]
    }
   ],
   "source": [
    "l = [[10,20,30],[40,50,60],[70,80,90]]\n",
    "for x in l:\n",
    "    print(x)"
   ]
  },
  {
   "cell_type": "code",
   "execution_count": 38,
   "metadata": {
    "collapsed": false
   },
   "outputs": [
    {
     "name": "stdout",
     "output_type": "stream",
     "text": [
      "10 20 30 \n",
      "40 50 60 \n",
      "70 80 90 \n"
     ]
    }
   ],
   "source": [
    "for x in range(len(l)):\n",
    "    for y in range(len(l[x])):\n",
    "        print(l[x][y],end=\" \")\n",
    "    print()"
   ]
  },
  {
   "cell_type": "code",
   "execution_count": null,
   "metadata": {
    "collapsed": true
   },
   "outputs": [],
   "source": [
    "list comprehensions."
   ]
  },
  {
   "cell_type": "code",
   "execution_count": 39,
   "metadata": {
    "collapsed": false
   },
   "outputs": [
    {
     "name": "stdout",
     "output_type": "stream",
     "text": [
      "[1, 4, 9, 16, 25, 36, 49, 64, 81, 100]\n"
     ]
    }
   ],
   "source": [
    "l = [x*x for x in range(1,11)]\n",
    "print(l)"
   ]
  },
  {
   "cell_type": "code",
   "execution_count": 40,
   "metadata": {
    "collapsed": false
   },
   "outputs": [
    {
     "name": "stdout",
     "output_type": "stream",
     "text": [
      "[4, 16, 36, 64, 100]\n"
     ]
    }
   ],
   "source": [
    "l = [x for x in l if x%2==0]\n",
    "print(l)"
   ]
  },
  {
   "cell_type": "code",
   "execution_count": 41,
   "metadata": {
    "collapsed": false
   },
   "outputs": [
    {
     "name": "stdout",
     "output_type": "stream",
     "text": [
      "['hello kiyan', 'hello kumar']\n"
     ]
    }
   ],
   "source": [
    "l = [\"kiyan\",\"kumar\"]\n",
    "l = [\"hello \" + x for x in l]\n",
    "print(l)"
   ]
  },
  {
   "cell_type": "code",
   "execution_count": 42,
   "metadata": {
    "collapsed": false
   },
   "outputs": [
    {
     "name": "stdout",
     "output_type": "stream",
     "text": [
      "[10]\n"
     ]
    }
   ],
   "source": [
    "n1 = [10,20,30]\n",
    "n2 = [20,30]\n",
    "print([x for x in n1 if x not in n2])"
   ]
  },
  {
   "cell_type": "code",
   "execution_count": 43,
   "metadata": {
    "collapsed": false
   },
   "outputs": [
    {
     "name": "stdout",
     "output_type": "stream",
     "text": [
      "['hello kiyan', 'hello kumar']\n"
     ]
    }
   ],
   "source": [
    "print(l)"
   ]
  },
  {
   "cell_type": "code",
   "execution_count": 44,
   "metadata": {
    "collapsed": false
   },
   "outputs": [
    {
     "name": "stdout",
     "output_type": "stream",
     "text": [
      "['HELLO KIYAN', 'HELLO KUMAR']\n"
     ]
    }
   ],
   "source": [
    "print([x.upper() for x in l])"
   ]
  },
  {
   "cell_type": "code",
   "execution_count": null,
   "metadata": {
    "collapsed": true
   },
   "outputs": [],
   "source": [
    "In Slicing s[begin:end:step]\n",
    "step can be either positive or negative\n",
    "if step is positive begin to end-1\n",
    "if step is negative begin to end+1\n",
    "end should not be -1 or end + 1 equal to zero then result always zero."
   ]
  },
  {
   "cell_type": "code",
   "execution_count": 45,
   "metadata": {
    "collapsed": false
   },
   "outputs": [
    {
     "data": {
      "text/plain": [
       "'012345678'"
      ]
     },
     "execution_count": 45,
     "metadata": {},
     "output_type": "execute_result"
    }
   ],
   "source": [
    "s = '0123456789'\n",
    "s[0:9]"
   ]
  },
  {
   "cell_type": "code",
   "execution_count": 46,
   "metadata": {
    "collapsed": false
   },
   "outputs": [
    {
     "data": {
      "text/plain": [
       "'987654321'"
      ]
     },
     "execution_count": 46,
     "metadata": {},
     "output_type": "execute_result"
    }
   ],
   "source": [
    "s[9:0:-1] #backword direction."
   ]
  },
  {
   "cell_type": "code",
   "execution_count": 47,
   "metadata": {
    "collapsed": false
   },
   "outputs": [
    {
     "data": {
      "text/plain": [
       "''"
      ]
     },
     "execution_count": 47,
     "metadata": {},
     "output_type": "execute_result"
    }
   ],
   "source": [
    "s[4:-1:-1]"
   ]
  },
  {
   "cell_type": "code",
   "execution_count": 48,
   "metadata": {
    "collapsed": false
   },
   "outputs": [
    {
     "data": {
      "text/plain": [
       "'4321'"
      ]
     },
     "execution_count": 48,
     "metadata": {},
     "output_type": "execute_result"
    }
   ],
   "source": [
    "s[4:0:-1]"
   ]
  },
  {
   "cell_type": "code",
   "execution_count": null,
   "metadata": {
    "collapsed": true
   },
   "outputs": [],
   "source": [
    "Tuple:\n",
    "     Tuple is exactly same as list except tuple is immutable. we can not add or delete. it is ready only version of \n",
    "        list is tuple."
   ]
  },
  {
   "cell_type": "code",
   "execution_count": 49,
   "metadata": {
    "collapsed": false
   },
   "outputs": [
    {
     "name": "stdout",
     "output_type": "stream",
     "text": [
      "<class 'tuple'>\n"
     ]
    }
   ],
   "source": [
    "t = (10,20)\n",
    "print(type(t))"
   ]
  },
  {
   "cell_type": "code",
   "execution_count": null,
   "metadata": {
    "collapsed": true
   },
   "outputs": [],
   "source": [
    "paranthesis optional. For single tuple we have use comma. otherwise it will treat as integer."
   ]
  },
  {
   "cell_type": "code",
   "execution_count": 50,
   "metadata": {
    "collapsed": false
   },
   "outputs": [
    {
     "name": "stdout",
     "output_type": "stream",
     "text": [
      "<class 'int'>\n",
      "<class 'tuple'>\n",
      "<class 'tuple'>\n"
     ]
    }
   ],
   "source": [
    "t = (10)\n",
    "print(type(t))\n",
    "f = (10,)\n",
    "print(type(f))\n",
    "t = 10,\n",
    "print(type(t))"
   ]
  },
  {
   "cell_type": "code",
   "execution_count": 52,
   "metadata": {
    "collapsed": false
   },
   "outputs": [
    {
     "name": "stdout",
     "output_type": "stream",
     "text": [
      "(10, 20)\n"
     ]
    }
   ],
   "source": [
    "#tuple() is to covert list to tuple \n",
    "l = [10,20]\n",
    "print(tuple(l))"
   ]
  },
  {
   "cell_type": "code",
   "execution_count": null,
   "metadata": {
    "collapsed": true
   },
   "outputs": [],
   "source": [
    "tuple operations are same as list except immutability"
   ]
  },
  {
   "cell_type": "code",
   "execution_count": 53,
   "metadata": {
    "collapsed": false
   },
   "outputs": [
    {
     "name": "stdout",
     "output_type": "stream",
     "text": [
      "10\n",
      "20\n",
      "10\n",
      "20\n"
     ]
    }
   ],
   "source": [
    "l = [10,20]\n",
    "print(min(l))\n",
    "print(max(l))\n",
    "t = (10,20)\n",
    "print(min(l))\n",
    "print(max(l))"
   ]
  },
  {
   "cell_type": "code",
   "execution_count": 55,
   "metadata": {
    "collapsed": false
   },
   "outputs": [
    {
     "name": "stdout",
     "output_type": "stream",
     "text": [
      "True\n"
     ]
    }
   ],
   "source": [
    "#cmp() -> is available only python 2\n",
    "t1=(10,20)\n",
    "t2=(40,70)\n",
    "print(t1 < t2)"
   ]
  },
  {
   "cell_type": "code",
   "execution_count": 56,
   "metadata": {
    "collapsed": false
   },
   "outputs": [
    {
     "name": "stdout",
     "output_type": "stream",
     "text": [
      "(10, 'A', 'D')\n",
      "1\n",
      "2\n",
      "3\n",
      "10\n",
      "20\n",
      "30\n"
     ]
    }
   ],
   "source": [
    "#tuple packing and unpacking. it is available for other data types like list and set as well for other sequence.\n",
    "a = 10\n",
    "b = \"A\"\n",
    "c = \"D\"\n",
    "t = a,b,c\n",
    "print(t)\n",
    "#tuple unpacking. it is available for other data types like list and set as well for other sequence.\n",
    "t=(1,2,3)\n",
    "x,y,z=t\n",
    "print(x)\n",
    "print(y)\n",
    "print(z)\n",
    "t = [10,20,30] # list unpacking\n",
    "a,b,c = t\n",
    "print(a)\n",
    "print(b)\n",
    "print(c)"
   ]
  },
  {
   "cell_type": "code",
   "execution_count": 57,
   "metadata": {
    "collapsed": false
   },
   "outputs": [
    {
     "name": "stdout",
     "output_type": "stream",
     "text": [
      "<generator object <genexpr> at 0x7fb3c8e7b480>\n",
      "<class 'generator'>\n"
     ]
    }
   ],
   "source": [
    "#tuple comprehension is same as list comprehension. but it not give tuple object it will give generator object.\n",
    "t = (x*x for x in range(1,11))\n",
    "print(t)\n",
    "print(type(t))"
   ]
  },
  {
   "cell_type": "code",
   "execution_count": null,
   "metadata": {
    "collapsed": true
   },
   "outputs": [],
   "source": [
    "Set:\n",
    "    just like java set. no duplicate\n",
    "    indexing and slice operators are not applicable for index\n",
    "    set objects are muttable.\n",
    "    order is not preserved"
   ]
  },
  {
   "cell_type": "code",
   "execution_count": 58,
   "metadata": {
    "collapsed": false
   },
   "outputs": [
    {
     "name": "stdout",
     "output_type": "stream",
     "text": [
      "{40, 10, 60, 30}\n"
     ]
    }
   ],
   "source": [
    "s = {30,10,40,60,40,60}\n",
    "print(s)"
   ]
  },
  {
   "cell_type": "code",
   "execution_count": 59,
   "metadata": {
    "collapsed": false
   },
   "outputs": [
    {
     "ename": "TypeError",
     "evalue": "'set' object does not support indexing",
     "output_type": "error",
     "traceback": [
      "\u001b[1;31m---------------------------------------------------------------------------\u001b[0m",
      "\u001b[1;31mTypeError\u001b[0m                                 Traceback (most recent call last)",
      "\u001b[1;32m<ipython-input-59-4e98c4f87897>\u001b[0m in \u001b[0;36m<module>\u001b[1;34m()\u001b[0m\n\u001b[1;32m----> 1\u001b[1;33m \u001b[0ms\u001b[0m\u001b[1;33m[\u001b[0m\u001b[1;36m0\u001b[0m\u001b[1;33m]\u001b[0m\u001b[1;33m\u001b[0m\u001b[0m\n\u001b[0m",
      "\u001b[1;31mTypeError\u001b[0m: 'set' object does not support indexing"
     ]
    }
   ],
   "source": [
    "s[0]"
   ]
  },
  {
   "cell_type": "code",
   "execution_count": 60,
   "metadata": {
    "collapsed": false
   },
   "outputs": [
    {
     "ename": "TypeError",
     "evalue": "'set' object is not subscriptable",
     "output_type": "error",
     "traceback": [
      "\u001b[1;31m---------------------------------------------------------------------------\u001b[0m",
      "\u001b[1;31mTypeError\u001b[0m                                 Traceback (most recent call last)",
      "\u001b[1;32m<ipython-input-60-7f2c6738d15b>\u001b[0m in \u001b[0;36m<module>\u001b[1;34m()\u001b[0m\n\u001b[1;32m----> 1\u001b[1;33m \u001b[0ms\u001b[0m\u001b[1;33m[\u001b[0m\u001b[1;36m1\u001b[0m\u001b[1;33m:\u001b[0m\u001b[1;36m4\u001b[0m\u001b[1;33m]\u001b[0m\u001b[1;33m\u001b[0m\u001b[0m\n\u001b[0m",
      "\u001b[1;31mTypeError\u001b[0m: 'set' object is not subscriptable"
     ]
    }
   ],
   "source": [
    "s[1:4]"
   ]
  },
  {
   "cell_type": "code",
   "execution_count": 61,
   "metadata": {
    "collapsed": false
   },
   "outputs": [
    {
     "name": "stdout",
     "output_type": "stream",
     "text": [
      "{'d', 'a', 'n', 'r', 'i', 'y', 'k', 'o'}\n"
     ]
    }
   ],
   "source": [
    "s = set(\"kiyandoor\")\n",
    "print(s)"
   ]
  },
  {
   "cell_type": "code",
   "execution_count": 62,
   "metadata": {
    "collapsed": false
   },
   "outputs": [
    {
     "name": "stdout",
     "output_type": "stream",
     "text": [
      "{1, 2, 3, 4, 5, 6, 7, 8, 9, 10}\n"
     ]
    }
   ],
   "source": [
    "s = set(range(1,11))\n",
    "print(s)"
   ]
  },
  {
   "cell_type": "code",
   "execution_count": 63,
   "metadata": {
    "collapsed": false
   },
   "outputs": [
    {
     "name": "stdout",
     "output_type": "stream",
     "text": [
      "{40, 10, 50, 20, 30}\n"
     ]
    }
   ],
   "source": [
    "#converting list sequence to set\n",
    "l = [10,20,30,40,40,50]\n",
    "s = set(l)\n",
    "print(s)"
   ]
  },
  {
   "cell_type": "code",
   "execution_count": 64,
   "metadata": {
    "collapsed": false
   },
   "outputs": [
    {
     "name": "stdout",
     "output_type": "stream",
     "text": [
      "<class 'set'>\n",
      "<class 'dict'>\n"
     ]
    }
   ],
   "source": [
    "#to create empty set the only option is set(). if we use braces, it will treated as dictonery\n",
    "s = set()\n",
    "print(type(s))\n",
    "s ={}\n",
    "print(type(s))"
   ]
  },
  {
   "cell_type": "code",
   "execution_count": 66,
   "metadata": {
    "collapsed": false
   },
   "outputs": [
    {
     "name": "stdout",
     "output_type": "stream",
     "text": [
      "{40, 10, 20, 30}\n",
      "{40, 10, 50, 20, 30}\n"
     ]
    },
    {
     "ename": "TypeError",
     "evalue": "add() takes exactly one argument (3 given)",
     "output_type": "error",
     "traceback": [
      "\u001b[1;31m---------------------------------------------------------------------------\u001b[0m",
      "\u001b[1;31mTypeError\u001b[0m                                 Traceback (most recent call last)",
      "\u001b[1;32m<ipython-input-66-db077bb05c6d>\u001b[0m in \u001b[0;36m<module>\u001b[1;34m()\u001b[0m\n\u001b[0;32m      8\u001b[0m \u001b[0ms\u001b[0m\u001b[1;33m.\u001b[0m\u001b[0madd\u001b[0m\u001b[1;33m(\u001b[0m\u001b[1;36m50\u001b[0m\u001b[1;33m)\u001b[0m\u001b[1;33m\u001b[0m\u001b[0m\n\u001b[0;32m      9\u001b[0m \u001b[0mprint\u001b[0m\u001b[1;33m(\u001b[0m\u001b[0ms\u001b[0m\u001b[1;33m)\u001b[0m\u001b[1;33m\u001b[0m\u001b[0m\n\u001b[1;32m---> 10\u001b[1;33m \u001b[0ms\u001b[0m\u001b[1;33m.\u001b[0m\u001b[0madd\u001b[0m\u001b[1;33m(\u001b[0m\u001b[1;36m50\u001b[0m\u001b[1;33m,\u001b[0m\u001b[1;36m60\u001b[0m\u001b[1;33m,\u001b[0m\u001b[1;36m70\u001b[0m\u001b[1;33m)\u001b[0m \u001b[1;31m# it is invalid as it is taking more than one element\u001b[0m\u001b[1;33m\u001b[0m\u001b[0m\n\u001b[0m",
      "\u001b[1;31mTypeError\u001b[0m: add() takes exactly one argument (3 given)"
     ]
    }
   ],
   "source": [
    "#Add method. to add an element. It takes only one element.\n",
    "s = set()\n",
    "s.add(10)\n",
    "s.add(20)\n",
    "s.add(30)\n",
    "s.add(40)\n",
    "print(s)\n",
    "s.add(50)\n",
    "print(s)\n",
    "s.add(50,60,70) # it is invalid as it is taking more than one element"
   ]
  },
  {
   "cell_type": "code",
   "execution_count": 67,
   "metadata": {
    "collapsed": false
   },
   "outputs": [
    {
     "name": "stdout",
     "output_type": "stream",
     "text": [
      "{0, 1, 2, 3, 4, 5, 6, 678, 10, 20, 30}\n"
     ]
    }
   ],
   "source": [
    "#update method for sequence. we can pass any number of arguments in the form of sequence. we can not pass an element.\n",
    "s = {10,20,30}\n",
    "l = [10,20,30,1,2,3,4]\n",
    "s.update(l,range(1,7),(0,678))\n",
    "print(s)"
   ]
  },
  {
   "cell_type": "code",
   "execution_count": 68,
   "metadata": {
    "collapsed": false
   },
   "outputs": [
    {
     "name": "stdout",
     "output_type": "stream",
     "text": [
      "140410146628104\n",
      "140410146628104\n",
      "140410146627656\n"
     ]
    }
   ],
   "source": [
    "s = {10,20}\n",
    "s1=s  # Aliacing\n",
    "print(id(s))\n",
    "print(id(s1))\n",
    "s1 = s.copy() # cloneing.\n",
    "print(id(s1))"
   ]
  },
  {
   "cell_type": "code",
   "execution_count": 69,
   "metadata": {
    "collapsed": false
   },
   "outputs": [
    {
     "name": "stdout",
     "output_type": "stream",
     "text": [
      "{40, 10, 20, 30}\n",
      "40\n"
     ]
    }
   ],
   "source": [
    "#pop() method remove & return a random element. We get KeyError for pop on empty set.\n",
    "s = {10,20,30,40}\n",
    "print(s)\n",
    "print(s.pop())"
   ]
  },
  {
   "cell_type": "code",
   "execution_count": 70,
   "metadata": {
    "collapsed": false
   },
   "outputs": [
    {
     "name": "stdout",
     "output_type": "stream",
     "text": [
      "{40, 10, 20, 30}\n",
      "None\n",
      "{40, 10, 20}\n"
     ]
    }
   ],
   "source": [
    "#remove method is to remove specified element. We get KeyError for unavailable element in set.\n",
    "\n",
    "s = {10,20,30,40}\n",
    "print(s)\n",
    "print(s.remove(30))\n",
    "print(s)"
   ]
  },
  {
   "cell_type": "code",
   "execution_count": 71,
   "metadata": {
    "collapsed": false
   },
   "outputs": [
    {
     "ename": "KeyError",
     "evalue": "90",
     "output_type": "error",
     "traceback": [
      "\u001b[1;31m---------------------------------------------------------------------------\u001b[0m",
      "\u001b[1;31mKeyError\u001b[0m                                  Traceback (most recent call last)",
      "\u001b[1;32m<ipython-input-71-75c0f0b4bab2>\u001b[0m in \u001b[0;36m<module>\u001b[1;34m()\u001b[0m\n\u001b[1;32m----> 1\u001b[1;33m \u001b[0ms\u001b[0m\u001b[1;33m.\u001b[0m\u001b[0mremove\u001b[0m\u001b[1;33m(\u001b[0m\u001b[1;36m90\u001b[0m\u001b[1;33m)\u001b[0m\u001b[1;33m\u001b[0m\u001b[0m\n\u001b[0m",
      "\u001b[1;31mKeyError\u001b[0m: 90"
     ]
    }
   ],
   "source": [
    "s.remove(90)"
   ]
  },
  {
   "cell_type": "code",
   "execution_count": 72,
   "metadata": {
    "collapsed": false
   },
   "outputs": [
    {
     "name": "stdout",
     "output_type": "stream",
     "text": [
      "{40, 10, 20, 30}\n",
      "None\n",
      "None\n",
      "{40, 10, 20}\n"
     ]
    }
   ],
   "source": [
    "#Discard method is to remove specified element. We will not get any error for unavailable element in set.\n",
    "\n",
    "s = {10,20,30,40}\n",
    "print(s)\n",
    "print(s.discard(30))\n",
    "print(s.discard(90))\n",
    "print(s)"
   ]
  },
  {
   "cell_type": "code",
   "execution_count": null,
   "metadata": {
    "collapsed": true
   },
   "outputs": [],
   "source": [
    "clear is remove all elements."
   ]
  },
  {
   "cell_type": "code",
   "execution_count": null,
   "metadata": {
    "collapsed": true
   },
   "outputs": [],
   "source": [
    "Mathematical operations:\n",
    "    union(), | - >s1.union(s2) or s1|s2 = > return all the elements of s1 and s2\n",
    "    intersection  & => s1.intersection(s2) or s1 & s2 => only common of s1 and s2\n",
    "    difference - => s1.difference(s2) or s1 - s2 => present in s1 not present s2\n",
    "    symmetric_difference ^ => uncommon elements of s1 & s2 (exlcuding common element)\n",
    "    membership operators available in set as well => in & not in.\n",
    "    comprehension applicable in set as well."
   ]
  },
  {
   "cell_type": "code",
   "execution_count": null,
   "metadata": {
    "collapsed": true
   },
   "outputs": [],
   "source": [
    "Dictionery:\n",
    "key & value pair:\n",
    "duplicate keys are not allowed.\n",
    "hetrogenious objects are allowed for both key and value\n",
    "mutable.\n",
    "indexing and slicing are not allowed."
   ]
  },
  {
   "cell_type": "code",
   "execution_count": 73,
   "metadata": {
    "collapsed": false
   },
   "outputs": [
    {
     "name": "stdout",
     "output_type": "stream",
     "text": [
      "{10: 'kiyan', 20: 'rajesh'}\n",
      "{'r': 'ravi', 10: 'kiyan', 20: 'rajesh'}\n"
     ]
    }
   ],
   "source": [
    "d = {}\n",
    "d[10] = \"kiyan\"\n",
    "d[20] = \"rajesh\"\n",
    "print(d)\n",
    "d[\"r\"] = \"ravi\"\n",
    "print(d)"
   ]
  },
  {
   "cell_type": "code",
   "execution_count": 74,
   "metadata": {
    "collapsed": false
   },
   "outputs": [
    {
     "name": "stdout",
     "output_type": "stream",
     "text": [
      "{'b': 'banana', 'a': 'apple'}\n"
     ]
    }
   ],
   "source": [
    "d = {'a':\"apple\",'b':\"banana\"}\n",
    "print(d)"
   ]
  },
  {
   "cell_type": "code",
   "execution_count": 75,
   "metadata": {
    "collapsed": false
   },
   "outputs": [
    {
     "name": "stdout",
     "output_type": "stream",
     "text": [
      "banana\n"
     ]
    }
   ],
   "source": [
    "print(d['b'])"
   ]
  },
  {
   "cell_type": "code",
   "execution_count": 76,
   "metadata": {
    "collapsed": false
   },
   "outputs": [
    {
     "ename": "KeyError",
     "evalue": "'c'",
     "output_type": "error",
     "traceback": [
      "\u001b[1;31m---------------------------------------------------------------------------\u001b[0m",
      "\u001b[1;31mKeyError\u001b[0m                                  Traceback (most recent call last)",
      "\u001b[1;32m<ipython-input-76-83ee7916434b>\u001b[0m in \u001b[0;36m<module>\u001b[1;34m()\u001b[0m\n\u001b[0;32m      1\u001b[0m \u001b[1;31m#we get keyError for not existing key.\u001b[0m\u001b[1;33m\u001b[0m\u001b[1;33m\u001b[0m\u001b[0m\n\u001b[1;32m----> 2\u001b[1;33m \u001b[0mprint\u001b[0m\u001b[1;33m[\u001b[0m\u001b[0md\u001b[0m\u001b[1;33m[\u001b[0m\u001b[1;34m'c'\u001b[0m\u001b[1;33m]\u001b[0m\u001b[1;33m]\u001b[0m\u001b[1;33m\u001b[0m\u001b[0m\n\u001b[0m",
      "\u001b[1;31mKeyError\u001b[0m: 'c'"
     ]
    }
   ],
   "source": [
    "#we get keyError for not existing key.\n",
    "print[d['c']]"
   ]
  },
  {
   "cell_type": "code",
   "execution_count": 77,
   "metadata": {
    "collapsed": false
   },
   "outputs": [
    {
     "name": "stdout",
     "output_type": "stream",
     "text": [
      "<built-in method keys of dict object at 0x7fb3c9b657c8>\n"
     ]
    }
   ],
   "source": [
    "print(d.keys)"
   ]
  },
  {
   "cell_type": "code",
   "execution_count": 78,
   "metadata": {
    "collapsed": false
   },
   "outputs": [
    {
     "name": "stdout",
     "output_type": "stream",
     "text": [
      "<built-in method values of dict object at 0x7fb3c9b657c8>\n"
     ]
    }
   ],
   "source": [
    "print(d.values)"
   ]
  },
  {
   "cell_type": "code",
   "execution_count": 79,
   "metadata": {
    "collapsed": false
   },
   "outputs": [
    {
     "name": "stdout",
     "output_type": "stream",
     "text": [
      "dict_keys(['b', 'a'])\n"
     ]
    }
   ],
   "source": [
    "print(d.keys())"
   ]
  },
  {
   "cell_type": "code",
   "execution_count": 80,
   "metadata": {
    "collapsed": false
   },
   "outputs": [
    {
     "name": "stdout",
     "output_type": "stream",
     "text": [
      "dict_values(['banana', 'apple'])\n"
     ]
    }
   ],
   "source": [
    "print(d.values())"
   ]
  },
  {
   "cell_type": "code",
   "execution_count": 81,
   "metadata": {
    "collapsed": false
   },
   "outputs": [
    {
     "name": "stdout",
     "output_type": "stream",
     "text": [
      "{'b': 'banana', 'a': 'apple'}\n",
      "{'b': 'banana', 'a': 'apple', 'c': 'cat'}\n"
     ]
    }
   ],
   "source": [
    "#How to add element in dict\n",
    "print(d)\n",
    "d['c'] = \"cat\"\n",
    "print(d)"
   ]
  },
  {
   "cell_type": "code",
   "execution_count": 82,
   "metadata": {
    "collapsed": false
   },
   "outputs": [
    {
     "name": "stdout",
     "output_type": "stream",
     "text": [
      "{'b': 'banana', 'a': 'apple'}\n"
     ]
    }
   ],
   "source": [
    "#How to delete element in dict\n",
    "del d['c']\n",
    "print(d)"
   ]
  },
  {
   "cell_type": "code",
   "execution_count": 83,
   "metadata": {
    "collapsed": false
   },
   "outputs": [
    {
     "name": "stdout",
     "output_type": "stream",
     "text": [
      "{'b': 'banana', 'a': 'apple'}\n",
      "None\n",
      "{}\n"
     ]
    }
   ],
   "source": [
    "print(d)\n",
    "print(d.clear())\n",
    "print(d)"
   ]
  },
  {
   "cell_type": "code",
   "execution_count": null,
   "metadata": {
    "collapsed": true
   },
   "outputs": [],
   "source": [
    "important functions/methods of dictonery:\n",
    "    dict() # it will take only one arugment. That can be list of tuple / set of tuple /tuple of tuple / dictionery."
   ]
  },
  {
   "cell_type": "code",
   "execution_count": 84,
   "metadata": {
    "collapsed": false
   },
   "outputs": [
    {
     "name": "stdout",
     "output_type": "stream",
     "text": [
      "{100: 'kiyan', 101: 'Ravi', 102: 'Rajest'}\n"
     ]
    }
   ],
   "source": [
    "#To covert list of tuple to dict:\n",
    "\n",
    "d = dict([(100,'kiyan'),(101,\"Ravi\"),(102,\"Rajest\")])\n",
    "print(d)"
   ]
  },
  {
   "cell_type": "code",
   "execution_count": 85,
   "metadata": {
    "collapsed": false
   },
   "outputs": [
    {
     "name": "stdout",
     "output_type": "stream",
     "text": [
      "{100: 'kiyan', 101: 'Ravi', 102: 'Rajest'}\n"
     ]
    }
   ],
   "source": [
    "#to covert Set of tuple to dict:\n",
    "\n",
    "f = dict({(100,'kiyan'),(101,\"Ravi\"),(102,\"Rajest\")})\n",
    "print(f)"
   ]
  },
  {
   "cell_type": "code",
   "execution_count": 88,
   "metadata": {
    "collapsed": false
   },
   "outputs": [
    {
     "name": "stdout",
     "output_type": "stream",
     "text": [
      "{100: 'kiyan', 101: 'Ravi', 102: 'Rajest'}\n"
     ]
    }
   ],
   "source": [
    "f = dict({(100,'kiyan'),(101,\"Ravi\"),(102,\"Rajest\")})\n",
    "print(f)"
   ]
  },
  {
   "cell_type": "code",
   "execution_count": 89,
   "metadata": {
    "collapsed": false
   },
   "outputs": [
    {
     "name": "stdout",
     "output_type": "stream",
     "text": [
      "{100: 'kiyan', 101: 'Ravi', 102: 'Rajest'}\n"
     ]
    }
   ],
   "source": [
    "f = dict(((100,'kiyan'),(101,\"Ravi\"),(102,\"Rajest\")))\n",
    "print(f)"
   ]
  },
  {
   "cell_type": "code",
   "execution_count": 90,
   "metadata": {
    "collapsed": false
   },
   "outputs": [
    {
     "data": {
      "text/plain": [
       "'kiyan'"
      ]
     },
     "execution_count": 90,
     "metadata": {},
     "output_type": "execute_result"
    }
   ],
   "source": [
    "f.get(100)"
   ]
  },
  {
   "cell_type": "code",
   "execution_count": 91,
   "metadata": {
    "collapsed": true
   },
   "outputs": [],
   "source": [
    "f.get(400) # get wll not give error for not existing keys\n",
    "#We can also use get method to set default value if key is not available. \n",
    "#If key exist then existing value will be return\n",
    "# this will not add element to existing dictionery."
   ]
  },
  {
   "cell_type": "code",
   "execution_count": 92,
   "metadata": {
    "collapsed": false
   },
   "outputs": [
    {
     "name": "stdout",
     "output_type": "stream",
     "text": [
      "{100: 'kiyan', 101: 'Ravi', 102: 'Rajest'}\n",
      "None\n",
      "ravi\n",
      "{100: 'kiyan', 101: 'Ravi', 102: 'Rajest'}\n",
      "kiyan\n",
      "{100: 'kiyan', 101: 'Ravi', 102: 'Rajest'}\n"
     ]
    }
   ],
   "source": [
    "print(f)\n",
    "print(f.get(103))\n",
    "print(f.get(103,\"ravi\"))\n",
    "print(f)\n",
    "print(f.get(100,\"kiyandoor\"))\n",
    "print(f)"
   ]
  },
  {
   "cell_type": "code",
   "execution_count": 93,
   "metadata": {
    "collapsed": false
   },
   "outputs": [
    {
     "name": "stdout",
     "output_type": "stream",
     "text": [
      "{101: 'Ravi', 102: 'Rajest'}\n"
     ]
    }
   ],
   "source": [
    "#pop(key) will remove & return that particular key/value. we get keyError for non existing of key\n",
    "#popitem() will remove & return random key/value. we get keyError for empty dictonery.\n",
    "f.pop(100)\n",
    "print(f)"
   ]
  },
  {
   "cell_type": "code",
   "execution_count": 94,
   "metadata": {
    "collapsed": false
   },
   "outputs": [
    {
     "name": "stdout",
     "output_type": "stream",
     "text": [
      "{102: 'Rajest'}\n",
      "{}\n"
     ]
    }
   ],
   "source": [
    "#popitem of dict remove and return random key value pair.\n",
    "f = {101: 'Ravi', 102: 'Rajest'}\n",
    "f.popitem()\n",
    "print(f)\n",
    "f.popitem()\n",
    "print(f)"
   ]
  },
  {
   "cell_type": "code",
   "execution_count": 95,
   "metadata": {
    "collapsed": false
   },
   "outputs": [
    {
     "ename": "KeyError",
     "evalue": "'popitem(): dictionary is empty'",
     "output_type": "error",
     "traceback": [
      "\u001b[1;31m---------------------------------------------------------------------------\u001b[0m",
      "\u001b[1;31mKeyError\u001b[0m                                  Traceback (most recent call last)",
      "\u001b[1;32m<ipython-input-95-ba29963e1c9f>\u001b[0m in \u001b[0;36m<module>\u001b[1;34m()\u001b[0m\n\u001b[1;32m----> 1\u001b[1;33m \u001b[0mf\u001b[0m\u001b[1;33m.\u001b[0m\u001b[0mpopitem\u001b[0m\u001b[1;33m(\u001b[0m\u001b[1;33m)\u001b[0m\u001b[1;33m\u001b[0m\u001b[0m\n\u001b[0m",
      "\u001b[1;31mKeyError\u001b[0m: 'popitem(): dictionary is empty'"
     ]
    }
   ],
   "source": [
    "f.popitem()"
   ]
  },
  {
   "cell_type": "code",
   "execution_count": 96,
   "metadata": {
    "collapsed": false
   },
   "outputs": [
    {
     "name": "stdout",
     "output_type": "stream",
     "text": [
      "{100: 'kiyan', 101: 'Ravi', 102: 'Rajest'}\n"
     ]
    }
   ],
   "source": [
    "f = dict(((100,'kiyan'),(101,\"Ravi\"),(102,\"Rajest\")))\n",
    "print(f)"
   ]
  },
  {
   "cell_type": "code",
   "execution_count": 97,
   "metadata": {
    "collapsed": false
   },
   "outputs": [
    {
     "ename": "TypeError",
     "evalue": "'builtin_function_or_method' object is not iterable",
     "output_type": "error",
     "traceback": [
      "\u001b[1;31m---------------------------------------------------------------------------\u001b[0m",
      "\u001b[1;31mTypeError\u001b[0m                                 Traceback (most recent call last)",
      "\u001b[1;32m<ipython-input-97-092a6e4d559f>\u001b[0m in \u001b[0;36m<module>\u001b[1;34m()\u001b[0m\n\u001b[1;32m----> 1\u001b[1;33m \u001b[1;32mfor\u001b[0m \u001b[0mi\u001b[0m \u001b[1;32min\u001b[0m \u001b[0mf\u001b[0m\u001b[1;33m.\u001b[0m\u001b[0mkeys\u001b[0m\u001b[1;33m:\u001b[0m\u001b[1;33m\u001b[0m\u001b[0m\n\u001b[0m\u001b[0;32m      2\u001b[0m     \u001b[0mprint\u001b[0m\u001b[1;33m(\u001b[0m\u001b[0mi\u001b[0m\u001b[1;33m)\u001b[0m\u001b[1;33m\u001b[0m\u001b[0m\n",
      "\u001b[1;31mTypeError\u001b[0m: 'builtin_function_or_method' object is not iterable"
     ]
    }
   ],
   "source": [
    "for i in f.keys:\n",
    "    print(i)"
   ]
  },
  {
   "cell_type": "code",
   "execution_count": 98,
   "metadata": {
    "collapsed": false
   },
   "outputs": [
    {
     "name": "stdout",
     "output_type": "stream",
     "text": [
      "100\n",
      "101\n",
      "102\n"
     ]
    }
   ],
   "source": [
    "for i in f.keys():\n",
    "    print(i)"
   ]
  },
  {
   "cell_type": "code",
   "execution_count": 99,
   "metadata": {
    "collapsed": false
   },
   "outputs": [
    {
     "name": "stdout",
     "output_type": "stream",
     "text": [
      "kiyan\n",
      "Ravi\n",
      "Rajest\n"
     ]
    }
   ],
   "source": [
    "for i in f.keys():\n",
    "    print(f.get(i))"
   ]
  },
  {
   "cell_type": "code",
   "execution_count": 100,
   "metadata": {
    "collapsed": false
   },
   "outputs": [
    {
     "ename": "NameError",
     "evalue": "name 'd' is not defined",
     "output_type": "error",
     "traceback": [
      "\u001b[1;31m---------------------------------------------------------------------------\u001b[0m",
      "\u001b[1;31mNameError\u001b[0m                                 Traceback (most recent call last)",
      "\u001b[1;32m<ipython-input-100-2abe221fb5db>\u001b[0m in \u001b[0;36m<module>\u001b[1;34m()\u001b[0m\n\u001b[0;32m      2\u001b[0m \u001b[0md\u001b[0m \u001b[1;33m=\u001b[0m \u001b[1;33m{\u001b[0m\u001b[1;36m10\u001b[0m\u001b[1;33m:\u001b[0m\u001b[1;34m\"kiyan\"\u001b[0m\u001b[1;33m,\u001b[0m\u001b[1;36m20\u001b[0m\u001b[1;33m:\u001b[0m\u001b[1;34m\"kumar\"\u001b[0m\u001b[1;33m}\u001b[0m\u001b[1;33m\u001b[0m\u001b[0m\n\u001b[0;32m      3\u001b[0m \u001b[1;32mdel\u001b[0m \u001b[0md\u001b[0m\u001b[1;33m\u001b[0m\u001b[0m\n\u001b[1;32m----> 4\u001b[1;33m \u001b[0mprint\u001b[0m\u001b[1;33m(\u001b[0m\u001b[0md\u001b[0m\u001b[1;33m)\u001b[0m\u001b[1;33m\u001b[0m\u001b[0m\n\u001b[0m",
      "\u001b[1;31mNameError\u001b[0m: name 'd' is not defined"
     ]
    }
   ],
   "source": [
    "#dict completely deleted if we use del operation. with clear(), we can delete only elements of map. but not map \n",
    "d = {10:\"kiyan\",20:\"kumar\"}\n",
    "del d\n",
    "print(d)"
   ]
  },
  {
   "cell_type": "code",
   "execution_count": 101,
   "metadata": {
    "collapsed": false
   },
   "outputs": [
    {
     "name": "stdout",
     "output_type": "stream",
     "text": [
      "{}\n"
     ]
    }
   ],
   "source": [
    "d = {10:\"kiyan\",20:\"kumar\"}\n",
    "d.clear()\n",
    "print(d)"
   ]
  },
  {
   "cell_type": "code",
   "execution_count": 103,
   "metadata": {
    "collapsed": false
   },
   "outputs": [
    {
     "name": "stdout",
     "output_type": "stream",
     "text": [
      "dict_items([(10, 'kiyan'), (20, 'kumar')])\n"
     ]
    }
   ],
   "source": [
    "d = {10:\"kiyan\",20:\"kumar\"}\n",
    "l = d.items()\n",
    "print(l)"
   ]
  },
  {
   "cell_type": "code",
   "execution_count": 104,
   "metadata": {
    "collapsed": false
   },
   "outputs": [
    {
     "name": "stdout",
     "output_type": "stream",
     "text": [
      "10 ..... kiyan\n",
      "20 ..... kumar\n"
     ]
    }
   ],
   "source": [
    "for k,v in d.items():\n",
    "    print(k,'.....',v)"
   ]
  },
  {
   "cell_type": "code",
   "execution_count": null,
   "metadata": {
    "collapsed": true
   },
   "outputs": [],
   "source": [
    "setdefault(k,v) # if key is not available this key value pair will add. if key is there it just ignore.\n",
    "               # the get method return only value of that key like d.get(10). \n",
    "               # if we want return something when key is not there use like  d.get(10,-1) # it will not add any value. \n",
    "               # if key exist it return it value. other wise it return -1 here. we can specify what ever we want."
   ]
  },
  {
   "cell_type": "code",
   "execution_count": 105,
   "metadata": {
    "collapsed": false
   },
   "outputs": [
    {
     "name": "stdout",
     "output_type": "stream",
     "text": [
      "{10: 'kiyan', 20: 'kumar'}\n",
      "{10: 'kiyan', 20: 'kumar', 30: 'Ravi'}\n",
      "{10: 'kiyan', 20: 'kumar', 30: 'Ravi'}\n",
      "kiyan\n",
      "-1\n",
      "-2\n",
      "{10: 'kiyan', 20: 'kumar', 30: 'Ravi'}\n"
     ]
    }
   ],
   "source": [
    "print(d)\n",
    "d.setdefault(30,\"Ravi\")\n",
    "print(d)\n",
    "d.setdefault(10,\"Rajesh\")\n",
    "print(d)\n",
    "print(d.get(10))\n",
    "print(d.get(1000,-1))\n",
    "print(d.get(1000,-2))\n",
    "print(d)"
   ]
  },
  {
   "cell_type": "code",
   "execution_count": 106,
   "metadata": {
    "collapsed": false
   },
   "outputs": [
    {
     "name": "stdout",
     "output_type": "stream",
     "text": [
      "{200: 'Gopi', 300: 'DD', 10: 'kiyan', 20: 'kumar', 30: 'Ravi'}\n"
     ]
    }
   ],
   "source": [
    "d1 = {200:\"Gopi\",300:\"DD\"}\n",
    "d.update(d1) # it takes only one argument,\n",
    "print(d)"
   ]
  },
  {
   "cell_type": "code",
   "execution_count": 107,
   "metadata": {
    "collapsed": false
   },
   "outputs": [
    {
     "ename": "TypeError",
     "evalue": "update expected at most 1 arguments, got 2",
     "output_type": "error",
     "traceback": [
      "\u001b[1;31m---------------------------------------------------------------------------\u001b[0m",
      "\u001b[1;31mTypeError\u001b[0m                                 Traceback (most recent call last)",
      "\u001b[1;32m<ipython-input-107-29b451f8f256>\u001b[0m in \u001b[0;36m<module>\u001b[1;34m()\u001b[0m\n\u001b[0;32m      1\u001b[0m \u001b[0md2\u001b[0m \u001b[1;33m=\u001b[0m \u001b[1;33m{\u001b[0m\u001b[1;36m400\u001b[0m\u001b[1;33m:\u001b[0m\u001b[1;34m\"Dharmi\"\u001b[0m\u001b[1;33m}\u001b[0m\u001b[1;33m\u001b[0m\u001b[0m\n\u001b[0;32m      2\u001b[0m \u001b[0md3\u001b[0m \u001b[1;33m=\u001b[0m \u001b[1;33m{\u001b[0m\u001b[1;36m500\u001b[0m\u001b[1;33m:\u001b[0m\u001b[1;34m\"Chinna\"\u001b[0m\u001b[1;33m}\u001b[0m\u001b[1;33m\u001b[0m\u001b[0m\n\u001b[1;32m----> 3\u001b[1;33m \u001b[0md\u001b[0m\u001b[1;33m.\u001b[0m\u001b[0mupdate\u001b[0m\u001b[1;33m(\u001b[0m\u001b[0md2\u001b[0m\u001b[1;33m,\u001b[0m\u001b[0md3\u001b[0m\u001b[1;33m)\u001b[0m \u001b[1;31m# update method takes only one argument.\u001b[0m\u001b[1;33m\u001b[0m\u001b[0m\n\u001b[0m\u001b[0;32m      4\u001b[0m \u001b[0mprint\u001b[0m\u001b[1;33m(\u001b[0m\u001b[0md\u001b[0m\u001b[1;33m)\u001b[0m\u001b[1;33m\u001b[0m\u001b[0m\n",
      "\u001b[1;31mTypeError\u001b[0m: update expected at most 1 arguments, got 2"
     ]
    }
   ],
   "source": [
    "d2 = {400:\"Dharmi\"}\n",
    "d3 = {500:\"Chinna\"}\n",
    "d.update(d2,d3) # update method takes only one argument.\n",
    "print(d)"
   ]
  },
  {
   "cell_type": "code",
   "execution_count": 108,
   "metadata": {
    "collapsed": true
   },
   "outputs": [],
   "source": [
    "#we can pass list/set/tuple of tuple in the update method.\n",
    "d.update([(400,\"Dharmi\"),(500,\"Chinna\")])"
   ]
  },
  {
   "cell_type": "code",
   "execution_count": 109,
   "metadata": {
    "collapsed": false
   },
   "outputs": [
    {
     "name": "stdout",
     "output_type": "stream",
     "text": [
      "{400: 'Dharmi', 20: 'kumar', 200: 'Gopi', 500: 'Chinna', 10: 'kiyan', 300: 'DD', 30: 'Ravi'}\n"
     ]
    }
   ],
   "source": [
    "print(d)"
   ]
  },
  {
   "cell_type": "code",
   "execution_count": 110,
   "metadata": {
    "collapsed": false
   },
   "outputs": [
    {
     "name": "stdout",
     "output_type": "stream",
     "text": [
      "1460\n"
     ]
    }
   ],
   "source": [
    "print(sum(d.keys()))"
   ]
  },
  {
   "cell_type": "code",
   "execution_count": 111,
   "metadata": {
    "collapsed": false
   },
   "outputs": [
    {
     "name": "stdout",
     "output_type": "stream",
     "text": [
      "{'p': 1, 'm': 1, 's': 2, 'i': 3}\n"
     ]
    }
   ],
   "source": [
    "k = \"missipi\"\n",
    "d = {}\n",
    "for x in k:\n",
    "    d[x] = d.get(x,0)+1\n",
    "print(d)"
   ]
  },
  {
   "cell_type": "code",
   "execution_count": 112,
   "metadata": {
    "collapsed": false
   },
   "outputs": [
    {
     "name": "stdout",
     "output_type": "stream",
     "text": [
      "{1: 1, 2: 4, 3: 9, 4: 16, 5: 25}\n",
      "{1: 2, 2: 4, 3: 6, 4: 8, 5: 10}\n"
     ]
    }
   ],
   "source": [
    "squres = {x:x*x for x in range(1,6)}\n",
    "print(squres)\n",
    "double = {x:2*x for x in range(1,6)}\n",
    "print(double)"
   ]
  },
  {
   "cell_type": "code",
   "execution_count": 113,
   "metadata": {
    "collapsed": false
   },
   "outputs": [
    {
     "name": "stdout",
     "output_type": "stream",
     "text": [
      "THE SQURE OF 10 IS : 100\n",
      "THE SQURE OF 20 IS : 400\n"
     ]
    }
   ],
   "source": [
    "#resuable components:\n",
    "    \n",
    "def square(x):\n",
    "    print(\"THE SQURE OF {} IS : {}\".format(x,x*x))\n",
    "square(10)\n",
    "square(20)"
   ]
  },
  {
   "cell_type": "code",
   "execution_count": 114,
   "metadata": {
    "collapsed": false
   },
   "outputs": [
    {
     "name": "stdout",
     "output_type": "stream",
     "text": [
      "Hello\n",
      "None\n"
     ]
    }
   ],
   "source": [
    "#If a function not returning anything explicitly in python, it return by default None.\n",
    "def wish():\n",
    "    print(\"Hello\")\n",
    "print(wish())"
   ]
  },
  {
   "cell_type": "code",
   "execution_count": 115,
   "metadata": {
    "collapsed": false
   },
   "outputs": [
    {
     "name": "stdout",
     "output_type": "stream",
     "text": [
      "This is odd number\n",
      "Even number\n"
     ]
    }
   ],
   "source": [
    "def evenodd(n):\n",
    "    if n%2 == 0:\n",
    "        print(\"Even number\")\n",
    "    else:\n",
    "        print(\"This is odd number\")\n",
    "evenodd(5)\n",
    "evenodd(10)"
   ]
  },
  {
   "cell_type": "code",
   "execution_count": null,
   "metadata": {
    "collapsed": true
   },
   "outputs": [],
   "source": [
    "A function can be return any number of values. \n",
    "if we a function is returning more than 1 value, data stored in the form of tuple"
   ]
  },
  {
   "cell_type": "code",
   "execution_count": 116,
   "metadata": {
    "collapsed": false
   },
   "outputs": [
    {
     "name": "stdout",
     "output_type": "stream",
     "text": [
      "5\n",
      "-1\n",
      "6\n",
      "<class 'tuple'>\n",
      "(9, 1, 20)\n"
     ]
    }
   ],
   "source": [
    "def add_sub(a,b):\n",
    "    x =(a+b)\n",
    "    y =(a-b)\n",
    "    z =(a*b)\n",
    "    return x,y,z\n",
    "a,b,c = add_sub(2,3)\n",
    "print(a)\n",
    "print(b)\n",
    "print(c)\n",
    "k = add_sub(5,4)\n",
    "print(type(k))\n",
    "print(k)"
   ]
  },
  {
   "cell_type": "code",
   "execution_count": null,
   "metadata": {
    "collapsed": true
   },
   "outputs": [],
   "source": [
    "python functional arguments:\n",
    "    \n",
    "    positional arguments:  \n",
    "        f1(a,b):body f1(100,200) 100 will be assinged 'a', 200 will be assinged to 'b'\n",
    "        number of arugments must be same.    \n",
    "    \n",
    "    keyword arguments: \n",
    "        we are passing the value by keyword. number of arguments must be same.\n",
    "        f1(a,b):\n",
    "            body \n",
    "        f1(a=200,b=100)\n",
    "        f1(b=300,a=500)\n",
    "        \n",
    "    We can pass positional and keyword arguments together. the order is important: \n",
    "    first pass positional argument then pass keyword argument \n",
    "    In otherwords, postional argument first then keyword argument second \n",
    "        f1(10, b=20) -> is valid.\n",
    "        f2(b=20, 10) -> is invalid\n",
    "\n",
    "    \n",
    "    default arguments:\n",
    "        we can pass default values to arguments.\n",
    "        def wish(name=\"Guest\"):\n",
    "            print(\"Hello \",name)\n",
    "        wish() => Hello Guest\n",
    "        wish(\"kiyan\") => Hello kiyan\n",
    "        \n",
    "    The default arguments must come last.\n",
    "      def wish(mark,age,name=\"Guest\",msg=\"Hello\")\n",
    "    \n",
    "    variable length argument:\n",
    "        one method can access n number of input, sum(*n)\n",
    "        here n is tuple"
   ]
  },
  {
   "cell_type": "code",
   "execution_count": 117,
   "metadata": {
    "collapsed": false
   },
   "outputs": [
    {
     "name": "stdout",
     "output_type": "stream",
     "text": [
      "Student Name: kiyan\n",
      "Student marks: 100\n",
      "Student Age is: 48\n",
      "Message: hero\n",
      "--------------\n",
      "Student Name: Guest\n",
      "Student marks: 48\n",
      "Student Age is: 50\n",
      "Message: Hello\n",
      "--------------\n"
     ]
    }
   ],
   "source": [
    "def wish(marks,age,name=\"Guest\",msg=\"Hello\"):\n",
    "    print(\"Student Name:\", name)\n",
    "    print(\"Student marks:\", marks)\n",
    "    print(\"Student Age is:\", age)\n",
    "    print(\"Message:\", msg)\n",
    "    print(\"--------------\")\n",
    "wish(100,age=48,name=\"kiyan\", msg=\"hero\")    \n",
    "wish(48,50)"
   ]
  },
  {
   "cell_type": "code",
   "execution_count": null,
   "metadata": {
    "collapsed": true
   },
   "outputs": [],
   "source": [
    "Notice the syntax error below. \n",
    "Positional argument first then followed by keyword"
   ]
  },
  {
   "cell_type": "code",
   "execution_count": 118,
   "metadata": {
    "collapsed": false
   },
   "outputs": [
    {
     "ename": "SyntaxError",
     "evalue": "non-keyword arg after keyword arg (<ipython-input-118-3972811aeaec>, line 1)",
     "output_type": "error",
     "traceback": [
      "\u001b[1;36m  File \u001b[1;32m\"<ipython-input-118-3972811aeaec>\"\u001b[1;36m, line \u001b[1;32m1\u001b[0m\n\u001b[1;33m    wish(age=48,100,name=\"kiyan\", msg=\"hero\")\u001b[0m\n\u001b[1;37m               ^\u001b[0m\n\u001b[1;31mSyntaxError\u001b[0m\u001b[1;31m:\u001b[0m non-keyword arg after keyword arg\n"
     ]
    }
   ],
   "source": [
    "wish(age=48,100,name=\"kiyan\", msg=\"hero\")"
   ]
  },
  {
   "cell_type": "code",
   "execution_count": 119,
   "metadata": {
    "collapsed": false
   },
   "outputs": [
    {
     "ename": "TypeError",
     "evalue": "sum() got multiple values for argument 'a'",
     "output_type": "error",
     "traceback": [
      "\u001b[1;31m---------------------------------------------------------------------------\u001b[0m",
      "\u001b[1;31mTypeError\u001b[0m                                 Traceback (most recent call last)",
      "\u001b[1;32m<ipython-input-119-32789fcf82df>\u001b[0m in \u001b[0;36m<module>\u001b[1;34m()\u001b[0m\n\u001b[0;32m      1\u001b[0m \u001b[1;32mdef\u001b[0m \u001b[0msum\u001b[0m\u001b[1;33m(\u001b[0m\u001b[0ma\u001b[0m\u001b[1;33m,\u001b[0m\u001b[0mb\u001b[0m\u001b[1;33m)\u001b[0m\u001b[1;33m:\u001b[0m\u001b[1;33m\u001b[0m\u001b[0m\n\u001b[0;32m      2\u001b[0m     \u001b[1;32mpass\u001b[0m\u001b[1;33m\u001b[0m\u001b[0m\n\u001b[1;32m----> 3\u001b[1;33m \u001b[0msum\u001b[0m\u001b[1;33m(\u001b[0m\u001b[1;36m50\u001b[0m\u001b[1;33m,\u001b[0m\u001b[0ma\u001b[0m\u001b[1;33m=\u001b[0m\u001b[1;36m100\u001b[0m\u001b[1;33m)\u001b[0m \u001b[1;31m# notice the error message.\u001b[0m\u001b[1;33m\u001b[0m\u001b[0m\n\u001b[0m",
      "\u001b[1;31mTypeError\u001b[0m: sum() got multiple values for argument 'a'"
     ]
    }
   ],
   "source": [
    "def sum(a,b):\n",
    "    pass\n",
    "sum(50,a=100) # notice the error message."
   ]
  },
  {
   "cell_type": "code",
   "execution_count": 120,
   "metadata": {
    "collapsed": false
   },
   "outputs": [
    {
     "name": "stdout",
     "output_type": "stream",
     "text": [
      "30\n",
      "100\n"
     ]
    }
   ],
   "source": [
    "#Variable length methods:\n",
    "def sum(*number):\n",
    "    sum = 0\n",
    "    for i in number:\n",
    "        sum += i\n",
    "    return sum\n",
    "        \n",
    "print(sum(10,20))\n",
    "print(sum(10,20,30,40))"
   ]
  },
  {
   "cell_type": "code",
   "execution_count": null,
   "metadata": {
    "collapsed": true
   },
   "outputs": [],
   "source": [
    "After variable length argumenent we can pass keyword argument unlike Java.\n",
    "def f1(*number, name):\n",
    "    pass\n",
    "f1(10,20,30,name=\"kiyan\")\n",
    "\n",
    "keyword variable length argument f1(**kwargs), the input will be stored in dict. we can pass any number of keyword \n",
    "arguments."
   ]
  },
  {
   "cell_type": "code",
   "execution_count": 121,
   "metadata": {
    "collapsed": false
   },
   "outputs": [
    {
     "name": "stdout",
     "output_type": "stream",
     "text": [
      "name ..... kiyan\n",
      "marks ..... 100\n",
      "rollno ..... 100\n",
      "hobby1 ..... eating\n",
      "hobby2 ..... sleeping\n"
     ]
    }
   ],
   "source": [
    "def f(**args):\n",
    "    for k,v in args.items():\n",
    "        print(k,\".....\",v)\n",
    "f(rollno=100,name=\"kiyan\",marks=100)\n",
    "f(hobby1=\"eating\",hobby2=\"sleeping\")"
   ]
  },
  {
   "cell_type": "code",
   "execution_count": 123,
   "metadata": {
    "collapsed": false
   },
   "outputs": [
    {
     "name": "stdout",
     "output_type": "stream",
     "text": [
      "10 20 30 40\n",
      "10 20 45 55\n",
      "10 20 100 55\n",
      "89 78 34 44\n"
     ]
    }
   ],
   "source": [
    "#summary:\n",
    "def f(a,b,c=100,d=200):\n",
    "    print(a,b,c,d)\n",
    "f(10,20,30,40)\n",
    "f(10,20,c=45,d=55)\n",
    "f(10,20,d=55)\n",
    "f(c=34,d=44,a=89,b=78)\n",
    "#f(c=45,d=77,7,8) possional argument follows keyword argument"
   ]
  },
  {
   "cell_type": "code",
   "execution_count": null,
   "metadata": {
    "collapsed": true
   },
   "outputs": [],
   "source": [
    "Module  : Module is a file that contain group of funtion. \n",
    "package : Group of module is called package / Group of module in a folder is called package \n",
    "Library : A group of related packages is called library"
   ]
  },
  {
   "cell_type": "code",
   "execution_count": null,
   "metadata": {
    "collapsed": true
   },
   "outputs": [],
   "source": [
    "Stucture of Library.\n",
    "                                                 Library \n",
    "    package          package                    package                package                  package\n",
    "Module   Module    Module   Module    Module  Module Module  Module  Module  Module  Module Module  Module Module "
   ]
  },
  {
   "cell_type": "code",
   "execution_count": null,
   "metadata": {
    "collapsed": true
   },
   "outputs": [],
   "source": [
    "Global variables : global variable are defined outside of funciton is called global variable. \n",
    "It is available for all the functions"
   ]
  },
  {
   "cell_type": "code",
   "execution_count": 124,
   "metadata": {
    "collapsed": false
   },
   "outputs": [
    {
     "name": "stdout",
     "output_type": "stream",
     "text": [
      "10\n",
      "10\n"
     ]
    }
   ],
   "source": [
    "a = 10\n",
    "def f1():\n",
    "    print(a)\n",
    "def f2():\n",
    "    print(a)\n",
    "f1()\n",
    "f2()"
   ]
  },
  {
   "cell_type": "code",
   "execution_count": 125,
   "metadata": {
    "collapsed": false
   },
   "outputs": [
    {
     "name": "stdout",
     "output_type": "stream",
     "text": [
      "10\n"
     ]
    },
    {
     "ename": "NameError",
     "evalue": "name 'aa' is not defined",
     "output_type": "error",
     "traceback": [
      "\u001b[1;31m---------------------------------------------------------------------------\u001b[0m",
      "\u001b[1;31mNameError\u001b[0m                                 Traceback (most recent call last)",
      "\u001b[1;32m<ipython-input-125-d65c0de10750>\u001b[0m in \u001b[0;36m<module>\u001b[1;34m()\u001b[0m\n\u001b[0;32m      6\u001b[0m     \u001b[0mprint\u001b[0m\u001b[1;33m(\u001b[0m\u001b[0maa\u001b[0m\u001b[1;33m)\u001b[0m\u001b[1;33m\u001b[0m\u001b[0m\n\u001b[0;32m      7\u001b[0m \u001b[0mf1\u001b[0m\u001b[1;33m(\u001b[0m\u001b[1;33m)\u001b[0m\u001b[1;33m\u001b[0m\u001b[0m\n\u001b[1;32m----> 8\u001b[1;33m \u001b[0mf2\u001b[0m\u001b[1;33m(\u001b[0m\u001b[1;33m)\u001b[0m\u001b[1;33m\u001b[0m\u001b[0m\n\u001b[0m",
      "\u001b[1;32m<ipython-input-125-d65c0de10750>\u001b[0m in \u001b[0;36mf2\u001b[1;34m()\u001b[0m\n\u001b[0;32m      4\u001b[0m     \u001b[0mprint\u001b[0m\u001b[1;33m(\u001b[0m\u001b[0maa\u001b[0m\u001b[1;33m)\u001b[0m\u001b[1;33m\u001b[0m\u001b[0m\n\u001b[0;32m      5\u001b[0m \u001b[1;32mdef\u001b[0m \u001b[0mf2\u001b[0m\u001b[1;33m(\u001b[0m\u001b[1;33m)\u001b[0m\u001b[1;33m:\u001b[0m\u001b[1;33m\u001b[0m\u001b[0m\n\u001b[1;32m----> 6\u001b[1;33m     \u001b[0mprint\u001b[0m\u001b[1;33m(\u001b[0m\u001b[0maa\u001b[0m\u001b[1;33m)\u001b[0m\u001b[1;33m\u001b[0m\u001b[0m\n\u001b[0m\u001b[0;32m      7\u001b[0m \u001b[0mf1\u001b[0m\u001b[1;33m(\u001b[0m\u001b[1;33m)\u001b[0m\u001b[1;33m\u001b[0m\u001b[0m\n\u001b[0;32m      8\u001b[0m \u001b[0mf2\u001b[0m\u001b[1;33m(\u001b[0m\u001b[1;33m)\u001b[0m\u001b[1;33m\u001b[0m\u001b[0m\n",
      "\u001b[1;31mNameError\u001b[0m: name 'aa' is not defined"
     ]
    }
   ],
   "source": [
    "#Local variales are not available for other funtions.\n",
    "def f1():\n",
    "    aa = 10\n",
    "    print(aa)\n",
    "def f2():\n",
    "    print(aa)\n",
    "f1()\n",
    "f2()"
   ]
  },
  {
   "cell_type": "code",
   "execution_count": 126,
   "metadata": {
    "collapsed": false
   },
   "outputs": [
    {
     "name": "stdout",
     "output_type": "stream",
     "text": [
      "10\n",
      "100\n"
     ]
    }
   ],
   "source": [
    "aa = 100\n",
    "def f1():\n",
    "    aa = 10\n",
    "    print(aa) # here local variable printed\n",
    "def f2():\n",
    "    print(aa)\n",
    "f1()\n",
    "f2()"
   ]
  },
  {
   "cell_type": "code",
   "execution_count": 127,
   "metadata": {
    "collapsed": false
   },
   "outputs": [
    {
     "name": "stdout",
     "output_type": "stream",
     "text": [
      "1000\n",
      "1000\n"
     ]
    }
   ],
   "source": [
    "aa = 100\n",
    "def f1():\n",
    "    global aa  # in order to represnt aa as global\n",
    "    aa = 1000   # here we are chaning global variable value\n",
    "    print(aa) # here global variable printed\n",
    "def f2():\n",
    "    print(aa)\n",
    "f1()\n",
    "f2()"
   ]
  },
  {
   "cell_type": "code",
   "execution_count": 128,
   "metadata": {
    "collapsed": false
   },
   "outputs": [
    {
     "name": "stdout",
     "output_type": "stream",
     "text": [
      "7777\n",
      "7777\n"
     ]
    }
   ],
   "source": [
    "def f1():\n",
    "    global bb  # inside a funtion it is possible to create global variables\n",
    "    bb = 7777   \n",
    "    print(bb) \n",
    "def f2():\n",
    "    print(bb)  # before calling this method the variable bb should initialized. refer below example.\n",
    "f1()\n",
    "f2()"
   ]
  },
  {
   "cell_type": "code",
   "execution_count": 129,
   "metadata": {
    "collapsed": false
   },
   "outputs": [
    {
     "ename": "NameError",
     "evalue": "name 'cc' is not defined",
     "output_type": "error",
     "traceback": [
      "\u001b[1;31m---------------------------------------------------------------------------\u001b[0m",
      "\u001b[1;31mNameError\u001b[0m                                 Traceback (most recent call last)",
      "\u001b[1;32m<ipython-input-129-4761ba784995>\u001b[0m in \u001b[0;36m<module>\u001b[1;34m()\u001b[0m\n\u001b[0;32m      5\u001b[0m \u001b[1;32mdef\u001b[0m \u001b[0mf2\u001b[0m\u001b[1;33m(\u001b[0m\u001b[1;33m)\u001b[0m\u001b[1;33m:\u001b[0m\u001b[1;33m\u001b[0m\u001b[0m\n\u001b[0;32m      6\u001b[0m     \u001b[0mprint\u001b[0m\u001b[1;33m(\u001b[0m\u001b[0mcc\u001b[0m\u001b[1;33m)\u001b[0m\u001b[1;33m\u001b[0m\u001b[0m\n\u001b[1;32m----> 7\u001b[1;33m \u001b[0mf2\u001b[0m\u001b[1;33m(\u001b[0m\u001b[1;33m)\u001b[0m\u001b[1;33m\u001b[0m\u001b[0m\n\u001b[0m\u001b[0;32m      8\u001b[0m \u001b[0mf1\u001b[0m\u001b[1;33m(\u001b[0m\u001b[1;33m)\u001b[0m\u001b[1;33m\u001b[0m\u001b[0m\n",
      "\u001b[1;32m<ipython-input-129-4761ba784995>\u001b[0m in \u001b[0;36mf2\u001b[1;34m()\u001b[0m\n\u001b[0;32m      4\u001b[0m     \u001b[0mprint\u001b[0m\u001b[1;33m(\u001b[0m\u001b[0mcc\u001b[0m\u001b[1;33m)\u001b[0m\u001b[1;33m\u001b[0m\u001b[0m\n\u001b[0;32m      5\u001b[0m \u001b[1;32mdef\u001b[0m \u001b[0mf2\u001b[0m\u001b[1;33m(\u001b[0m\u001b[1;33m)\u001b[0m\u001b[1;33m:\u001b[0m\u001b[1;33m\u001b[0m\u001b[0m\n\u001b[1;32m----> 6\u001b[1;33m     \u001b[0mprint\u001b[0m\u001b[1;33m(\u001b[0m\u001b[0mcc\u001b[0m\u001b[1;33m)\u001b[0m\u001b[1;33m\u001b[0m\u001b[0m\n\u001b[0m\u001b[0;32m      7\u001b[0m \u001b[0mf2\u001b[0m\u001b[1;33m(\u001b[0m\u001b[1;33m)\u001b[0m\u001b[1;33m\u001b[0m\u001b[0m\n\u001b[0;32m      8\u001b[0m \u001b[0mf1\u001b[0m\u001b[1;33m(\u001b[0m\u001b[1;33m)\u001b[0m\u001b[1;33m\u001b[0m\u001b[0m\n",
      "\u001b[1;31mNameError\u001b[0m: name 'cc' is not defined"
     ]
    }
   ],
   "source": [
    "def f1():\n",
    "    global cc \n",
    "    cc = 7777   \n",
    "    print(cc) \n",
    "def f2():\n",
    "    print(cc)\n",
    "f2()\n",
    "f1()"
   ]
  },
  {
   "cell_type": "code",
   "execution_count": 131,
   "metadata": {
    "collapsed": false
   },
   "outputs": [
    {
     "name": "stdout",
     "output_type": "stream",
     "text": [
      "9999\n",
      "7777\n"
     ]
    }
   ],
   "source": [
    "#Recent value will be stored in global variable.\n",
    "def f1():\n",
    "    global dd \n",
    "    dd = 7777   \n",
    "    print(dd) \n",
    "def f2():\n",
    "    global dd\n",
    "    dd = 9999\n",
    "    print(dd)\n",
    "f2()\n",
    "f1()"
   ]
  },
  {
   "cell_type": "code",
   "execution_count": 132,
   "metadata": {
    "collapsed": false
   },
   "outputs": [
    {
     "name": "stdout",
     "output_type": "stream",
     "text": [
      "20\n",
      "10\n",
      "{'_i105': 'print(d)\\nd.setdefault(30,\"Ravi\")\\nprint(d)\\nd.setdefault(10,\"Rajesh\")\\nprint(d)\\nprint(d.get(10))\\nprint(d.get(1000,-1))\\nprint(d.get(1000,-2))\\nprint(d)', '_i89': 'f = dict(((100,\\'kiyan\\'),(101,\"Ravi\"),(102,\"Rajest\")))\\nprint(f)', '_i41': 'l = [\"kiyan\",\"kumar\"]\\nl = [\"hello \" + x for x in l]\\nprint(l)', '_46': '987654321', '_34': [], '_dh': ['/notebooks'], '_i102': 'l = d.items()\\nprint(l)', 'i': 102, '_i17': 'print(l.pop()) # remove and return last element of list\\n               # To apply pop on a list, it should not be empty. otherwise we get index error.', 'f': <function f at 0x7fb3c8e36840>, '_i119': 'def sum(a,b):\\n    pass\\nsum(50,a=100) # notice the error message.', 'add_sub': <function add_sub at 0x7fb3c8e8b7b8>, '_i4': 'def f1():\\n    print(\"I am Function\")\\nclass F2:\\n    def f3(self):\\n        print(\"I am Method\")\\nf1()\\na=F2()\\na.f3', '_i46': 's[9:0:-1] #backword direction.', '__builtin__': <module 'builtins' (built-in)>, '__name__': '__main__', '_i50': 't = (10)\\nprint(type(t))\\nf = (10,)\\nprint(type(f))\\nt = 10,\\nprint(type(t))', '_i36': '#Nested list\\nl = [10,20,[50,60]]\\nprint(l[2])\\nprint(l[2][0])\\nprint(l[2][1])', '_9': False, '_i126': 'aa = 100\\ndef f1():\\n    aa = 10\\n    print(aa) # here local variable printed\\ndef f2():\\n    print(aa)\\nf1()\\nf2()', '_i40': 'l = [x for x in l if x%2==0]\\nprint(l)', '_i84': '#To covert list of tuple to dict:\\n\\nd = dict([(100,\\'kiyan\\'),(101,\"Ravi\"),(102,\"Rajest\")])\\nprint(d)', 'quit': <IPython.core.autocall.ZMQExitAutocall object at 0x7fb3cd734080>, '_i87': 'f = dict({(100,\\'kiyan\\'),(101,\"Ravi\"),(102,\"Rajest\")}])\\nprint(f)', 'x': 'i', '_i93': '#pop(key) will remove & return that particular key/value. we get keyError for non existing of key\\n#popitem() will remove & return random key/value. we get keyError for empty dictonery.\\nf.pop(100)\\nprint(f)', '_i22': 'print(l.sort())', '_i99': 'for i in f.keys():\\n    print(f.get(i))', 'list': ['A', 'B', 'C', 'D'], '_4': <bound method F2.f3 of <__main__.F2 object at 0x7fb3c9b5d0b8>>, 'l1': [30, 30], '_i34': 'l2', '_i33': 'l1 = [30,30]\\nl2 = [30,40]\\nprint(l1<l2)\\nprint(l1>l2)', '_i83': 'print(d)\\nprint(d.clear())\\nprint(d)', '_i79': 'print(d.keys())', '_7': 0, '_i31': '#Integer in python wont create duplicate objects till 256 if already one exist.\\nl1 = [10,257]\\nl2 = [10,257]\\nprint(id(l1))\\nprint(id(l2))\\nprint(id(l1[0]))\\nprint(id(l2[0]))\\nprint(id(l1[1]))\\nprint(id(l2[1]))', '_i80': 'print(d.values())', '_i11': 'l = [\"10\",\"20\",\"30\"]\\ny = [\"A\",\"B\",\"C\"]\\nl.extend(y)\\nprint(l)\\n#We can also use l + y for this.\\n#When we add a string, each character in string will be added in list a an element.', '_i107': 'd2 = {400:\"Dharmi\"}\\nd3 = {500:\"Chinna\"}\\nd.update(d2,d3) # update method takes only one argument.\\nprint(d)', 's': {40, 10, 20}, '_i125': '#Local variales are not available for other funtions.\\ndef f1():\\n    aa = 10\\n    print(aa)\\ndef f2():\\n    print(aa)\\nf1()\\nf2()', '_i103': 'd = {10:\"kiyan\",20:\"kumar\"}\\nl = d.items()\\nprint(l)', '__builtins__': <module 'builtins' (built-in)>, '_i68': 's = {10,20}\\ns1=s  # Aliacing\\nprint(id(s))\\nprint(id(s1))\\ns1 = s.copy() # cloneing.\\nprint(id(s1))', '_i29': 'list element are string.\\n#Strings in python wont create duplicate objects if already one exist.\\nl1 = [\"kumar\",\"kiyandoor\"]\\nl2 = [\"kumar\",\"kiyandoor\"]\\nprint(id(l1))\\nprint(id(l2))\\nprint(id(l1[0]))\\nprint(id(l2[0]))', 'double': {1: 2, 2: 4, 3: 6, 4: 8, 5: 10}, '_i121': 'def f(**args):\\n    for k,v in args.items():\\n        print(k,\".....\",v)\\nf(rollno=100,name=\"kiyan\",marks=100)\\nf(hobby1=\"eating\",hobby2=\"sleeping\")', '_i101': 'd = {10:\"kiyan\",20:\"kumar\"}\\nd.clear()\\nprint(d)', '_i9': '50 in l ', '_i76': \"#we get keyError for not existing key.\\nprint[d['c']]\", '_i48': 's[4:0:-1]', '_i32': '#When compare two list of intergers, it consider only the first element. \\n#if first elements are same then it will go for second elements of two list and so on\\nl1 = [20,30]\\nl2 = [30,40]\\nprint(l1<l2)\\nprint(l1>l2)', '_i106': 'd1 = {200:\"Gopi\",300:\"DD\"}\\nd.update(d1) # it takes only one argument,\\nprint(d)', '_ii': 'Recent value will be stored in global variable.\\ndef f1():\\n    global dd \\n    dd = 7777   \\n    print(dd) \\ndef f2():\\n    global dd\\n    dd = 9999\\n    print(dd)\\nf2()\\nf1()', '_i104': \"for k,v in d.items():\\n    print(k,'.....',v)\", '_i27': '#using slicing\\nx = [10,20,30]\\ny = x[:]\\nprint(id(x))\\nprint(id(y))\\n# with slicing we can clone customized array. like even element/odd element/first 10 elements..etc', 's1': {10, 20}, 'wish': <function wish at 0x7fb3c9b47730>, '_i47': 's[4:-1:-1]', 'l': dict_items([(400, 'Dharmi'), (20, 'kumar'), (200, 'Gopi'), (500, 'Chinna'), (10, 'kiyan'), (300, 'DD'), (30, 'Ravi')]), 'y': 2, 'l2': [], '_iii': 'def f1():\\n    global cc \\n    cc = 7777   \\n    print(cc) \\ndef f2():\\n    print(cc)\\nf2()\\nf1()', '_i53': 'l = [10,20]\\nprint(min(l))\\nprint(max(l))\\nt = (10,20)\\nprint(min(l))\\nprint(max(l))', '_i117': 'def wish(marks,age,name=\"Guest\",msg=\"Hello\"):\\n    print(\"Student Name:\", name)\\n    print(\"Student marks:\", marks)\\n    print(\"Student Age is:\", age)\\n    print(\"Message:\", msg)\\n    print(\"--------------\")\\nwish(100,age=48,name=\"kiyan\", msg=\"hero\")    \\nwish(48,50)', '_i54': 'cmp() -> is available only python 2\\nt1=(10,20)\\nt2=(40,70)\\nprint(t1 < t2)', '_i74': 'd = {\\'a\\':\"apple\",\\'b\\':\"banana\"}\\nprint(d)', '_i71': 's.remove(90)', 'square': <function square at 0x7fb3c8edf840>, 'get_ipython': <bound method ZMQInteractiveShell.get_ipython of <IPython.kernel.zmq.zmqshell.ZMQInteractiveShell object at 0x7fb3ccd8ce10>>, '__doc__': 'Automatically created module for IPython interactive environment', '_i23': 'print(l)', '_i77': 'print(d.keys)', '_i28': '#using copy\\nx = [10,20,30]\\ny = x.copy\\nprint(id(x))\\nprint(id(y))', 'sum': <function sum at 0x7fb3c8edfbf8>, '_i2': '#len will give length of list\\nprint(l)\\nprint(len(l))', '_i97': 'for i in f.keys:\\n    print(i)', 'exit': <IPython.core.autocall.ZMQExitAutocall object at 0x7fb3cd734080>, '_i45': \"s = '0123456789'\\ns[0:9]\", '_i82': \"#How to delete element in dict\\ndel d['c']\\nprint(d)\", '__loader__': None, '_i19': 'l1 = []\\nl1.pop()', '__': '4321', '_': 'kiyan', '_i43': 'print(l)', '_i42': 'n1 = [10,20,30]\\nn2 = [20,30]\\nprint([x for x in n1 if x not in n2])', '_i63': '#converting list sequence to set\\nl = [10,20,30,40,40,50]\\ns = set(l)\\nprint(s)', '_i13': 'l', '_i52': '#tuple() is to covert list to tuple \\nl = [10,20]\\nprint(tuple(l))', '__package__': None, '_i15': \"print(l.remove('y'))\\nprint(l)\", '_i115': 'def evenodd(n):\\n    if n%2 == 0:\\n        print(\"Even number\")\\n    else:\\n        print(\"This is odd number\")\\nevenodd(5)\\nevenodd(10)', '_i94': \"#popitem of dict remove and return random key value pair.\\nf = {101: 'Ravi', 102: 'Rajest'}\\nf.popitem()\\nprint(f)\\nf.popitem()\\nprint(f)\", '_sh': <module 'IPython.core.shadowns' from '/usr/local/lib/python3.4/dist-packages/IPython/core/shadowns.py'>, 'd1': {200: 'Gopi', 300: 'DD'}, '___': '', 'bb': 7777, '_i113': '#resuable components:\\n    \\ndef square(x):\\n    print(\"THE SQURE OF {} IS : {}\".format(x,x*x))\\nsquare(10)\\nsquare(20)', '_i130': 'Recent value will be stored in global variable.\\ndef f1():\\n    global dd \\n    dd = 7777   \\n    print(dd) \\ndef f2():\\n    global dd\\n    dd = 9999\\n    print(dd)\\nf2()\\nf1()', 'aa': 1000, '_i132': \"#Access global variable over local variable.\\n\\na = 10\\ndef f1():\\n    a = 20\\n    print(a) # local variable will be printed\\ndef f2():\\n    a = 30\\n    print(globals()['a']) # calling global variable over local variable.\\nf1()\\nf2()\\n\\n#To print all global variables try this. globals() return dict.\\nprint(globals()) \", '_oh': {34: [], 35: [], 4: <bound method F2.f3 of <__main__.F2 object at 0x7fb3c9b5d0b8>>, 6: 2, 7: 0, 9: False, 45: '012345678', 13: ['10', '20', '30', 'A', 'B', 'C', 'a', 'i', 'k'], 46: '987654321', 47: '', 48: '4321', 90: 'kiyan'}, '_i96': 'f = dict(((100,\\'kiyan\\'),(101,\"Ravi\"),(102,\"Rajest\")))\\nprint(f)', '_ih': ['', 'l = list([10,20,30,40])\\nprint(l)', '#len will give length of list\\nprint(l)\\nprint(len(l))', 'list = [\"A\",\"B\",\"C\",\"D\"]\\nx = len(list)\\nfor i in range(x):\\n    print(list[i], \"is avaialble at positive index :\", i, \". And at negative:\", i-x)', 'def f1():\\n    print(\"I am Function\")\\nclass F2:\\n    def f3(self):\\n        print(\"I am Method\")\\nf1()\\na=F2()\\na.f3', 'def f1():\\n    print(\"I am Function\")\\nclass F2:\\n    def f3(self):\\n        print(\"I am Method\")\\nf1()\\na=F2()\\na.f3\\na.f3()', '# count is method of list.\\nl.append(10) # to add element in a list\\nl.count(10)', 'l.index(10) # Index will give only first occurance.', 'l.index(50) # when we try for not a member of object index always throw error as shown below. \\n            # use membership keyword as shown below', '50 in l ', '#append method Always add value at the last index of list.\\n#inorder to add where ever we want use insert method as shown below.\\nprint(l)\\nprint(l.insert(4,50))\\nprint(l)', 'l = [\"10\",\"20\",\"30\"]\\ny = [\"A\",\"B\",\"C\"]\\nl.extend(y)\\nprint(l)\\n#We can also use l + y for this.\\n#When we add a string, each character in string will be added in list a an element.', 'l.extend(\"kiyan\")', 'l', 'print(l)', \"print(l.remove('y'))\\nprint(l)\", 'print(l.remove(\"Z\")) # use membership function to avoid value Error.', 'print(l.pop()) # remove and return last element of list\\n               # To apply pop on a list, it should not be empty. otherwise we get index error.', 'print(l)', 'l1 = []\\nl1.pop()', 'l.reverse()', 'print(l)', 'print(l.sort())', 'print(l)', '# we can not apply sort function for hetrogenious objects in python 3. this facility was there in python 2.\\nl2 = [30,40,\"kumar\",\"kiyan\"]\\nprint(l2)\\nl2.sort()\\nprint(l2)', 'l2 = [\"Kumar\",\"Kiyna\",\"Rajesh\",\"Ravi\",\"Sudha\"]\\nl2.sort(reverse=True)\\nprint(l2)', 'x = [10,20,30]\\ny = x #(alias => both representing same object. not recommened)\\n# create duplicate object is called clone => using slicing / copy methods.\\nprint(id(x))\\nprint(id(y))', '#using slicing\\nx = [10,20,30]\\ny = x[:]\\nprint(id(x))\\nprint(id(y))\\n# with slicing we can clone customized array. like even element/odd element/first 10 elements..etc', '#using copy\\nx = [10,20,30]\\ny = x.copy\\nprint(id(x))\\nprint(id(y))', 'list element are string.\\n#Strings in python wont create duplicate objects if already one exist.\\nl1 = [\"kumar\",\"kiyandoor\"]\\nl2 = [\"kumar\",\"kiyandoor\"]\\nprint(id(l1))\\nprint(id(l2))\\nprint(id(l1[0]))\\nprint(id(l2[0]))', '#list element are string.\\n#Strings in python wont create duplicate objects if already one exist.\\nl1 = [\"kumar\",\"kiyandoor\"]\\nl2 = [\"kumar\",\"kiyandoor\"]\\nprint(id(l1))\\nprint(id(l2))\\nprint(id(l1[0]))\\nprint(id(l2[0]))', '#Integer in python wont create duplicate objects till 256 if already one exist.\\nl1 = [10,257]\\nl2 = [10,257]\\nprint(id(l1))\\nprint(id(l2))\\nprint(id(l1[0]))\\nprint(id(l2[0]))\\nprint(id(l1[1]))\\nprint(id(l2[1]))', '#When compare two list of intergers, it consider only the first element. \\n#if first elements are same then it will go for second elements of two list and so on\\nl1 = [20,30]\\nl2 = [30,40]\\nprint(l1<l2)\\nprint(l1>l2)', 'l1 = [30,30]\\nl2 = [30,40]\\nprint(l1<l2)\\nprint(l1>l2)', 'l2', '#To clear a list\\nl2.clear()\\nl2', '#Nested list\\nl = [10,20,[50,60]]\\nprint(l[2])\\nprint(l[2][0])\\nprint(l[2][1])', 'l = [[10,20,30],[40,50,60],[70,80,90]]\\nfor x in l:\\n    print(x)', 'for x in range(len(l)):\\n    for y in range(len(l[x])):\\n        print(l[x][y],end=\" \")\\n    print()', 'l = [x*x for x in range(1,11)]\\nprint(l)', 'l = [x for x in l if x%2==0]\\nprint(l)', 'l = [\"kiyan\",\"kumar\"]\\nl = [\"hello \" + x for x in l]\\nprint(l)', 'n1 = [10,20,30]\\nn2 = [20,30]\\nprint([x for x in n1 if x not in n2])', 'print(l)', 'print([x.upper() for x in l])', \"s = '0123456789'\\ns[0:9]\", 's[9:0:-1] #backword direction.', 's[4:-1:-1]', 's[4:0:-1]', 't = (10,20)\\nprint(type(t))', 't = (10)\\nprint(type(t))\\nf = (10,)\\nprint(type(f))\\nt = 10,\\nprint(type(t))', 'tuple() is to covert list to tuple \\nl = [10,20]\\nprint(tuple(l))', '#tuple() is to covert list to tuple \\nl = [10,20]\\nprint(tuple(l))', 'l = [10,20]\\nprint(min(l))\\nprint(max(l))\\nt = (10,20)\\nprint(min(l))\\nprint(max(l))', 'cmp() -> is available only python 2\\nt1=(10,20)\\nt2=(40,70)\\nprint(t1 < t2)', '#cmp() -> is available only python 2\\nt1=(10,20)\\nt2=(40,70)\\nprint(t1 < t2)', '#tuple packing and unpacking. it is available for other data types like list and set as well for other sequence.\\na = 10\\nb = \"A\"\\nc = \"D\"\\nt = a,b,c\\nprint(t)\\n#tuple unpacking. it is available for other data types like list and set as well for other sequence.\\nt=(1,2,3)\\nx,y,z=t\\nprint(x)\\nprint(y)\\nprint(z)\\nt = [10,20,30] # list unpacking\\na,b,c = t\\nprint(a)\\nprint(b)\\nprint(c)', '#tuple comprehension is same as list comprehension. but it not give tuple object it will give generator object.\\nt = (x*x for x in range(1,11))\\nprint(t)\\nprint(type(t))', 's = {30,10,40,60,40,60}\\nprint(s)', 's[0]', 's[1:4]', 's = set(\"kiyandoor\")\\nprint(s)', 's = set(range(1,11))\\nprint(s)', '#converting list sequence to set\\nl = [10,20,30,40,40,50]\\ns = set(l)\\nprint(s)', '#to create empty set the only option is set(). if we use braces, it will treated as dictonery\\ns = set()\\nprint(type(s))\\ns ={}\\nprint(type(s))', '#Add method. to add an element. It takes only one element.\\ns = set()\\ns.add(10)\\ns.add(20)\\ns.add(30)\\ns.add(40)\\nprint(s)\\ns.add(50,60,70) # it is invalid as it is taking more than one element', '#Add method. to add an element. It takes only one element.\\ns = set()\\ns.add(10)\\ns.add(20)\\ns.add(30)\\ns.add(40)\\nprint(s)\\ns.add(50)\\nprint(s)\\ns.add(50,60,70) # it is invalid as it is taking more than one element', '#update method for sequence. we can pass any number of arguments in the form of sequence. we can not pass an element.\\ns = {10,20,30}\\nl = [10,20,30,1,2,3,4]\\ns.update(l,range(1,7),(0,678))\\nprint(s)', 's = {10,20}\\ns1=s  # Aliacing\\nprint(id(s))\\nprint(id(s1))\\ns1 = s.copy() # cloneing.\\nprint(id(s1))', '#pop() method remove & return a random element. We get KeyError for pop on empty set.\\ns = {10,20,30,40}\\nprint(s)\\nprint(s.pop())', '#remove method is to remove specified element. We get KeyError for unavailable element in set.\\n\\ns = {10,20,30,40}\\nprint(s)\\nprint(s.remove(30))\\nprint(s)', 's.remove(90)', '#Discard method is to remove specified element. We will not get any error for unavailable element in set.\\n\\ns = {10,20,30,40}\\nprint(s)\\nprint(s.discard(30))\\nprint(s.discard(90))\\nprint(s)', 'd = {}\\nd[10] = \"kiyan\"\\nd[20] = \"rajesh\"\\nprint(d)\\nd[\"r\"] = \"ravi\"\\nprint(d)', 'd = {\\'a\\':\"apple\",\\'b\\':\"banana\"}\\nprint(d)', \"print(d['b'])\", \"#we get keyError for not existing key.\\nprint[d['c']]\", 'print(d.keys)', 'print(d.values)', 'print(d.keys())', 'print(d.values())', '#How to add element in dict\\nprint(d)\\nd[\\'c\\'] = \"cat\"\\nprint(d)', \"#How to delete element in dict\\ndel d['c']\\nprint(d)\", 'print(d)\\nprint(d.clear())\\nprint(d)', '#To covert list of tuple to dict:\\n\\nd = dict([(100,\\'kiyan\\'),(101,\"Ravi\"),(102,\"Rajest\")])\\nprint(d)', '#to covert Set of tuple to dict:\\n\\nf = dict({(100,\\'kiyan\\'),(101,\"Ravi\"),(102,\"Rajest\")})\\nprint(f)', 'f = dict({(100,\\'kiyan\\'),(101,\"Ravi\"),(102,\"Rajest\")])\\nprint(f)', 'f = dict({(100,\\'kiyan\\'),(101,\"Ravi\"),(102,\"Rajest\")}])\\nprint(f)', 'f = dict({(100,\\'kiyan\\'),(101,\"Ravi\"),(102,\"Rajest\")})\\nprint(f)', 'f = dict(((100,\\'kiyan\\'),(101,\"Ravi\"),(102,\"Rajest\")))\\nprint(f)', 'f.get(100)', 'f.get(400) # get wll not give error for not existing keys\\n#We can also use get method to set default value if key is not available. \\n#If key exist then existing value will be return\\n# this will not add element to existing dictionery.', 'print(f)\\nprint(f.get(103))\\nprint(f.get(103,\"ravi\"))\\nprint(f)\\nprint(f.get(100,\"kiyandoor\"))\\nprint(f)', '#pop(key) will remove & return that particular key/value. we get keyError for non existing of key\\n#popitem() will remove & return random key/value. we get keyError for empty dictonery.\\nf.pop(100)\\nprint(f)', \"#popitem of dict remove and return random key value pair.\\nf = {101: 'Ravi', 102: 'Rajest'}\\nf.popitem()\\nprint(f)\\nf.popitem()\\nprint(f)\", 'f.popitem()', 'f = dict(((100,\\'kiyan\\'),(101,\"Ravi\"),(102,\"Rajest\")))\\nprint(f)', 'for i in f.keys:\\n    print(i)', 'for i in f.keys():\\n    print(i)', 'for i in f.keys():\\n    print(f.get(i))', '#dict completely deleted if we use del operation. with clear(), we can delete only elements of map. but not map \\nd = {10:\"kiyan\",20:\"kumar\"}\\ndel d\\nprint(d)', 'd = {10:\"kiyan\",20:\"kumar\"}\\nd.clear()\\nprint(d)', 'l = d.items()\\nprint(l)', 'd = {10:\"kiyan\",20:\"kumar\"}\\nl = d.items()\\nprint(l)', \"for k,v in d.items():\\n    print(k,'.....',v)\", 'print(d)\\nd.setdefault(30,\"Ravi\")\\nprint(d)\\nd.setdefault(10,\"Rajesh\")\\nprint(d)\\nprint(d.get(10))\\nprint(d.get(1000,-1))\\nprint(d.get(1000,-2))\\nprint(d)', 'd1 = {200:\"Gopi\",300:\"DD\"}\\nd.update(d1) # it takes only one argument,\\nprint(d)', 'd2 = {400:\"Dharmi\"}\\nd3 = {500:\"Chinna\"}\\nd.update(d2,d3) # update method takes only one argument.\\nprint(d)', '#we can pass list/set/tuple of tuple in the update method.\\nd.update([(400,\"Dharmi\"),(500,\"Chinna\")])', 'print(d)', 'print(sum(d.keys()))', 'k = \"missipi\"\\nd = {}\\nfor x in k:\\n    d[x] = d.get(x,0)+1\\nprint(d)', 'squres = {x:x*x for x in range(1,6)}\\nprint(squres)\\ndouble = {x:2*x for x in range(1,6)}\\nprint(double)', '#resuable components:\\n    \\ndef square(x):\\n    print(\"THE SQURE OF {} IS : {}\".format(x,x*x))\\nsquare(10)\\nsquare(20)', '#If a function not returning anything explicitly in python, it return by default None.\\ndef wish():\\n    print(\"Hello\")\\nprint(wish())', 'def evenodd(n):\\n    if n%2 == 0:\\n        print(\"Even number\")\\n    else:\\n        print(\"This is odd number\")\\nevenodd(5)\\nevenodd(10)', 'def add_sub(a,b):\\n    x =(a+b)\\n    y =(a-b)\\n    z =(a*b)\\n    return x,y,z\\na,b,c = add_sub(2,3)\\nprint(a)\\nprint(b)\\nprint(c)\\nk = add_sub(5,4)\\nprint(type(k))\\nprint(k)', 'def wish(marks,age,name=\"Guest\",msg=\"Hello\"):\\n    print(\"Student Name:\", name)\\n    print(\"Student marks:\", marks)\\n    print(\"Student Age is:\", age)\\n    print(\"Message:\", msg)\\n    print(\"--------------\")\\nwish(100,age=48,name=\"kiyan\", msg=\"hero\")    \\nwish(48,50)', 'wish(age=48,100,name=\"kiyan\", msg=\"hero\")', 'def sum(a,b):\\n    pass\\nsum(50,a=100) # notice the error message.', '#Variable length methods:\\ndef sum(*number):\\n    sum = 0\\n    for i in number:\\n        sum += i\\n    return sum\\n        \\nprint(sum(10,20))\\nprint(sum(10,20,30,40))', 'def f(**args):\\n    for k,v in args.items():\\n        print(k,\".....\",v)\\nf(rollno=100,name=\"kiyan\",marks=100)\\nf(hobby1=\"eating\",hobby2=\"sleeping\")', 'summary:\\ndef f(a,b,c=100,d=200):\\n    print(a,b,c,d)\\nf(10,20,30,40)\\nf(10,20,c=45,d=55)\\nf(10,20,d=55)\\nf(c=34,d=44,a=89,b=78)\\n#f(c=45,d=77,7,8) possional argument follows keyword argument', '#summary:\\ndef f(a,b,c=100,d=200):\\n    print(a,b,c,d)\\nf(10,20,30,40)\\nf(10,20,c=45,d=55)\\nf(10,20,d=55)\\nf(c=34,d=44,a=89,b=78)\\n#f(c=45,d=77,7,8) possional argument follows keyword argument', 'a = 10\\ndef f1():\\n    print(a)\\ndef f2():\\n    print(a)\\nf1()\\nf2()', '#Local variales are not available for other funtions.\\ndef f1():\\n    aa = 10\\n    print(aa)\\ndef f2():\\n    print(aa)\\nf1()\\nf2()', 'aa = 100\\ndef f1():\\n    aa = 10\\n    print(aa) # here local variable printed\\ndef f2():\\n    print(aa)\\nf1()\\nf2()', 'aa = 100\\ndef f1():\\n    global aa  # in order to represnt aa as global\\n    aa = 1000   # here we are chaning global variable value\\n    print(aa) # here global variable printed\\ndef f2():\\n    print(aa)\\nf1()\\nf2()', 'def f1():\\n    global bb  # inside a funtion it is possible to create global variables\\n    bb = 7777   \\n    print(bb) \\ndef f2():\\n    print(bb)  # before calling this method the variable bb should initialized. refer below example.\\nf1()\\nf2()', 'def f1():\\n    global cc \\n    cc = 7777   \\n    print(cc) \\ndef f2():\\n    print(cc)\\nf2()\\nf1()', 'Recent value will be stored in global variable.\\ndef f1():\\n    global dd \\n    dd = 7777   \\n    print(dd) \\ndef f2():\\n    global dd\\n    dd = 9999\\n    print(dd)\\nf2()\\nf1()', '#Recent value will be stored in global variable.\\ndef f1():\\n    global dd \\n    dd = 7777   \\n    print(dd) \\ndef f2():\\n    global dd\\n    dd = 9999\\n    print(dd)\\nf2()\\nf1()', \"#Access global variable over local variable.\\n\\na = 10\\ndef f1():\\n    a = 20\\n    print(a) # local variable will be printed\\ndef f2():\\n    a = 30\\n    print(globals()['a']) # calling global variable over local variable.\\nf1()\\nf2()\\n\\n#To print all global variables try this. globals() return dict.\\nprint(globals()) \"], '_i37': 'l = [[10,20,30],[40,50,60],[70,80,90]]\\nfor x in l:\\n    print(x)', '_i110': 'print(sum(d.keys()))', 'b': -1, '_i5': 'def f1():\\n    print(\"I am Function\")\\nclass F2:\\n    def f3(self):\\n        print(\"I am Method\")\\nf1()\\na=F2()\\na.f3\\na.f3()', '_i59': 's[0]', '_i6': '# count is method of list.\\nl.append(10) # to add element in a list\\nl.count(10)', 't2': (40, 70), 'c': 6, 'a': 10, '_i61': 's = set(\"kiyandoor\")\\nprint(s)', '_i39': 'l = [x*x for x in range(1,11)]\\nprint(l)', '_i129': 'def f1():\\n    global cc \\n    cc = 7777   \\n    print(cc) \\ndef f2():\\n    print(cc)\\nf2()\\nf1()', '_13': ['10', '20', '30', 'A', 'B', 'C', 'a', 'i', 'k'], '_i24': '# we can not apply sort function for hetrogenious objects in python 3. this facility was there in python 2.\\nl2 = [30,40,\"kumar\",\"kiyan\"]\\nprint(l2)\\nl2.sort()\\nprint(l2)', '_i58': 's = {30,10,40,60,40,60}\\nprint(s)', '_i57': '#tuple comprehension is same as list comprehension. but it not give tuple object it will give generator object.\\nt = (x*x for x in range(1,11))\\nprint(t)\\nprint(type(t))', '_i86': 'f = dict({(100,\\'kiyan\\'),(101,\"Ravi\"),(102,\"Rajest\")])\\nprint(f)', '_90': 'kiyan', '_i91': 'f.get(400) # get wll not give error for not existing keys\\n#We can also use get method to set default value if key is not available. \\n#If key exist then existing value will be return\\n# this will not add element to existing dictionery.', '_i64': '#to create empty set the only option is set(). if we use braces, it will treated as dictonery\\ns = set()\\nprint(type(s))\\ns ={}\\nprint(type(s))', '_i55': '#cmp() -> is available only python 2\\nt1=(10,20)\\nt2=(40,70)\\nprint(t1 < t2)', 'f2': <function f2 at 0x7fb3c8e8ba60>, '_i100': '#dict completely deleted if we use del operation. with clear(), we can delete only elements of map. but not map \\nd = {10:\"kiyan\",20:\"kumar\"}\\ndel d\\nprint(d)', '_i92': 'print(f)\\nprint(f.get(103))\\nprint(f.get(103,\"ravi\"))\\nprint(f)\\nprint(f.get(100,\"kiyandoor\"))\\nprint(f)', '_i109': 'print(d)', '_i18': 'print(l)', 'f1': <function f1 at 0x7fb3c8e8bf28>, '_i90': 'f.get(100)', '_i3': 'list = [\"A\",\"B\",\"C\",\"D\"]\\nx = len(list)\\nfor i in range(x):\\n    print(list[i], \"is avaialble at positive index :\", i, \". And at negative:\", i-x)', '_i88': 'f = dict({(100,\\'kiyan\\'),(101,\"Ravi\"),(102,\"Rajest\")})\\nprint(f)', 'In': ['', 'l = list([10,20,30,40])\\nprint(l)', '#len will give length of list\\nprint(l)\\nprint(len(l))', 'list = [\"A\",\"B\",\"C\",\"D\"]\\nx = len(list)\\nfor i in range(x):\\n    print(list[i], \"is avaialble at positive index :\", i, \". And at negative:\", i-x)', 'def f1():\\n    print(\"I am Function\")\\nclass F2:\\n    def f3(self):\\n        print(\"I am Method\")\\nf1()\\na=F2()\\na.f3', 'def f1():\\n    print(\"I am Function\")\\nclass F2:\\n    def f3(self):\\n        print(\"I am Method\")\\nf1()\\na=F2()\\na.f3\\na.f3()', '# count is method of list.\\nl.append(10) # to add element in a list\\nl.count(10)', 'l.index(10) # Index will give only first occurance.', 'l.index(50) # when we try for not a member of object index always throw error as shown below. \\n            # use membership keyword as shown below', '50 in l ', '#append method Always add value at the last index of list.\\n#inorder to add where ever we want use insert method as shown below.\\nprint(l)\\nprint(l.insert(4,50))\\nprint(l)', 'l = [\"10\",\"20\",\"30\"]\\ny = [\"A\",\"B\",\"C\"]\\nl.extend(y)\\nprint(l)\\n#We can also use l + y for this.\\n#When we add a string, each character in string will be added in list a an element.', 'l.extend(\"kiyan\")', 'l', 'print(l)', \"print(l.remove('y'))\\nprint(l)\", 'print(l.remove(\"Z\")) # use membership function to avoid value Error.', 'print(l.pop()) # remove and return last element of list\\n               # To apply pop on a list, it should not be empty. otherwise we get index error.', 'print(l)', 'l1 = []\\nl1.pop()', 'l.reverse()', 'print(l)', 'print(l.sort())', 'print(l)', '# we can not apply sort function for hetrogenious objects in python 3. this facility was there in python 2.\\nl2 = [30,40,\"kumar\",\"kiyan\"]\\nprint(l2)\\nl2.sort()\\nprint(l2)', 'l2 = [\"Kumar\",\"Kiyna\",\"Rajesh\",\"Ravi\",\"Sudha\"]\\nl2.sort(reverse=True)\\nprint(l2)', 'x = [10,20,30]\\ny = x #(alias => both representing same object. not recommened)\\n# create duplicate object is called clone => using slicing / copy methods.\\nprint(id(x))\\nprint(id(y))', '#using slicing\\nx = [10,20,30]\\ny = x[:]\\nprint(id(x))\\nprint(id(y))\\n# with slicing we can clone customized array. like even element/odd element/first 10 elements..etc', '#using copy\\nx = [10,20,30]\\ny = x.copy\\nprint(id(x))\\nprint(id(y))', 'list element are string.\\n#Strings in python wont create duplicate objects if already one exist.\\nl1 = [\"kumar\",\"kiyandoor\"]\\nl2 = [\"kumar\",\"kiyandoor\"]\\nprint(id(l1))\\nprint(id(l2))\\nprint(id(l1[0]))\\nprint(id(l2[0]))', '#list element are string.\\n#Strings in python wont create duplicate objects if already one exist.\\nl1 = [\"kumar\",\"kiyandoor\"]\\nl2 = [\"kumar\",\"kiyandoor\"]\\nprint(id(l1))\\nprint(id(l2))\\nprint(id(l1[0]))\\nprint(id(l2[0]))', '#Integer in python wont create duplicate objects till 256 if already one exist.\\nl1 = [10,257]\\nl2 = [10,257]\\nprint(id(l1))\\nprint(id(l2))\\nprint(id(l1[0]))\\nprint(id(l2[0]))\\nprint(id(l1[1]))\\nprint(id(l2[1]))', '#When compare two list of intergers, it consider only the first element. \\n#if first elements are same then it will go for second elements of two list and so on\\nl1 = [20,30]\\nl2 = [30,40]\\nprint(l1<l2)\\nprint(l1>l2)', 'l1 = [30,30]\\nl2 = [30,40]\\nprint(l1<l2)\\nprint(l1>l2)', 'l2', '#To clear a list\\nl2.clear()\\nl2', '#Nested list\\nl = [10,20,[50,60]]\\nprint(l[2])\\nprint(l[2][0])\\nprint(l[2][1])', 'l = [[10,20,30],[40,50,60],[70,80,90]]\\nfor x in l:\\n    print(x)', 'for x in range(len(l)):\\n    for y in range(len(l[x])):\\n        print(l[x][y],end=\" \")\\n    print()', 'l = [x*x for x in range(1,11)]\\nprint(l)', 'l = [x for x in l if x%2==0]\\nprint(l)', 'l = [\"kiyan\",\"kumar\"]\\nl = [\"hello \" + x for x in l]\\nprint(l)', 'n1 = [10,20,30]\\nn2 = [20,30]\\nprint([x for x in n1 if x not in n2])', 'print(l)', 'print([x.upper() for x in l])', \"s = '0123456789'\\ns[0:9]\", 's[9:0:-1] #backword direction.', 's[4:-1:-1]', 's[4:0:-1]', 't = (10,20)\\nprint(type(t))', 't = (10)\\nprint(type(t))\\nf = (10,)\\nprint(type(f))\\nt = 10,\\nprint(type(t))', 'tuple() is to covert list to tuple \\nl = [10,20]\\nprint(tuple(l))', '#tuple() is to covert list to tuple \\nl = [10,20]\\nprint(tuple(l))', 'l = [10,20]\\nprint(min(l))\\nprint(max(l))\\nt = (10,20)\\nprint(min(l))\\nprint(max(l))', 'cmp() -> is available only python 2\\nt1=(10,20)\\nt2=(40,70)\\nprint(t1 < t2)', '#cmp() -> is available only python 2\\nt1=(10,20)\\nt2=(40,70)\\nprint(t1 < t2)', '#tuple packing and unpacking. it is available for other data types like list and set as well for other sequence.\\na = 10\\nb = \"A\"\\nc = \"D\"\\nt = a,b,c\\nprint(t)\\n#tuple unpacking. it is available for other data types like list and set as well for other sequence.\\nt=(1,2,3)\\nx,y,z=t\\nprint(x)\\nprint(y)\\nprint(z)\\nt = [10,20,30] # list unpacking\\na,b,c = t\\nprint(a)\\nprint(b)\\nprint(c)', '#tuple comprehension is same as list comprehension. but it not give tuple object it will give generator object.\\nt = (x*x for x in range(1,11))\\nprint(t)\\nprint(type(t))', 's = {30,10,40,60,40,60}\\nprint(s)', 's[0]', 's[1:4]', 's = set(\"kiyandoor\")\\nprint(s)', 's = set(range(1,11))\\nprint(s)', '#converting list sequence to set\\nl = [10,20,30,40,40,50]\\ns = set(l)\\nprint(s)', '#to create empty set the only option is set(). if we use braces, it will treated as dictonery\\ns = set()\\nprint(type(s))\\ns ={}\\nprint(type(s))', '#Add method. to add an element. It takes only one element.\\ns = set()\\ns.add(10)\\ns.add(20)\\ns.add(30)\\ns.add(40)\\nprint(s)\\ns.add(50,60,70) # it is invalid as it is taking more than one element', '#Add method. to add an element. It takes only one element.\\ns = set()\\ns.add(10)\\ns.add(20)\\ns.add(30)\\ns.add(40)\\nprint(s)\\ns.add(50)\\nprint(s)\\ns.add(50,60,70) # it is invalid as it is taking more than one element', '#update method for sequence. we can pass any number of arguments in the form of sequence. we can not pass an element.\\ns = {10,20,30}\\nl = [10,20,30,1,2,3,4]\\ns.update(l,range(1,7),(0,678))\\nprint(s)', 's = {10,20}\\ns1=s  # Aliacing\\nprint(id(s))\\nprint(id(s1))\\ns1 = s.copy() # cloneing.\\nprint(id(s1))', '#pop() method remove & return a random element. We get KeyError for pop on empty set.\\ns = {10,20,30,40}\\nprint(s)\\nprint(s.pop())', '#remove method is to remove specified element. We get KeyError for unavailable element in set.\\n\\ns = {10,20,30,40}\\nprint(s)\\nprint(s.remove(30))\\nprint(s)', 's.remove(90)', '#Discard method is to remove specified element. We will not get any error for unavailable element in set.\\n\\ns = {10,20,30,40}\\nprint(s)\\nprint(s.discard(30))\\nprint(s.discard(90))\\nprint(s)', 'd = {}\\nd[10] = \"kiyan\"\\nd[20] = \"rajesh\"\\nprint(d)\\nd[\"r\"] = \"ravi\"\\nprint(d)', 'd = {\\'a\\':\"apple\",\\'b\\':\"banana\"}\\nprint(d)', \"print(d['b'])\", \"#we get keyError for not existing key.\\nprint[d['c']]\", 'print(d.keys)', 'print(d.values)', 'print(d.keys())', 'print(d.values())', '#How to add element in dict\\nprint(d)\\nd[\\'c\\'] = \"cat\"\\nprint(d)', \"#How to delete element in dict\\ndel d['c']\\nprint(d)\", 'print(d)\\nprint(d.clear())\\nprint(d)', '#To covert list of tuple to dict:\\n\\nd = dict([(100,\\'kiyan\\'),(101,\"Ravi\"),(102,\"Rajest\")])\\nprint(d)', '#to covert Set of tuple to dict:\\n\\nf = dict({(100,\\'kiyan\\'),(101,\"Ravi\"),(102,\"Rajest\")})\\nprint(f)', 'f = dict({(100,\\'kiyan\\'),(101,\"Ravi\"),(102,\"Rajest\")])\\nprint(f)', 'f = dict({(100,\\'kiyan\\'),(101,\"Ravi\"),(102,\"Rajest\")}])\\nprint(f)', 'f = dict({(100,\\'kiyan\\'),(101,\"Ravi\"),(102,\"Rajest\")})\\nprint(f)', 'f = dict(((100,\\'kiyan\\'),(101,\"Ravi\"),(102,\"Rajest\")))\\nprint(f)', 'f.get(100)', 'f.get(400) # get wll not give error for not existing keys\\n#We can also use get method to set default value if key is not available. \\n#If key exist then existing value will be return\\n# this will not add element to existing dictionery.', 'print(f)\\nprint(f.get(103))\\nprint(f.get(103,\"ravi\"))\\nprint(f)\\nprint(f.get(100,\"kiyandoor\"))\\nprint(f)', '#pop(key) will remove & return that particular key/value. we get keyError for non existing of key\\n#popitem() will remove & return random key/value. we get keyError for empty dictonery.\\nf.pop(100)\\nprint(f)', \"#popitem of dict remove and return random key value pair.\\nf = {101: 'Ravi', 102: 'Rajest'}\\nf.popitem()\\nprint(f)\\nf.popitem()\\nprint(f)\", 'f.popitem()', 'f = dict(((100,\\'kiyan\\'),(101,\"Ravi\"),(102,\"Rajest\")))\\nprint(f)', 'for i in f.keys:\\n    print(i)', 'for i in f.keys():\\n    print(i)', 'for i in f.keys():\\n    print(f.get(i))', '#dict completely deleted if we use del operation. with clear(), we can delete only elements of map. but not map \\nd = {10:\"kiyan\",20:\"kumar\"}\\ndel d\\nprint(d)', 'd = {10:\"kiyan\",20:\"kumar\"}\\nd.clear()\\nprint(d)', 'l = d.items()\\nprint(l)', 'd = {10:\"kiyan\",20:\"kumar\"}\\nl = d.items()\\nprint(l)', \"for k,v in d.items():\\n    print(k,'.....',v)\", 'print(d)\\nd.setdefault(30,\"Ravi\")\\nprint(d)\\nd.setdefault(10,\"Rajesh\")\\nprint(d)\\nprint(d.get(10))\\nprint(d.get(1000,-1))\\nprint(d.get(1000,-2))\\nprint(d)', 'd1 = {200:\"Gopi\",300:\"DD\"}\\nd.update(d1) # it takes only one argument,\\nprint(d)', 'd2 = {400:\"Dharmi\"}\\nd3 = {500:\"Chinna\"}\\nd.update(d2,d3) # update method takes only one argument.\\nprint(d)', '#we can pass list/set/tuple of tuple in the update method.\\nd.update([(400,\"Dharmi\"),(500,\"Chinna\")])', 'print(d)', 'print(sum(d.keys()))', 'k = \"missipi\"\\nd = {}\\nfor x in k:\\n    d[x] = d.get(x,0)+1\\nprint(d)', 'squres = {x:x*x for x in range(1,6)}\\nprint(squres)\\ndouble = {x:2*x for x in range(1,6)}\\nprint(double)', '#resuable components:\\n    \\ndef square(x):\\n    print(\"THE SQURE OF {} IS : {}\".format(x,x*x))\\nsquare(10)\\nsquare(20)', '#If a function not returning anything explicitly in python, it return by default None.\\ndef wish():\\n    print(\"Hello\")\\nprint(wish())', 'def evenodd(n):\\n    if n%2 == 0:\\n        print(\"Even number\")\\n    else:\\n        print(\"This is odd number\")\\nevenodd(5)\\nevenodd(10)', 'def add_sub(a,b):\\n    x =(a+b)\\n    y =(a-b)\\n    z =(a*b)\\n    return x,y,z\\na,b,c = add_sub(2,3)\\nprint(a)\\nprint(b)\\nprint(c)\\nk = add_sub(5,4)\\nprint(type(k))\\nprint(k)', 'def wish(marks,age,name=\"Guest\",msg=\"Hello\"):\\n    print(\"Student Name:\", name)\\n    print(\"Student marks:\", marks)\\n    print(\"Student Age is:\", age)\\n    print(\"Message:\", msg)\\n    print(\"--------------\")\\nwish(100,age=48,name=\"kiyan\", msg=\"hero\")    \\nwish(48,50)', 'wish(age=48,100,name=\"kiyan\", msg=\"hero\")', 'def sum(a,b):\\n    pass\\nsum(50,a=100) # notice the error message.', '#Variable length methods:\\ndef sum(*number):\\n    sum = 0\\n    for i in number:\\n        sum += i\\n    return sum\\n        \\nprint(sum(10,20))\\nprint(sum(10,20,30,40))', 'def f(**args):\\n    for k,v in args.items():\\n        print(k,\".....\",v)\\nf(rollno=100,name=\"kiyan\",marks=100)\\nf(hobby1=\"eating\",hobby2=\"sleeping\")', 'summary:\\ndef f(a,b,c=100,d=200):\\n    print(a,b,c,d)\\nf(10,20,30,40)\\nf(10,20,c=45,d=55)\\nf(10,20,d=55)\\nf(c=34,d=44,a=89,b=78)\\n#f(c=45,d=77,7,8) possional argument follows keyword argument', '#summary:\\ndef f(a,b,c=100,d=200):\\n    print(a,b,c,d)\\nf(10,20,30,40)\\nf(10,20,c=45,d=55)\\nf(10,20,d=55)\\nf(c=34,d=44,a=89,b=78)\\n#f(c=45,d=77,7,8) possional argument follows keyword argument', 'a = 10\\ndef f1():\\n    print(a)\\ndef f2():\\n    print(a)\\nf1()\\nf2()', '#Local variales are not available for other funtions.\\ndef f1():\\n    aa = 10\\n    print(aa)\\ndef f2():\\n    print(aa)\\nf1()\\nf2()', 'aa = 100\\ndef f1():\\n    aa = 10\\n    print(aa) # here local variable printed\\ndef f2():\\n    print(aa)\\nf1()\\nf2()', 'aa = 100\\ndef f1():\\n    global aa  # in order to represnt aa as global\\n    aa = 1000   # here we are chaning global variable value\\n    print(aa) # here global variable printed\\ndef f2():\\n    print(aa)\\nf1()\\nf2()', 'def f1():\\n    global bb  # inside a funtion it is possible to create global variables\\n    bb = 7777   \\n    print(bb) \\ndef f2():\\n    print(bb)  # before calling this method the variable bb should initialized. refer below example.\\nf1()\\nf2()', 'def f1():\\n    global cc \\n    cc = 7777   \\n    print(cc) \\ndef f2():\\n    print(cc)\\nf2()\\nf1()', 'Recent value will be stored in global variable.\\ndef f1():\\n    global dd \\n    dd = 7777   \\n    print(dd) \\ndef f2():\\n    global dd\\n    dd = 9999\\n    print(dd)\\nf2()\\nf1()', '#Recent value will be stored in global variable.\\ndef f1():\\n    global dd \\n    dd = 7777   \\n    print(dd) \\ndef f2():\\n    global dd\\n    dd = 9999\\n    print(dd)\\nf2()\\nf1()', \"#Access global variable over local variable.\\n\\na = 10\\ndef f1():\\n    a = 20\\n    print(a) # local variable will be printed\\ndef f2():\\n    a = 30\\n    print(globals()['a']) # calling global variable over local variable.\\nf1()\\nf2()\\n\\n#To print all global variables try this. globals() return dict.\\nprint(globals()) \"], 't1': (10, 20), '_35': [], '_i66': '#Add method. to add an element. It takes only one element.\\ns = set()\\ns.add(10)\\ns.add(20)\\ns.add(30)\\ns.add(40)\\nprint(s)\\ns.add(50)\\nprint(s)\\ns.add(50,60,70) # it is invalid as it is taking more than one element', '_i114': '#If a function not returning anything explicitly in python, it return by default None.\\ndef wish():\\n    print(\"Hello\")\\nprint(wish())', '_i56': '#tuple packing and unpacking. it is available for other data types like list and set as well for other sequence.\\na = 10\\nb = \"A\"\\nc = \"D\"\\nt = a,b,c\\nprint(t)\\n#tuple unpacking. it is available for other data types like list and set as well for other sequence.\\nt=(1,2,3)\\nx,y,z=t\\nprint(x)\\nprint(y)\\nprint(z)\\nt = [10,20,30] # list unpacking\\na,b,c = t\\nprint(a)\\nprint(b)\\nprint(c)', '_i116': 'def add_sub(a,b):\\n    x =(a+b)\\n    y =(a-b)\\n    z =(a*b)\\n    return x,y,z\\na,b,c = add_sub(2,3)\\nprint(a)\\nprint(b)\\nprint(c)\\nk = add_sub(5,4)\\nprint(type(k))\\nprint(k)', '_i78': 'print(d.values)', '_i25': 'l2 = [\"Kumar\",\"Kiyna\",\"Rajesh\",\"Ravi\",\"Sudha\"]\\nl2.sort(reverse=True)\\nprint(l2)', '_i128': 'def f1():\\n    global bb  # inside a funtion it is possible to create global variables\\n    bb = 7777   \\n    print(bb) \\ndef f2():\\n    print(bb)  # before calling this method the variable bb should initialized. refer below example.\\nf1()\\nf2()', '_i44': 'print([x.upper() for x in l])', '_i72': '#Discard method is to remove specified element. We will not get any error for unavailable element in set.\\n\\ns = {10,20,30,40}\\nprint(s)\\nprint(s.discard(30))\\nprint(s.discard(90))\\nprint(s)', 'd': {'p': 1, 'm': 1, 's': 2, 'i': 3}, '_48': '4321', 'n1': [10, 20, 30], '_i': '#Recent value will be stored in global variable.\\ndef f1():\\n    global dd \\n    dd = 7777   \\n    print(dd) \\ndef f2():\\n    global dd\\n    dd = 9999\\n    print(dd)\\nf2()\\nf1()', '_i60': 's[1:4]', '_i10': '#append method Always add value at the last index of list.\\n#inorder to add where ever we want use insert method as shown below.\\nprint(l)\\nprint(l.insert(4,50))\\nprint(l)', 'squres': {1: 1, 2: 4, 3: 9, 4: 16, 5: 25}, '_i30': '#list element are string.\\n#Strings in python wont create duplicate objects if already one exist.\\nl1 = [\"kumar\",\"kiyandoor\"]\\nl2 = [\"kumar\",\"kiyandoor\"]\\nprint(id(l1))\\nprint(id(l2))\\nprint(id(l1[0]))\\nprint(id(l2[0]))', '_i69': '#pop() method remove & return a random element. We get KeyError for pop on empty set.\\ns = {10,20,30,40}\\nprint(s)\\nprint(s.pop())', 'v': 'kumar', '_i35': '#To clear a list\\nl2.clear()\\nl2', '_i95': 'f.popitem()', 'd3': {500: 'Chinna'}, '_i62': 's = set(range(1,11))\\nprint(s)', '__spec__': None, '_i98': 'for i in f.keys():\\n    print(i)', 'dd': 7777, 'evenodd': <function evenodd at 0x7fb3c8e8b0d0>, '_i108': '#we can pass list/set/tuple of tuple in the update method.\\nd.update([(400,\"Dharmi\"),(500,\"Chinna\")])', '_i1': 'l = list([10,20,30,40])\\nprint(l)', 'z': 3, 'Out': {34: [], 35: [], 4: <bound method F2.f3 of <__main__.F2 object at 0x7fb3c9b5d0b8>>, 6: 2, 7: 0, 9: False, 45: '012345678', 13: ['10', '20', '30', 'A', 'B', 'C', 'a', 'i', 'k'], 46: '987654321', 47: '', 48: '4321', 90: 'kiyan'}, '_i12': 'l.extend(\"kiyan\")', '_i124': 'a = 10\\ndef f1():\\n    print(a)\\ndef f2():\\n    print(a)\\nf1()\\nf2()', '_i51': 'tuple() is to covert list to tuple \\nl = [10,20]\\nprint(tuple(l))', '_i111': 'k = \"missipi\"\\nd = {}\\nfor x in k:\\n    d[x] = d.get(x,0)+1\\nprint(d)', '_i7': 'l.index(10) # Index will give only first occurance.', '_i67': '#update method for sequence. we can pass any number of arguments in the form of sequence. we can not pass an element.\\ns = {10,20,30}\\nl = [10,20,30,1,2,3,4]\\ns.update(l,range(1,7),(0,678))\\nprint(s)', 'F2': <class '__main__.F2'>, '_i8': 'l.index(50) # when we try for not a member of object index always throw error as shown below. \\n            # use membership keyword as shown below', 'n2': [20, 30], '_i65': '#Add method. to add an element. It takes only one element.\\ns = set()\\ns.add(10)\\ns.add(20)\\ns.add(30)\\ns.add(40)\\nprint(s)\\ns.add(50,60,70) # it is invalid as it is taking more than one element', '_i20': 'l.reverse()', '_i122': 'summary:\\ndef f(a,b,c=100,d=200):\\n    print(a,b,c,d)\\nf(10,20,30,40)\\nf(10,20,c=45,d=55)\\nf(10,20,d=55)\\nf(c=34,d=44,a=89,b=78)\\n#f(c=45,d=77,7,8) possional argument follows keyword argument', '_i38': 'for x in range(len(l)):\\n    for y in range(len(l[x])):\\n        print(l[x][y],end=\" \")\\n    print()', '_i85': '#to covert Set of tuple to dict:\\n\\nf = dict({(100,\\'kiyan\\'),(101,\"Ravi\"),(102,\"Rajest\")})\\nprint(f)', '_i112': 'squres = {x:x*x for x in range(1,6)}\\nprint(squres)\\ndouble = {x:2*x for x in range(1,6)}\\nprint(double)', '_i49': 't = (10,20)\\nprint(type(t))', '_i127': 'aa = 100\\ndef f1():\\n    global aa  # in order to represnt aa as global\\n    aa = 1000   # here we are chaning global variable value\\n    print(aa) # here global variable printed\\ndef f2():\\n    print(aa)\\nf1()\\nf2()', '_i120': '#Variable length methods:\\ndef sum(*number):\\n    sum = 0\\n    for i in number:\\n        sum += i\\n    return sum\\n        \\nprint(sum(10,20))\\nprint(sum(10,20,30,40))', '_i123': '#summary:\\ndef f(a,b,c=100,d=200):\\n    print(a,b,c,d)\\nf(10,20,30,40)\\nf(10,20,c=45,d=55)\\nf(10,20,d=55)\\nf(c=34,d=44,a=89,b=78)\\n#f(c=45,d=77,7,8) possional argument follows keyword argument', '_i131': '#Recent value will be stored in global variable.\\ndef f1():\\n    global dd \\n    dd = 7777   \\n    print(dd) \\ndef f2():\\n    global dd\\n    dd = 9999\\n    print(dd)\\nf2()\\nf1()', '_i21': 'print(l)', '_i75': \"print(d['b'])\", 't': <generator object <genexpr> at 0x7fb3c8e7b480>, '_i73': 'd = {}\\nd[10] = \"kiyan\"\\nd[20] = \"rajesh\"\\nprint(d)\\nd[\"r\"] = \"ravi\"\\nprint(d)', '_i16': 'print(l.remove(\"Z\")) # use membership function to avoid value Error.', '_i81': '#How to add element in dict\\nprint(d)\\nd[\\'c\\'] = \"cat\"\\nprint(d)', 'd2': {400: 'Dharmi'}, '_i26': 'x = [10,20,30]\\ny = x #(alias => both representing same object. not recommened)\\n# create duplicate object is called clone => using slicing / copy methods.\\nprint(id(x))\\nprint(id(y))', '_45': '012345678', '_i70': '#remove method is to remove specified element. We get KeyError for unavailable element in set.\\n\\ns = {10,20,30,40}\\nprint(s)\\nprint(s.remove(30))\\nprint(s)', '_47': '', '_6': 2, 'k': (9, 1, 20), '_i14': 'print(l)', '_i118': 'wish(age=48,100,name=\"kiyan\", msg=\"hero\")'}\n"
     ]
    }
   ],
   "source": [
    "#Access global variable over local variable.\n",
    "\n",
    "a = 10\n",
    "def f1():\n",
    "    a = 20\n",
    "    print(a) # local variable will be printed\n",
    "def f2():\n",
    "    a = 30\n",
    "    print(globals()['a']) # calling global variable over local variable.\n",
    "f1()\n",
    "f2()\n",
    "\n",
    "#To print all global variables try this. globals() return dict.\n",
    "print(globals()) "
   ]
  },
  {
   "cell_type": "code",
   "execution_count": null,
   "metadata": {
    "collapsed": true
   },
   "outputs": [],
   "source": []
  }
 ],
 "metadata": {
  "kernelspec": {
   "display_name": "Python 3",
   "language": "python",
   "name": "python3"
  },
  "language_info": {
   "codemirror_mode": {
    "name": "ipython",
    "version": 3
   },
   "file_extension": ".py",
   "mimetype": "text/x-python",
   "name": "python",
   "nbconvert_exporter": "python",
   "pygments_lexer": "ipython3",
   "version": "3.4.3"
  }
 },
 "nbformat": 4,
 "nbformat_minor": 0
}
