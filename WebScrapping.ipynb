{
 "cells": [
  {
   "cell_type": "code",
   "execution_count": null,
   "metadata": {},
   "outputs": [],
   "source": [
    "Regular Expressions\n",
    "\n",
    "\n",
    "character classes:\n",
    "\n",
    "[abc]\n",
    "[^abc]\n",
    "[a-z]\n",
    "[a-z,A-Z]\n",
    "[0-9]\n",
    "[a-zA-Z,0-9]\n",
    "\n",
    "predefined character classes:\n",
    "\\s space\n",
    "\\S non-space\n",
    "\\d digit\n",
    "\\D non-digit\n",
    "\\w word\n",
    "\\W non-word -> special character\n",
    ".\n",
    "\n",
    "quantifier:\n",
    " \n",
    "a - > exactly one a\n",
    "a+  atleast one a\n",
    "a* any number of a including zero also\n",
    "a? atmost one a\n",
    "a{m} exactly m number of a's\n",
    "a{m,n} minimum m maxiumum n of a\n",
    "\n",
    "^ -> begins with\n",
    "$ -> ends with\n",
    "\n",
    "important funtions of re module:\n",
    "1. match() -> re.match('ab', 'adfadfadfadfasfabfadfadfadsfas')\n",
    "2. fullmatch()\n",
    "3. search() to serach given pattern in the given string. non for the non exist.\n",
    "4. findall()\n",
    "5. finditer() returns iterator of matched objects\n",
    "6. sub() substitution/replacement (all places) -> re.sub(regex, replacement, targetstring)\n",
    "7. subn()how many replacement happen. it return tuple contain 1st element is result string, \n",
    "    2nd one is number of replacement -> t[0] t[1]\n",
    "8. split returns list.\n",
    "\n",
    "re.IGNORECASE -> to ignore case sensitive."
   ]
  },
  {
   "cell_type": "code",
   "execution_count": 1,
   "metadata": {},
   "outputs": [
    {
     "name": "stdout",
     "output_type": "stream",
     "text": [
      "0 2 ab\n",
      "19 21 ab\n",
      "32 34 ab\n"
     ]
    }
   ],
   "source": [
    "import re\n",
    "matcher = re.finditer('ab','abbcdcdfdfkfjkdfjdjabkdfadjfaklsab')\n",
    "for m in matcher:\n",
    "    print(m.start(), m.end(), m.group())"
   ]
  },
  {
   "cell_type": "code",
   "execution_count": 2,
   "metadata": {},
   "outputs": [
    {
     "name": "stdout",
     "output_type": "stream",
     "text": [
      "8 9 9\n",
      "17 18 4\n",
      "18 19 0\n"
     ]
    }
   ],
   "source": [
    "import re\n",
    "matcher = re.finditer('\\d','abbcdcdf9dfkfjkdf40jdjabkdfadjfaklsab')\n",
    "for m in matcher:\n",
    "    print(m.start(), m.end(), m.group())"
   ]
  },
  {
   "cell_type": "code",
   "execution_count": 3,
   "metadata": {},
   "outputs": [
    {
     "name": "stdout",
     "output_type": "stream",
     "text": [
      "12 13 ^\n",
      "23 24 $\n",
      "30 31 &\n"
     ]
    }
   ],
   "source": [
    "import re\n",
    "matcher = re.finditer('\\W','abbcdcdf9dfk^fjkdf40jdj$abkdfa&djfaklsab')\n",
    "for m in matcher:\n",
    "    print(m.start(), m.end(), m.group())"
   ]
  },
  {
   "cell_type": "code",
   "execution_count": 4,
   "metadata": {},
   "outputs": [
    {
     "name": "stdout",
     "output_type": "stream",
     "text": [
      "kdfXjdj$XfakXlsab\n",
      "3\n"
     ]
    }
   ],
   "source": [
    "import re\n",
    "t = re.subn('\\d','X', 'kdf4jdj$6fak7lsab')\n",
    "print(t[0])\n",
    "print(t[1])"
   ]
  },
  {
   "cell_type": "code",
   "execution_count": 5,
   "metadata": {},
   "outputs": [
    {
     "name": "stdout",
     "output_type": "stream",
     "text": [
      "['10', '20', '30', '40', '50']\n"
     ]
    }
   ],
   "source": [
    "import re\n",
    "l = re.split('-','10-20-30-40-50')\n",
    "print(l)"
   ]
  },
  {
   "cell_type": "code",
   "execution_count": 6,
   "metadata": {},
   "outputs": [
    {
     "name": "stdout",
     "output_type": "stream",
     "text": [
      ": \n",
      ": \n",
      ": \n",
      ": \n",
      ": \n",
      ": \n",
      ": \n",
      ": \n",
      ": \n",
      ": \n",
      ": \n",
      ": \n",
      ": \n",
      ": \n",
      ": \n"
     ]
    }
   ],
   "source": [
    "import re\n",
    "x = re.split('.',\"www.google.com\")  # . matches every thing it given string\n",
    "for i in x:\n",
    "    print(i + \": \")"
   ]
  },
  {
   "cell_type": "code",
   "execution_count": 7,
   "metadata": {},
   "outputs": [
    {
     "name": "stdout",
     "output_type": "stream",
     "text": [
      "www\n",
      "google\n",
      "com\n"
     ]
    }
   ],
   "source": [
    "import re\n",
    "x = re.split('\\.',\"www.google.com\")\n",
    "for i in x:\n",
    "    print(i)"
   ]
  },
  {
   "cell_type": "code",
   "execution_count": 8,
   "metadata": {},
   "outputs": [
    {
     "name": "stdout",
     "output_type": "stream",
     "text": [
      "0\n",
      "5\n",
      "learn\n"
     ]
    }
   ],
   "source": [
    "import re\n",
    "m = re.search('^learn', 'learning i am')\n",
    "print(m.start())\n",
    "print(m.end())\n",
    "print(m.group())"
   ]
  },
  {
   "cell_type": "code",
   "execution_count": 9,
   "metadata": {},
   "outputs": [
    {
     "name": "stdout",
     "output_type": "stream",
     "text": [
      "given string strarts with learn\n"
     ]
    }
   ],
   "source": [
    "import re\n",
    "m = re.search('^learn', 'I am learning')\n",
    "if m!=None:\n",
    "    print('given string not strarts with learn')\n",
    "else:\n",
    "    print('given string strarts with learn')"
   ]
  },
  {
   "cell_type": "code",
   "execution_count": 10,
   "metadata": {},
   "outputs": [
    {
     "name": "stdout",
     "output_type": "stream",
     "text": [
      "given string ends with learn\n"
     ]
    }
   ],
   "source": [
    "import re\n",
    "m = re.search('learn$', 'I am learn',re.IGNORECASE)\n",
    "if m!=None:\n",
    "    print('given string ends with learn')\n",
    "else:\n",
    "    print('given string not ends with learn')"
   ]
  },
  {
   "cell_type": "code",
   "execution_count": 13,
   "metadata": {},
   "outputs": [
    {
     "name": "stdout",
     "output_type": "stream",
     "text": [
      "<re.Match object; span=(0, 13), match='a6wtkrljt#wlr'> given name satisied the regular expression\n"
     ]
    }
   ],
   "source": [
    "import re\n",
    "m = \"a6wtkrljt#wlr\"\n",
    "s = re.fullmatch('[a-k][0369][a-zA-Z0-9#]*', m)\n",
    "if s!=None:\n",
    "    print(s, 'given name satisied the regular expression')\n",
    "else:\n",
    "    print(s, 'given name not satisied the regular expression')"
   ]
  },
  {
   "cell_type": "code",
   "execution_count": null,
   "metadata": {},
   "outputs": [],
   "source": [
    "import re\n",
    "f1 = open('input.txt','r')\n",
    "f2 = open('output.txt','w')\n",
    "for line in f1:\n",
    "    list = re.findall('[a-9]\\d{9}', f1)\n",
    "    for number in list:\n",
    "        f2.write(number)\n",
    "print('Extracted all mobile numbers into output.txt')\n",
    "f1.close()\n",
    "f2.close()"
   ]
  },
  {
   "cell_type": "code",
   "execution_count": 37,
   "metadata": {},
   "outputs": [
    {
     "name": "stdout",
     "output_type": "stream",
     "text": [
      "searching .... http://www.google.com\n",
      "Google\n",
      "searching .... http://rediff.com\n",
      "Rediff.com: News | Rediffmail | Stock Quotes | Shopping\n"
     ]
    }
   ],
   "source": [
    "import re,urllib\n",
    "import urllib.request\n",
    "sites = ['http://www.google.com','http://rediff.com']\n",
    "for s in sites:\n",
    "    print('searching ....',s)\n",
    "    u=urllib.request.urlopen(s)\n",
    "    text=u.read()\n",
    "    titile=re.findall(\"<title>(.*)<\\/title>\",str(text),re.IGNORECASE)\n",
    "    print(titile[0])"
   ]
  },
  {
   "cell_type": "code",
   "execution_count": null,
   "metadata": {},
   "outputs": [],
   "source": [
    "import re\n",
    "import urllib.request\n",
    "req = urllib.request.urlopen('https://www.redbus.in/info/contactus')\n",
    "text = req.read()\n",
    "numbers=re.findall('[0-9]{3,4}[- ][0-9-]+',str(text))\n",
    "for number in numbers:\n",
    "    print(number)"
   ]
  }
 ],
 "metadata": {
  "kernelspec": {
   "display_name": "Python 3",
   "language": "python",
   "name": "python3"
  },
  "language_info": {
   "codemirror_mode": {
    "name": "ipython",
    "version": 3
   },
   "file_extension": ".py",
   "mimetype": "text/x-python",
   "name": "python",
   "nbconvert_exporter": "python",
   "pygments_lexer": "ipython3",
   "version": "3.7.1"
  }
 },
 "nbformat": 4,
 "nbformat_minor": 2
}
