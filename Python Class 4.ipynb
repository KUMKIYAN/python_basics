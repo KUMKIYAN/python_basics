{
 "cells": [
  {
   "cell_type": "code",
   "execution_count": null,
   "metadata": {
    "collapsed": true
   },
   "outputs": [],
   "source": [
    "Recursive funtion:\n",
    "    A function that calls itself is called recursive function.\n",
    "    Reduce length of the code and improve readability.\n",
    "    easy solution for complex problem(tower of hanoi & fuctorial)"
   ]
  },
  {
   "cell_type": "code",
   "execution_count": 1,
   "metadata": {
    "collapsed": false
   },
   "outputs": [
    {
     "name": "stdout",
     "output_type": "stream",
     "text": [
      "1\n",
      "120\n"
     ]
    }
   ],
   "source": [
    "def factorial(n):\n",
    "    if n == 0:\n",
    "        result = 1\n",
    "    else:\n",
    "        result = n*factorial(n-1)\n",
    "    return result\n",
    "print(factorial(0))\n",
    "print(factorial(5))"
   ]
  },
  {
   "cell_type": "code",
   "execution_count": null,
   "metadata": {
    "collapsed": true
   },
   "outputs": [],
   "source": [
    "Anonymous Functions: A funciton without name. Instance use (only one time usage)."
   ]
  },
  {
   "cell_type": "code",
   "execution_count": 3,
   "metadata": {
    "collapsed": false
   },
   "outputs": [
    {
     "name": "stdout",
     "output_type": "stream",
     "text": [
      "4\n"
     ]
    }
   ],
   "source": [
    "Normal funciton:\n",
    "def squreIt(n):\n",
    "    return n*n\n",
    "\n",
    "print(squreIt(2))"
   ]
  },
  {
   "cell_type": "code",
   "execution_count": 4,
   "metadata": {
    "collapsed": false
   },
   "outputs": [
    {
     "name": "stdout",
     "output_type": "stream",
     "text": [
      "16\n"
     ]
    }
   ],
   "source": [
    "lambda funtion:\n",
    "s = lambda n: n*n\n",
    "print(s(4))"
   ]
  },
  {
   "cell_type": "code",
   "execution_count": 5,
   "metadata": {
    "collapsed": false
   },
   "outputs": [
    {
     "name": "stdout",
     "output_type": "stream",
     "text": [
      "100\n",
      "1600\n"
     ]
    }
   ],
   "source": [
    "s = lambda n:n*n\n",
    "print(s(10))\n",
    "print(s(40))"
   ]
  },
  {
   "cell_type": "code",
   "execution_count": 6,
   "metadata": {
    "collapsed": false
   },
   "outputs": [
    {
     "name": "stdout",
     "output_type": "stream",
     "text": [
      "the sum of 2 and 4 is : 6\n"
     ]
    }
   ],
   "source": [
    "s = lambda a,b:a+b\n",
    "print(\"the sum of {} and {} is : {}\".format(2,4,s(2,4)))"
   ]
  },
  {
   "cell_type": "code",
   "execution_count": 7,
   "metadata": {
    "collapsed": false
   },
   "outputs": [
    {
     "name": "stdout",
     "output_type": "stream",
     "text": [
      "5\n",
      "6\n"
     ]
    }
   ],
   "source": [
    "s = lambda a,b:a if a>b else b\n",
    "print(s(4,5))\n",
    "print(s(6,4))"
   ]
  },
  {
   "cell_type": "code",
   "execution_count": null,
   "metadata": {
    "collapsed": true
   },
   "outputs": [],
   "source": [
    "we can pass lambda expression as argument in other function.\n",
    "filter() -> filter(function:sequence)\n",
    "map()\n",
    "reduce()"
   ]
  },
  {
   "cell_type": "code",
   "execution_count": 8,
   "metadata": {
    "collapsed": false
   },
   "outputs": [
    {
     "name": "stdout",
     "output_type": "stream",
     "text": [
      "<filter object at 0x7fb4b0735da0>\n",
      "[10, 20, 30, 40, 50]\n"
     ]
    }
   ],
   "source": [
    "def isEven(x):\n",
    "    if x%2==0:\n",
    "        return True\n",
    "    else:\n",
    "        return False\n",
    "l=[10,15,20,25,30,35,40,45,50]\n",
    "print(filter(isEven,l))\n",
    "print(list(filter(isEven,l)))"
   ]
  },
  {
   "cell_type": "code",
   "execution_count": 9,
   "metadata": {
    "collapsed": false
   },
   "outputs": [
    {
     "name": "stdout",
     "output_type": "stream",
     "text": [
      "<class 'list'>\n",
      "[10, 20, 30, 40, 50]\n",
      "[15, 25, 35, 45]\n"
     ]
    }
   ],
   "source": [
    "l=[10,15,20,25,30,35,40,45,50]\n",
    "print(type(l))\n",
    "l1 = (filter(lambda x : x%2==0,l))\n",
    "print(list(l1))\n",
    "l2 = filter(lambda x:x%2!=0,l)\n",
    "print(list(l2))"
   ]
  },
  {
   "cell_type": "code",
   "execution_count": 10,
   "metadata": {
    "collapsed": false
   },
   "outputs": [
    {
     "name": "stdout",
     "output_type": "stream",
     "text": [
      "<class 'list'>\n",
      "<class 'map'>\n",
      "[20, 30, 40, 50, 60, 70, 80, 90, 100]\n"
     ]
    }
   ],
   "source": [
    "l=[10,15,20,25,30,35,40,45,50]\n",
    "print(type(l))\n",
    "l1=map(lambda x:x*2,l)\n",
    "print(type(l1))\n",
    "print(list(l1))"
   ]
  },
  {
   "cell_type": "code",
   "execution_count": 11,
   "metadata": {
    "collapsed": false
   },
   "outputs": [
    {
     "name": "stdout",
     "output_type": "stream",
     "text": [
      "<class 'map'>\n",
      "[2, 6, 12, 20]\n"
     ]
    }
   ],
   "source": [
    "l1=[1,2,3,4]\n",
    "l2=[2,3,4,5]\n",
    "l3 = map(lambda x,y:x*y,l1,l2)\n",
    "print(type(l3))\n",
    "print(list(l3))"
   ]
  },
  {
   "cell_type": "code",
   "execution_count": 12,
   "metadata": {
    "collapsed": false
   },
   "outputs": [
    {
     "ename": "NameError",
     "evalue": "name 'reduce' is not defined",
     "output_type": "error",
     "traceback": [
      "\u001b[1;31m---------------------------------------------------------------------------\u001b[0m",
      "\u001b[1;31mNameError\u001b[0m                                 Traceback (most recent call last)",
      "\u001b[1;32m<ipython-input-12-efd1388f27c1>\u001b[0m in \u001b[0;36m<module>\u001b[1;34m()\u001b[0m\n\u001b[0;32m      1\u001b[0m \u001b[1;31m#Reduce the sequence to single element. reduce is available in function tool module hence we need import.\u001b[0m\u001b[1;33m\u001b[0m\u001b[1;33m\u001b[0m\u001b[0m\n\u001b[0;32m      2\u001b[0m \u001b[0ml\u001b[0m \u001b[1;33m=\u001b[0m \u001b[1;33m[\u001b[0m\u001b[1;36m10\u001b[0m\u001b[1;33m,\u001b[0m\u001b[1;36m20\u001b[0m\u001b[1;33m,\u001b[0m\u001b[1;36m30\u001b[0m\u001b[1;33m,\u001b[0m\u001b[1;36m40\u001b[0m\u001b[1;33m,\u001b[0m\u001b[1;36m50\u001b[0m\u001b[1;33m]\u001b[0m\u001b[1;33m\u001b[0m\u001b[0m\n\u001b[1;32m----> 3\u001b[1;33m \u001b[0ml1\u001b[0m \u001b[1;33m=\u001b[0m \u001b[0mreduce\u001b[0m\u001b[1;33m(\u001b[0m\u001b[1;32mlambda\u001b[0m \u001b[0mx\u001b[0m\u001b[1;33m,\u001b[0m\u001b[0my\u001b[0m\u001b[1;33m:\u001b[0m\u001b[0mx\u001b[0m\u001b[1;33m+\u001b[0m\u001b[0my\u001b[0m\u001b[1;33m,\u001b[0m \u001b[0ml\u001b[0m\u001b[1;33m)\u001b[0m\u001b[1;33m\u001b[0m\u001b[0m\n\u001b[0m\u001b[0;32m      4\u001b[0m \u001b[0mprint\u001b[0m\u001b[1;33m(\u001b[0m\u001b[0ml1\u001b[0m\u001b[1;33m)\u001b[0m\u001b[1;33m\u001b[0m\u001b[0m\n",
      "\u001b[1;31mNameError\u001b[0m: name 'reduce' is not defined"
     ]
    }
   ],
   "source": [
    "#Reduce the sequence to single element. reduce is available in function tool module hence we need import.\n",
    "l = [10,20,30,40,50]\n",
    "l1 = reduce(lambda x,y:x+y, l) \n",
    "print(l1)"
   ]
  },
  {
   "cell_type": "code",
   "execution_count": 13,
   "metadata": {
    "collapsed": false
   },
   "outputs": [
    {
     "name": "stdout",
     "output_type": "stream",
     "text": [
      "150\n"
     ]
    }
   ],
   "source": [
    "from functools import reduce\n",
    "l = [10,20,30,40,50]\n",
    "l1 = reduce(lambda x,y:x+y, l) \n",
    "print(l1)"
   ]
  },
  {
   "cell_type": "code",
   "execution_count": 14,
   "metadata": {
    "collapsed": false
   },
   "outputs": [
    {
     "name": "stdout",
     "output_type": "stream",
     "text": [
      "<function f1 at 0x7fb4b02b16a8>\n",
      "140414026454696\n",
      "<built-in function print>\n",
      "140414168853768\n"
     ]
    }
   ],
   "source": [
    "#Every thing in the python is Object.\n",
    "def f1():\n",
    "    print(\"hello\")\n",
    "print(f1) # type of object\n",
    "print(id(f1)) # address of f1 function\n",
    "print(print) # print is also object\n",
    "print(id(print)) # address of print function"
   ]
  },
  {
   "cell_type": "code",
   "execution_count": 15,
   "metadata": {
    "collapsed": false
   },
   "outputs": [
    {
     "name": "stdout",
     "output_type": "stream",
     "text": [
      "140414026455376\n",
      "140414026455376\n",
      "hello\n"
     ]
    }
   ],
   "source": [
    "#Funciton Aliasing\n",
    "def wish():\n",
    "    print(\"hello\")\n",
    "greetings = wish\n",
    "print(id(greetings))\n",
    "print(id(wish))\n",
    "greetings()"
   ]
  },
  {
   "cell_type": "code",
   "execution_count": 16,
   "metadata": {
    "collapsed": false
   },
   "outputs": [
    {
     "ename": "NameError",
     "evalue": "name 'wish' is not defined",
     "output_type": "error",
     "traceback": [
      "\u001b[1;31m---------------------------------------------------------------------------\u001b[0m",
      "\u001b[1;31mNameError\u001b[0m                                 Traceback (most recent call last)",
      "\u001b[1;32m<ipython-input-16-8d2bd122cef3>\u001b[0m in \u001b[0;36m<module>\u001b[1;34m()\u001b[0m\n\u001b[0;32m      1\u001b[0m \u001b[1;32mdel\u001b[0m \u001b[0mwish\u001b[0m\u001b[1;33m\u001b[0m\u001b[0m\n\u001b[1;32m----> 2\u001b[1;33m \u001b[0mwish\u001b[0m\u001b[1;33m(\u001b[0m\u001b[1;33m)\u001b[0m\u001b[1;33m\u001b[0m\u001b[0m\n\u001b[0m",
      "\u001b[1;31mNameError\u001b[0m: name 'wish' is not defined"
     ]
    }
   ],
   "source": [
    "del wish\n",
    "wish()"
   ]
  },
  {
   "cell_type": "code",
   "execution_count": 17,
   "metadata": {
    "collapsed": false
   },
   "outputs": [
    {
     "name": "stdout",
     "output_type": "stream",
     "text": [
      "hello\n"
     ]
    }
   ],
   "source": [
    "greetings() # object still exist . greeting points to that object."
   ]
  },
  {
   "cell_type": "code",
   "execution_count": null,
   "metadata": {
    "collapsed": true
   },
   "outputs": [],
   "source": [
    "Nested Funtion: \n",
    "    In a function group of lines repeadly require, then we group them in inner function & call it when require.\n",
    "    on other words function specific repeated functionality. out side funtion it wont work."
   ]
  },
  {
   "cell_type": "code",
   "execution_count": 18,
   "metadata": {
    "collapsed": false
   },
   "outputs": [
    {
     "name": "stdout",
     "output_type": "stream",
     "text": [
      "outer funtion started\n",
      "inner function started\n",
      "inner function started\n"
     ]
    }
   ],
   "source": [
    "def outer():\n",
    "    print(\"outer funtion started\")\n",
    "    def inner():\n",
    "        print(\"inner function started\")\n",
    "    inner()\n",
    "    inner()\n",
    "outer()"
   ]
  },
  {
   "cell_type": "code",
   "execution_count": 19,
   "metadata": {
    "collapsed": false
   },
   "outputs": [
    {
     "name": "stdout",
     "output_type": "stream",
     "text": [
      "the sum is:  90\n",
      "the avg is:  45.0\n",
      "the sum is:  30\n",
      "the avg is:  15.0\n"
     ]
    }
   ],
   "source": [
    "def f1():\n",
    "    def inner(a,b):\n",
    "        print(\"the sum is: \", a+b)\n",
    "        print(\"the avg is: \", (a+b)/2)\n",
    "    inner(40,50)\n",
    "    inner(10,20)\n",
    "f1()"
   ]
  },
  {
   "cell_type": "code",
   "execution_count": 20,
   "metadata": {
    "collapsed": false
   },
   "outputs": [
    {
     "name": "stdout",
     "output_type": "stream",
     "text": [
      "starting of outer function\n",
      "starting of outer function\n"
     ]
    },
    {
     "data": {
      "text/plain": [
       "<function __main__.outer.<locals>.inner>"
      ]
     },
     "execution_count": 20,
     "metadata": {},
     "output_type": "execute_result"
    }
   ],
   "source": [
    "#We can call inner funciton. for that our outer function return should be innter function call.\n",
    "#Refre below example for better under standing. This example return inner function.\n",
    "def outer():\n",
    "    print(\"starting of outer function\")\n",
    "    def inner():\n",
    "        print(\"starting of inner function\")\n",
    "    return inner # this retun inner function object. if i change it to inner() then it will execute inner function \n",
    "                 # and assign its return type inner function returning none.\n",
    "outer() # function calling -> it executes the function completely\n",
    "f1 = outer() #outer method executes and return type assigned to f1\n",
    "f1"
   ]
  },
  {
   "cell_type": "code",
   "execution_count": 21,
   "metadata": {
    "collapsed": false
   },
   "outputs": [
    {
     "name": "stdout",
     "output_type": "stream",
     "text": [
      "starting of inner function\n",
      "starting of inner function\n"
     ]
    }
   ],
   "source": [
    "f1()\n",
    "f1()"
   ]
  },
  {
   "cell_type": "code",
   "execution_count": 23,
   "metadata": {
    "collapsed": false
   },
   "outputs": [
    {
     "name": "stdout",
     "output_type": "stream",
     "text": [
      "starting of outer function\n"
     ]
    }
   ],
   "source": [
    "f2 = outer() #Fucntion call -> executes and return type assigned\n",
    "f3 = outer   #Funciton Aliasing"
   ]
  },
  {
   "cell_type": "code",
   "execution_count": null,
   "metadata": {
    "collapsed": true
   },
   "outputs": [],
   "source": [
    "f4() = outer() this is not valid -> function call to fucntion call."
   ]
  },
  {
   "cell_type": "code",
   "execution_count": null,
   "metadata": {
    "collapsed": true
   },
   "outputs": [],
   "source": [
    "Function Decorators:\n",
    "    Decorative function takes input function and give decarative input function.\n",
    "    Decarating the function / extending the function without effecting the existing function"
   ]
  },
  {
   "cell_type": "code",
   "execution_count": 24,
   "metadata": {
    "collapsed": false
   },
   "outputs": [
    {
     "name": "stdout",
     "output_type": "stream",
     "text": [
      "hello kiyan good morning\n"
     ]
    }
   ],
   "source": [
    "def wish(name):\n",
    "    print(\"hello\",name,\"good morning\")\n",
    "wish\n",
    "wish(\"kiyan\")"
   ]
  },
  {
   "cell_type": "code",
   "execution_count": 25,
   "metadata": {
    "collapsed": false
   },
   "outputs": [
    {
     "name": "stdout",
     "output_type": "stream",
     "text": [
      "hello kumar good morning\n",
      "Jakie bad morning\n"
     ]
    }
   ],
   "source": [
    "def decor(func):\n",
    "    def inner(name):\n",
    "        if name==\"Jakie\":\n",
    "            print(name, \"bad morning\")\n",
    "        else:\n",
    "            func(name)\n",
    "    return inner\n",
    "\n",
    "@decor\n",
    "def wish1(name):\n",
    "    print(\"hello\",name,\"good morning\")\n",
    "\n",
    "wish1(\"kumar\")\n",
    "wish1(\"Jakie\")"
   ]
  },
  {
   "cell_type": "code",
   "execution_count": 26,
   "metadata": {
    "collapsed": false
   },
   "outputs": [
    {
     "name": "stdout",
     "output_type": "stream",
     "text": [
      "hello Jakie good morning\n",
      "Jakie bad morning\n",
      "------------\n",
      "hello kumar good morning\n",
      "hello Rajesh good morning\n"
     ]
    }
   ],
   "source": [
    "#How to call without decor annotation\n",
    "\n",
    "def decor(func):\n",
    "    def inner(name):\n",
    "        if name==\"Jakie\":\n",
    "            print(name, \"bad morning\")\n",
    "        else:\n",
    "            func(name)\n",
    "    return inner\n",
    "\n",
    "decfunc = decor(wish1)\n",
    "\n",
    "def wish1(name):\n",
    "    print(\"hello\",name,\"good morning\")\n",
    "\n",
    "wish1(\"Jakie\") \n",
    "decfunc(\"Jakie\")\n",
    "print(\"------------\")\n",
    "wish1(\"kumar\")\n",
    "decfunc(\"Rajesh\")\n"
   ]
  },
  {
   "cell_type": "code",
   "execution_count": 27,
   "metadata": {
    "collapsed": false
   },
   "outputs": [
    {
     "name": "stdout",
     "output_type": "stream",
     "text": [
      "0.5\n",
      "10.0\n"
     ]
    },
    {
     "ename": "ZeroDivisionError",
     "evalue": "division by zero",
     "output_type": "error",
     "traceback": [
      "\u001b[1;31m---------------------------------------------------------------------------\u001b[0m",
      "\u001b[1;31mZeroDivisionError\u001b[0m                         Traceback (most recent call last)",
      "\u001b[1;32m<ipython-input-27-d0b8ae8b1f83>\u001b[0m in \u001b[0;36m<module>\u001b[1;34m()\u001b[0m\n\u001b[0;32m      3\u001b[0m \u001b[0mdivision\u001b[0m\u001b[1;33m(\u001b[0m\u001b[1;36m10\u001b[0m\u001b[1;33m,\u001b[0m\u001b[1;36m20\u001b[0m\u001b[1;33m)\u001b[0m\u001b[1;33m\u001b[0m\u001b[0m\n\u001b[0;32m      4\u001b[0m \u001b[0mdivision\u001b[0m\u001b[1;33m(\u001b[0m\u001b[1;36m50\u001b[0m\u001b[1;33m,\u001b[0m\u001b[1;36m5\u001b[0m\u001b[1;33m)\u001b[0m\u001b[1;33m\u001b[0m\u001b[0m\n\u001b[1;32m----> 5\u001b[1;33m \u001b[0mdivision\u001b[0m\u001b[1;33m(\u001b[0m\u001b[1;36m50\u001b[0m\u001b[1;33m,\u001b[0m\u001b[1;36m0\u001b[0m\u001b[1;33m)\u001b[0m\u001b[1;33m\u001b[0m\u001b[0m\n\u001b[0m",
      "\u001b[1;32m<ipython-input-27-d0b8ae8b1f83>\u001b[0m in \u001b[0;36mdivision\u001b[1;34m(a, b)\u001b[0m\n\u001b[0;32m      1\u001b[0m \u001b[1;32mdef\u001b[0m \u001b[0mdivision\u001b[0m\u001b[1;33m(\u001b[0m\u001b[0ma\u001b[0m\u001b[1;33m,\u001b[0m\u001b[0mb\u001b[0m\u001b[1;33m)\u001b[0m\u001b[1;33m:\u001b[0m\u001b[1;33m\u001b[0m\u001b[0m\n\u001b[1;32m----> 2\u001b[1;33m     \u001b[0mprint\u001b[0m\u001b[1;33m(\u001b[0m\u001b[0ma\u001b[0m\u001b[1;33m/\u001b[0m\u001b[0mb\u001b[0m\u001b[1;33m)\u001b[0m\u001b[1;33m\u001b[0m\u001b[0m\n\u001b[0m\u001b[0;32m      3\u001b[0m \u001b[0mdivision\u001b[0m\u001b[1;33m(\u001b[0m\u001b[1;36m10\u001b[0m\u001b[1;33m,\u001b[0m\u001b[1;36m20\u001b[0m\u001b[1;33m)\u001b[0m\u001b[1;33m\u001b[0m\u001b[0m\n\u001b[0;32m      4\u001b[0m \u001b[0mdivision\u001b[0m\u001b[1;33m(\u001b[0m\u001b[1;36m50\u001b[0m\u001b[1;33m,\u001b[0m\u001b[1;36m5\u001b[0m\u001b[1;33m)\u001b[0m\u001b[1;33m\u001b[0m\u001b[0m\n\u001b[0;32m      5\u001b[0m \u001b[0mdivision\u001b[0m\u001b[1;33m(\u001b[0m\u001b[1;36m50\u001b[0m\u001b[1;33m,\u001b[0m\u001b[1;36m0\u001b[0m\u001b[1;33m)\u001b[0m\u001b[1;33m\u001b[0m\u001b[0m\n",
      "\u001b[1;31mZeroDivisionError\u001b[0m: division by zero"
     ]
    }
   ],
   "source": [
    "def division(a,b):\n",
    "    print(a/b)\n",
    "division(10,20)\n",
    "division(50,5)\n",
    "division(50,0)"
   ]
  },
  {
   "cell_type": "code",
   "execution_count": 28,
   "metadata": {
    "collapsed": false
   },
   "outputs": [
    {
     "name": "stdout",
     "output_type": "stream",
     "text": [
      "0.5\n",
      "10.0\n",
      "Division by zero not possible\n"
     ]
    }
   ],
   "source": [
    "def smartdivision(func):\n",
    "    def inner(a,b):\n",
    "        if b==0:\n",
    "            print(\"Division by zero not possible\")\n",
    "        else:\n",
    "            func(a,b)\n",
    "    return inner\n",
    "\n",
    "@smartdivision\n",
    "def division(a,b):\n",
    "    print(a/b)\n",
    "division(10,20)\n",
    "division(50,5)\n",
    "division(50,0)"
   ]
  },
  {
   "cell_type": "code",
   "execution_count": 29,
   "metadata": {
    "collapsed": false
   },
   "outputs": [
    {
     "name": "stdout",
     "output_type": "stream",
     "text": [
      "0.5\n",
      "10.0\n",
      "Division by zero not possible\n"
     ]
    }
   ],
   "source": [
    "def smartdivision(func):\n",
    "    def inner(a,b):\n",
    "        if b==0:\n",
    "            print(\"Division by zero not possible\")\n",
    "        else:\n",
    "            func(a,b)\n",
    "    return inner\n",
    "\n",
    "@smartdivision\n",
    "def division(a,b):\n",
    "    print(a/b)\n",
    "division(10,20)\n",
    "division(50,5)\n",
    "division(50,0)"
   ]
  },
  {
   "cell_type": "code",
   "execution_count": null,
   "metadata": {
    "collapsed": true
   },
   "outputs": [],
   "source": [
    "We can apply multiple decarators at the same time for a function: this is called decorator chaining."
   ]
  },
  {
   "cell_type": "code",
   "execution_count": 30,
   "metadata": {
    "collapsed": false
   },
   "outputs": [
    {
     "name": "stdout",
     "output_type": "stream",
     "text": [
      "Jakie Good morning\n",
      "Jakie morning o morning\n",
      "hello Jakie good morning\n",
      "kumar Good morning\n",
      "kumar morning o morning\n",
      "hello kumar good morning\n"
     ]
    }
   ],
   "source": [
    "def decor3(func):\n",
    "    def inner(name):\n",
    "        print(name, \"Good morning\")\n",
    "        func(name)\n",
    "    return inner\n",
    "\n",
    "def decor4(func):\n",
    "    def inner(name):\n",
    "        print(name, \"morning o morning\")\n",
    "        func(name)\n",
    "    return inner\n",
    "\n",
    "@decor3\n",
    "@decor4\n",
    "def wish2(name):\n",
    "    print(\"hello\",name,\"good morning\")\n",
    "    \n",
    "#In above example decor3 executes then decor 4 executes (top to bottom). \n",
    "#both decorative funtions calling func(name) but wish2 executed only once.\n",
    "\n",
    "wish2(\"Jakie\") \n",
    "wish2(\"kumar\")"
   ]
  },
  {
   "cell_type": "code",
   "execution_count": 31,
   "metadata": {
    "collapsed": false
   },
   "outputs": [
    {
     "name": "stdout",
     "output_type": "stream",
     "text": [
      "400\n"
     ]
    }
   ],
   "source": [
    "def decor5(func):\n",
    "    def inner():\n",
    "        x =func()\n",
    "        return x*x\n",
    "    return inner\n",
    "\n",
    "def decor6(func):\n",
    "    def inner():\n",
    "        x = func()\n",
    "        return 2*x\n",
    "    return inner\n",
    "\n",
    "@decor5\n",
    "@decor6\n",
    "def num():\n",
    "    return 10\n",
    "print(num())\n",
    "\n",
    "#Here it is taking bottom to top. Where as in the above example it is taking top to bottom."
   ]
  },
  {
   "cell_type": "code",
   "execution_count": 32,
   "metadata": {
    "collapsed": false
   },
   "outputs": [
    {
     "name": "stdout",
     "output_type": "stream",
     "text": [
      "<function decor6.<locals>.inner at 0x7fb4b02b16a8>\n"
     ]
    }
   ],
   "source": [
    "print(decor6(decor5(num())))"
   ]
  },
  {
   "cell_type": "code",
   "execution_count": 33,
   "metadata": {
    "collapsed": false
   },
   "outputs": [
    {
     "name": "stdout",
     "output_type": "stream",
     "text": [
      "<function decor5.<locals>.inner at 0x7fb4b02b16a8>\n"
     ]
    }
   ],
   "source": [
    "print(decor5(decor6(num())))"
   ]
  },
  {
   "cell_type": "code",
   "execution_count": null,
   "metadata": {
    "collapsed": true
   },
   "outputs": [],
   "source": [
    "l = [x*x for x in range(100000000000000000000000)] \n",
    "it is list => it will take much time and much memory. we will get memeory errors . peformance go down.\n",
    "l = (x*x for x in range(100000000000000000000000))\n",
    "this is generator. it wont use memory. no problem that we faced with earlier approach/list approach.\n",
    "this will execute in fraction of seconds"
   ]
  },
  {
   "cell_type": "code",
   "execution_count": 34,
   "metadata": {
    "collapsed": false
   },
   "outputs": [
    {
     "name": "stdout",
     "output_type": "stream",
     "text": [
      "<class 'list'>\n",
      "<class 'generator'>\n"
     ]
    }
   ],
   "source": [
    "l = [x*x for x in range(10)]\n",
    "print(type(l))\n",
    "l = (x*x for x in range(10))\n",
    "print(type(l))"
   ]
  },
  {
   "cell_type": "code",
   "execution_count": 35,
   "metadata": {
    "collapsed": false
   },
   "outputs": [
    {
     "name": "stdout",
     "output_type": "stream",
     "text": [
      "time taken: 4.339079\n"
     ]
    }
   ],
   "source": [
    "import random\n",
    "import time\n",
    "names = [\"kiyan\",\"kumar\",\"rajesh\",\"ravi\"]\n",
    "subject = [\"python\",\"java\",\"AI\",\"blackchain\"]\n",
    "def student_list(student_number):\n",
    "    results = []\n",
    "    for x in range(student_number):\n",
    "        a = {\n",
    "            \"id\":x,\n",
    "            \"namee\":random.choice(names),\n",
    "            \"subject\":random.choice(subject)\n",
    "        }\n",
    "        results.append(a)\n",
    "    return results\n",
    "\n",
    "t1 = time.clock()\n",
    "people = student_list(1000000)\n",
    "t2 = time.clock()\n",
    "\n",
    "print (\"time taken:\", t2-t1)"
   ]
  },
  {
   "cell_type": "code",
   "execution_count": null,
   "metadata": {
    "collapsed": true
   },
   "outputs": [],
   "source": [
    "Same program taken fraction of seconds when we tried with generator."
   ]
  },
  {
   "cell_type": "code",
   "execution_count": 36,
   "metadata": {
    "collapsed": false
   },
   "outputs": [
    {
     "name": "stdout",
     "output_type": "stream",
     "text": [
      "time taken: 0.12257100000000065\n"
     ]
    }
   ],
   "source": [
    "import random\n",
    "import time\n",
    "names = [\"kiyan\",\"kumar\",\"rajesh\",\"ravi\"]\n",
    "subject = [\"python\",\"java\",\"AI\",\"blackchain\"]\n",
    "def student_generator(student_number):\n",
    "    for x in range(student_number):\n",
    "        a = {\n",
    "            \"id\":x,\n",
    "            \"namee\":random.choice(names),\n",
    "            \"subject\":random.choice(subject)\n",
    "        }\n",
    "        yield a\n",
    "\n",
    "t1 = time.clock()\n",
    "people = student_generator(1000000)\n",
    "t2 = time.clock()\n",
    "print (\"time taken:\", t2-t1)"
   ]
  },
  {
   "cell_type": "code",
   "execution_count": 37,
   "metadata": {
    "collapsed": false
   },
   "outputs": [
    {
     "name": "stdout",
     "output_type": "stream",
     "text": [
      "Jakie1 Good morning\n",
      "Jakie1 morning o morning\n",
      "hello Jakie1 good morning\n",
      "kumar1 Good morning\n",
      "kumar1 morning o morning\n",
      "hello kumar1 good morning\n"
     ]
    }
   ],
   "source": [
    "def decor5(func):\n",
    "    def inner(name):\n",
    "        print(name, \"Good morning\")\n",
    "        func(name)\n",
    "    return inner\n",
    "\n",
    "def decor6(func):\n",
    "    def inner(name):\n",
    "        print(name, \"morning o morning\")\n",
    "        func(name)\n",
    "    return inner\n",
    "\n",
    "@decor5\n",
    "@decor6\n",
    "def wish7(name):\n",
    "    print(\"hello\",name,\"good morning\")\n",
    "\n",
    "wish7(\"Jakie1\") \n",
    "wish7(\"kumar1\")\n",
    "\n",
    "\n",
    "Always decorators executes from top to bottom. However for top decorator input will be its next decorator and for \n",
    "bottom decorator input will be actual funtion.\n",
    "so first decor5 will execute with input of decor6. notice the parameter func in decor 5 represent docor6 not wish7.\n",
    "so when ever the func(name) is called in docor 5, the control will go to decor 6.\n",
    "for decor 6  the func(name) is called in docor 6, the control will go to wish7\n",
    "with this conclusion notice the output."
   ]
  },
  {
   "cell_type": "code",
   "execution_count": 38,
   "metadata": {
    "collapsed": false
   },
   "outputs": [
    {
     "name": "stdout",
     "output_type": "stream",
     "text": [
      "10\n"
     ]
    }
   ],
   "source": [
    "def decor5(func):\n",
    "    def inner():\n",
    "        x =func()\n",
    "        return x*x\n",
    "    return inner\n",
    "\n",
    "def decor6(func):\n",
    "    def inner():\n",
    "        x = func()\n",
    "        return 2*x\n",
    "    return inner\n",
    "\n",
    "def num():\n",
    "    return 10\n",
    "print(num())"
   ]
  },
  {
   "cell_type": "code",
   "execution_count": 39,
   "metadata": {
    "collapsed": false
   },
   "outputs": [
    {
     "name": "stdout",
     "output_type": "stream",
     "text": [
      "20\n"
     ]
    }
   ],
   "source": [
    "@decor6\n",
    "def num():\n",
    "    return 10\n",
    "print(num())\n",
    "#when we have decor6, the out put is => 2*10 => 20"
   ]
  },
  {
   "cell_type": "code",
   "execution_count": 40,
   "metadata": {
    "collapsed": false
   },
   "outputs": [
    {
     "name": "stdout",
     "output_type": "stream",
     "text": [
      "400\n"
     ]
    }
   ],
   "source": [
    "@decor5\n",
    "@decor6\n",
    "def num():\n",
    "    return 10\n",
    "print(num()) \n",
    "#Here docor 6 is going to input for decor 5, the output is => 20 * 20"
   ]
  },
  {
   "cell_type": "code",
   "execution_count": 41,
   "metadata": {
    "collapsed": false
   },
   "outputs": [
    {
     "name": "stdout",
     "output_type": "stream",
     "text": [
      "100\n"
     ]
    }
   ],
   "source": [
    "@decor5\n",
    "def num():\n",
    "    return 10\n",
    "print(num()) # => 10*10"
   ]
  },
  {
   "cell_type": "code",
   "execution_count": 42,
   "metadata": {
    "collapsed": false
   },
   "outputs": [
    {
     "name": "stdout",
     "output_type": "stream",
     "text": [
      "200\n"
     ]
    }
   ],
   "source": [
    "@decor6\n",
    "@decor5\n",
    "def num():\n",
    "    return 10\n",
    "print(num()) #=> 2 * 100"
   ]
  },
  {
   "cell_type": "code",
   "execution_count": null,
   "metadata": {
    "collapsed": true
   },
   "outputs": [],
   "source": [
    "if a function returns yeild then the funtion is generator object. \n",
    "It not store in memory. where as list store in memory."
   ]
  },
  {
   "cell_type": "code",
   "execution_count": 48,
   "metadata": {
    "collapsed": false
   },
   "outputs": [
    {
     "name": "stdout",
     "output_type": "stream",
     "text": [
      "<class 'generator'>\n",
      "<generator object mygen at 0x7fb4b02483f0>\n"
     ]
    }
   ],
   "source": [
    "def mygen():\n",
    "    yield 'A'\n",
    "    yield 'B'\n",
    "    yield 'C'\n",
    "    yield 'D'\n",
    "g = mygen()\n",
    "print(type(g))\n",
    "print(g)"
   ]
  },
  {
   "cell_type": "code",
   "execution_count": 44,
   "metadata": {
    "collapsed": false
   },
   "outputs": [
    {
     "name": "stdout",
     "output_type": "stream",
     "text": [
      "A\n",
      "B\n",
      "C\n",
      "D\n"
     ]
    },
    {
     "ename": "StopIteration",
     "evalue": "",
     "output_type": "error",
     "traceback": [
      "\u001b[1;31m---------------------------------------------------------------------------\u001b[0m",
      "\u001b[1;31mStopIteration\u001b[0m                             Traceback (most recent call last)",
      "\u001b[1;32m<ipython-input-44-14aa4ce064f0>\u001b[0m in \u001b[0;36m<module>\u001b[1;34m()\u001b[0m\n\u001b[0;32m      3\u001b[0m \u001b[0mprint\u001b[0m\u001b[1;33m(\u001b[0m\u001b[0mnext\u001b[0m\u001b[1;33m(\u001b[0m\u001b[0mg\u001b[0m\u001b[1;33m)\u001b[0m\u001b[1;33m)\u001b[0m\u001b[1;33m\u001b[0m\u001b[0m\n\u001b[0;32m      4\u001b[0m \u001b[0mprint\u001b[0m\u001b[1;33m(\u001b[0m\u001b[0mnext\u001b[0m\u001b[1;33m(\u001b[0m\u001b[0mg\u001b[0m\u001b[1;33m)\u001b[0m\u001b[1;33m)\u001b[0m\u001b[1;33m\u001b[0m\u001b[0m\n\u001b[1;32m----> 5\u001b[1;33m \u001b[0mprint\u001b[0m\u001b[1;33m(\u001b[0m\u001b[0mnext\u001b[0m\u001b[1;33m(\u001b[0m\u001b[0mg\u001b[0m\u001b[1;33m)\u001b[0m\u001b[1;33m)\u001b[0m \u001b[1;31m# we get error for non existing of generator. to overcome this use for loop\u001b[0m\u001b[1;33m\u001b[0m\u001b[0m\n\u001b[0m",
      "\u001b[1;31mStopIteration\u001b[0m: "
     ]
    }
   ],
   "source": [
    "print(next(g))\n",
    "print(next(g))\n",
    "print(next(g))\n",
    "print(next(g))\n",
    "print(next(g)) # we get error for non existing of generator. to overcome this use for loop"
   ]
  },
  {
   "cell_type": "code",
   "execution_count": 49,
   "metadata": {
    "collapsed": false
   },
   "outputs": [
    {
     "name": "stdout",
     "output_type": "stream",
     "text": [
      "A\n",
      "B\n",
      "C\n",
      "D\n"
     ]
    }
   ],
   "source": [
    "for x in g:\n",
    "    print((x))"
   ]
  },
  {
   "cell_type": "code",
   "execution_count": null,
   "metadata": {
    "collapsed": true
   },
   "outputs": [],
   "source": [
    "generators we can use incomplement to list. \n",
    "list takes memory and performance reduces.\n",
    "memory wont occupy in case of generator and performance is fraction of seconds"
   ]
  },
  {
   "cell_type": "code",
   "execution_count": 50,
   "metadata": {
    "collapsed": false
   },
   "outputs": [
    {
     "name": "stdout",
     "output_type": "stream",
     "text": [
      "1\n",
      "2\n",
      "3\n",
      "4\n",
      "5\n",
      "6\n",
      "7\n",
      "8\n"
     ]
    }
   ],
   "source": [
    "def firstn(num):\n",
    "    n = 1\n",
    "    while(n <= num):\n",
    "        yield n\n",
    "        n = n + 1\n",
    "g = firstn(8)\n",
    "for x in g:\n",
    "    print(x)"
   ]
  },
  {
   "cell_type": "code",
   "execution_count": 51,
   "metadata": {
    "collapsed": false
   },
   "outputs": [
    {
     "name": "stdout",
     "output_type": "stream",
     "text": [
      "0\n",
      "1\n",
      "1\n",
      "2\n",
      "3\n",
      "5\n",
      "8\n",
      "13\n",
      "21\n",
      "34\n",
      "55\n",
      "89\n"
     ]
    }
   ],
   "source": [
    "def fib():\n",
    "    a,b=0,1\n",
    "    while True:\n",
    "        yield a\n",
    "        a,b=b,a+b\n",
    "f = fib()\n",
    "for x in f:\n",
    "    if x > 100:\n",
    "        break\n",
    "    print(x)"
   ]
  },
  {
   "cell_type": "code",
   "execution_count": null,
   "metadata": {
    "collapsed": true
   },
   "outputs": [],
   "source": [
    "Advantages of Genertor functions:\n",
    "    1.very easy to use\n",
    "    2.memory utilization nil.\n",
    "    3.peformance improved\n",
    "    4.web scrping and crawling\n",
    "    5.reads huge numer of files."
   ]
  },
  {
   "cell_type": "code",
   "execution_count": null,
   "metadata": {
    "collapsed": true
   },
   "outputs": [],
   "source": [
    "Modules"
   ]
  },
  {
   "cell_type": "code",
   "execution_count": 53,
   "metadata": {
    "collapsed": false
   },
   "outputs": [
    {
     "data": {
      "image/png": "[encoded data removed]",
      "text/plain": [
       "<IPython.core.display.Image object>"
      ]
     },
     "execution_count": 53,
     "metadata": {},
     "output_type": "execute_result"
    }
   ],
   "source": [
    "from IPython.display import Image\n",
    "Image(filename=\"/notebooks/module.png\")"
   ]
  },
  {
   "cell_type": "code",
   "execution_count": null,
   "metadata": {
    "collapsed": true
   },
   "outputs": [],
   "source": [
    "When ever we use a module in our program, a file with extention pyc (python compiler) will be \n",
    "created in the __pycache__ folder."
   ]
  },
  {
   "cell_type": "code",
   "execution_count": 58,
   "metadata": {
    "collapsed": false
   },
   "outputs": [
    {
     "name": "stdout",
     "output_type": "stream",
     "text": [
      "300\n",
      "500\n",
      "<function add at 0x7fb4b0254d90>\n",
      "<function product at 0x7fb4b0254840>\n",
      "800\n",
      "None\n",
      "150000\n",
      "None\n"
     ]
    }
   ],
   "source": [
    "import myMath\n",
    "print(myMath.x)\n",
    "print(myMath.y)\n",
    "print(myMath.add)\n",
    "print(myMath.product)\n",
    "print(myMath.add())\n",
    "print(myMath.product())"
   ]
  },
  {
   "cell_type": "code",
   "execution_count": null,
   "metadata": {
    "collapsed": true
   },
   "outputs": [],
   "source": [
    "once we create a alias name we should use alias name only. we should not use module name.\n",
    "import myMath as m -> here myMath is module name and m is alias name of myMath"
   ]
  },
  {
   "cell_type": "code",
   "execution_count": 61,
   "metadata": {
    "collapsed": false
   },
   "outputs": [
    {
     "ename": "NameError",
     "evalue": "name 'myMath1' is not defined",
     "output_type": "error",
     "traceback": [
      "\u001b[1;31m---------------------------------------------------------------------------\u001b[0m",
      "\u001b[1;31mNameError\u001b[0m                                 Traceback (most recent call last)",
      "\u001b[1;32m<ipython-input-61-451456dcaf11>\u001b[0m in \u001b[0;36m<module>\u001b[1;34m()\u001b[0m\n\u001b[0;32m      1\u001b[0m \u001b[1;32mimport\u001b[0m \u001b[0mmyMath1\u001b[0m \u001b[1;32mas\u001b[0m \u001b[0mm\u001b[0m\u001b[1;33m\u001b[0m\u001b[0m\n\u001b[1;32m----> 2\u001b[1;33m \u001b[0mprint\u001b[0m\u001b[1;33m(\u001b[0m\u001b[0mmyMath1\u001b[0m\u001b[1;33m.\u001b[0m\u001b[0mx\u001b[0m\u001b[1;33m)\u001b[0m\u001b[1;33m\u001b[0m\u001b[0m\n\u001b[0m\u001b[0;32m      3\u001b[0m \u001b[0mprint\u001b[0m\u001b[1;33m(\u001b[0m\u001b[0mmyMath1\u001b[0m\u001b[1;33m.\u001b[0m\u001b[0my\u001b[0m\u001b[1;33m)\u001b[0m\u001b[1;33m\u001b[0m\u001b[0m\n\u001b[0;32m      4\u001b[0m \u001b[0mprint\u001b[0m\u001b[1;33m(\u001b[0m\u001b[0mmyMath1\u001b[0m\u001b[1;33m.\u001b[0m\u001b[0madd\u001b[0m\u001b[1;33m)\u001b[0m\u001b[1;33m\u001b[0m\u001b[0m\n\u001b[0;32m      5\u001b[0m \u001b[0mprint\u001b[0m\u001b[1;33m(\u001b[0m\u001b[0mmyMath1\u001b[0m\u001b[1;33m.\u001b[0m\u001b[0mproduct\u001b[0m\u001b[1;33m)\u001b[0m\u001b[1;33m\u001b[0m\u001b[0m\n",
      "\u001b[1;31mNameError\u001b[0m: name 'myMath1' is not defined"
     ]
    }
   ],
   "source": [
    "import myMath1 as m\n",
    "print(myMath1.x)\n",
    "print(myMath1.y)\n",
    "print(myMath1.add)\n",
    "print(myMath1.product)\n",
    "print(myMath1.add())\n",
    "print(myMath1.product())"
   ]
  },
  {
   "cell_type": "code",
   "execution_count": 62,
   "metadata": {
    "collapsed": false
   },
   "outputs": [
    {
     "name": "stdout",
     "output_type": "stream",
     "text": [
      "300\n",
      "500\n",
      "<function add at 0x7fb4b02548c8>\n",
      "<function product at 0x7fb4b02546a8>\n",
      "800\n",
      "None\n",
      "150000\n",
      "None\n"
     ]
    }
   ],
   "source": [
    "print(m.x)\n",
    "print(m.y)\n",
    "print(m.add)\n",
    "print(m.product)\n",
    "print(m.add())\n",
    "print(m.product())"
   ]
  },
  {
   "cell_type": "code",
   "execution_count": null,
   "metadata": {
    "collapsed": true
   },
   "outputs": [],
   "source": [
    "Two ways to import\n",
    "import\n",
    "from import\n",
    "import myMath\n",
    "from myMath import x, add\n",
    "from myMath import * => we can directly access all myMath variable without \"myMath\"\n",
    "from myMath import x as a,y as b"
   ]
  },
  {
   "cell_type": "code",
   "execution_count": null,
   "metadata": {
    "collapsed": true
   },
   "outputs": [],
   "source": [
    "Various possibilities of import statements\n",
    "\n",
    "import module1\n",
    "import module1,module2,module3\n",
    "import module1 as m\n",
    "import module1 as m,module2 as m2,module3 as m3\n",
    "\n",
    "from module import add\n",
    "from module import add,sub,prod,div\n",
    "from module import add as a\n",
    "from module import add as a,sub as s,prod as p,div as d\n",
    "from module import *"
   ]
  },
  {
   "cell_type": "code",
   "execution_count": null,
   "metadata": {
    "collapsed": true
   },
   "outputs": [],
   "source": [
    "from module as a import add # not valid"
   ]
  },
  {
   "cell_type": "code",
   "execution_count": 63,
   "metadata": {
    "collapsed": false
   },
   "outputs": [
    {
     "ename": "ImportError",
     "evalue": "No module named 'b'",
     "output_type": "error",
     "traceback": [
      "\u001b[1;31m---------------------------------------------------------------------------\u001b[0m",
      "\u001b[1;31mImportError\u001b[0m                               Traceback (most recent call last)",
      "\u001b[1;32m<ipython-input-63-6c295614ac36>\u001b[0m in \u001b[0;36m<module>\u001b[1;34m()\u001b[0m\n\u001b[1;32m----> 1\u001b[1;33m \u001b[1;32mimport\u001b[0m \u001b[0mmyMath\u001b[0m\u001b[1;33m,\u001b[0m\u001b[0mmyMath1\u001b[0m \u001b[1;32mas\u001b[0m \u001b[0ma\u001b[0m\u001b[1;33m,\u001b[0m\u001b[0mb\u001b[0m\u001b[1;33m\u001b[0m\u001b[0m\n\u001b[0m",
      "\u001b[1;31mImportError\u001b[0m: No module named 'b'"
     ]
    }
   ],
   "source": [
    "import myMath,myMath1 as a,b # not valid"
   ]
  },
  {
   "cell_type": "code",
   "execution_count": 64,
   "metadata": {
    "collapsed": true
   },
   "outputs": [],
   "source": [
    "import myMath as a,myMath1 as b # is valid"
   ]
  },
  {
   "cell_type": "code",
   "execution_count": 4,
   "metadata": {
    "collapsed": false
   },
   "outputs": [
    {
     "name": "stdout",
     "output_type": "stream",
     "text": [
      "begining of the program\n",
      "end of the program\n"
     ]
    }
   ],
   "source": [
    "import time\n",
    "import myMath2\n",
    "print(\"begining of the program\")\n",
    "time.sleep(30)  # here change the myMath2 maodule to print revision version \n",
    "import myMath2  # only once at the begining only myMath2 executes. In this line \"first version\" will not printed. \n",
    "print(\"end of the program\")"
   ]
  },
  {
   "cell_type": "code",
   "execution_count": 5,
   "metadata": {
    "collapsed": false
   },
   "outputs": [
    {
     "name": "stdout",
     "output_type": "stream",
     "text": [
      "first version\n",
      "begining of the program\n",
      "second version\n",
      "end of the program\n"
     ]
    }
   ],
   "source": [
    "import time\n",
    "from imp import reload\n",
    "import myMath3  # here first version is printed\n",
    "print(\"begining of the program\")\n",
    "time.sleep(30)  # here change the myMath maodule to print revision version \n",
    "reload(myMath3) # In this line reload method executes with latest copy of myMath3. Notice the output. \n",
    "# above second version is pritend.\n",
    "print(\"end of the program\")"
   ]
  },
  {
   "cell_type": "code",
   "execution_count": null,
   "metadata": {
    "collapsed": true
   },
   "outputs": [],
   "source": [
    "dir() =>to list of current module members use it in the module."
   ]
  },
  {
   "cell_type": "code",
   "execution_count": 7,
   "metadata": {
    "collapsed": false
   },
   "outputs": [
    {
     "data": {
      "text/plain": [
       "['__builtins__',\n",
       " '__cached__',\n",
       " '__doc__',\n",
       " '__file__',\n",
       " '__loader__',\n",
       " '__name__',\n",
       " '__package__',\n",
       " '__spec__',\n",
       " 'add',\n",
       " 'product',\n",
       " 'x',\n",
       " 'y']"
      ]
     },
     "execution_count": 7,
     "metadata": {},
     "output_type": "execute_result"
    }
   ],
   "source": [
    "import myMath\n",
    "dir(myMath)# => to list any imported module members pass that module name as parameter for dir function.\n",
    "           # => refer below screenshot."
   ]
  },
  {
   "cell_type": "code",
   "execution_count": null,
   "metadata": {
    "collapsed": true
   },
   "outputs": [],
   "source": [
    "__name__ variable tells us from which module it is executed."
   ]
  },
  {
   "cell_type": "code",
   "execution_count": 9,
   "metadata": {
    "collapsed": false
   },
   "outputs": [
    {
     "name": "stdout",
     "output_type": "stream",
     "text": [
      "this code is executed directly as a program\n",
      "the value of __name__ : __main__\n"
     ]
    }
   ],
   "source": [
    "def f1():\n",
    "    if __name__ == '__main__':\n",
    "        print(\"this code is executed directly as a program\")\n",
    "        print(\"the value of __name__ :\",__name__)\n",
    "    else:\n",
    "        print(\"this code is executed in-directly by other module\")\n",
    "        print(\"the value of __name__ :\",__name__)\n",
    "f1()"
   ]
  },
  {
   "cell_type": "code",
   "execution_count": 10,
   "metadata": {
    "collapsed": false
   },
   "outputs": [
    {
     "name": "stdout",
     "output_type": "stream",
     "text": [
      "this code is executed in-directly by other module\n",
      "the value of __name__ : myMath4\n",
      "this code is executed directly as a program\n",
      "the value of __name__ : __main__\n"
     ]
    }
   ],
   "source": [
    "#copy same code and create a module and import it. notice the output\n",
    "import myMath4\n",
    "f1()"
   ]
  },
  {
   "cell_type": "code",
   "execution_count": 12,
   "metadata": {
    "collapsed": false
   },
   "outputs": [
    {
     "name": "stdout",
     "output_type": "stream",
     "text": [
      "this code is executed directly as a program\n",
      "the value of __name__ : __main__\n"
     ]
    }
   ],
   "source": [
    "f1()"
   ]
  },
  {
   "cell_type": "code",
   "execution_count": 14,
   "metadata": {
    "collapsed": false
   },
   "outputs": [
    {
     "name": "stdout",
     "output_type": "stream",
     "text": [
      "this code is executed in-directly by other module\n",
      "the value of __name__ : myMath4\n"
     ]
    }
   ],
   "source": [
    "import myMath4\n",
    "myMath4.f1()"
   ]
  },
  {
   "cell_type": "code",
   "execution_count": 15,
   "metadata": {
    "collapsed": false
   },
   "outputs": [
    {
     "name": "stdout",
     "output_type": "stream",
     "text": [
      "Help on built-in function ceil in module math:\n",
      "\n",
      "ceil(...)\n",
      "    ceil(x)\n",
      "    \n",
      "    Return the ceiling of x as an int.\n",
      "    This is the smallest integral value >= x.\n",
      "\n"
     ]
    }
   ],
   "source": [
    "#help():\n",
    "#----------\n",
    "import math\n",
    "help(math.ceil)"
   ]
  },
  {
   "cell_type": "code",
   "execution_count": null,
   "metadata": {
    "collapsed": true
   },
   "outputs": [],
   "source": [
    "Random module:\n",
    "______________\n",
    "1.random() method give value between 0 to 1. 0 and 1 are exclusive\n",
    "2.randint(start,end) the start and end number parameters are inclusive.\n",
    "3.uniform(start,end) the start and end number parameters are exclusive.\n",
    "4.randrange(start,end,step) => returns a random number between start<=x<end => random int can be starting number \n",
    "                             But not ending number\n",
    "5.choice(list) => it will return random object of list/tuple."
   ]
  },
  {
   "cell_type": "code",
   "execution_count": 16,
   "metadata": {
    "collapsed": false
   },
   "outputs": [
    {
     "name": "stdout",
     "output_type": "stream",
     "text": [
      "0.5603841837884282\n",
      "0.7962092331524392\n",
      "0.05140202991143983\n",
      "0.3233659688544901\n",
      "0.17211156771302238\n"
     ]
    }
   ],
   "source": [
    "from random import *\n",
    "for x in range(5):\n",
    "    print(random())"
   ]
  },
  {
   "cell_type": "code",
   "execution_count": 17,
   "metadata": {
    "collapsed": false
   },
   "outputs": [
    {
     "name": "stdout",
     "output_type": "stream",
     "text": [
      "15\n",
      "15\n",
      "14\n",
      "10\n",
      "13\n"
     ]
    }
   ],
   "source": [
    "from random import *\n",
    "for x in range(5):\n",
    "    print(randint(10,15)) "
   ]
  },
  {
   "cell_type": "code",
   "execution_count": 18,
   "metadata": {
    "collapsed": false
   },
   "outputs": [
    {
     "name": "stdout",
     "output_type": "stream",
     "text": [
      "2.5467960709832766\n",
      "2.3332709002924976\n",
      "2.204791627461348\n",
      "2.516370667964363\n",
      "2.2158477639401455\n"
     ]
    }
   ],
   "source": [
    "from random import *\n",
    "for x in range(5):\n",
    "    print(uniform(2,3)) "
   ]
  },
  {
   "cell_type": "code",
   "execution_count": 19,
   "metadata": {
    "collapsed": false
   },
   "outputs": [
    {
     "name": "stdout",
     "output_type": "stream",
     "text": [
      "kumar\n",
      "kiyan\n",
      "kiyan\n",
      "kumar\n",
      "10.78\n"
     ]
    }
   ],
   "source": [
    "for x in range(5):\n",
    "    print(choice([\"kiyan\",\"kumar\",10.78]))"
   ]
  },
  {
   "cell_type": "code",
   "execution_count": 20,
   "metadata": {
    "collapsed": false
   },
   "outputs": [
    {
     "name": "stdout",
     "output_type": "stream",
     "text": [
      "y\n",
      "a\n",
      "n\n",
      "a\n",
      "a\n"
     ]
    }
   ],
   "source": [
    "for x in range(5):\n",
    "    print(choice(\"kiyan\"))"
   ]
  },
  {
   "cell_type": "code",
   "execution_count": null,
   "metadata": {
    "collapsed": true
   },
   "outputs": [],
   "source": [
    "package = folder => Folder contains common modules=> contains__init__.py => collection of folders are called Library"
   ]
  },
  {
   "cell_type": "code",
   "execution_count": null,
   "metadata": {
    "collapsed": true
   },
   "outputs": [],
   "source": [
    "from com.module1 import f1\n",
    "from com.module1.module2 import f2"
   ]
  }
 ],
 "metadata": {
  "kernelspec": {
   "display_name": "Python 3",
   "language": "python",
   "name": "python3"
  },
  "language_info": {
   "codemirror_mode": {
    "name": "ipython",
    "version": 3
   },
   "file_extension": ".py",
   "mimetype": "text/x-python",
   "name": "python",
   "nbconvert_exporter": "python",
   "pygments_lexer": "ipython3",
   "version": "3.4.3"
  }
 },
 "nbformat": 4,
 "nbformat_minor": 0
}
