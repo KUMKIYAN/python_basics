{
 "cells": [
  {
   "cell_type": "code",
   "execution_count": null,
   "metadata": {
    "collapsed": true
   },
   "outputs": [],
   "source": [
    "Read value from keyboard using input funtion"
   ]
  },
  {
   "cell_type": "code",
   "execution_count": 2,
   "metadata": {
    "collapsed": false
   },
   "outputs": [
    {
     "name": "stdout",
     "output_type": "stream",
     "text": [
      "Enter a value:15\n",
      "Enter a value:17\n",
      "15\n"
     ]
    }
   ],
   "source": [
    "a = int(input(\"Enter a value:\")) # value always read in string only we have to apply typecaste\n",
    "b = int(input(\"Enter a value:\")) # value always read in string only we have to apply typecaste\n",
    "min = a if a<b else b\n",
    "print(min)"
   ]
  },
  {
   "cell_type": "code",
   "execution_count": 3,
   "metadata": {
    "collapsed": false
   },
   "outputs": [
    {
     "name": "stdout",
     "output_type": "stream",
     "text": [
      "70\n"
     ]
    }
   ],
   "source": [
    "#nested ternary operator\n",
    "x = 10 if 20>30 else 40 if 50>60 else 70\n",
    "print(x)"
   ]
  },
  {
   "cell_type": "code",
   "execution_count": 4,
   "metadata": {
    "collapsed": false
   },
   "outputs": [
    {
     "name": "stdout",
     "output_type": "stream",
     "text": [
      "Enter a value:7\n",
      "Enter a value:5\n",
      "Enter a value:6\n",
      "6\n"
     ]
    }
   ],
   "source": [
    "a = int(input(\"Enter a value:\")) \n",
    "b = int(input(\"Enter a value:\")) \n",
    "c = int(input(\"Enter a value:\"))\n",
    "max = a if a>b>c else b if b>c else c\n",
    "print(max)"
   ]
  },
  {
   "cell_type": "code",
   "execution_count": null,
   "metadata": {
    "collapsed": true
   },
   "outputs": [],
   "source": [
    "The above program giving wrong value becuase (a>b>c) give false => (a>b) True but b>c give false"
   ]
  },
  {
   "cell_type": "code",
   "execution_count": 5,
   "metadata": {
    "collapsed": false
   },
   "outputs": [
    {
     "name": "stdout",
     "output_type": "stream",
     "text": [
      "Enter a value:7\n",
      "Enter a value:5\n",
      "Enter a value:6\n",
      "7\n"
     ]
    }
   ],
   "source": [
    "a = int(input(\"Enter a value:\")) \n",
    "b = int(input(\"Enter a value:\")) \n",
    "c = int(input(\"Enter a value:\"))\n",
    "max = a if a>b and a>c else b if b>c else c # this logic gives right value.\n",
    "print(max)"
   ]
  },
  {
   "cell_type": "code",
   "execution_count": 6,
   "metadata": {
    "collapsed": false
   },
   "outputs": [
    {
     "name": "stdout",
     "output_type": "stream",
     "text": [
      "Enter a value:16\n",
      "Enter a value:18\n",
      "Second number is bigger\n"
     ]
    }
   ],
   "source": [
    "a = int(input(\"Enter a value:\")) \n",
    "b = int(input(\"Enter a value:\")) \n",
    "print(\"both are equal\" if a==b else \"First number is bigger\" if a > b else \"Second number is bigger\")"
   ]
  },
  {
   "cell_type": "code",
   "execution_count": 7,
   "metadata": {
    "collapsed": false
   },
   "outputs": [
    {
     "name": "stdout",
     "output_type": "stream",
     "text": [
      "Enter a value:10\n",
      "Enter a value:8\n",
      "First number is bigger\n"
     ]
    }
   ],
   "source": [
    "a = int(input(\"Enter a value:\")) \n",
    "b = int(input(\"Enter a value:\")) \n",
    "print(\"both are equal\" if a==b else \"First number is bigger\" if a > b else \"Second number is bigger\")"
   ]
  },
  {
   "cell_type": "code",
   "execution_count": 8,
   "metadata": {
    "collapsed": false
   },
   "outputs": [
    {
     "name": "stdout",
     "output_type": "stream",
     "text": [
      "Enter a value:5\n",
      "Enter a value:5\n",
      "both are equal\n"
     ]
    }
   ],
   "source": [
    "a = int(input(\"Enter a value:\")) \n",
    "b = int(input(\"Enter a value:\")) \n",
    "print(\"both are equal\" if a==b else \"First number is bigger\" if a > b else \"Second number is bigger\")"
   ]
  },
  {
   "cell_type": "code",
   "execution_count": null,
   "metadata": {
    "collapsed": true
   },
   "outputs": [],
   "source": [
    "Two Special operators we have\n",
    "1. Identity operator (is , is not)\n",
    "2. Membership Operator"
   ]
  },
  {
   "cell_type": "code",
   "execution_count": 9,
   "metadata": {
    "collapsed": false
   },
   "outputs": [
    {
     "data": {
      "text/plain": [
       "True"
      ]
     },
     "execution_count": 9,
     "metadata": {},
     "output_type": "execute_result"
    }
   ],
   "source": [
    "a = \"kiyan\"\n",
    "b = \"kiyan\"\n",
    "a is b"
   ]
  },
  {
   "cell_type": "code",
   "execution_count": 10,
   "metadata": {
    "collapsed": false
   },
   "outputs": [
    {
     "data": {
      "text/plain": [
       "False"
      ]
     },
     "execution_count": 10,
     "metadata": {},
     "output_type": "execute_result"
    }
   ],
   "source": [
    "a = [12,13,14]\n",
    "b = [12,13,14]\n",
    "a is b # except integer range 0 to 256, bool data type and str data type for remaining we can create duplicate objects"
   ]
  },
  {
   "cell_type": "code",
   "execution_count": 11,
   "metadata": {
    "collapsed": false
   },
   "outputs": [
    {
     "data": {
      "text/plain": [
       "True"
      ]
     },
     "execution_count": 11,
     "metadata": {},
     "output_type": "execute_result"
    }
   ],
   "source": [
    "a is not b"
   ]
  },
  {
   "cell_type": "code",
   "execution_count": 12,
   "metadata": {
    "collapsed": false
   },
   "outputs": [
    {
     "data": {
      "text/plain": [
       "140537620637896"
      ]
     },
     "execution_count": 12,
     "metadata": {},
     "output_type": "execute_result"
    }
   ],
   "source": [
    "id(a)"
   ]
  },
  {
   "cell_type": "code",
   "execution_count": 13,
   "metadata": {
    "collapsed": false
   },
   "outputs": [
    {
     "data": {
      "text/plain": [
       "140537620638024"
      ]
     },
     "execution_count": 13,
     "metadata": {},
     "output_type": "execute_result"
    }
   ],
   "source": [
    "id(b)"
   ]
  },
  {
   "cell_type": "code",
   "execution_count": 14,
   "metadata": {
    "collapsed": false
   },
   "outputs": [
    {
     "data": {
      "text/plain": [
       "True"
      ]
     },
     "execution_count": 14,
     "metadata": {},
     "output_type": "execute_result"
    }
   ],
   "source": [
    "a == b # content comparision."
   ]
  },
  {
   "cell_type": "code",
   "execution_count": 15,
   "metadata": {
    "collapsed": false
   },
   "outputs": [
    {
     "name": "stdout",
     "output_type": "stream",
     "text": [
      "True\n",
      "False\n"
     ]
    }
   ],
   "source": [
    "#Membership Operator => in ,not in\n",
    "list1 = [10,20,30]\n",
    "print(10 in list1)\n",
    "print(70 in list1)"
   ]
  },
  {
   "cell_type": "code",
   "execution_count": 16,
   "metadata": {
    "collapsed": false
   },
   "outputs": [
    {
     "name": "stdout",
     "output_type": "stream",
     "text": [
      "True\n",
      "False\n",
      "True\n",
      "True\n",
      "False\n"
     ]
    }
   ],
   "source": [
    "name = \"kum kiyan\"\n",
    "print (\"i\" in name)\n",
    "print (\"r\" in name)\n",
    "print (\"r\" not in name)\n",
    "print (\" \" in name)\n",
    "print (\"K\" in name) # case sensitive."
   ]
  },
  {
   "cell_type": "code",
   "execution_count": null,
   "metadata": {
    "collapsed": true
   },
   "outputs": [],
   "source": [
    "Operator Precedence:\n",
    "()\n",
    "**\n",
    "~,-\n",
    "*,/,%,//"
   ]
  },
  {
   "cell_type": "code",
   "execution_count": null,
   "metadata": {
    "collapsed": true
   },
   "outputs": [],
   "source": [
    "Module : module contain group of funtions, variables and classes.\n",
    "Libraries : group of Module are called Libraries.\n",
    "eg: math module    "
   ]
  },
  {
   "cell_type": "code",
   "execution_count": 17,
   "metadata": {
    "collapsed": false
   },
   "outputs": [
    {
     "name": "stdout",
     "output_type": "stream",
     "text": [
      "5.0990195135927845\n",
      "3.141592653589793\n"
     ]
    }
   ],
   "source": [
    "import math\n",
    "print(math.sqrt(26))\n",
    "print(math.pi)"
   ]
  },
  {
   "cell_type": "code",
   "execution_count": 18,
   "metadata": {
    "collapsed": false
   },
   "outputs": [
    {
     "data": {
      "text/plain": [
       "4.0"
      ]
     },
     "execution_count": 18,
     "metadata": {},
     "output_type": "execute_result"
    }
   ],
   "source": [
    "import math as m #aliasing\n",
    "m.sqrt(16)"
   ]
  },
  {
   "cell_type": "code",
   "execution_count": 19,
   "metadata": {
    "collapsed": false
   },
   "outputs": [
    {
     "data": {
      "text/plain": [
       "3.141592653589793"
      ]
     },
     "execution_count": 19,
     "metadata": {},
     "output_type": "execute_result"
    }
   ],
   "source": [
    "m.pi"
   ]
  },
  {
   "cell_type": "code",
   "execution_count": 20,
   "metadata": {
    "collapsed": false
   },
   "outputs": [
    {
     "name": "stdout",
     "output_type": "stream",
     "text": [
      "5.0\n",
      "3.141592653589793\n"
     ]
    }
   ],
   "source": [
    "from math import sqrt,pi\n",
    "print(sqrt(25))\n",
    "print(pi)"
   ]
  },
  {
   "cell_type": "code",
   "execution_count": 21,
   "metadata": {
    "collapsed": false
   },
   "outputs": [
    {
     "name": "stdout",
     "output_type": "stream",
     "text": [
      "5.0\n",
      "3.141592653589793\n"
     ]
    }
   ],
   "source": [
    "from math import * #not recommended due to readability\n",
    "print(sqrt(25))\n",
    "print(pi)"
   ]
  },
  {
   "cell_type": "code",
   "execution_count": null,
   "metadata": {
    "collapsed": true
   },
   "outputs": [],
   "source": [
    "import math \n",
    "from math import *\n",
    "both are different\n",
    "in first case we have to use math.sqrt(16)\n",
    "in second case we have to use sqrt(16).\n",
    "****************************************\n",
    "some of math constants:\n",
    "    pi\n",
    "    e ==> exponent/log => 2.71\n",
    "    inf ==> infinity\n",
    "    nan ==> not a number"
   ]
  },
  {
   "cell_type": "code",
   "execution_count": null,
   "metadata": {
    "collapsed": true
   },
   "outputs": [],
   "source": [
    "Input and output\n",
    "    Read data from keyboard:\n",
    "    raw_input => always it takes string from keyword. we need to perform typecasting. (python 2 only)\n",
    "    input => direct assignment. not require type casting. (python 2 only)\n",
    "    input => always it takes string from keyword. we need to perform typecasting. (python 3 only).\n",
    "    raw_input is not available in python 3."
   ]
  },
  {
   "cell_type": "code",
   "execution_count": 1,
   "metadata": {
    "collapsed": false
   },
   "outputs": [
    {
     "name": "stdout",
     "output_type": "stream",
     "text": [
      "Who is heroJava\n",
      "the hero is  Java\n"
     ]
    }
   ],
   "source": [
    "# Print data\n",
    "hero = input(\"Who is hero\")\n",
    "print(\"the hero is \", hero)"
   ]
  },
  {
   "cell_type": "code",
   "execution_count": 2,
   "metadata": {
    "collapsed": false
   },
   "outputs": [
    {
     "name": "stdout",
     "output_type": "stream",
     "text": [
      "Enter numbers:45 55\n",
      "a is 45\n",
      "b is 55\n"
     ]
    }
   ],
   "source": [
    "a,b = input(\"Enter numbers:\").split()\n",
    "print(\"a is\",a)\n",
    "print(\"b is\",b)"
   ]
  },
  {
   "cell_type": "code",
   "execution_count": 3,
   "metadata": {
    "collapsed": false
   },
   "outputs": [
    {
     "name": "stdout",
     "output_type": "stream",
     "text": [
      "Enter Two Numbers:32 22\n",
      "Mulitiples: 704\n"
     ]
    }
   ],
   "source": [
    "# Another form\n",
    "a,b = [int(x) for x in input(\"Enter Two Numbers:\").split()]\n",
    "print (\"Mulitiples:\",a*b)"
   ]
  },
  {
   "cell_type": "code",
   "execution_count": null,
   "metadata": {
    "collapsed": true
   },
   "outputs": [],
   "source": [
    "eval(): string to corresponding data type"
   ]
  },
  {
   "cell_type": "code",
   "execution_count": 4,
   "metadata": {
    "collapsed": false
   },
   "outputs": [
    {
     "data": {
      "text/plain": [
       "60"
      ]
     },
     "execution_count": 4,
     "metadata": {},
     "output_type": "execute_result"
    }
   ],
   "source": [
    "eval(\"10+20+30\")"
   ]
  },
  {
   "cell_type": "code",
   "execution_count": 5,
   "metadata": {
    "collapsed": false
   },
   "outputs": [
    {
     "data": {
      "text/plain": [
       "60.4"
      ]
     },
     "execution_count": 5,
     "metadata": {},
     "output_type": "execute_result"
    }
   ],
   "source": [
    "eval(\"10.4+20+30\")"
   ]
  },
  {
   "cell_type": "code",
   "execution_count": 1,
   "metadata": {
    "collapsed": false
   },
   "outputs": [
    {
     "name": "stdout",
     "output_type": "stream",
     "text": [
      "Enter any data. I will change to corresponding data type:56\n"
     ]
    },
    {
     "data": {
      "text/plain": [
       "int"
      ]
     },
     "execution_count": 1,
     "metadata": {},
     "output_type": "execute_result"
    }
   ],
   "source": [
    "x = eval(input(\"Enter any data. I will change to corresponding data type:\"))\n",
    "type(x)"
   ]
  },
  {
   "cell_type": "code",
   "execution_count": 2,
   "metadata": {
    "collapsed": false
   },
   "outputs": [
    {
     "name": "stdout",
     "output_type": "stream",
     "text": [
      "Enter any data. I will change to corresponding data type:10.5\n"
     ]
    },
    {
     "data": {
      "text/plain": [
       "float"
      ]
     },
     "execution_count": 2,
     "metadata": {},
     "output_type": "execute_result"
    }
   ],
   "source": [
    "x = eval(input(\"Enter any data. I will change to corresponding data type:\"))\n",
    "type(x)"
   ]
  },
  {
   "cell_type": "code",
   "execution_count": 3,
   "metadata": {
    "collapsed": false
   },
   "outputs": [
    {
     "name": "stdout",
     "output_type": "stream",
     "text": [
      "Enter any data. I will change to corresponding data type:10+8j\n"
     ]
    },
    {
     "data": {
      "text/plain": [
       "complex"
      ]
     },
     "execution_count": 3,
     "metadata": {},
     "output_type": "execute_result"
    }
   ],
   "source": [
    "x = eval(input(\"Enter any data. I will change to corresponding data type:\"))\n",
    "type(x)"
   ]
  },
  {
   "cell_type": "code",
   "execution_count": 4,
   "metadata": {
    "collapsed": false
   },
   "outputs": [
    {
     "name": "stdout",
     "output_type": "stream",
     "text": [
      "Enter any data. I will change to corresponding data type:[20,30,56]\n"
     ]
    },
    {
     "data": {
      "text/plain": [
       "list"
      ]
     },
     "execution_count": 4,
     "metadata": {},
     "output_type": "execute_result"
    }
   ],
   "source": [
    "x = eval(input(\"Enter any data. I will change to corresponding data type:\"))\n",
    "type(x)"
   ]
  },
  {
   "cell_type": "code",
   "execution_count": 1,
   "metadata": {
    "collapsed": false
   },
   "outputs": [
    {
     "name": "stdout",
     "output_type": "stream",
     "text": [
      "Enter any data. I will change to corresponding data type:(80,90)\n"
     ]
    },
    {
     "data": {
      "text/plain": [
       "tuple"
      ]
     },
     "execution_count": 1,
     "metadata": {},
     "output_type": "execute_result"
    }
   ],
   "source": [
    "x = eval(input(\"Enter any data. I will change to corresponding data type:\"))\n",
    "type(x)"
   ]
  },
  {
   "cell_type": "code",
   "execution_count": 2,
   "metadata": {
    "collapsed": false
   },
   "outputs": [
    {
     "name": "stdout",
     "output_type": "stream",
     "text": [
      "Enter any data. I will change to corresponding data type:{90.80}\n"
     ]
    },
    {
     "data": {
      "text/plain": [
       "set"
      ]
     },
     "execution_count": 2,
     "metadata": {},
     "output_type": "execute_result"
    }
   ],
   "source": [
    "x = eval(input(\"Enter any data. I will change to corresponding data type:\"))\n",
    "type(x)"
   ]
  },
  {
   "cell_type": "code",
   "execution_count": 1,
   "metadata": {
    "collapsed": false
   },
   "outputs": [
    {
     "name": "stdout",
     "output_type": "stream",
     "text": [
      "Enter any data. I will change to corresponding data type:range(10)\n"
     ]
    },
    {
     "data": {
      "text/plain": [
       "range"
      ]
     },
     "execution_count": 1,
     "metadata": {},
     "output_type": "execute_result"
    }
   ],
   "source": [
    "x = eval(input(\"Enter any data. I will change to corresponding data type:\"))\n",
    "type(x)"
   ]
  },
  {
   "cell_type": "code",
   "execution_count": 2,
   "metadata": {
    "collapsed": false
   },
   "outputs": [
    {
     "name": "stdout",
     "output_type": "stream",
     "text": [
      "Enter any data. I will change to corresponding data type:{10: 'kiyan', 20: 'Ravi'}\n"
     ]
    },
    {
     "data": {
      "text/plain": [
       "dict"
      ]
     },
     "execution_count": 2,
     "metadata": {},
     "output_type": "execute_result"
    }
   ],
   "source": [
    "x = eval(input(\"Enter any data. I will change to corresponding data type:\"))\n",
    "type(x)"
   ]
  },
  {
   "cell_type": "code",
   "execution_count": 5,
   "metadata": {
    "collapsed": false
   },
   "outputs": [
    {
     "name": "stdout",
     "output_type": "stream",
     "text": [
      "Enter any data. I will change to corresponding data type:10,10.7,\"kiyan\",True\n",
      "<class 'int'>\n",
      "<class 'float'>\n",
      "<class 'str'>\n",
      "<class 'bool'>\n"
     ]
    }
   ],
   "source": [
    "a,b,c,d = [eval(x) for x in input(\"Enter any data. I will change to corresponding data type:\").split(',')]\n",
    "print(type(a))\n",
    "print(type(b))\n",
    "print(type(c))\n",
    "print(type(d))"
   ]
  },
  {
   "cell_type": "code",
   "execution_count": null,
   "metadata": {
    "collapsed": true
   },
   "outputs": [],
   "source": [
    "Command Line Arguments\n",
    "argv (List Type)\n",
    "argv available in sys module."
   ]
  },
  {
   "cell_type": "code",
   "execution_count": 6,
   "metadata": {
    "collapsed": false
   },
   "outputs": [
    {
     "name": "stdout",
     "output_type": "stream",
     "text": [
      "<class 'list'>\n"
     ]
    }
   ],
   "source": [
    "from sys import argv\n",
    "print(type(argv))"
   ]
  },
  {
   "cell_type": "code",
   "execution_count": null,
   "metadata": {
    "collapsed": true
   },
   "outputs": [],
   "source": [
    "from sys import argv\n",
    "print(argv) \n",
    "#\"kiyan\",\"kumar\", \n",
    "#run this from command line you will get a list in 1st index file name. we can apply slicing argv[1:]"
   ]
  },
  {
   "cell_type": "code",
   "execution_count": null,
   "metadata": {
    "collapsed": true
   },
   "outputs": [],
   "source": [
    "from sys import argv\n",
    "args = argv[1:]\n",
    "sum = 0\n",
    "for x in args: \n",
    "    n = int(x)\n",
    "    sum = sum + n\n",
    "print(\"the sum is \",sum)\n",
    "py test.py 10 20 30\n",
    "py test.py kiyan kumar (3 values)\n",
    "py test.py \"kiyan kumar\" (2 values)\n",
    "py test.py \"\"\"kiyan kumar\"\"\" (2 values)\n",
    "py test.py 'kiyan kumar' (3 values)\n",
    "py test.py '''kiyan kumar''' (3 values)\n",
    "print(argv[100]) => non slicing error -> out of bound exception\n",
    "print(argv[7:100]) => [] We get empty list.\n",
    "\n",
    "command line arguments => sys argv"
   ]
  },
  {
   "cell_type": "code",
   "execution_count": null,
   "metadata": {
    "collapsed": true
   },
   "outputs": [],
   "source": [
    "Output Statment:\n",
    "print() - without argument - A new line char printed"
   ]
  },
  {
   "cell_type": "code",
   "execution_count": 7,
   "metadata": {
    "collapsed": false
   },
   "outputs": [
    {
     "name": "stdout",
     "output_type": "stream",
     "text": [
      "kiyan\n",
      "\n",
      "kumar\n"
     ]
    }
   ],
   "source": [
    "print(\"kiyan\")\n",
    "print()\n",
    "print(\"kumar\")"
   ]
  },
  {
   "cell_type": "code",
   "execution_count": null,
   "metadata": {
    "collapsed": true
   },
   "outputs": [],
   "source": [
    "# escpae charecters can be used within print statement"
   ]
  },
  {
   "cell_type": "code",
   "execution_count": 8,
   "metadata": {
    "collapsed": false
   },
   "outputs": [
    {
     "name": "stdout",
     "output_type": "stream",
     "text": [
      "kiyankumar\n",
      "kiyan kumar\n"
     ]
    }
   ],
   "source": [
    "print(\"kiyan\"+\"kumar\") # no space\n",
    "print(\"kiyan\",\"kumar\") # space will be printed in between"
   ]
  },
  {
   "cell_type": "code",
   "execution_count": 9,
   "metadata": {
    "collapsed": false
   },
   "outputs": [
    {
     "name": "stdout",
     "output_type": "stream",
     "text": [
      "the values are : 10 20 30\n"
     ]
    }
   ],
   "source": [
    "a,b,c=10,20,30\n",
    "print(\"the values are :\" ,a,b,c)"
   ]
  },
  {
   "cell_type": "code",
   "execution_count": 10,
   "metadata": {
    "collapsed": false
   },
   "outputs": [
    {
     "name": "stdout",
     "output_type": "stream",
     "text": [
      "the values are : 10 20 30\n",
      "the values are ::10:20:30\n",
      "the values are :,10,20,30\n"
     ]
    }
   ],
   "source": [
    "a,b,c=10,20,30\n",
    "print(\"the values are :\" ,a,b,c) # default separator is space\n",
    "print(\"the values are :\" ,a,b,c,sep=':') #we can change the separator as we wish\n",
    "print(\"the values are :\" ,a,b,c,sep=',') #we can change the separator as we wish"
   ]
  },
  {
   "cell_type": "code",
   "execution_count": null,
   "metadata": {
    "collapsed": true
   },
   "outputs": [],
   "source": [
    "print method by defalut print new line. in order to not print new line pass end argument with value space. end=' '"
   ]
  },
  {
   "cell_type": "code",
   "execution_count": 11,
   "metadata": {
    "collapsed": false
   },
   "outputs": [
    {
     "name": "stdout",
     "output_type": "stream",
     "text": [
      "kiyan kumar\n"
     ]
    }
   ],
   "source": [
    "print(\"kiyan\", end=' ')\n",
    "print(\"kumar\")"
   ]
  },
  {
   "cell_type": "code",
   "execution_count": null,
   "metadata": {
    "collapsed": true
   },
   "outputs": [],
   "source": [
    "we can combain sep and end argument in the print statement as shown below"
   ]
  },
  {
   "cell_type": "code",
   "execution_count": 12,
   "metadata": {
    "collapsed": false
   },
   "outputs": [
    {
     "name": "stdout",
     "output_type": "stream",
     "text": [
      "10:20:30:40 50-60-70-80\n"
     ]
    }
   ],
   "source": [
    "print(10,20,30,40,sep=\":\",end=\" \")\n",
    "print(50,60,70,80,sep=\"-\")"
   ]
  },
  {
   "cell_type": "code",
   "execution_count": 13,
   "metadata": {
    "collapsed": false
   },
   "outputs": [
    {
     "name": "stdout",
     "output_type": "stream",
     "text": [
      "[10, 20, 30, 40] (10, 20, 30, 40) {40, 10, 20, 30} "
     ]
    }
   ],
   "source": [
    "# we can also use object to print\n",
    "l = [10,20,30,40]\n",
    "t = (10,20,30,40)\n",
    "s = {10,20,30,40}\n",
    "print(l,t,s,end=' ')"
   ]
  },
  {
   "cell_type": "code",
   "execution_count": null,
   "metadata": {
    "collapsed": true
   },
   "outputs": [],
   "source": [
    "#formatted String\n",
    "%i => int\n",
    "%d => int\n",
    "%f => float\n",
    "%s => String"
   ]
  },
  {
   "cell_type": "code",
   "execution_count": 14,
   "metadata": {
    "collapsed": false
   },
   "outputs": [
    {
     "name": "stdout",
     "output_type": "stream",
     "text": [
      "A value is: 89\n"
     ]
    }
   ],
   "source": [
    "a = 89\n",
    "print(\"A value is: %i\" %a)\n",
    "#formatted string followed by space."
   ]
  },
  {
   "cell_type": "code",
   "execution_count": 15,
   "metadata": {
    "collapsed": false
   },
   "outputs": [
    {
     "name": "stdout",
     "output_type": "stream",
     "text": [
      "A value is 50 and B value is 60\n"
     ]
    }
   ],
   "source": [
    "a = 50\n",
    "b = 60\n",
    "print(\"A value is %i and B value is %i\" %(a,b))"
   ]
  },
  {
   "cell_type": "code",
   "execution_count": 16,
   "metadata": {
    "collapsed": false
   },
   "outputs": [
    {
     "name": "stdout",
     "output_type": "stream",
     "text": [
      "I have integer 70 value and List value [10, 30]\n"
     ]
    }
   ],
   "source": [
    "a = 70\n",
    "l = [10,30]\n",
    "print(\"I have integer %i value and List value %s\" %(a,l))"
   ]
  },
  {
   "cell_type": "code",
   "execution_count": 17,
   "metadata": {
    "collapsed": false
   },
   "outputs": [
    {
     "name": "stdout",
     "output_type": "stream",
     "text": [
      "Hello kiyan your salary is 200 and your friend shiva is waiting\n",
      "Hello kiyan your salary is 200 and your friend shiva is waiting\n",
      "Hello kiyan your salary is 200 and your friend shiva is waiting\n"
     ]
    }
   ],
   "source": [
    "# replacement operator\n",
    "name =\"kiyan\"\n",
    "sal = 200\n",
    "friend = \"shiva\"\n",
    "print(\"Hello {0} your salary is {1} and your friend {2} is waiting\".format(name,sal,friend))\n",
    "print(\"Hello {} your salary is {} and your friend {} is waiting\" .format(name,sal,friend))\n",
    "print(\"Hello {x} your salary is {y} and your friend {z} is waiting\" .format(x=name,y=sal,z=friend))"
   ]
  },
  {
   "cell_type": "code",
   "execution_count": null,
   "metadata": {
    "collapsed": true
   },
   "outputs": [],
   "source": [
    "Flow Control\n",
    "Selection Statements\n",
    "if\n",
    "if-else\n",
    "if-elif-else\n",
    "if-elif\n",
    "\n",
    "#N0 switch statement in python\n",
    "\n",
    "Iterative statements:\n",
    "    for eachelement in sequence:\n",
    "        body\n",
    "    while condition:\n",
    "        body\n",
    "\n",
    "#NO do-while loop exist in python        \n",
    "Nested loops also possible.\n",
    "\n",
    "for loop is good for when we have sequence\n",
    "while loop is good for as long as some condtion is true.\n",
    "\n",
    "Transfer Statement\n",
    "break\n",
    "continue\n",
    "pass\n",
    "\n",
    "for-else\n",
    "while-else\n",
    "try-except-else-finally\n",
    " \n",
    "for-else: else statement will be executed only when break statement with in for loop not executed   \n",
    "    else means without break in loop condition\n",
    "    \n",
    "pass: to represent empty black. empty block anywhare like selection statment, loop statement, method, class    "
   ]
  },
  {
   "cell_type": "code",
   "execution_count": 18,
   "metadata": {
    "collapsed": false
   },
   "outputs": [
    {
     "name": "stdout",
     "output_type": "stream",
     "text": [
      "item processed\n",
      "item processed\n",
      "item processed\n",
      "item processed\n",
      "All items processed\n"
     ]
    }
   ],
   "source": [
    "cart=[10,20,60,45]\n",
    "for item in cart:\n",
    "    if item>100:\n",
    "        print(\"Sorry you bag has item more than\",item)\n",
    "        break;\n",
    "    print(\"item processed\")\n",
    "else:\n",
    "    print(\"All items processed\")"
   ]
  },
  {
   "cell_type": "code",
   "execution_count": 19,
   "metadata": {
    "collapsed": false
   },
   "outputs": [
    {
     "name": "stdout",
     "output_type": "stream",
     "text": [
      "item processed\n",
      "item processed\n",
      "Sorry you bag has item more than 101\n"
     ]
    }
   ],
   "source": [
    "cart=[10,20,101,45]\n",
    "for item in cart:\n",
    "    if item>100:\n",
    "        print(\"Sorry you bag has item more than\",item)\n",
    "        break;\n",
    "    print(\"item processed\")\n",
    "else:\n",
    "    print(\"All items processed\")"
   ]
  },
  {
   "cell_type": "code",
   "execution_count": null,
   "metadata": {
    "collapsed": true
   },
   "outputs": [],
   "source": [
    "del:\n",
    "    to make variable available for garbage collection."
   ]
  },
  {
   "cell_type": "code",
   "execution_count": 20,
   "metadata": {
    "collapsed": false
   },
   "outputs": [
    {
     "name": "stdout",
     "output_type": "stream",
     "text": [
      "10\n"
     ]
    }
   ],
   "source": [
    "x =10\n",
    "print(x)"
   ]
  },
  {
   "cell_type": "code",
   "execution_count": 21,
   "metadata": {
    "collapsed": false
   },
   "outputs": [
    {
     "ename": "NameError",
     "evalue": "name 'x' is not defined",
     "output_type": "error",
     "traceback": [
      "\u001b[1;31m---------------------------------------------------------------------------\u001b[0m",
      "\u001b[1;31mNameError\u001b[0m                                 Traceback (most recent call last)",
      "\u001b[1;32m<ipython-input-21-ab8999968073>\u001b[0m in \u001b[0;36m<module>\u001b[1;34m()\u001b[0m\n\u001b[0;32m      1\u001b[0m \u001b[1;32mdel\u001b[0m\u001b[1;33m(\u001b[0m\u001b[0mx\u001b[0m\u001b[1;33m)\u001b[0m\u001b[1;33m\u001b[0m\u001b[0m\n\u001b[1;32m----> 2\u001b[1;33m \u001b[0mprint\u001b[0m\u001b[1;33m(\u001b[0m\u001b[0mx\u001b[0m\u001b[1;33m)\u001b[0m\u001b[1;33m\u001b[0m\u001b[0m\n\u001b[0m",
      "\u001b[1;31mNameError\u001b[0m: name 'x' is not defined"
     ]
    }
   ],
   "source": [
    "del(x)\n",
    "print(x)"
   ]
  },
  {
   "cell_type": "code",
   "execution_count": 22,
   "metadata": {
    "collapsed": false
   },
   "outputs": [
    {
     "ename": "TypeError",
     "evalue": "'str' object doesn't support item deletion",
     "output_type": "error",
     "traceback": [
      "\u001b[1;31m---------------------------------------------------------------------------\u001b[0m",
      "\u001b[1;31mTypeError\u001b[0m                                 Traceback (most recent call last)",
      "\u001b[1;32m<ipython-input-22-757dba2bac29>\u001b[0m in \u001b[0;36m<module>\u001b[1;34m()\u001b[0m\n\u001b[0;32m      1\u001b[0m \u001b[1;31m# Strings are immutable\u001b[0m\u001b[1;33m\u001b[0m\u001b[1;33m\u001b[0m\u001b[0m\n\u001b[0;32m      2\u001b[0m \u001b[0md\u001b[0m \u001b[1;33m=\u001b[0m \u001b[1;34m\"kiyandoor\"\u001b[0m\u001b[1;33m\u001b[0m\u001b[0m\n\u001b[1;32m----> 3\u001b[1;33m \u001b[1;32mdel\u001b[0m \u001b[0md\u001b[0m\u001b[1;33m[\u001b[0m\u001b[1;36m1\u001b[0m\u001b[1;33m]\u001b[0m\u001b[1;33m\u001b[0m\u001b[0m\n\u001b[0m",
      "\u001b[1;31mTypeError\u001b[0m: 'str' object doesn't support item deletion"
     ]
    }
   ],
   "source": [
    "# Strings are immutable\n",
    "d = \"kiyandoor\"\n",
    "del d[1]"
   ]
  },
  {
   "cell_type": "code",
   "execution_count": null,
   "metadata": {
    "collapsed": true
   },
   "outputs": [],
   "source": [
    "del x,y\n",
    "del can be used multiple times in a program\n",
    "del s -> will delete both variable and corresponding object\n",
    "s = None will delete object only not variable\n",
    "When mulitiple variables are pointing to same object, then del of one variable only delete vaiable not object.\n",
    "refer below example."
   ]
  },
  {
   "cell_type": "code",
   "execution_count": 23,
   "metadata": {
    "collapsed": false
   },
   "outputs": [
    {
     "name": "stdout",
     "output_type": "stream",
     "text": [
      "139913333099912 139913333099912 139913333099912\n"
     ]
    }
   ],
   "source": [
    "s1 = \"kiyan\"\n",
    "s2 = \"kiyan\"\n",
    "s3 = \"kiyan\"\n",
    "print (id(s1), id(s2), id(s3))"
   ]
  },
  {
   "cell_type": "code",
   "execution_count": 24,
   "metadata": {
    "collapsed": false
   },
   "outputs": [
    {
     "name": "stdout",
     "output_type": "stream",
     "text": [
      "kiyan\n"
     ]
    }
   ],
   "source": [
    "del s1\n",
    "print(s2)"
   ]
  },
  {
   "cell_type": "code",
   "execution_count": null,
   "metadata": {
    "collapsed": true
   },
   "outputs": [],
   "source": [
    "String Data type:"
   ]
  },
  {
   "cell_type": "code",
   "execution_count": 25,
   "metadata": {
    "collapsed": false
   },
   "outputs": [
    {
     "data": {
      "text/plain": [
       "9"
      ]
     },
     "execution_count": 25,
     "metadata": {},
     "output_type": "execute_result"
    }
   ],
   "source": [
    "len(\"kiyandoor\")"
   ]
  },
  {
   "cell_type": "code",
   "execution_count": 26,
   "metadata": {
    "collapsed": false
   },
   "outputs": [
    {
     "name": "stdout",
     "output_type": "stream",
     "text": [
      "   kiyandoor\n",
      "kiyandoor     \n",
      "kiyandoor\n"
     ]
    }
   ],
   "source": [
    "print((\"   kiyandoor     \").rstrip())\n",
    "print((\"   kiyandoor     \").lstrip())\n",
    "print((\"   kiyandoor     \").strip())"
   ]
  },
  {
   "cell_type": "code",
   "execution_count": 27,
   "metadata": {
    "collapsed": false
   },
   "outputs": [
    {
     "name": "stdout",
     "output_type": "stream",
     "text": [
      "roodnayik\n"
     ]
    }
   ],
   "source": [
    "s = \"kiyandoor\"\n",
    "print(s[::-1])"
   ]
  },
  {
   "cell_type": "code",
   "execution_count": null,
   "metadata": {
    "collapsed": true
   },
   "outputs": [],
   "source": [
    "s.find(substring)\n",
    "s.find(substring,begin)\n",
    "s.find(substring,begin,end)"
   ]
  },
  {
   "cell_type": "code",
   "execution_count": 28,
   "metadata": {
    "collapsed": false
   },
   "outputs": [
    {
     "data": {
      "text/plain": [
       "5"
      ]
     },
     "execution_count": 28,
     "metadata": {},
     "output_type": "execute_result"
    }
   ],
   "source": [
    "\"kiyandoor\".find(\"door\")"
   ]
  },
  {
   "cell_type": "code",
   "execution_count": 29,
   "metadata": {
    "collapsed": false
   },
   "outputs": [
    {
     "data": {
      "text/plain": [
       "-1"
      ]
     },
     "execution_count": 29,
     "metadata": {},
     "output_type": "execute_result"
    }
   ],
   "source": [
    "\"kiyandoor\".find(\"ravi\")"
   ]
  },
  {
   "cell_type": "code",
   "execution_count": null,
   "metadata": {
    "collapsed": true
   },
   "outputs": [],
   "source": [
    "index():\n",
    "    index() method is exactly same as find() method except that if the specified substring is\n",
    "not available then we will get ValueError."
   ]
  },
  {
   "cell_type": "code",
   "execution_count": 30,
   "metadata": {
    "collapsed": false
   },
   "outputs": [
    {
     "data": {
      "text/plain": [
       "5"
      ]
     },
     "execution_count": 30,
     "metadata": {},
     "output_type": "execute_result"
    }
   ],
   "source": [
    "\"kiyandoor\".index(\"door\")"
   ]
  },
  {
   "cell_type": "code",
   "execution_count": 31,
   "metadata": {
    "collapsed": false
   },
   "outputs": [
    {
     "ename": "ValueError",
     "evalue": "substring not found",
     "output_type": "error",
     "traceback": [
      "\u001b[1;31m---------------------------------------------------------------------------\u001b[0m",
      "\u001b[1;31mValueError\u001b[0m                                Traceback (most recent call last)",
      "\u001b[1;32m<ipython-input-31-a51d6b0a9298>\u001b[0m in \u001b[0;36m<module>\u001b[1;34m()\u001b[0m\n\u001b[1;32m----> 1\u001b[1;33m \u001b[1;34m\"kiyandor\"\u001b[0m\u001b[1;33m.\u001b[0m\u001b[0mindex\u001b[0m\u001b[1;33m(\u001b[0m\u001b[1;34m\"ravi\"\u001b[0m\u001b[1;33m)\u001b[0m\u001b[1;33m\u001b[0m\u001b[0m\n\u001b[0m",
      "\u001b[1;31mValueError\u001b[0m: substring not found"
     ]
    }
   ],
   "source": [
    "\"kiyandor\".index(\"ravi\")"
   ]
  },
  {
   "cell_type": "code",
   "execution_count": null,
   "metadata": {
    "collapsed": true
   },
   "outputs": [],
   "source": [
    "String methods/utils\n",
    "membership in and not in\n",
    "mathematical operators: + *\n",
    "len()\n",
    "comparison< <= > >= (based on ascii)\n",
    "== !=\n",
    "== and is operator (== is for content comparision and is for reference comparision)\n",
    "lstrip()\n",
    "rstrip()\n",
    "strip()\n",
    "\n",
    "the below methods => substring as mandatory, begin and end index are optional \n",
    "find()   => we will get -1 for not finding substring\n",
    "index()  => we will get exception for not finding substring\n",
    "rfind() right side find\n",
    "rindex() right side index"
   ]
  },
  {
   "cell_type": "code",
   "execution_count": 32,
   "metadata": {
    "collapsed": false
   },
   "outputs": [
    {
     "name": "stdout",
     "output_type": "stream",
     "text": [
      "2\n"
     ]
    }
   ],
   "source": [
    "# count('substring')=> this will give how many times substring give value\n",
    "s = \"kiyandoor\"\n",
    "print(s.count(\"o\"))"
   ]
  },
  {
   "cell_type": "code",
   "execution_count": 33,
   "metadata": {
    "collapsed": false
   },
   "outputs": [
    {
     "name": "stdout",
     "output_type": "stream",
     "text": [
      "0\n"
     ]
    }
   ],
   "source": [
    "print(s.count(\"f\"))"
   ]
  },
  {
   "cell_type": "code",
   "execution_count": null,
   "metadata": {
    "collapsed": true
   },
   "outputs": [],
   "source": [
    "count function contains start and end parameters are optional"
   ]
  },
  {
   "cell_type": "code",
   "execution_count": 34,
   "metadata": {
    "collapsed": false
   },
   "outputs": [
    {
     "name": "stdout",
     "output_type": "stream",
     "text": [
      "AI is difficult\n"
     ]
    }
   ],
   "source": [
    "s = \"AI is difficult\"\n",
    "s.replace(\"difficult\", \"easy\")\n",
    "print(s) # strings are immuttable"
   ]
  },
  {
   "cell_type": "code",
   "execution_count": 35,
   "metadata": {
    "collapsed": false
   },
   "outputs": [
    {
     "name": "stdout",
     "output_type": "stream",
     "text": [
      "AI is easy\n"
     ]
    }
   ],
   "source": [
    "s = \"AI is difficult\"\n",
    "k = s.replace(\"difficult\", \"easy\")\n",
    "print(k)"
   ]
  },
  {
   "cell_type": "code",
   "execution_count": 36,
   "metadata": {
    "collapsed": false
   },
   "outputs": [
    {
     "name": "stdout",
     "output_type": "stream",
     "text": [
      "['kiyandoor', 'Kumar']\n",
      "<class 'list'>\n"
     ]
    }
   ],
   "source": [
    "#split(), rsplit() => by default space is the splitter and we can also give how many max splits we want\n",
    "s = \"kiyandoor Kumar\"\n",
    "print(s.split())\n",
    "print(type(s.split()))"
   ]
  },
  {
   "cell_type": "code",
   "execution_count": 37,
   "metadata": {
    "collapsed": false
   },
   "outputs": [
    {
     "name": "stdout",
     "output_type": "stream",
     "text": [
      "['10', '20', '30', '40', '50,60']\n",
      "['10,20,30', '40', '50', '60']\n"
     ]
    }
   ],
   "source": [
    "s = \"10,20,30,40,50,60\"\n",
    "print(s.split(\",\",4))\n",
    "print(s.rsplit(\",\",3))"
   ]
  },
  {
   "cell_type": "code",
   "execution_count": 38,
   "metadata": {
    "collapsed": false
   },
   "outputs": [
    {
     "data": {
      "text/plain": [
       "'kiyandoor-kumar'"
      ]
     },
     "execution_count": 38,
     "metadata": {},
     "output_type": "execute_result"
    }
   ],
   "source": [
    "#join() can be applied on list and tuple.\n",
    "\"-\".join([\"kiyandoor\",\"kumar\"])"
   ]
  },
  {
   "cell_type": "code",
   "execution_count": 39,
   "metadata": {
    "collapsed": false
   },
   "outputs": [
    {
     "data": {
      "text/plain": [
       "'kiyandoor kumar'"
      ]
     },
     "execution_count": 39,
     "metadata": {},
     "output_type": "execute_result"
    }
   ],
   "source": [
    "\" \".join([\"kiyandoor\",\"kumar\"])"
   ]
  },
  {
   "cell_type": "code",
   "execution_count": null,
   "metadata": {
    "collapsed": true
   },
   "outputs": [],
   "source": [
    "upper()\n",
    "lower()\n",
    "swapcase()\n",
    "title() => camel case\n",
    "captitalize()"
   ]
  },
  {
   "cell_type": "code",
   "execution_count": 40,
   "metadata": {
    "collapsed": false
   },
   "outputs": [
    {
     "name": "stdout",
     "output_type": "stream",
     "text": [
      "KIYAND\n"
     ]
    }
   ],
   "source": [
    "print(\"kiyand\".upper())"
   ]
  },
  {
   "cell_type": "code",
   "execution_count": 41,
   "metadata": {
    "collapsed": false
   },
   "outputs": [
    {
     "name": "stdout",
     "output_type": "stream",
     "text": [
      "kiyandoor\n"
     ]
    }
   ],
   "source": [
    "print(\"KIYANDoor\".lower())"
   ]
  },
  {
   "cell_type": "code",
   "execution_count": 42,
   "metadata": {
    "collapsed": false
   },
   "outputs": [
    {
     "name": "stdout",
     "output_type": "stream",
     "text": [
      "kiyandOOR\n"
     ]
    }
   ],
   "source": [
    "print(\"KIYANDoor\".swapcase())"
   ]
  },
  {
   "cell_type": "code",
   "execution_count": 43,
   "metadata": {
    "collapsed": false
   },
   "outputs": [
    {
     "name": "stdout",
     "output_type": "stream",
     "text": [
      "Kiyandoor Kumar\n"
     ]
    }
   ],
   "source": [
    "print(\"KIYANDoor kumar\".title())"
   ]
  },
  {
   "cell_type": "code",
   "execution_count": 44,
   "metadata": {
    "collapsed": false
   },
   "outputs": [
    {
     "name": "stdout",
     "output_type": "stream",
     "text": [
      "Kiyandoor kumar\n"
     ]
    }
   ],
   "source": [
    "print(\"KIYANDoor kumar\".capitalize())"
   ]
  },
  {
   "cell_type": "code",
   "execution_count": 45,
   "metadata": {
    "collapsed": false
   },
   "outputs": [
    {
     "name": "stdout",
     "output_type": "stream",
     "text": [
      "False\n",
      "True\n"
     ]
    }
   ],
   "source": [
    "#startswith(substring)\n",
    "#endswith(substring)\n",
    "print(\"kiyandoor\".startswith(\"kumar\"))\n",
    "print(\"kiyandoor kumar\".endswith(\"kumar\"))"
   ]
  },
  {
   "cell_type": "code",
   "execution_count": 46,
   "metadata": {
    "collapsed": false
   },
   "outputs": [
    {
     "name": "stdout",
     "output_type": "stream",
     "text": [
      "<reversed object at 0x7f401c394518>\n"
     ]
    }
   ],
   "source": [
    "print(reversed(\"kiyandoor\"))"
   ]
  },
  {
   "cell_type": "code",
   "execution_count": 47,
   "metadata": {
    "collapsed": false
   },
   "outputs": [
    {
     "name": "stdout",
     "output_type": "stream",
     "text": [
      "roodnayik\n"
     ]
    }
   ],
   "source": [
    "print(\"\".join(reversed(\"kiyandoor\")))"
   ]
  },
  {
   "cell_type": "code",
   "execution_count": 48,
   "metadata": {
    "collapsed": false
   },
   "outputs": [
    {
     "name": "stdout",
     "output_type": "stream",
     "text": [
      "['a', 'd', 'i', 'k', 'n', 'o', 'o', 'r', 'y']\n"
     ]
    }
   ],
   "source": [
    "print(sorted(\"kiyandoor\"))"
   ]
  },
  {
   "cell_type": "code",
   "execution_count": null,
   "metadata": {
    "collapsed": true
   },
   "outputs": [],
   "source": [
    "chr(unicode)  => character\n",
    "ord(char) => unicode"
   ]
  },
  {
   "cell_type": "code",
   "execution_count": 49,
   "metadata": {
    "collapsed": false
   },
   "outputs": [
    {
     "data": {
      "text/plain": [
       "'A'"
      ]
     },
     "execution_count": 49,
     "metadata": {},
     "output_type": "execute_result"
    }
   ],
   "source": [
    "chr(65)"
   ]
  },
  {
   "cell_type": "code",
   "execution_count": 50,
   "metadata": {
    "collapsed": false
   },
   "outputs": [
    {
     "data": {
      "text/plain": [
       "97"
      ]
     },
     "execution_count": 50,
     "metadata": {},
     "output_type": "execute_result"
    }
   ],
   "source": [
    "ord('a')"
   ]
  },
  {
   "cell_type": "code",
   "execution_count": null,
   "metadata": {
    "collapsed": true
   },
   "outputs": [],
   "source": []
  }
 ],
 "metadata": {
  "kernelspec": {
   "display_name": "Python 3",
   "language": "python",
   "name": "python3"
  },
  "language_info": {
   "codemirror_mode": {
    "name": "ipython",
    "version": 3
   },
   "file_extension": ".py",
   "mimetype": "text/x-python",
   "name": "python",
   "nbconvert_exporter": "python",
   "pygments_lexer": "ipython3",
   "version": "3.4.3"
  }
 },
 "nbformat": 4,
 "nbformat_minor": 0
}
