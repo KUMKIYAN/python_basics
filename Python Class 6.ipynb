{
 "cells": [
  {
   "cell_type": "code",
   "execution_count": null,
   "metadata": {
    "collapsed": true
   },
   "outputs": [],
   "source": [
    "OOPs Basics:\n",
    "    variables : Instance variables, Static variables, Local variables\n",
    "    methods : Instance method, Static methods and class methods."
   ]
  },
  {
   "cell_type": "code",
   "execution_count": 2,
   "metadata": {
    "collapsed": false
   },
   "outputs": [
    {
     "name": "stdout",
     "output_type": "stream",
     "text": [
      "this is about Studnent Object\n"
     ]
    }
   ],
   "source": [
    "#To print documentation of the class use __doc__ method and help methods as shown below.\n",
    "class Student:\n",
    "    '''this is about Studnent Object'''\n",
    "\n",
    "print(Student.__doc__)"
   ]
  },
  {
   "cell_type": "code",
   "execution_count": 3,
   "metadata": {
    "collapsed": false
   },
   "outputs": [
    {
     "name": "stdout",
     "output_type": "stream",
     "text": [
      "Help on class Student in module __main__:\n",
      "\n",
      "class Student(builtins.object)\n",
      " |  this is about Studnent Object\n",
      " |  \n",
      " |  Data descriptors defined here:\n",
      " |  \n",
      " |  __dict__\n",
      " |      dictionary for instance variables (if defined)\n",
      " |  \n",
      " |  __weakref__\n",
      " |      list of weak references to the object (if defined)\n",
      "\n",
      "None\n"
     ]
    }
   ],
   "source": [
    "print(help(Student))"
   ]
  },
  {
   "cell_type": "code",
   "execution_count": null,
   "metadata": {
    "collapsed": true
   },
   "outputs": [],
   "source": [
    "self: python implicit variable always point to current variables\n",
    "    to access object instance variables and object instance methods.\n",
    "    self is not keyword and not reserve keyword. so, instead of self we can also use \n",
    "    different name as the first argument in the method. \n",
    "    (In instance methods and construcors declaration self argument must be the first argument other wish while \n",
    "     calling instance method and constructors we will get argument mis match-error)"
   ]
  },
  {
   "cell_type": "code",
   "execution_count": 4,
   "metadata": {
    "collapsed": false
   },
   "outputs": [
    {
     "name": "stdout",
     "output_type": "stream",
     "text": [
      "23 kiya 50\n",
      "this is student class talks about his marks\n",
      "Help on class Stud in module __main__:\n",
      "\n",
      "class Stud(builtins.object)\n",
      " |  this is student class talks about his marks\n",
      " |  \n",
      " |  Methods defined here:\n",
      " |  \n",
      " |  __init__(self, rollNumber, name, marks)\n",
      " |  \n",
      " |  talk(self)\n",
      " |  \n",
      " |  ----------------------------------------------------------------------\n",
      " |  Data descriptors defined here:\n",
      " |  \n",
      " |  __dict__\n",
      " |      dictionary for instance variables (if defined)\n",
      " |  \n",
      " |  __weakref__\n",
      " |      list of weak references to the object (if defined)\n",
      "\n",
      "None\n"
     ]
    }
   ],
   "source": [
    "class Stud:\n",
    "    '''this is student class talks about his marks'''\n",
    "    def __init__(self, rollNumber, name, marks):\n",
    "        self.rollNumber = rollNumber\n",
    "        self.name = name\n",
    "        self.marks = marks\n",
    "    def talk(self):\n",
    "        print(self.rollNumber, end=\" \")\n",
    "        print(self.name, end=\" \")\n",
    "        print(self.marks)\n",
    "s = Stud(23,\"kiya\",50)\n",
    "s.talk()\n",
    "print(Stud.__doc__)\n",
    "print(help(Stud))"
   ]
  },
  {
   "cell_type": "code",
   "execution_count": 5,
   "metadata": {
    "collapsed": false
   },
   "outputs": [
    {
     "ename": "TypeError",
     "evalue": "__init__() takes 3 positional arguments but 4 were given",
     "output_type": "error",
     "traceback": [
      "\u001b[1;31m---------------------------------------------------------------------------\u001b[0m",
      "\u001b[1;31mTypeError\u001b[0m                                 Traceback (most recent call last)",
      "\u001b[1;32m<ipython-input-5-440da7fe2dcc>\u001b[0m in \u001b[0;36m<module>\u001b[1;34m()\u001b[0m\n\u001b[0;32m      9\u001b[0m         \u001b[0mprint\u001b[0m\u001b[1;33m(\u001b[0m\u001b[0mself\u001b[0m\u001b[1;33m.\u001b[0m\u001b[0mname\u001b[0m\u001b[1;33m,\u001b[0m \u001b[0mend\u001b[0m\u001b[1;33m=\u001b[0m\u001b[1;34m\" \"\u001b[0m\u001b[1;33m)\u001b[0m\u001b[1;33m\u001b[0m\u001b[0m\n\u001b[0;32m     10\u001b[0m         \u001b[0mprint\u001b[0m\u001b[1;33m(\u001b[0m\u001b[0mself\u001b[0m\u001b[1;33m.\u001b[0m\u001b[0mmarks\u001b[0m\u001b[1;33m)\u001b[0m\u001b[1;33m\u001b[0m\u001b[0m\n\u001b[1;32m---> 11\u001b[1;33m \u001b[0ms\u001b[0m \u001b[1;33m=\u001b[0m \u001b[0mStud1\u001b[0m\u001b[1;33m(\u001b[0m\u001b[1;36m23\u001b[0m\u001b[1;33m,\u001b[0m\u001b[1;34m\"kiya\"\u001b[0m\u001b[1;33m,\u001b[0m\u001b[1;36m50\u001b[0m\u001b[1;33m)\u001b[0m\u001b[1;33m\u001b[0m\u001b[0m\n\u001b[0m",
      "\u001b[1;31mTypeError\u001b[0m: __init__() takes 3 positional arguments but 4 were given"
     ]
    }
   ],
   "source": [
    "Same program without self keyword in constructor. Notice the error even though constuctor arguments and \n",
    "object parameters numbers are matched. python will send automatically self argument during object creation.\n",
    "if init not has self keyword there is mis-match between arguments error will come as shown below. \n",
    "\n",
    "\n",
    "class Stud1:\n",
    "    '''this is student class talks about his marks'''\n",
    "    def __init__(rollNumber, name, marks):\n",
    "        self.rollNumber = rollNumber\n",
    "        self.name = name\n",
    "        self.marks = marks\n",
    "    def talk(self):\n",
    "        print(self.rollNumber, end=\" \")\n",
    "        print(self.name, end=\" \")\n",
    "        print(self.marks)\n",
    "s = Stud1(23,\"kiya\",50)"
   ]
  },
  {
   "cell_type": "code",
   "execution_count": 6,
   "metadata": {
    "collapsed": false
   },
   "outputs": [
    {
     "name": "stdout",
     "output_type": "stream",
     "text": [
      "no argument constuctor\n",
      "140691184702800\n",
      "no argument constuctor\n",
      "140691184702800\n"
     ]
    }
   ],
   "source": [
    "class Stud3:\n",
    "    def __init__(self):\n",
    "        print(\"no argument constuctor\")\n",
    "        print(id(self))\n",
    "s = Stud3()\n",
    "s.__init__()"
   ]
  },
  {
   "cell_type": "code",
   "execution_count": null,
   "metadata": {
    "collapsed": true
   },
   "outputs": [],
   "source": [
    "constructor overloading concept is not there. if you overloading, the last one which we created only takes remainging \n",
    "will be ignored. refer below example."
   ]
  },
  {
   "cell_type": "code",
   "execution_count": 7,
   "metadata": {
    "collapsed": false
   },
   "outputs": [
    {
     "ename": "TypeError",
     "evalue": "__init__() missing 1 required positional argument: 'x'",
     "output_type": "error",
     "traceback": [
      "\u001b[1;31m---------------------------------------------------------------------------\u001b[0m",
      "\u001b[1;31mTypeError\u001b[0m                                 Traceback (most recent call last)",
      "\u001b[1;32m<ipython-input-7-6a7851d960d2>\u001b[0m in \u001b[0;36m<module>\u001b[1;34m()\u001b[0m\n\u001b[0;32m      6\u001b[0m         \u001b[0mprint\u001b[0m\u001b[1;33m(\u001b[0m\u001b[1;34m\"one argument constuctor\"\u001b[0m\u001b[1;33m)\u001b[0m\u001b[1;33m\u001b[0m\u001b[0m\n\u001b[0;32m      7\u001b[0m         \u001b[0mprint\u001b[0m\u001b[1;33m(\u001b[0m\u001b[0mid\u001b[0m\u001b[1;33m(\u001b[0m\u001b[0mself\u001b[0m\u001b[1;33m)\u001b[0m\u001b[1;33m)\u001b[0m\u001b[1;33m\u001b[0m\u001b[0m\n\u001b[1;32m----> 8\u001b[1;33m \u001b[0ms\u001b[0m \u001b[1;33m=\u001b[0m \u001b[0mStud3\u001b[0m\u001b[1;33m(\u001b[0m\u001b[1;33m)\u001b[0m\u001b[1;33m\u001b[0m\u001b[0m\n\u001b[0m\u001b[0;32m      9\u001b[0m \u001b[0ms\u001b[0m\u001b[1;33m.\u001b[0m\u001b[0m__init__\u001b[0m\u001b[1;33m(\u001b[0m\u001b[1;33m)\u001b[0m\u001b[1;33m\u001b[0m\u001b[0m\n\u001b[0;32m     10\u001b[0m \u001b[0ms\u001b[0m \u001b[1;33m=\u001b[0m \u001b[0mStud3\u001b[0m\u001b[1;33m(\u001b[0m\u001b[1;33m)\u001b[0m\u001b[1;33m\u001b[0m\u001b[0m\n",
      "\u001b[1;31mTypeError\u001b[0m: __init__() missing 1 required positional argument: 'x'"
     ]
    }
   ],
   "source": [
    "class Stud3:\n",
    "    def __init__(self):\n",
    "        print(\"no argument constuctor\")\n",
    "        print(id(self))\n",
    "    def __init__(self, x):\n",
    "        print(\"one argument constuctor\")\n",
    "        print(id(self))\n",
    "s = Stud3()\n",
    "s.__init__()\n",
    "s = Stud3()\n",
    "s.__init__()"
   ]
  },
  {
   "cell_type": "code",
   "execution_count": 8,
   "metadata": {
    "collapsed": false
   },
   "outputs": [
    {
     "name": "stdout",
     "output_type": "stream",
     "text": [
      "one argument constuctor\n",
      "140691184752512\n",
      "one argument constuctor\n",
      "140691184752512\n"
     ]
    },
    {
     "ename": "TypeError",
     "evalue": "__init__() missing 1 required positional argument: 'x'",
     "output_type": "error",
     "traceback": [
      "\u001b[1;31m---------------------------------------------------------------------------\u001b[0m",
      "\u001b[1;31mTypeError\u001b[0m                                 Traceback (most recent call last)",
      "\u001b[1;32m<ipython-input-8-f6e870745ac0>\u001b[0m in \u001b[0;36m<module>\u001b[1;34m()\u001b[0m\n\u001b[0;32m      1\u001b[0m \u001b[0ms\u001b[0m \u001b[1;33m=\u001b[0m \u001b[0mStud3\u001b[0m\u001b[1;33m(\u001b[0m\u001b[1;36m7\u001b[0m\u001b[1;33m)\u001b[0m\u001b[1;33m\u001b[0m\u001b[0m\n\u001b[0;32m      2\u001b[0m \u001b[0ms\u001b[0m\u001b[1;33m.\u001b[0m\u001b[0m__init__\u001b[0m\u001b[1;33m(\u001b[0m\u001b[1;36m5\u001b[0m\u001b[1;33m)\u001b[0m\u001b[1;33m\u001b[0m\u001b[0m\n\u001b[1;32m----> 3\u001b[1;33m \u001b[0ms\u001b[0m\u001b[1;33m.\u001b[0m\u001b[0m__init__\u001b[0m\u001b[1;33m(\u001b[0m\u001b[1;33m)\u001b[0m\u001b[1;33m\u001b[0m\u001b[0m\n\u001b[0m",
      "\u001b[1;31mTypeError\u001b[0m: __init__() missing 1 required positional argument: 'x'"
     ]
    }
   ],
   "source": [
    "s = Stud3(7)\n",
    "s.__init__(5)\n",
    "s.__init__()"
   ]
  },
  {
   "cell_type": "code",
   "execution_count": 9,
   "metadata": {
    "collapsed": false
   },
   "outputs": [
    {
     "name": "stdout",
     "output_type": "stream",
     "text": [
      "one argument constuctor\n",
      "140691184778040\n",
      "one argument constuctor\n",
      "140691184778040\n"
     ]
    },
    {
     "ename": "TypeError",
     "evalue": "__init__() takes 2 positional arguments but 3 were given",
     "output_type": "error",
     "traceback": [
      "\u001b[1;31m---------------------------------------------------------------------------\u001b[0m",
      "\u001b[1;31mTypeError\u001b[0m                                 Traceback (most recent call last)",
      "\u001b[1;32m<ipython-input-9-a3051b64eb7a>\u001b[0m in \u001b[0;36m<module>\u001b[1;34m()\u001b[0m\n\u001b[0;32m     11\u001b[0m \u001b[0ms\u001b[0m \u001b[1;33m=\u001b[0m \u001b[0mStud3\u001b[0m\u001b[1;33m(\u001b[0m\u001b[1;36m7\u001b[0m\u001b[1;33m)\u001b[0m\u001b[1;33m\u001b[0m\u001b[0m\n\u001b[0;32m     12\u001b[0m \u001b[0ms\u001b[0m\u001b[1;33m.\u001b[0m\u001b[0m__init__\u001b[0m\u001b[1;33m(\u001b[0m\u001b[1;36m9\u001b[0m\u001b[1;33m)\u001b[0m\u001b[1;33m\u001b[0m\u001b[0m\n\u001b[1;32m---> 13\u001b[1;33m \u001b[0ms\u001b[0m \u001b[1;33m=\u001b[0m \u001b[0mStud3\u001b[0m\u001b[1;33m(\u001b[0m\u001b[1;36m8\u001b[0m\u001b[1;33m,\u001b[0m\u001b[1;36m7\u001b[0m\u001b[1;33m)\u001b[0m\u001b[1;33m\u001b[0m\u001b[0m\n\u001b[0m\u001b[0;32m     14\u001b[0m \u001b[0ms\u001b[0m\u001b[1;33m.\u001b[0m\u001b[0m__init__\u001b[0m\u001b[1;33m(\u001b[0m\u001b[1;33m)\u001b[0m\u001b[1;33m\u001b[0m\u001b[0m\n",
      "\u001b[1;31mTypeError\u001b[0m: __init__() takes 2 positional arguments but 3 were given"
     ]
    }
   ],
   "source": [
    "class Stud3:\n",
    "    def __init__(self, x,y):\n",
    "        print(\"one argument constuctor\")\n",
    "        print(id(self))\n",
    "    def __init__(self):\n",
    "        print(\"no argument constuctor\")\n",
    "        print(id(self))\n",
    "    def __init__(self, x):\n",
    "        print(\"one argument constuctor\")\n",
    "        print(id(self))\n",
    "s = Stud3(7)\n",
    "s.__init__(9)\n",
    "s = Stud3(8,7)\n",
    "s.__init__()"
   ]
  },
  {
   "cell_type": "code",
   "execution_count": 10,
   "metadata": {
    "collapsed": false
   },
   "outputs": [
    {
     "name": "stdout",
     "output_type": "stream",
     "text": [
      "101 kiya 49 \n",
      "102 kiyan 55 \n",
      "103 kiyandoor 75 \n",
      "104 kiyakiya 80 \n"
     ]
    }
   ],
   "source": [
    "class Student:\n",
    "    def __init__(self, rollNo,name,marks):\n",
    "        self.rollNo = rollNo\n",
    "        self.name = name\n",
    "        self.marks = marks\n",
    "    def talk(self):\n",
    "        print(self.rollNo,end=\" \")\n",
    "        print(self.name,end=\" \")\n",
    "        print(self.marks,end=\" \")\n",
    "        print()\n",
    "\n",
    "students = [Student(101,\"kiya\",49),Student(102,\"kiyan\",55),Student(103,\"kiyandoor\",75),Student(104,\"kiyakiya\",80)]\n",
    "for student in students:\n",
    "    student.talk()"
   ]
  },
  {
   "cell_type": "code",
   "execution_count": null,
   "metadata": {
    "collapsed": true
   },
   "outputs": [],
   "source": [
    "Without constructor __init__ also we can initialize the instance variable. However we need to call it explicitly.\n",
    "class Movie:\n",
    "    def setData(self, hero,heroin):\n",
    "        self.hero = hero\n",
    "        self.heroin = heroin\n",
    "\n",
    "movie = Movie()        \n",
    "movie.setData(\"nag\",\"anushka\")"
   ]
  },
  {
   "cell_type": "code",
   "execution_count": null,
   "metadata": {
    "collapsed": true
   },
   "outputs": [],
   "source": [
    "Instance variables: Within the class we can declare instance variable by using self keyword. \n",
    "    outside class we can declare using object variable. "
   ]
  },
  {
   "cell_type": "code",
   "execution_count": 11,
   "metadata": {
    "collapsed": false
   },
   "outputs": [
    {
     "name": "stdout",
     "output_type": "stream",
     "text": [
      "{'a': 10, 'c': 30, 'b': 20}\n",
      "{'x': 100, 'a': 10}\n"
     ]
    }
   ],
   "source": [
    "class Test:\n",
    "    def __init__(self): # constructor\n",
    "        self.a = 10    \n",
    "    def m1(self):      #method.\n",
    "        self.b = 20\n",
    "\n",
    "t = Test()\n",
    "t.m1()\n",
    "t.c = 30    # outside class\n",
    "print(t.__dict__)\n",
    "\n",
    "t1 = Test()\n",
    "t1.x = 100\n",
    "print(t1.__dict__)"
   ]
  },
  {
   "cell_type": "code",
   "execution_count": null,
   "metadata": {
    "collapsed": true
   },
   "outputs": [],
   "source": [
    "from above example, object to object number of instance variable are different.\n",
    "We can delete variables using del keyword. Refer below example"
   ]
  },
  {
   "cell_type": "code",
   "execution_count": 12,
   "metadata": {
    "collapsed": false
   },
   "outputs": [
    {
     "name": "stdout",
     "output_type": "stream",
     "text": [
      "{'a': 10, 'b': 20}\n"
     ]
    }
   ],
   "source": [
    "del t.c\n",
    "print(t.__dict__)"
   ]
  },
  {
   "cell_type": "code",
   "execution_count": null,
   "metadata": {
    "collapsed": true
   },
   "outputs": [],
   "source": [
    "Static variable: Static variable are called using class name. only one copy of memory location for all the objects.\n",
    "We can also use object name to call static variables. However If we want to change the value of static variable, \n",
    "we have to use class name only."
   ]
  },
  {
   "cell_type": "code",
   "execution_count": 13,
   "metadata": {
    "collapsed": false
   },
   "outputs": [
    {
     "name": "stdout",
     "output_type": "stream",
     "text": [
      "{'b': 20}\n",
      "{'a': 10, '__weakref__': <attribute '__weakref__' of 'Test' objects>, '__init__': <function Test.__init__ at 0x7ff538174488>, '__doc__': None, '__dict__': <attribute '__dict__' of 'Test' objects>, '__module__': '__main__'}\n"
     ]
    }
   ],
   "source": [
    "class Test:\n",
    "    a = 10\n",
    "    def __init__(self):\n",
    "        self.b = 20\n",
    "print(Test().__dict__)\n",
    "print(Test.__dict__)"
   ]
  },
  {
   "cell_type": "code",
   "execution_count": 14,
   "metadata": {
    "collapsed": false
   },
   "outputs": [
    {
     "name": "stdout",
     "output_type": "stream",
     "text": [
      "{'a': 100, 'b': 20}\n"
     ]
    }
   ],
   "source": [
    "t = Test()\n",
    "t.a = 100\n",
    "print(t.__dict__)"
   ]
  },
  {
   "cell_type": "code",
   "execution_count": 15,
   "metadata": {
    "collapsed": false
   },
   "outputs": [
    {
     "name": "stdout",
     "output_type": "stream",
     "text": [
      "{'a': 10, '__weakref__': <attribute '__weakref__' of 'Test' objects>, '__init__': <function Test.__init__ at 0x7ff538174488>, '__doc__': None, '__dict__': <attribute '__dict__' of 'Test' objects>, '__module__': '__main__'}\n"
     ]
    }
   ],
   "source": [
    "print(Test.__dict__)"
   ]
  },
  {
   "cell_type": "code",
   "execution_count": 16,
   "metadata": {
    "collapsed": false
   },
   "outputs": [
    {
     "name": "stdout",
     "output_type": "stream",
     "text": [
      "100\n",
      "10\n"
     ]
    }
   ],
   "source": [
    "print(t.a)\n",
    "print(Test.a)"
   ]
  },
  {
   "cell_type": "code",
   "execution_count": null,
   "metadata": {
    "collapsed": true
   },
   "outputs": [],
   "source": [
    "we can declare static variables where ever we want like \n",
    "inside a class - > directly\n",
    "constuctor  - > using class name\n",
    "instance method - > using class name \n",
    "static method - > using class name\n",
    "class method - > using cls variable or class name. \n",
    "outside of class -> using cls variable or class name. "
   ]
  },
  {
   "cell_type": "code",
   "execution_count": 17,
   "metadata": {
    "collapsed": false
   },
   "outputs": [
    {
     "name": "stdout",
     "output_type": "stream",
     "text": [
      "{'aa': 10, '__weakref__': <attribute '__weakref__' of 'Test1' objects>, 'm1': <function Test1.m1 at 0x7ff538174e18>, '__init__': <function Test1.__init__ at 0x7ff538174ea0>, '__doc__': None, '__module__': '__main__', '__dict__': <attribute '__dict__' of 'Test1' objects>, 'm2': <staticmethod object at 0x7ff5381769e8>, 'm3': <classmethod object at 0x7ff538176710>}\n"
     ]
    }
   ],
   "source": [
    "class Test1:\n",
    "    aa = 10\n",
    "    def __init__(self):\n",
    "        Test1.bb = 20\n",
    "        self.b = 20\n",
    "    def m1(self):\n",
    "        Test1.cc = 30\n",
    "    @classmethod    \n",
    "    def m3(cls):\n",
    "        Test1.dd = 40\n",
    "        cls.ee = 50\n",
    "    @staticmethod\n",
    "    def m2():\n",
    "        Test1.ff = 60    \n",
    "\n",
    "print(Test1.__dict__)"
   ]
  },
  {
   "cell_type": "code",
   "execution_count": 18,
   "metadata": {
    "collapsed": false
   },
   "outputs": [
    {
     "name": "stdout",
     "output_type": "stream",
     "text": [
      "{'bb': 20, 'aa': 10, '__weakref__': <attribute '__weakref__' of 'Test1' objects>, 'm1': <function Test1.m1 at 0x7ff538174e18>, '__init__': <function Test1.__init__ at 0x7ff538174ea0>, '__doc__': None, '__module__': '__main__', '__dict__': <attribute '__dict__' of 'Test1' objects>, 'm2': <staticmethod object at 0x7ff5381769e8>, 'm3': <classmethod object at 0x7ff538176710>}\n"
     ]
    }
   ],
   "source": [
    "t = Test1()\n",
    "print(Test1.__dict__)"
   ]
  },
  {
   "cell_type": "code",
   "execution_count": 19,
   "metadata": {
    "collapsed": false
   },
   "outputs": [
    {
     "name": "stdout",
     "output_type": "stream",
     "text": [
      "{'__weakref__': <attribute '__weakref__' of 'Test1' objects>, 'bb': 20, '__dict__': <attribute '__dict__' of 'Test1' objects>, '__doc__': None, '__module__': '__main__', 'cc': 30, 'aa': 10, '__init__': <function Test1.__init__ at 0x7ff538174ea0>, 'm3': <classmethod object at 0x7ff538176710>, 'm1': <function Test1.m1 at 0x7ff538174e18>, 'm2': <staticmethod object at 0x7ff5381769e8>}\n"
     ]
    }
   ],
   "source": [
    "t.m1()\n",
    "print(Test1.__dict__)"
   ]
  },
  {
   "cell_type": "code",
   "execution_count": 20,
   "metadata": {
    "collapsed": false
   },
   "outputs": [
    {
     "name": "stdout",
     "output_type": "stream",
     "text": [
      "{'ee': 50, '__weakref__': <attribute '__weakref__' of 'Test1' objects>, 'bb': 20, '__dict__': <attribute '__dict__' of 'Test1' objects>, '__doc__': None, '__module__': '__main__', 'cc': 30, 'aa': 10, 'dd': 40, '__init__': <function Test1.__init__ at 0x7ff538174ea0>, 'm3': <classmethod object at 0x7ff538176710>, 'm1': <function Test1.m1 at 0x7ff538174e18>, 'm2': <staticmethod object at 0x7ff5381769e8>}\n"
     ]
    }
   ],
   "source": [
    "Test1.m3()\n",
    "print(Test1.__dict__)"
   ]
  },
  {
   "cell_type": "code",
   "execution_count": 21,
   "metadata": {
    "collapsed": false
   },
   "outputs": [
    {
     "name": "stdout",
     "output_type": "stream",
     "text": [
      "{'ee': 50, '__weakref__': <attribute '__weakref__' of 'Test1' objects>, 'bb': 20, '__dict__': <attribute '__dict__' of 'Test1' objects>, 'ff': 60, '__doc__': None, '__module__': '__main__', 'cc': 30, 'aa': 10, 'dd': 40, '__init__': <function Test1.__init__ at 0x7ff538174ea0>, 'm3': <classmethod object at 0x7ff538176710>, 'm1': <function Test1.m1 at 0x7ff538174e18>, 'm2': <staticmethod object at 0x7ff5381769e8>}\n"
     ]
    }
   ],
   "source": [
    "Test1.m2()\n",
    "print(Test1.__dict__)"
   ]
  },
  {
   "cell_type": "code",
   "execution_count": 22,
   "metadata": {
    "collapsed": false
   },
   "outputs": [
    {
     "name": "stdout",
     "output_type": "stream",
     "text": [
      "{'ee': 50, '__weakref__': <attribute '__weakref__' of 'Test1' objects>, 'bb': 20, '__dict__': <attribute '__dict__' of 'Test1' objects>, 'ff': 60, '__doc__': None, '__module__': '__main__', 'cc': 30, 'aa': 10, 'dd': 40, '__init__': <function Test1.__init__ at 0x7ff538174ea0>, 'gg': 70, 'm3': <classmethod object at 0x7ff538176710>, 'm1': <function Test1.m1 at 0x7ff538174e18>, 'm2': <staticmethod object at 0x7ff5381769e8>}\n"
     ]
    }
   ],
   "source": [
    "#Outside class declaring static variable.\n",
    "\n",
    "Test1.gg = 70\n",
    "print(Test1.__dict__)"
   ]
  },
  {
   "cell_type": "code",
   "execution_count": null,
   "metadata": {
    "collapsed": true
   },
   "outputs": [],
   "source": [
    "Modify class variable using class name. in class method using cls variable also.\n",
    "local variables: inside method. for local variable scope is nil outside the method."
   ]
  },
  {
   "cell_type": "code",
   "execution_count": 23,
   "metadata": {
    "collapsed": false
   },
   "outputs": [
    {
     "name": "stdout",
     "output_type": "stream",
     "text": [
      "20\n",
      "<__main__.Test object at 0x7ff538176cf8>\n"
     ]
    }
   ],
   "source": [
    "class Test:\n",
    "    a = 10\n",
    "    def __init__(self):\n",
    "        a = 20\n",
    "        print(a)\n",
    "    \n",
    "print(Test())"
   ]
  },
  {
   "cell_type": "code",
   "execution_count": 24,
   "metadata": {
    "collapsed": false
   },
   "outputs": [
    {
     "name": "stdout",
     "output_type": "stream",
     "text": [
      "{'a': 10, '__weakref__': <attribute '__weakref__' of 'Test' objects>, '__init__': <function Test.__init__ at 0x7ff538174950>, '__doc__': None, '__dict__': <attribute '__dict__' of 'Test' objects>, '__module__': '__main__'}\n",
      "{'__weakref__': <attribute '__weakref__' of 'Test' objects>, '__init__': <function Test.__init__ at 0x7ff538174950>, '__doc__': None, '__dict__': <attribute '__dict__' of 'Test' objects>, '__module__': '__main__'}\n"
     ]
    }
   ],
   "source": [
    "#we can also delete static variables using del keyword\n",
    "\n",
    "print(Test.__dict__)\n",
    "del Test.a\n",
    "print(Test.__dict__)"
   ]
  },
  {
   "cell_type": "code",
   "execution_count": null,
   "metadata": {
    "collapsed": true
   },
   "outputs": [],
   "source": [
    "By using object reference variable/self we can read static variables, But we cannot modify or delete."
   ]
  },
  {
   "cell_type": "code",
   "execution_count": null,
   "metadata": {
    "collapsed": true
   },
   "outputs": [],
   "source": [
    "Methods:\n",
    "    Instance Methods\n",
    "    Static methods\n",
    "    Class methods\n",
    "    \n",
    "Instance method : In a method if we use at least one instance variables using self, then that method is \n",
    "    instance method. so, we have to use self keyword in method definition."
   ]
  },
  {
   "cell_type": "code",
   "execution_count": null,
   "metadata": {
    "collapsed": true
   },
   "outputs": [],
   "source": [
    "setter and getter methods: Most of the time we use setter and getter methods for instance variables.\n",
    "    class Student():\n",
    "        def setName(self, name):\n",
    "            self.name = name\n",
    "        def getName(self):\n",
    "            return self.name"
   ]
  },
  {
   "cell_type": "code",
   "execution_count": null,
   "metadata": {
    "collapsed": true
   },
   "outputs": [],
   "source": [
    "class methods: In a method if we are not using instance variable and we are using only class variable, \n",
    "    then the method is static mehod.\n",
    "    we have to use @classmethod decorator\n",
    "    we have to pass cls in the method definition"
   ]
  },
  {
   "cell_type": "code",
   "execution_count": 25,
   "metadata": {
    "collapsed": false
   },
   "outputs": [
    {
     "name": "stdout",
     "output_type": "stream",
     "text": [
      "Dog walks with 4 legs.\n",
      "Cat walks with 4 legs.\n"
     ]
    }
   ],
   "source": [
    "class Animal:\n",
    "    legs=4\n",
    "    @classmethod\n",
    "    def walk(cls,name):\n",
    "        print('{} walks with {} legs.'.format(name, cls.legs))\n",
    "\n",
    "Animal.walk(\"Dog\")\n",
    "Animal.walk(\"Cat\")"
   ]
  },
  {
   "cell_type": "code",
   "execution_count": 26,
   "metadata": {
    "collapsed": false
   },
   "outputs": [
    {
     "name": "stdout",
     "output_type": "stream",
     "text": [
      "No. of objects created 3\n",
      "No. of objects created 6\n"
     ]
    }
   ],
   "source": [
    "class Bank:\n",
    "    customer=0\n",
    "    def __init__(self):\n",
    "        Bank.customer = Bank.customer + 1\n",
    "    \n",
    "    @classmethod\n",
    "    def getObjectCount(cls):\n",
    "        print('No. of objects created {}'.format(cls.customer))\n",
    "\n",
    "c1 = Bank()\n",
    "c1 = Bank()\n",
    "c1 = Bank()\n",
    "Bank.getObjectCount()\n",
    "c1 = Bank()\n",
    "c1 = Bank()\n",
    "c1 = Bank()\n",
    "Bank.getObjectCount()"
   ]
  },
  {
   "cell_type": "code",
   "execution_count": null,
   "metadata": {
    "collapsed": true
   },
   "outputs": [],
   "source": [
    "Static Method:\n",
    "    to create general utility methods.\n",
    "    Here we will not use any instance or class variables.\n",
    "    Here we will not provide self or cls arguments at the time of declaration.\n",
    "    We can declare static method explicitly by using @staticmethod decorator\n",
    "    We can access static methods by using classname or object reference"
   ]
  },
  {
   "cell_type": "code",
   "execution_count": 27,
   "metadata": {
    "collapsed": false
   },
   "outputs": [
    {
     "name": "stdout",
     "output_type": "stream",
     "text": [
      "The Sum: 120\n"
     ]
    }
   ],
   "source": [
    "class KiyanMath:\n",
    "    @staticmethod\n",
    "    def add(x,y):\n",
    "        print('The Sum:',x+y)\n",
    "        \n",
    "KiyanMath.add(50,70)"
   ]
  },
  {
   "cell_type": "code",
   "execution_count": null,
   "metadata": {
    "collapsed": true
   },
   "outputs": [],
   "source": [
    "Golden rule of methods:\n",
    "    instance variables -> instance method\n",
    "    static variables -> class method\n",
    "    instance variables + static variables -> instance method\n",
    "    instance variables + local variables -> instance method\n",
    "    static variables + local variables -> class method\n",
    "    local variables -> static method."
   ]
  },
  {
   "cell_type": "code",
   "execution_count": null,
   "metadata": {
    "collapsed": true
   },
   "outputs": [],
   "source": [
    "@classmethod is mandatory otherwise method will be treated as instance method / static method.\n",
    "\n",
    "class Sample:\n",
    "    def m1(cls):\n",
    "        print(\"some method\")\n",
    "    \n",
    "The above one could be instance method / static method as we have not used the decorator of @classmethod.\n",
    "\n",
    "cls can be self in case of instance method\n",
    "cls can be local variable in case of static method\n",
    "\n",
    "calling : Sample.m1() -> Static method\n",
    "          Sample().m1() -> Instance method"
   ]
  },
  {
   "cell_type": "code",
   "execution_count": 28,
   "metadata": {
    "collapsed": false
   },
   "outputs": [
    {
     "name": "stdout",
     "output_type": "stream",
     "text": [
      "name of Employee: kiyan\n",
      "Employee of Salaray: 10000\n",
      "After modification Salary: 11000\n"
     ]
    }
   ],
   "source": [
    "class Employee:\n",
    "    def __init__(self, eno, name, salary):\n",
    "        self.eno = eno \n",
    "        self.name = name\n",
    "        self.salary = salary\n",
    "        \n",
    "    def display(self):\n",
    "        print(\"name of Employee:\", self.name)\n",
    "        print(\"Employee of Salaray:\", self.salary)\n",
    "        \n",
    "class Test:\n",
    "    def modify(emp):\n",
    "        emp.salary = emp.salary + 1000\n",
    "        print(\"After modification Salary:\", emp.salary)\n",
    "        \n",
    "e = Employee(1001,\"kiyan\", 10000)\n",
    "e.display()\n",
    "Test.modify(e)"
   ]
  },
  {
   "cell_type": "code",
   "execution_count": null,
   "metadata": {
    "collapsed": true
   },
   "outputs": [],
   "source": [
    "A static method can use other class objects but not same class object.\n",
    "Because we are not using current class objects in the above example, modify method of Test class is static.\n",
    "\n",
    "Inside a class every variabale and method are by default public"
   ]
  },
  {
   "cell_type": "code",
   "execution_count": null,
   "metadata": {
    "collapsed": true
   },
   "outputs": [],
   "source": [
    "Inner class : without existing of one object the other object not exist, Then we will go for the inner class:\n",
    "        class Head:\n",
    "            class Brain: pass\n",
    "            class Eyes: pass\n",
    "            class mouth:\n",
    "                class toungh:pass\n",
    "                    \n",
    "             \n",
    "        class Bank:\n",
    "            class BankAccount:"
   ]
  },
  {
   "cell_type": "code",
   "execution_count": 29,
   "metadata": {
    "collapsed": false
   },
   "outputs": [
    {
     "name": "stdout",
     "output_type": "stream",
     "text": [
      "Head object is initialized\n"
     ]
    },
    {
     "data": {
      "text/plain": [
       "<__main__.Head at 0x7ff5381764e0>"
      ]
     },
     "execution_count": 29,
     "metadata": {},
     "output_type": "execute_result"
    }
   ],
   "source": [
    "class Head:\n",
    "    def __init__(self):\n",
    "        print(\"Head object is initialized\")\n",
    "    class Eyes:\n",
    "        def __init__(self):\n",
    "            print(\"Opening Eyes\")\n",
    "        def seeing(self):\n",
    "            print(\"I am seeing\")\n",
    "        def sleeping(self):\n",
    "            print(\"I am sleeping\")    \n",
    "    class Mouth:\n",
    "        def __init__(self):\n",
    "            print(\"Opending Mouth\")\n",
    "        def eating(self):\n",
    "            print(\"I am eating\")\n",
    "        def talking(self):\n",
    "            print(\"I am talking\")\n",
    "        class Teeth:\n",
    "            def __init__(self):\n",
    "                print(\"Teeth clunching \")\n",
    "            def brushing(self):\n",
    "                print(\"teeths are cleaned\")\n",
    "            def helping(self):\n",
    "                print(\"teeths are helping for eating\")\n",
    "\n",
    "Head()"
   ]
  },
  {
   "cell_type": "code",
   "execution_count": 30,
   "metadata": {
    "collapsed": false
   },
   "outputs": [
    {
     "name": "stdout",
     "output_type": "stream",
     "text": [
      "Head object is initialized\n",
      "Opening Eyes\n"
     ]
    },
    {
     "data": {
      "text/plain": [
       "<__main__.Head.Eyes at 0x7ff538176ef0>"
      ]
     },
     "execution_count": 30,
     "metadata": {},
     "output_type": "execute_result"
    }
   ],
   "source": [
    "Head().Eyes()"
   ]
  },
  {
   "cell_type": "code",
   "execution_count": 31,
   "metadata": {
    "collapsed": false
   },
   "outputs": [
    {
     "name": "stdout",
     "output_type": "stream",
     "text": [
      "Head object is initialized\n",
      "Opening Eyes\n",
      "I am seeing\n",
      "Head object is initialized\n",
      "Opening Eyes\n",
      "I am sleeping\n"
     ]
    }
   ],
   "source": [
    "Head().Eyes().seeing()\n",
    "Head().Eyes().sleeping()"
   ]
  },
  {
   "cell_type": "code",
   "execution_count": 32,
   "metadata": {
    "collapsed": false
   },
   "outputs": [
    {
     "name": "stdout",
     "output_type": "stream",
     "text": [
      "Head object is initialized\n",
      "Opending Mouth\n",
      "I am eating\n",
      "Head object is initialized\n",
      "Opending Mouth\n",
      "Teeth clunching \n",
      "teeths are helping for eating\n"
     ]
    }
   ],
   "source": [
    "Head().Mouth().eating()\n",
    "Head().Mouth().Teeth().helping()"
   ]
  },
  {
   "cell_type": "code",
   "execution_count": 33,
   "metadata": {
    "collapsed": false
   },
   "outputs": [
    {
     "name": "stdout",
     "output_type": "stream",
     "text": [
      "Head object is initialized\n",
      "Opening Eyes\n",
      "Opending Mouth\n",
      "Teeth clunching \n"
     ]
    },
    {
     "data": {
      "text/plain": [
       "<__main__.Head at 0x7ff53811b358>"
      ]
     },
     "execution_count": 33,
     "metadata": {},
     "output_type": "execute_result"
    }
   ],
   "source": [
    "\n",
    "\n",
    "class Head:\n",
    "    def __init__(self):\n",
    "        print(\"Head object is initialized\")\n",
    "        self.eyes = self.Eyes()\n",
    "        self.mouth = self.Mouth()\n",
    "        self.teeth = self.mouth.Teeth()\n",
    "    \n",
    "    class Eyes:\n",
    "        def __init__(self):\n",
    "            print(\"Opening Eyes\")\n",
    "        def seeing(self):\n",
    "            print(\"I am seeing\")\n",
    "        def sleeping(self):\n",
    "            print(\"I am sleeping\")    \n",
    "    class Mouth:\n",
    "        def __init__(self):\n",
    "            print(\"Opending Mouth\")\n",
    "        def eating(self):\n",
    "            print(\"I am eating\")\n",
    "        def talking(self):\n",
    "            print(\"I am talking\")\n",
    "        class Teeth:\n",
    "            def __init__(self):\n",
    "                print(\"Teeth clunching \")\n",
    "            def brushing(self):\n",
    "                print(\"teeths are cleaned\")\n",
    "            def helping(self):\n",
    "                print(\"teeths are helping for eating\")\n",
    "                \n",
    "Head()"
   ]
  },
  {
   "cell_type": "code",
   "execution_count": 34,
   "metadata": {
    "collapsed": false
   },
   "outputs": [
    {
     "name": "stdout",
     "output_type": "stream",
     "text": [
      "Name : kiyan\n",
      "Date of Birth : 1-7-1987\n"
     ]
    }
   ],
   "source": [
    "class Person:\n",
    "    def __init__(self,name,dd,mm,yy):\n",
    "        self.name = name\n",
    "        self.dob = self.Dob(dd,mm,yy)\n",
    "        \n",
    "    def display(self):\n",
    "        print(\"Name : {}\".format(self.name))\n",
    "        self.dob.display()\n",
    "    class Dob:\n",
    "        def __init__(self,date,month,year):\n",
    "            self.date = date\n",
    "            self.month = month\n",
    "            self.year = year\n",
    "            \n",
    "        def display(self):\n",
    "            print(\"Date of Birth : {}-{}-{}\".format(self.date,self.month,self.year))\n",
    "            \n",
    "p = Person(\"kiyan\",1,7,1987)\n",
    "p.display()"
   ]
  },
  {
   "cell_type": "code",
   "execution_count": 35,
   "metadata": {
    "collapsed": false
   },
   "outputs": [
    {
     "name": "stdout",
     "output_type": "stream",
     "text": [
      "sum of a and b: 30\n",
      "subtraction of a and b -10\n",
      "mulitiplication of and b 200\n",
      "division of a and b 0.5\n",
      "\n",
      "sum of a and b: 300\n",
      "subtraction of a and b -100\n",
      "mulitiplication of and b 20000\n",
      "division of a and b 0.5\n",
      "\n",
      "sum of a and b: 700\n",
      "subtraction of a and b -100\n",
      "mulitiplication of and b 120000\n",
      "division of a and b 0.75\n",
      "\n"
     ]
    }
   ],
   "source": [
    "Nested Method: method specific repeteated required functionality we can use Nested methods. \n",
    "Outside of method the repeated method may not require. That way we may not require to define outside of that method.\n",
    "\n",
    "\n",
    "class Test:\n",
    "    def m1(self):\n",
    "        def calc(a,b):\n",
    "            print(\"sum of a and b:\",a+b)\n",
    "            print(\"subtraction of a and b\",a-b)\n",
    "            print(\"mulitiplication of and b\",a*b)\n",
    "            print(\"division of a and b\",a/b)\n",
    "            print()\n",
    "        calc(10,20)\n",
    "        calc(100,200)\n",
    "        calc(300,400)\n",
    "Test().m1()"
   ]
  },
  {
   "cell_type": "code",
   "execution_count": null,
   "metadata": {
    "collapsed": true
   },
   "outputs": [],
   "source": [
    "Garbage Collection: Pragramers create objects but not destroy objects. Because of that program will be terminated.\n",
    "so garbage collector responsibilty is to destroy useless objects.\n",
    "object without reference name is eligible for garbage collection. by default garbage collection is true. \n",
    "we can disable and enable."
   ]
  },
  {
   "cell_type": "code",
   "execution_count": 36,
   "metadata": {
    "collapsed": false
   },
   "outputs": [
    {
     "name": "stdout",
     "output_type": "stream",
     "text": [
      "True\n"
     ]
    }
   ],
   "source": [
    "import gc\n",
    "print(gc.isenabled())"
   ]
  },
  {
   "cell_type": "code",
   "execution_count": 37,
   "metadata": {
    "collapsed": false
   },
   "outputs": [
    {
     "name": "stdout",
     "output_type": "stream",
     "text": [
      "False\n"
     ]
    }
   ],
   "source": [
    "gc.disable()\n",
    "print(gc.isenabled())"
   ]
  },
  {
   "cell_type": "code",
   "execution_count": 38,
   "metadata": {
    "collapsed": false
   },
   "outputs": [
    {
     "name": "stdout",
     "output_type": "stream",
     "text": [
      "True\n"
     ]
    }
   ],
   "source": [
    "gc.enable()\n",
    "print(gc.isenabled())"
   ]
  },
  {
   "cell_type": "code",
   "execution_count": null,
   "metadata": {
    "collapsed": true
   },
   "outputs": [],
   "source": [
    "Destuctor: Destructor is called by garbage collector just before cleaning the object to perform cleanup of activity \n",
    "    on that object not to destroy the object. destroying the object is done by garbage collector.\n",
    "    \n",
    "    def __del__(self):"
   ]
  },
  {
   "cell_type": "code",
   "execution_count": 39,
   "metadata": {
    "collapsed": false
   },
   "outputs": [
    {
     "name": "stdout",
     "output_type": "stream",
     "text": [
      "object just created\n",
      "With the object our work is over\n",
      "object are destroying\n",
      "End of the program\n"
     ]
    }
   ],
   "source": [
    "import time\n",
    "class Test:\n",
    "    def __init__(self):\n",
    "        print(\"object just created\")\n",
    "    def __del__(self):\n",
    "        print(\"object are destroying\")\n",
    "        \n",
    "t1 = Test()\n",
    "time.sleep(5)\n",
    "print(\"With the object our work is over\")\n",
    "t1 = None\n",
    "time.sleep(10)\n",
    "print(\"End of the program\")"
   ]
  },
  {
   "cell_type": "code",
   "execution_count": null,
   "metadata": {
    "collapsed": true
   },
   "outputs": [],
   "source": [
    "even though we have not called the destroctor, Garbage collection has performed his duty. \n",
    "Refer same program below and notice the number of times the destructor called."
   ]
  },
  {
   "cell_type": "code",
   "execution_count": 40,
   "metadata": {
    "collapsed": false
   },
   "outputs": [
    {
     "name": "stdout",
     "output_type": "stream",
     "text": [
      "object just created\n",
      "With the object our work is over\n",
      "object are destroying\n",
      "object just created\n",
      "<__main__.Test object at 0x7ff5381f9198>\n",
      "object are destroying\n",
      "End of the program\n"
     ]
    }
   ],
   "source": [
    "import time\n",
    "class Test:\n",
    "    def __init__(self):\n",
    "        print(\"object just created\")\n",
    "    def __del__(self):\n",
    "        print(\"object are destroying\")\n",
    "        \n",
    "t1 = Test()\n",
    "time.sleep(5)\n",
    "print(\"With the object our work is over\")\n",
    "t1 = None\n",
    "time.sleep(10)\n",
    "print(Test())\n",
    "print(\"End of the program\")"
   ]
  },
  {
   "cell_type": "code",
   "execution_count": 41,
   "metadata": {
    "collapsed": false
   },
   "outputs": [
    {
     "name": "stdout",
     "output_type": "stream",
     "text": [
      "object just created\n",
      "object are destroying\n",
      "object just created\n",
      "object are destroying\n",
      "object just created\n",
      "object are destroying\n",
      "object just created\n",
      "object are destroying\n",
      "object just created\n",
      "object are destroying\n",
      "End of the program\n"
     ]
    }
   ],
   "source": [
    "class Test:\n",
    "    def __init__(self):\n",
    "        print(\"object just created\")\n",
    "    def __del__(self):\n",
    "        print(\"object are destroying\")\n",
    "\n",
    "for i in range(5):\n",
    "    Test()\n",
    "print(\"End of the program\")"
   ]
  },
  {
   "cell_type": "code",
   "execution_count": null,
   "metadata": {
    "collapsed": true
   },
   "outputs": [],
   "source": [
    "The difference between  del t and t = None . In both cases objects are eligible for garbage collector. \n",
    "in case of del t, we cannot use t anymore. incase of t = None. We can use t in the remaing program. "
   ]
  },
  {
   "cell_type": "code",
   "execution_count": 42,
   "metadata": {
    "collapsed": false
   },
   "outputs": [
    {
     "name": "stdout",
     "output_type": "stream",
     "text": [
      "5\n"
     ]
    }
   ],
   "source": [
    "import sys\n",
    "class Test:\n",
    "    pass\n",
    "t1 = Test()\n",
    "t2 = t1\n",
    "t3 = t1\n",
    "t4 = t1\n",
    "print(sys.getrefcount(t1))\n",
    "#Here we have only 4 reference variables but printed 5. self is also reference variable of object with that 5."
   ]
  },
  {
   "cell_type": "code",
   "execution_count": null,
   "metadata": {
    "collapsed": true
   },
   "outputs": [],
   "source": [
    "Composition Vs Inheritance:\n",
    "has-a relationship vs is-a relationship.\n",
    "\n",
    "if we use other class object inside a a class then we call it composition / has a relationship.\n",
    "for example Car object has a Engine object.\n",
    "\n",
    "if we extend class in other class then we call it inheritance / is a relationship.\n",
    "for example Employee object extends person object.\n",
    " \n",
    "if a parent class constructor will not be called in child class construtor automatically. we have to explicitly\n",
    "call it using super().__init__"
   ]
  },
  {
   "cell_type": "code",
   "execution_count": 43,
   "metadata": {
    "collapsed": false
   },
   "outputs": [
    {
     "name": "stdout",
     "output_type": "stream",
     "text": [
      "Car using Engine Class Functionality\n",
      "10\n",
      "20\n",
      "Engine Specific Functionality\n"
     ]
    }
   ],
   "source": [
    "#HAS relationship Example:\n",
    "    \n",
    "class Engine:\n",
    "    a=10\n",
    "    def __init__(self):\n",
    "        self.b=20\n",
    "    def m1(self):\n",
    "        print('Engine Specific Functionality')\n",
    "class Car:\n",
    "    def __init__(self):\n",
    "        self.engine=Engine()\n",
    "    def m2(self):\n",
    "        print('Car using Engine Class Functionality')\n",
    "        print(self.engine.a)\n",
    "        print(self.engine.b)\n",
    "        self.engine.m1()\n",
    "\n",
    "c=Car()\n",
    "c.m2()"
   ]
  },
  {
   "cell_type": "code",
   "execution_count": 44,
   "metadata": {
    "collapsed": false
   },
   "outputs": [
    {
     "name": "stdout",
     "output_type": "stream",
     "text": [
      "10\n",
      "10\n",
      "Parent instance method\n",
      "Parent class method\n",
      "Parent static method\n"
     ]
    }
   ],
   "source": [
    "#Is-A relationship Example.\n",
    "\n",
    "class P:\n",
    "    a=10\n",
    "    def __init__(self):\n",
    "        self.b=10\n",
    "    def m1(self):\n",
    "        print('Parent instance method')\n",
    "    @classmethod\n",
    "    def m2(cls):\n",
    "        print('Parent class method')\n",
    "    @staticmethod\n",
    "    def m3():\n",
    "        print('Parent static method')\n",
    "\n",
    "class C(P):\n",
    "    pass\n",
    "\n",
    "c=C()\n",
    "print(c.a)\n",
    "print(c.b)\n",
    "c.m1()\n",
    "c.m2()\n",
    "c.m3()"
   ]
  },
  {
   "cell_type": "code",
   "execution_count": 45,
   "metadata": {
    "collapsed": false
   },
   "outputs": [
    {
     "ename": "AttributeError",
     "evalue": "'C' object has no attribute 'b'",
     "output_type": "error",
     "traceback": [
      "\u001b[1;31m---------------------------------------------------------------------------\u001b[0m",
      "\u001b[1;31mAttributeError\u001b[0m                            Traceback (most recent call last)",
      "\u001b[1;32m<ipython-input-45-b6df8e85d2bd>\u001b[0m in \u001b[0;36m<module>\u001b[1;34m()\u001b[0m\n\u001b[0;32m      9\u001b[0m \u001b[1;33m\u001b[0m\u001b[0m\n\u001b[0;32m     10\u001b[0m \u001b[0mc1\u001b[0m\u001b[1;33m=\u001b[0m\u001b[0mC\u001b[0m\u001b[1;33m(\u001b[0m\u001b[1;33m)\u001b[0m  \u001b[1;31m#only child class constuctor will be consider that is why below error\u001b[0m\u001b[1;33m\u001b[0m\u001b[0m\n\u001b[1;32m---> 11\u001b[1;33m \u001b[0mprint\u001b[0m\u001b[1;33m(\u001b[0m\u001b[0mc1\u001b[0m\u001b[1;33m.\u001b[0m\u001b[0ma\u001b[0m\u001b[1;33m,\u001b[0m\u001b[0mc1\u001b[0m\u001b[1;33m.\u001b[0m\u001b[0mb\u001b[0m\u001b[1;33m,\u001b[0m\u001b[0mc1\u001b[0m\u001b[1;33m.\u001b[0m\u001b[0mc\u001b[0m\u001b[1;33m,\u001b[0m\u001b[0mc1\u001b[0m\u001b[1;33m.\u001b[0m\u001b[0md\u001b[0m\u001b[1;33m)\u001b[0m\u001b[1;33m\u001b[0m\u001b[0m\n\u001b[0m",
      "\u001b[1;31mAttributeError\u001b[0m: 'C' object has no attribute 'b'"
     ]
    }
   ],
   "source": [
    "class P:\n",
    "    a=10\n",
    "    def __init__(self):\n",
    "        self.b=20\n",
    "class C(P):\n",
    "    c=30\n",
    "    def __init__(self):\n",
    "        self.d=30\n",
    "\n",
    "c1=C()  #only child class constuctor will be consider that is why below error\n",
    "print(c1.a,c1.b,c1.c,c1.d)"
   ]
  },
  {
   "cell_type": "code",
   "execution_count": 46,
   "metadata": {
    "collapsed": false
   },
   "outputs": [
    {
     "name": "stdout",
     "output_type": "stream",
     "text": [
      "10 20 30 30\n"
     ]
    }
   ],
   "source": [
    "class P:\n",
    "    a=10\n",
    "    def __init__(self):\n",
    "        self.b=20\n",
    "class C(P):\n",
    "    c=30\n",
    "    def __init__(self):\n",
    "        super().__init__()  # To call super class constuctor use Super keyword explicitly.\n",
    "        self.d=30\n",
    "\n",
    "c1=C()\n",
    "print(c1.a,c1.b,c1.c,c1.d)"
   ]
  },
  {
   "cell_type": "code",
   "execution_count": 47,
   "metadata": {
    "collapsed": false
   },
   "outputs": [
    {
     "name": "stdout",
     "output_type": "stream",
     "text": [
      "Eating and Drinking\n",
      "working on Python\n",
      "Employee Name: kiyan\n",
      "Employee Age: 20\n",
      "Employee Number: 1001\n",
      "Employee Salary: 10000\n"
     ]
    }
   ],
   "source": [
    "class Person:\n",
    "    def __init__(self,name,age):\n",
    "        self.name = name\n",
    "        self.age = age\n",
    "    def eat_n_dring(self):\n",
    "        print(\"Eating and Drinking\")\n",
    "    \n",
    "class Employee(Person):\n",
    "    def __init__(self,name,age,eno,sal):\n",
    "        super().__init__(name,age)\n",
    "        self.eno = eno\n",
    "        self.sal = sal\n",
    "    def work(self):\n",
    "        print(\"working on Python\")\n",
    "    def employeeInfo(self):\n",
    "        print(\"Employee Name:\", self.name)\n",
    "        print(\"Employee Age:\", self.age)\n",
    "        print(\"Employee Number:\", self.eno)\n",
    "        print(\"Employee Salary:\", self.sal)\n",
    "\n",
    "e = Employee(\"kiyan\",20,1001,10000)\n",
    "e.eat_n_dring()\n",
    "e.work()\n",
    "e.employeeInfo()"
   ]
  },
  {
   "cell_type": "code",
   "execution_count": 48,
   "metadata": {
    "collapsed": false
   },
   "outputs": [
    {
     "name": "stdout",
     "output_type": "stream",
     "text": [
      "Employee Name: kiyan\n",
      "Employee Age: 20\n",
      "Employee Number: 1001\n",
      "Employee Salary: 10000\n",
      "Employee Car: Honda City\n",
      "Car Model is : Honda City\n",
      "Employee: None\n"
     ]
    }
   ],
   "source": [
    "class Car:\n",
    "    def __init__(self,carModel):\n",
    "        self.carModel = carModel\n",
    "    def getInfo(self):\n",
    "        print(\"Car Model is :\", self.carModel)\n",
    "    \n",
    "class Person:\n",
    "    def __init__(self,name,age):\n",
    "        self.name = name\n",
    "        self.age = age\n",
    "    def eat_n_dring(self):\n",
    "        print(\"Eating and Drinking\")\n",
    "    \n",
    "class Employee(Person):\n",
    "    def __init__(self,name,age,eno,sal,car):\n",
    "        super().__init__(name,age)\n",
    "        self.eno = eno\n",
    "        self.sal = sal\n",
    "        self.car = car\n",
    "    def work(self):\n",
    "        print(\"working on Python\")\n",
    "    def employeeInfo(self):\n",
    "        print(\"Employee Name:\", self.name)\n",
    "        print(\"Employee Age:\", self.age)\n",
    "        print(\"Employee Number:\", self.eno)\n",
    "        print(\"Employee Salary:\", self.sal)\n",
    "        print(\"Employee Car:\", self.car.carModel)\n",
    "        print(\"Employee:\", self.car.getInfo())\n",
    "        \n",
    "\n",
    "c = Car(\"Honda City\")        \n",
    "e = Employee(\"kiyan\",20,1001,10000,c)\n",
    "e.employeeInfo()"
   ]
  },
  {
   "cell_type": "code",
   "execution_count": null,
   "metadata": {
    "collapsed": true
   },
   "outputs": [],
   "source": [
    "Composition Vs Aggregation:\n",
    "    Department object wont exist without university object . Stong association is called Composition.\n",
    "    Even though Department object not exist, the professor can object exist . Weak association is called Aggregation.\n",
    "    Relationship between Object and instarnce variables have strong association\n",
    "    Relationship between object and static variables have weak association."
   ]
  },
  {
   "cell_type": "code",
   "execution_count": 50,
   "metadata": {
    "collapsed": false
   },
   "outputs": [
    {
     "name": "stdout",
     "output_type": "stream",
     "text": [
      "Standalone class\n"
     ]
    }
   ],
   "source": [
    "#Standalone Inheritance:\n",
    "#-----------------------\n",
    "class P:\n",
    "    def m1(self):\n",
    "        print(\"Standalone class\")\n",
    "\n",
    "P().m1()"
   ]
  },
  {
   "cell_type": "code",
   "execution_count": 51,
   "metadata": {
    "collapsed": false
   },
   "outputs": [
    {
     "name": "stdout",
     "output_type": "stream",
     "text": [
      "Parent class\n",
      "Child class\n"
     ]
    }
   ],
   "source": [
    "#Single-level Inheritance:\n",
    "#-------------------------\n",
    "class P:\n",
    "    def m1(self):\n",
    "        print(\"Parent class\")\n",
    "class C(P):\n",
    "    def m2(self):\n",
    "        print(\"Child class\")\n",
    "C().m1()\n",
    "C().m2()"
   ]
  },
  {
   "cell_type": "code",
   "execution_count": 52,
   "metadata": {
    "collapsed": false
   },
   "outputs": [
    {
     "name": "stdout",
     "output_type": "stream",
     "text": [
      "Parent class\n",
      "Child class\n",
      "Sub-Child Class\n"
     ]
    }
   ],
   "source": [
    "#Multiple-level Inheritance:\n",
    "#---------------------------\n",
    "class P:\n",
    "    def m1(self):\n",
    "        print(\"Parent class\")\n",
    "class C(P):\n",
    "    def m2(self):\n",
    "        print(\"Child class\")\n",
    "class CC(C):\n",
    "    def m3(self):\n",
    "        print(\"Sub-Child Class\")\n",
    "CC().m1()\n",
    "CC().m2()\n",
    "CC().m3()"
   ]
  },
  {
   "cell_type": "code",
   "execution_count": 53,
   "metadata": {
    "collapsed": false
   },
   "outputs": [
    {
     "name": "stdout",
     "output_type": "stream",
     "text": [
      "Parent class\n",
      "Child class 1\n",
      "Child class 2\n"
     ]
    }
   ],
   "source": [
    "#Hierarchical Inheritance:\n",
    "#-------------------------\n",
    "\n",
    "class P:\n",
    "    def m1(self):\n",
    "        print(\"Parent class\")\n",
    "class C(P):\n",
    "    def m2(self):\n",
    "        print(\"Child class 1\")\n",
    "class CC(P):\n",
    "    def m3(self):\n",
    "        print(\"Child class 2\")\n",
    "\n",
    "P().m1()\n",
    "C().m2()\n",
    "CC().m3()"
   ]
  },
  {
   "cell_type": "code",
   "execution_count": 55,
   "metadata": {
    "collapsed": false
   },
   "outputs": [
    {
     "name": "stdout",
     "output_type": "stream",
     "text": [
      "Parent1 class\n",
      "Parent2 m3 method\n",
      "Child class\n"
     ]
    }
   ],
   "source": [
    "#Mulitiple Inheritance:  No Dimond Access/Ambiguity problem\n",
    "#----------------------\n",
    "\n",
    "class P1:\n",
    "    def m1(self):\n",
    "        print(\"Parent1 class\")\n",
    "class P2:\n",
    "    def m1(self):\n",
    "        print(\"Parent2 class\")\n",
    "    def m2(self):\n",
    "        print(\"Parent2 m3 method\") \n",
    "\n",
    "class C(P1,P2):\n",
    "    def m3(self):\n",
    "        print(\"Child class\")\n",
    "C().m1()\n",
    "C().m2()\n",
    "C().m3()"
   ]
  },
  {
   "cell_type": "code",
   "execution_count": 56,
   "metadata": {
    "collapsed": false
   },
   "outputs": [
    {
     "name": "stdout",
     "output_type": "stream",
     "text": [
      "Parent2 class\n",
      "Parent2 m3 method\n",
      "Child class\n"
     ]
    }
   ],
   "source": [
    "class C(P2,P1):\n",
    "    def m3(self):\n",
    "        print(\"Child class\")\n",
    "C().m1()\n",
    "C().m2()\n",
    "C().m3()"
   ]
  },
  {
   "cell_type": "code",
   "execution_count": null,
   "metadata": {
    "collapsed": true
   },
   "outputs": [],
   "source": [
    "Hybrid: combinaltion of any inheritance is called Hybrid Inheritance. "
   ]
  },
  {
   "cell_type": "code",
   "execution_count": null,
   "metadata": {
    "collapsed": true
   },
   "outputs": [],
   "source": [
    "Cyclic Inheritance is not allowed in Python. It is not require in below both the cases."
   ]
  },
  {
   "cell_type": "code",
   "execution_count": 59,
   "metadata": {
    "collapsed": false
   },
   "outputs": [
    {
     "ename": "SyntaxError",
     "evalue": "invalid syntax (<ipython-input-59-282c655b41c9>, line 1)",
     "output_type": "error",
     "traceback": [
      "\u001b[1;36m  File \u001b[1;32m\"<ipython-input-59-282c655b41c9>\"\u001b[1;36m, line \u001b[1;32m1\u001b[0m\n\u001b[1;33m    Class A(A):\u001b[0m\n\u001b[1;37m          ^\u001b[0m\n\u001b[1;31mSyntaxError\u001b[0m\u001b[1;31m:\u001b[0m invalid syntax\n"
     ]
    }
   ],
   "source": [
    "Class A(A):\n",
    "    pass"
   ]
  },
  {
   "cell_type": "code",
   "execution_count": 60,
   "metadata": {
    "collapsed": false
   },
   "outputs": [
    {
     "ename": "SyntaxError",
     "evalue": "invalid syntax (<ipython-input-60-5c5a90dc0bde>, line 1)",
     "output_type": "error",
     "traceback": [
      "\u001b[1;36m  File \u001b[1;32m\"<ipython-input-60-5c5a90dc0bde>\"\u001b[1;36m, line \u001b[1;32m1\u001b[0m\n\u001b[1;33m    Class A(B):\u001b[0m\n\u001b[1;37m          ^\u001b[0m\n\u001b[1;31mSyntaxError\u001b[0m\u001b[1;31m:\u001b[0m invalid syntax\n"
     ]
    }
   ],
   "source": [
    "Class A(B):\n",
    "    pass\n",
    "Class B(A):\n",
    "    pass"
   ]
  },
  {
   "cell_type": "code",
   "execution_count": null,
   "metadata": {
    "collapsed": true
   },
   "outputs": [],
   "source": [
    "Hybrid inheritance\n",
    "                                                A\n",
    "    \n",
    "    \n",
    "    \n",
    "                                B                                  C\n",
    "        \n",
    "        \n",
    "        \n",
    "                                                D"
   ]
  },
  {
   "cell_type": "code",
   "execution_count": 61,
   "metadata": {
    "collapsed": false
   },
   "outputs": [
    {
     "name": "stdout",
     "output_type": "stream",
     "text": [
      "How method will be search\n",
      "For Object A [<class '__main__.A'>, <class 'object'>]\n",
      "For Object B [<class '__main__.B'>, <class '__main__.A'>, <class 'object'>]\n",
      "For Object C [<class '__main__.C'>, <class '__main__.A'>, <class 'object'>]\n",
      "For Object C [<class '__main__.D'>, <class '__main__.B'>, <class '__main__.C'>, <class '__main__.A'>, <class 'object'>]\n"
     ]
    }
   ],
   "source": [
    "class A:pass\n",
    "class B(A):pass\n",
    "class C(A):pass\n",
    "class D(B,C):pass\n",
    "print(\"How method will be search\")\n",
    "print(\"For Object A\",A.mro())\n",
    "print(\"For Object B\",B.mro())\n",
    "print(\"For Object C\",C.mro())\n",
    "print(\"For Object C\",D.mro())"
   ]
  },
  {
   "cell_type": "code",
   "execution_count": null,
   "metadata": {
    "collapsed": true
   },
   "outputs": [],
   "source": [
    "When you go third level and above of Hybid inheritance, pridict of method order is difficult.\n",
    "\n",
    "In Hybrid Inheritance the method resolution order is decided based on MRO algorithm.\n",
    "This algorithm is also known as C3 algorithm proposed by  Samuele Pedroni.\n",
    "It follows DLR (Depth First Left to Right) i.e Child will get more priority than Parent.\n",
    "Left Parent will get more priority than Right Parent.\n",
    "MRO(X) = X+Merge(MRO(P1),MRO(P2),...,ParentList)\n",
    "\n",
    "Assume C1,C2,C3,...are classes.\n",
    "In the list: C1C2C3C4C5....\n",
    "C1 is considered as Head Element and remaining is considered as Tail.\n",
    "\n",
    "C3 Algorithem implemention.\n",
    "\n",
    "Take the head of first list\n",
    "\n",
    "If the head is not in the tail part of any other list, then add this head to the result and\n",
    "remove it from the lists in the merge.\n",
    "\n",
    "If the head is present in the tail part of any other list, then consider the head element\n",
    "of the next list and continue the same process."
   ]
  },
  {
   "cell_type": "code",
   "execution_count": 62,
   "metadata": {
    "collapsed": false
   },
   "outputs": [
    {
     "name": "stdout",
     "output_type": "stream",
     "text": [
      "[<class '__main__.A'>, <class 'object'>]\n",
      "[<class '__main__.B'>, <class '__main__.A'>, <class 'object'>]\n",
      "[<class '__main__.C'>, <class '__main__.A'>, <class 'object'>]\n"
     ]
    }
   ],
   "source": [
    "class A:pass\n",
    "class B(A):pass\n",
    "class C(A):pass\n",
    "class D(B,C):pass\n",
    "print(A.mro())\n",
    "print(B.mro())\n",
    "print(C.mro())"
   ]
  },
  {
   "cell_type": "code",
   "execution_count": null,
   "metadata": {
    "collapsed": true
   },
   "outputs": [],
   "source": [
    "MRO(D) = D + Merge(MRO(B),MRO(C),BC)\n",
    "       = D + Merge(BAO,CAO,BC)\n",
    "       = D + B + Merge(AO,CAO,C)\n",
    "       = D + B + C + Merge(AO,AO)\n",
    "       = D + B + C + A + O"
   ]
  },
  {
   "cell_type": "code",
   "execution_count": 63,
   "metadata": {
    "collapsed": false
   },
   "outputs": [
    {
     "name": "stdout",
     "output_type": "stream",
     "text": [
      "[<class '__main__.D'>, <class '__main__.B'>, <class '__main__.C'>, <class '__main__.A'>, <class 'object'>]\n"
     ]
    }
   ],
   "source": [
    "print(D.mro())"
   ]
  },
  {
   "cell_type": "code",
   "execution_count": 64,
   "metadata": {
    "collapsed": false
   },
   "outputs": [
    {
     "name": "stdout",
     "output_type": "stream",
     "text": [
      "[<class '__main__.A'>, <class 'object'>]\n",
      "[<class '__main__.B'>, <class 'object'>]\n",
      "[<class '__main__.C'>, <class 'object'>]\n",
      "[<class '__main__.X'>, <class '__main__.A'>, <class '__main__.B'>, <class 'object'>]\n",
      "[<class '__main__.Y'>, <class '__main__.B'>, <class '__main__.C'>, <class 'object'>]\n"
     ]
    }
   ],
   "source": [
    "#Hybrid inheritance level 2:\n",
    "    \n",
    "class A:pass\n",
    "class B:pass\n",
    "class C:pass\n",
    "class X(A,B):pass\n",
    "class Y(B,C):pass\n",
    "class Z(X,Y,C):pass\n",
    "\n",
    "print(A.mro())\n",
    "print(B.mro())\n",
    "print(C.mro())\n",
    "print(X.mro())\n",
    "print(Y.mro())"
   ]
  },
  {
   "cell_type": "code",
   "execution_count": 65,
   "metadata": {
    "collapsed": false
   },
   "outputs": [
    {
     "name": "stdout",
     "output_type": "stream",
     "text": [
      "[<class '__main__.Z'>, <class '__main__.X'>, <class '__main__.A'>, <class '__main__.Y'>, <class '__main__.B'>, <class '__main__.C'>, <class 'object'>]\n"
     ]
    }
   ],
   "source": [
    "Now challege is to identify the mro for Z. \n",
    "C3 Algorithem is MRO(X) = X+Merge(MRO(P1),MRO(P2),...,ParentList)\n",
    "As per c3 algorithem = Z + merge(MRO(X)+MRO(Y)+BRO(C)+XYC) \n",
    "                     = Z + Merge(XABO, YBCO , CO , XYC)\n",
    "                     = Z + X + merge(ABO,YBCO,CO,YC)\n",
    "                     = Z + X + A + merge(BO,YBCO,CO,YC)\n",
    "                     = Z + X + A + Y + merge(BO,BCO,CO,C)\n",
    "                     = Z + X + A + Y + B + merge(O,CO,CO,C)\n",
    "                     = Z + X + A + Y + B + C + O\n",
    "\n",
    "print(Z.mro())"
   ]
  },
  {
   "cell_type": "code",
   "execution_count": 66,
   "metadata": {
    "collapsed": false
   },
   "outputs": [
    {
     "name": "stdout",
     "output_type": "stream",
     "text": [
      "[<class '__main__.A'>, <class 'object'>]\n",
      "[<class '__main__.B'>, <class 'object'>]\n",
      "[<class '__main__.C'>, <class 'object'>]\n",
      "[<class '__main__.D'>, <class '__main__.A'>, <class '__main__.C'>, <class 'object'>]\n",
      "[<class '__main__.E'>, <class '__main__.A'>, <class 'object'>]\n"
     ]
    }
   ],
   "source": [
    "class A:pass\n",
    "class B:pass\n",
    "class C:pass\n",
    "class D(A,C):pass\n",
    "class E(A):pass\n",
    "class F(D,E):pass\n",
    "\n",
    "print(A.mro())\n",
    "print(B.mro())\n",
    "print(C.mro())\n",
    "print(D.mro())\n",
    "print(E.mro())"
   ]
  },
  {
   "cell_type": "code",
   "execution_count": null,
   "metadata": {
    "collapsed": true
   },
   "outputs": [],
   "source": [
    "Now challege is to identify the mro for F. \n",
    "C3 Algorithem is MRO(X) = X+Merge(MRO(P1),MRO(P2),...,ParentList)\n",
    "As per c3 algorithem = E + merge(MRO(D)+MRO(E)+ DE) \n",
    "                     = F + Merge(DACO, EAO , DE)\n",
    "                     = F + D + merge(ACO,EAO,E)\n",
    "                     = F + D + E + merge(ACO,AO,)\n",
    "                     = F + D + E + A + C + O"
   ]
  },
  {
   "cell_type": "code",
   "execution_count": 67,
   "metadata": {
    "collapsed": false
   },
   "outputs": [
    {
     "name": "stdout",
     "output_type": "stream",
     "text": [
      "[<class '__main__.F'>, <class '__main__.D'>, <class '__main__.E'>, <class '__main__.A'>, <class '__main__.C'>, <class 'object'>]\n"
     ]
    }
   ],
   "source": [
    "print(F.mro())"
   ]
  },
  {
   "cell_type": "code",
   "execution_count": null,
   "metadata": {
    "collapsed": true
   },
   "outputs": [],
   "source": [
    "super():\n",
    "we call super class constructors, variables and methods from the child  class when child and super members are same."
   ]
  },
  {
   "cell_type": "code",
   "execution_count": 68,
   "metadata": {
    "collapsed": false
   },
   "outputs": [
    {
     "name": "stdout",
     "output_type": "stream",
     "text": [
      "Name of the Person: kiyan\n",
      "Age of the Person: 30\n",
      "None\n",
      "Studnet Roll Number: 1001\n",
      "Student marks: 75\n"
     ]
    }
   ],
   "source": [
    "class Person:\n",
    "    def __init__(self,name,age):\n",
    "        self.name = name\n",
    "        self.age = age\n",
    "    def display(self):\n",
    "        print(\"Name of the Person:\",self.name)\n",
    "        print(\"Age of the Person:\", self.age)\n",
    "\n",
    "class Student(Person):\n",
    "    def __init__(self,name,age,rollNo,marks):\n",
    "        super().__init__(name,age)    # calling super class constructor,\n",
    "        self.rollNo = rollNo\n",
    "        self.marks = marks\n",
    "    def display(self):\n",
    "        print(super().display())   # calling super class method.\n",
    "        print(\"Studnet Roll Number:\",self.rollNo)\n",
    "        print(\"Student marks:\", self.marks)\n",
    "\n",
    "s = Student(\"kiyan\",30,1001,75)\n",
    "s.display()"
   ]
  },
  {
   "cell_type": "code",
   "execution_count": null,
   "metadata": {
    "collapsed": true
   },
   "outputs": [],
   "source": [
    "In the above example we saw how to call parent class constructor and parent class method using Super()"
   ]
  },
  {
   "cell_type": "code",
   "execution_count": null,
   "metadata": {
    "collapsed": true
   },
   "outputs": [],
   "source": [
    "From below two examples, calling instance variable using super keyword is not allowed. We have to use self only"
   ]
  },
  {
   "cell_type": "code",
   "execution_count": 69,
   "metadata": {
    "collapsed": false
   },
   "outputs": [
    {
     "ename": "AttributeError",
     "evalue": "'super' object has no attribute 'name'",
     "output_type": "error",
     "traceback": [
      "\u001b[1;31m---------------------------------------------------------------------------\u001b[0m",
      "\u001b[1;31mAttributeError\u001b[0m                            Traceback (most recent call last)",
      "\u001b[1;32m<ipython-input-69-81b6a364e43b>\u001b[0m in \u001b[0;36m<module>\u001b[1;34m()\u001b[0m\n\u001b[0;32m     18\u001b[0m \u001b[1;33m\u001b[0m\u001b[0m\n\u001b[0;32m     19\u001b[0m \u001b[0ms\u001b[0m \u001b[1;33m=\u001b[0m \u001b[0mStudent\u001b[0m\u001b[1;33m(\u001b[0m\u001b[1;34m\"kiyan\"\u001b[0m\u001b[1;33m,\u001b[0m\u001b[1;36m30\u001b[0m\u001b[1;33m,\u001b[0m\u001b[1;36m1001\u001b[0m\u001b[1;33m,\u001b[0m\u001b[1;36m75\u001b[0m\u001b[1;33m)\u001b[0m\u001b[1;33m\u001b[0m\u001b[0m\n\u001b[1;32m---> 20\u001b[1;33m \u001b[0ms\u001b[0m\u001b[1;33m.\u001b[0m\u001b[0mdisplay\u001b[0m\u001b[1;33m(\u001b[0m\u001b[1;33m)\u001b[0m\u001b[1;33m\u001b[0m\u001b[0m\n\u001b[0m",
      "\u001b[1;32m<ipython-input-69-81b6a364e43b>\u001b[0m in \u001b[0;36mdisplay\u001b[1;34m(self)\u001b[0m\n\u001b[0;32m     13\u001b[0m         \u001b[0mself\u001b[0m\u001b[1;33m.\u001b[0m\u001b[0mmarks\u001b[0m \u001b[1;33m=\u001b[0m \u001b[0mmarks\u001b[0m\u001b[1;33m\u001b[0m\u001b[0m\n\u001b[0;32m     14\u001b[0m     \u001b[1;32mdef\u001b[0m \u001b[0mdisplay\u001b[0m\u001b[1;33m(\u001b[0m\u001b[0mself\u001b[0m\u001b[1;33m)\u001b[0m\u001b[1;33m:\u001b[0m\u001b[1;33m\u001b[0m\u001b[0m\n\u001b[1;32m---> 15\u001b[1;33m         \u001b[0mprint\u001b[0m\u001b[1;33m(\u001b[0m\u001b[0msuper\u001b[0m\u001b[1;33m(\u001b[0m\u001b[1;33m)\u001b[0m\u001b[1;33m.\u001b[0m\u001b[0mname\u001b[0m\u001b[1;33m)\u001b[0m   \u001b[1;31m# calling instance variable using super keyword is not allowed. We have to use self only\u001b[0m\u001b[1;33m\u001b[0m\u001b[0m\n\u001b[0m\u001b[0;32m     16\u001b[0m         \u001b[0mprint\u001b[0m\u001b[1;33m(\u001b[0m\u001b[1;34m\"Studnet Roll Number:\"\u001b[0m\u001b[1;33m,\u001b[0m\u001b[0mself\u001b[0m\u001b[1;33m.\u001b[0m\u001b[0mrollNo\u001b[0m\u001b[1;33m)\u001b[0m\u001b[1;33m\u001b[0m\u001b[0m\n\u001b[0;32m     17\u001b[0m         \u001b[0mprint\u001b[0m\u001b[1;33m(\u001b[0m\u001b[1;34m\"Student marks:\"\u001b[0m\u001b[1;33m,\u001b[0m \u001b[0mself\u001b[0m\u001b[1;33m.\u001b[0m\u001b[0mmarks\u001b[0m\u001b[1;33m)\u001b[0m\u001b[1;33m\u001b[0m\u001b[0m\n",
      "\u001b[1;31mAttributeError\u001b[0m: 'super' object has no attribute 'name'"
     ]
    }
   ],
   "source": [
    "class Person:\n",
    "    def __init__(self,name,age):\n",
    "        self.name = name\n",
    "        self.age = age\n",
    "    def display(self):\n",
    "        print(\"Name of the Person:\",self.name)\n",
    "        print(\"Age of the Person:\", self.age)\n",
    "\n",
    "class Student(Person):\n",
    "    def __init__(self,name,age,rollNo,marks):\n",
    "        super().__init__(name,age)    # calling super class constructor,\n",
    "        self.rollNo = rollNo\n",
    "        self.marks = marks\n",
    "    def display(self):\n",
    "        print(super().name)   # calling instance variable using super keyword is not allowed. We have to use self only\n",
    "        print(\"Studnet Roll Number:\",self.rollNo)\n",
    "        print(\"Student marks:\", self.marks)\n",
    "\n",
    "s = Student(\"kiyan\",30,1001,75)\n",
    "s.display()"
   ]
  },
  {
   "cell_type": "code",
   "execution_count": 70,
   "metadata": {
    "collapsed": false
   },
   "outputs": [
    {
     "name": "stdout",
     "output_type": "stream",
     "text": [
      "kiyan\n",
      "Studnet Roll Number: 1001\n",
      "Student marks: 75\n"
     ]
    }
   ],
   "source": [
    "class Person:\n",
    "    def __init__(self,name,age):\n",
    "        self.name = name\n",
    "        self.age = age\n",
    "    def display(self):\n",
    "        print(\"Name of the Person:\",self.name)\n",
    "        print(\"Age of the Person:\", self.age)\n",
    "\n",
    "class Student(Person):\n",
    "    def __init__(self,name,age,rollNo,marks):\n",
    "        super().__init__(name,age)    # calling super class constructor,\n",
    "        self.rollNo = rollNo\n",
    "        self.marks = marks\n",
    "    def display(self):\n",
    "        print(self.name)   # calling instance variable using super keyword is not allowed. We have to use self only\n",
    "        print(\"Studnet Roll Number:\",self.rollNo)\n",
    "        print(\"Student marks:\", self.marks)\n",
    "\n",
    "s = Student(\"kiyan\",30,1001,75)\n",
    "s.display()"
   ]
  },
  {
   "cell_type": "code",
   "execution_count": 71,
   "metadata": {
    "collapsed": false
   },
   "outputs": [
    {
     "name": "stdout",
     "output_type": "stream",
     "text": [
      "888\n",
      "10\n",
      "Parent class instance method\n",
      "None\n",
      "parent class class method.\n",
      "None\n",
      "Parent class static method.\n",
      "None\n"
     ]
    },
    {
     "data": {
      "text/plain": [
       "<__main__.C at 0x7ff53813ea90>"
      ]
     },
     "execution_count": 71,
     "metadata": {},
     "output_type": "execute_result"
    }
   ],
   "source": [
    "class P:\n",
    "    a = 10\n",
    "    def __init__(self):\n",
    "        self.b = 20\n",
    "    def m1(self):\n",
    "        print(\"Parent class instance method\")\n",
    "    @classmethod\n",
    "    def m2(cls):\n",
    "        print(\"parent class class method.\")\n",
    "    @staticmethod\n",
    "    def m3():\n",
    "        print(\"Parent class static method.\")\n",
    "class C(P):\n",
    "    a = 888\n",
    "    def __init__(self):\n",
    "        print(C.a)\n",
    "        print(super().a)\n",
    "        print(super().m1())\n",
    "        print(super().m2())\n",
    "        print(super().m3())\n",
    "C()"
   ]
  },
  {
   "cell_type": "code",
   "execution_count": null,
   "metadata": {
    "collapsed": true
   },
   "outputs": [],
   "source": [
    "In Muliti level inheritance incalling parent class constructor by skipping immediate super class method."
   ]
  },
  {
   "cell_type": "code",
   "execution_count": 72,
   "metadata": {
    "collapsed": false
   },
   "outputs": [
    {
     "name": "stdout",
     "output_type": "stream",
     "text": [
      "E class m1 method\n"
     ]
    }
   ],
   "source": [
    "class A:\n",
    "    def m1(self):\n",
    "        print(\"A class m1 method\")\n",
    "class B(A):\n",
    "    def m1(self):\n",
    "        print(\"B class m1 method\")\n",
    "class C(B):\n",
    "    def m1(self):\n",
    "        print(\"C class m1 method\")\n",
    "class D(C):\n",
    "    def m1(self):\n",
    "        print(\"D class m1 method\")\n",
    "class E(D):\n",
    "    def m1(self):\n",
    "        print(\"E class m1 method\")\n",
    "        \n",
    "e = E()\n",
    "e.m1()"
   ]
  },
  {
   "cell_type": "code",
   "execution_count": 73,
   "metadata": {
    "collapsed": false
   },
   "outputs": [
    {
     "name": "stdout",
     "output_type": "stream",
     "text": [
      "D class m1 method\n"
     ]
    }
   ],
   "source": [
    "class A:\n",
    "    def m1(self):\n",
    "        print(\"A class m1 method\")\n",
    "class B(A):\n",
    "    def m1(self):\n",
    "        print(\"B class m1 method\")\n",
    "class C(B):\n",
    "    def m1(self):\n",
    "        print(\"C class m1 method\")\n",
    "class D(C):\n",
    "    def m1(self):\n",
    "        print(\"D class m1 method\")\n",
    "class E(D):\n",
    "    def m1(self):\n",
    "        super().m1()\n",
    "        \n",
    "e = E()\n",
    "e.m1()"
   ]
  },
  {
   "cell_type": "code",
   "execution_count": 74,
   "metadata": {
    "collapsed": false
   },
   "outputs": [
    {
     "name": "stdout",
     "output_type": "stream",
     "text": [
      "B class m1 method\n"
     ]
    }
   ],
   "source": [
    "class A:\n",
    "    def m1(self):\n",
    "        print(\"A class m1 method\")\n",
    "class B(A):\n",
    "    def m1(self):\n",
    "        print(\"B class m1 method\")\n",
    "class C(B):\n",
    "    def m1(self):\n",
    "        print(\"C class m1 method\")\n",
    "class D(C):\n",
    "    def m1(self):\n",
    "        print(\"D class m1 method\")\n",
    "class E(D):\n",
    "    def m1(self):\n",
    "        B.m1(self)\n",
    "        \n",
    "e = E()\n",
    "e.m1()"
   ]
  },
  {
   "cell_type": "code",
   "execution_count": 75,
   "metadata": {
    "collapsed": false
   },
   "outputs": [
    {
     "name": "stdout",
     "output_type": "stream",
     "text": [
      "B class m1 method\n",
      "A class m1 method\n"
     ]
    }
   ],
   "source": [
    "class A:\n",
    "    def m1(self):\n",
    "        print(\"A class m1 method\")\n",
    "class B(A):\n",
    "    def m1(self):\n",
    "        print(\"B class m1 method\")\n",
    "class C(B):\n",
    "    def m1(self):\n",
    "        print(\"C class m1 method\")\n",
    "class D(C):\n",
    "    def m1(self):\n",
    "        print(\"D class m1 method\")\n",
    "class E(D):\n",
    "    def m1(self):\n",
    "        super(C,self).m1()\n",
    "        super(B,self).m1()\n",
    "        \n",
    "e = E()\n",
    "e.m1()"
   ]
  },
  {
   "cell_type": "code",
   "execution_count": null,
   "metadata": {
    "collapsed": true
   },
   "outputs": [],
   "source": [
    "More recently initialized instance variable value will be considered when parent and child has same instance variable.\n",
    "Notice the output of below two programs."
   ]
  },
  {
   "cell_type": "code",
   "execution_count": 76,
   "metadata": {
    "collapsed": false
   },
   "outputs": [
    {
     "name": "stdout",
     "output_type": "stream",
     "text": [
      "200\n"
     ]
    },
    {
     "data": {
      "text/plain": [
       "<__main__.B at 0x7ff5381437b8>"
      ]
     },
     "execution_count": 76,
     "metadata": {},
     "output_type": "execute_result"
    }
   ],
   "source": [
    "class A:\n",
    "    def __init__(self):\n",
    "        self.b = 100\n",
    "class B(A):\n",
    "    def __init__(self):\n",
    "        self.b = 200\n",
    "        print(self.b)\n",
    "B()"
   ]
  },
  {
   "cell_type": "code",
   "execution_count": 77,
   "metadata": {
    "collapsed": false
   },
   "outputs": [
    {
     "name": "stdout",
     "output_type": "stream",
     "text": [
      "100\n"
     ]
    },
    {
     "data": {
      "text/plain": [
       "<__main__.B at 0x7ff5381479e8>"
      ]
     },
     "execution_count": 77,
     "metadata": {},
     "output_type": "execute_result"
    }
   ],
   "source": [
    "class A:\n",
    "    def __init__(self):\n",
    "        self.b = 100\n",
    "class B(A):\n",
    "    def __init__(self):\n",
    "        self.b = 200\n",
    "        super().__init__()\n",
    "        print(self.b)\n",
    "B()"
   ]
  },
  {
   "cell_type": "code",
   "execution_count": null,
   "metadata": {
    "collapsed": true
   },
   "outputs": [],
   "source": [
    "Polymorphisam: More than one form.\n",
    "    Duck Typing Philosopy of Python\n",
    "    \n",
    "Overloading:\n",
    "    Operator Overloading\n",
    "    Method Overloading\n",
    "    Constructor Overloading\n",
    "Overriding:\n",
    "    Method Overridding\n",
    "    Constructor Overriding."
   ]
  },
  {
   "cell_type": "code",
   "execution_count": null,
   "metadata": {
    "collapsed": true
   },
   "outputs": [],
   "source": [
    "Duck Typing Philosopy of Python: In python we do not have datatype like \n",
    "\n",
    "in java Student s = new Student(); \n",
    "in python s = Student().\n",
    "\n",
    "in java public void m1(Student S1)\n",
    "in python m1(obj)\n",
    "\n",
    "python giving importance to behaviour not to type. type will be decided based on behaviour\n",
    "\n",
    "    if it walk like duck and talk like duck\n",
    "    then it is duck."
   ]
  },
  {
   "cell_type": "code",
   "execution_count": 81,
   "metadata": {
    "collapsed": false
   },
   "outputs": [
    {
     "ename": "TypeError",
     "evalue": "talk() missing 1 required positional argument: 'self'",
     "output_type": "error",
     "traceback": [
      "\u001b[1;31m---------------------------------------------------------------------------\u001b[0m",
      "\u001b[1;31mTypeError\u001b[0m                                 Traceback (most recent call last)",
      "\u001b[1;32m<ipython-input-81-f66a19d82002>\u001b[0m in \u001b[0;36m<module>\u001b[1;34m()\u001b[0m\n\u001b[0;32m     15\u001b[0m     \u001b[0mobj\u001b[0m\u001b[1;33m.\u001b[0m\u001b[0mtalk\u001b[0m\u001b[1;33m(\u001b[0m\u001b[1;33m)\u001b[0m\u001b[1;33m\u001b[0m\u001b[0m\n\u001b[0;32m     16\u001b[0m \u001b[1;33m\u001b[0m\u001b[0m\n\u001b[1;32m---> 17\u001b[1;33m \u001b[0mf1\u001b[0m\u001b[1;33m(\u001b[0m\u001b[0mDuck\u001b[0m\u001b[1;33m)\u001b[0m\u001b[1;33m\u001b[0m\u001b[0m\n\u001b[0m\u001b[0;32m     18\u001b[0m \u001b[0mf1\u001b[0m\u001b[1;33m(\u001b[0m\u001b[0mStudent\u001b[0m\u001b[1;33m)\u001b[0m\u001b[1;33m\u001b[0m\u001b[0m\n",
      "\u001b[1;32m<ipython-input-81-f66a19d82002>\u001b[0m in \u001b[0;36mf1\u001b[1;34m(obj)\u001b[0m\n\u001b[0;32m     13\u001b[0m \u001b[1;33m\u001b[0m\u001b[0m\n\u001b[0;32m     14\u001b[0m \u001b[1;32mdef\u001b[0m \u001b[0mf1\u001b[0m\u001b[1;33m(\u001b[0m\u001b[0mobj\u001b[0m\u001b[1;33m)\u001b[0m\u001b[1;33m:\u001b[0m\u001b[1;33m\u001b[0m\u001b[0m\n\u001b[1;32m---> 15\u001b[1;33m     \u001b[0mobj\u001b[0m\u001b[1;33m.\u001b[0m\u001b[0mtalk\u001b[0m\u001b[1;33m(\u001b[0m\u001b[1;33m)\u001b[0m\u001b[1;33m\u001b[0m\u001b[0m\n\u001b[0m\u001b[0;32m     16\u001b[0m \u001b[1;33m\u001b[0m\u001b[0m\n\u001b[0;32m     17\u001b[0m \u001b[0mf1\u001b[0m\u001b[1;33m(\u001b[0m\u001b[0mDuck\u001b[0m\u001b[1;33m)\u001b[0m\u001b[1;33m\u001b[0m\u001b[0m\n",
      "\u001b[1;31mTypeError\u001b[0m: talk() missing 1 required positional argument: 'self'"
     ]
    }
   ],
   "source": [
    "class Duck:\n",
    "    def talk(self):\n",
    "        print(\"Quak Quak..\")\n",
    "class dog:\n",
    "    def talk(self):\n",
    "        print(\"Bow Bow..\")\n",
    "class Goat:\n",
    "    def talk(self):\n",
    "        print(\"Meea Meea..\")\n",
    "class Cat:\n",
    "    def talk(self):\n",
    "        print(\"Mowa Mowa..\")\n",
    "        \n",
    "def f1(obj):\n",
    "    obj.talk()\n",
    "    \n",
    "f1(Duck)\n",
    "f1(Student)"
   ]
  },
  {
   "cell_type": "code",
   "execution_count": 82,
   "metadata": {
    "collapsed": false
   },
   "outputs": [
    {
     "name": "stdout",
     "output_type": "stream",
     "text": [
      "Quak Quak..\n"
     ]
    }
   ],
   "source": [
    "class Duck:\n",
    "    def talk(self):\n",
    "        print(\"Quak Quak..\")\n",
    "class Dog:\n",
    "    def bark(self):\n",
    "        print(\"Bow Bow..\")\n",
    "class Goat:\n",
    "    def talk(self):\n",
    "        print(\"Meea Meea..\")\n",
    "class Cat:\n",
    "    def talk(self):\n",
    "        print(\"Mowa Mowa..\")\n",
    "\n",
    "def f1(obj):\n",
    "    if hasattr(obj,'talk'):\n",
    "        obj.talk()\n",
    "    elif hasattr (obj, 'display'):\n",
    "        Obj.display()\n",
    "\n",
    "f1(Duck())\n",
    "f1(Dog())"
   ]
  },
  {
   "cell_type": "code",
   "execution_count": 83,
   "metadata": {
    "collapsed": false
   },
   "outputs": [
    {
     "name": "stdout",
     "output_type": "stream",
     "text": [
      "Quak Quak..\n",
      "Bow Bow..\n"
     ]
    }
   ],
   "source": [
    "class Duck:\n",
    "    def talk(self):\n",
    "        print(\"Quak Quak..\")\n",
    "class Dog:\n",
    "    def bark(self):\n",
    "        print(\"Bow Bow..\")\n",
    "class Goat:\n",
    "    def talk(self):\n",
    "        print(\"Meea Meea..\")\n",
    "class Cat:\n",
    "    def talk(self):\n",
    "        print(\"Mowa Mowa..\")\n",
    "\n",
    "def f1(obj):\n",
    "    if hasattr(obj,'talk'):\n",
    "        obj.talk()\n",
    "    elif hasattr (obj, 'bark'):\n",
    "        obj.bark()\n",
    "\n",
    "f1(Duck())\n",
    "f1(Dog())"
   ]
  },
  {
   "cell_type": "code",
   "execution_count": null,
   "metadata": {
    "collapsed": true
   },
   "outputs": [],
   "source": [
    "Operator loading : same operator but different behaviour when we pass number / String.\n",
    "Operator overloading can be applied for object as well here with magic methods.\n",
    "the below are example without the magic method"
   ]
  },
  {
   "cell_type": "code",
   "execution_count": 84,
   "metadata": {
    "collapsed": false
   },
   "outputs": [
    {
     "ename": "TypeError",
     "evalue": "unsupported operand type(s) for +: 'Employee' and 'Employee'",
     "output_type": "error",
     "traceback": [
      "\u001b[1;31m---------------------------------------------------------------------------\u001b[0m",
      "\u001b[1;31mTypeError\u001b[0m                                 Traceback (most recent call last)",
      "\u001b[1;32m<ipython-input-84-741655f227c9>\u001b[0m in \u001b[0;36m<module>\u001b[1;34m()\u001b[0m\n\u001b[0;32m      4\u001b[0m \u001b[0me1\u001b[0m \u001b[1;33m=\u001b[0m \u001b[0mEmployee\u001b[0m\u001b[1;33m(\u001b[0m\u001b[1;36m10000\u001b[0m\u001b[1;33m)\u001b[0m\u001b[1;33m\u001b[0m\u001b[0m\n\u001b[0;32m      5\u001b[0m \u001b[0me2\u001b[0m \u001b[1;33m=\u001b[0m \u001b[0mEmployee\u001b[0m\u001b[1;33m(\u001b[0m\u001b[1;36m20000\u001b[0m\u001b[1;33m)\u001b[0m\u001b[1;33m\u001b[0m\u001b[0m\n\u001b[1;32m----> 6\u001b[1;33m \u001b[0mprint\u001b[0m\u001b[1;33m(\u001b[0m\u001b[0me1\u001b[0m\u001b[1;33m+\u001b[0m\u001b[0me2\u001b[0m\u001b[1;33m)\u001b[0m \u001b[1;31m# here we are adding two objects. See the error message in output. this is without magic method.\u001b[0m\u001b[1;33m\u001b[0m\u001b[0m\n\u001b[0m",
      "\u001b[1;31mTypeError\u001b[0m: unsupported operand type(s) for +: 'Employee' and 'Employee'"
     ]
    }
   ],
   "source": [
    "class Employee:\n",
    "    def __init__(self,salary):\n",
    "        self.salary = salary\n",
    "e1 = Employee(10000)\n",
    "e2 = Employee(20000)\n",
    "print(e1+e2) # here we are adding two objects. See the error message in output. this is without magic method."
   ]
  },
  {
   "cell_type": "code",
   "execution_count": 85,
   "metadata": {
    "collapsed": false
   },
   "outputs": [
    {
     "name": "stdout",
     "output_type": "stream",
     "text": [
      "30000\n"
     ]
    },
    {
     "ename": "TypeError",
     "evalue": "unsupported operand type(s) for +: 'int' and 'Employee'",
     "output_type": "error",
     "traceback": [
      "\u001b[1;31m---------------------------------------------------------------------------\u001b[0m",
      "\u001b[1;31mTypeError\u001b[0m                                 Traceback (most recent call last)",
      "\u001b[1;32m<ipython-input-85-9c605bb45445>\u001b[0m in \u001b[0;36m<module>\u001b[1;34m()\u001b[0m\n\u001b[0;32m     10\u001b[0m \u001b[0me3\u001b[0m \u001b[1;33m=\u001b[0m \u001b[0mEmployee\u001b[0m\u001b[1;33m(\u001b[0m\u001b[1;36m30000\u001b[0m\u001b[1;33m)\u001b[0m\u001b[1;33m\u001b[0m\u001b[0m\n\u001b[0;32m     11\u001b[0m \u001b[0mprint\u001b[0m\u001b[1;33m(\u001b[0m\u001b[0me1\u001b[0m\u001b[1;33m+\u001b[0m\u001b[0me2\u001b[0m\u001b[1;33m)\u001b[0m\u001b[1;33m\u001b[0m\u001b[0m\n\u001b[1;32m---> 12\u001b[1;33m \u001b[0mprint\u001b[0m\u001b[1;33m(\u001b[0m\u001b[0me1\u001b[0m\u001b[1;33m+\u001b[0m\u001b[0me2\u001b[0m\u001b[1;33m+\u001b[0m\u001b[0me3\u001b[0m\u001b[1;33m)\u001b[0m \u001b[1;31m# it accept only two arguments. see he error message for 3 arguments\u001b[0m\u001b[1;33m\u001b[0m\u001b[0m\n\u001b[0m",
      "\u001b[1;31mTypeError\u001b[0m: unsupported operand type(s) for +: 'int' and 'Employee'"
     ]
    }
   ],
   "source": [
    "#With Magic Operator:\n",
    "\n",
    "class Employee:\n",
    "    def __init__(self,salary):\n",
    "        self.salary = salary\n",
    "    def __add__(self,other):\n",
    "        return self.salary + other.salary\n",
    "e1 = Employee(10000)\n",
    "e2 = Employee(20000)\n",
    "e3 = Employee(30000)\n",
    "print(e1+e2)\n",
    "print(e1+e2+e3) # it accept only two arguments. see he error message for 3 arguments"
   ]
  },
  {
   "cell_type": "code",
   "execution_count": null,
   "metadata": {
    "collapsed": true
   },
   "outputs": [],
   "source": [
    "Magic Methods exist in object class:\n",
    " + object.__add__(self,other)\n",
    " - object.__sub__(self,other)\n",
    " * object.__mul__(self,other)\n",
    " / object.__div__(self,other)\n",
    " // object.__floordiv__(self,other)\n",
    " % object.__mod__(self,other)\n",
    " ** object.__pow__(self,other)\n",
    " += object.__iadd__(self,other)\n",
    " -= object.__isub__(self,other)\n",
    " *= object.__imul__(self,other)\n",
    " /= object.__idiv__(self,other)\n",
    " //= object.__ifloordiv__(self,other)\n",
    " %= object.__imod__(self,other)\n",
    " **= object.__ipow__(self,other)\n",
    " < object.__lt__(self,other)\n",
    " <= object.__le__(self,other)\n",
    " > object.__gt__(self,other)\n",
    " >= object.__ge__(self,other)\n",
    " == object.__eq__(self,other)\n",
    " != object.__ne__(self,other)"
   ]
  },
  {
   "cell_type": "code",
   "execution_count": 86,
   "metadata": {
    "collapsed": false
   },
   "outputs": [
    {
     "name": "stdout",
     "output_type": "stream",
     "text": [
      "False\n",
      "True\n"
     ]
    }
   ],
   "source": [
    "class Employee:\n",
    "    def __init__(self,salary):\n",
    "        self.salary = salary\n",
    "    def __gt__(self,other):\n",
    "        return self.salary > other.salary\n",
    "    def __lt__(self,other):\n",
    "        return self.salary < other.salary\n",
    "e1 = Employee(10000)\n",
    "e2 = Employee(20000)\n",
    "print(e1 > e2)\n",
    "print(e1 < e2)"
   ]
  },
  {
   "cell_type": "code",
   "execution_count": 87,
   "metadata": {
    "collapsed": false
   },
   "outputs": [
    {
     "name": "stdout",
     "output_type": "stream",
     "text": [
      "30000\n",
      "60000\n",
      "<__main__.Employee object at 0x7ff5380df1d0>\n"
     ]
    }
   ],
   "source": [
    "#With Magic Operator: solution for as manay objects as possible \n",
    "\n",
    "class Employee:\n",
    "    def __init__(self,salary):\n",
    "        self.salary = salary\n",
    "    def __add__(self,other):\n",
    "        total = self.salary + other.salary\n",
    "        return Employee(total)\n",
    "    \n",
    "e1 = Employee(10000)\n",
    "e2 = Employee(20000)\n",
    "e3 = Employee(30000)\n",
    "eTotalSal = e1+e2\n",
    "print(eTotalSal.salary)\n",
    "eTotalSal = e1+e2+e3\n",
    "print(eTotalSal.salary)\n",
    "print(eTotalSal) # it calls object __str__ method which prints object"
   ]
  },
  {
   "cell_type": "code",
   "execution_count": 88,
   "metadata": {
    "collapsed": false
   },
   "outputs": [
    {
     "name": "stdout",
     "output_type": "stream",
     "text": [
      "10000\n",
      "30000\n",
      "60000\n"
     ]
    }
   ],
   "source": [
    "class Employee:\n",
    "    def __init__(self,salary):\n",
    "        self.salary = salary\n",
    "    def __add__(self,other):\n",
    "        total = self.salary + other.salary\n",
    "        return Employee(total)\n",
    "    def __str__(self):\n",
    "        return str(self.salary)\n",
    "    \n",
    "e1 = Employee(10000)\n",
    "e2 = Employee(20000)\n",
    "e3 = Employee(30000)\n",
    "print(e1) # here add method is not called. but string method called\n",
    "print(e1+e2) # here add and str methods are called\n",
    "print(e1+e2+e3) # here two times add method called and str method called once."
   ]
  },
  {
   "cell_type": "code",
   "execution_count": 89,
   "metadata": {
    "collapsed": false
   },
   "outputs": [
    {
     "name": "stdout",
     "output_type": "stream",
     "text": [
      "wages of kiyan: 21000\n"
     ]
    }
   ],
   "source": [
    "class Employee:\n",
    "    def __init__(self, name, salary):\n",
    "        self.name = name\n",
    "        self.salary = salary\n",
    "    def __mul__(self,other):\n",
    "        return self.salary * other.days\n",
    "\n",
    "class TimeSheet:\n",
    "    def __init__(self, days):\n",
    "        self.days = days\n",
    "    def __mul__(self,other):\n",
    "        return self.days * other.salary\n",
    "\n",
    "print(\"wages of kiyan:\", Employee(\"kiyan\",1000) * TimeSheet(21))"
   ]
  },
  {
   "cell_type": "code",
   "execution_count": null,
   "metadata": {
    "collapsed": true
   },
   "outputs": [],
   "source": [
    "Python does not support method overloading concept. if we create same method with different arguments then \n",
    "most recelty created one will be executed."
   ]
  },
  {
   "cell_type": "code",
   "execution_count": null,
   "metadata": {
    "collapsed": true
   },
   "outputs": [],
   "source": [
    "m1(int i)\n",
    "m1(String j)\n",
    "\n",
    "in python\n",
    "m1(obj)\n",
    "\n",
    "m1(int i)\n",
    "m1(int i, int j)\n",
    "\n",
    "this can be handled with variable length argument and default method. method overlaoding conept require alternative \n",
    "code as resolved in the below program."
   ]
  },
  {
   "cell_type": "code",
   "execution_count": 90,
   "metadata": {
    "collapsed": false
   },
   "outputs": [
    {
     "name": "stdout",
     "output_type": "stream",
     "text": [
      "The Sum of 2 Numbers: 30\n",
      "The Sum of 3 Numbers: 60\n",
      "Please provide 2 or 3 arguments\n"
     ]
    }
   ],
   "source": [
    "class Test:\n",
    "    def sum(self,a=None,b=None,c=None):\n",
    "        if a!=None and b!= None and c!= None:\n",
    "            print('The Sum of 3 Numbers:',a+b+c)\n",
    "        elif a!=None and b!= None:\n",
    "            print('The Sum of 2 Numbers:',a+b)\n",
    "        else:\n",
    "            print('Please provide 2 or 3 arguments')\n",
    "t=Test()\n",
    "t.sum(10,20)\n",
    "t.sum(10,20,30)\n",
    "t.sum()"
   ]
  },
  {
   "cell_type": "code",
   "execution_count": 91,
   "metadata": {
    "collapsed": false
   },
   "outputs": [
    {
     "name": "stdout",
     "output_type": "stream",
     "text": [
      "The Sum: 10\n",
      "The Sum: 30\n",
      "The Sum: 10\n",
      "The Sum: 30\n",
      "The Sum: 60\n",
      "The Sum: 10\n"
     ]
    }
   ],
   "source": [
    "class Test:\n",
    "    def sum(self,*a):\n",
    "        total=0\n",
    "        for x in a:\n",
    "            total=total+x\n",
    "            print('The Sum:',total)\n",
    "\n",
    "t=Test()\n",
    "t.sum(10,20)\n",
    "t.sum(10,20,30)\n",
    "t.sum(10)\n",
    "t.sum()"
   ]
  },
  {
   "cell_type": "code",
   "execution_count": null,
   "metadata": {
    "collapsed": true
   },
   "outputs": [],
   "source": [
    "Constructor overloading:\n",
    "    \n",
    "Constructor overloading is not possible in Python.\n",
    "If we define multiple constructors then the last constructor will be considered.\n",
    "But based on our requirement we can declare constructor with default arguments and variable number of arguments."
   ]
  },
  {
   "cell_type": "code",
   "execution_count": 92,
   "metadata": {
    "collapsed": false
   },
   "outputs": [
    {
     "name": "stdout",
     "output_type": "stream",
     "text": [
      "Constructor upto 3 number of arguments\n",
      "Constructor upto 3 number of arguments\n",
      "Constructor upto 3 number of arguments\n",
      "Constructor upto 3 number of arguments\n"
     ]
    }
   ],
   "source": [
    "class Test:\n",
    "    def __init__(self,a=None,b=None,c=None):\n",
    "        print('Constructor upto 3 number of arguments')\n",
    "t1=Test()\n",
    "t2=Test(10)\n",
    "t3=Test(10,20)\n",
    "t4=Test(10,20,30)"
   ]
  },
  {
   "cell_type": "code",
   "execution_count": 93,
   "metadata": {
    "collapsed": false
   },
   "outputs": [
    {
     "name": "stdout",
     "output_type": "stream",
     "text": [
      "Constructor with any number of arguments\n",
      "Constructor with any number of arguments\n",
      "Constructor with any number of arguments\n",
      "Constructor with any number of arguments\n",
      "Constructor with any number of arguments\n"
     ]
    }
   ],
   "source": [
    "class Test:\n",
    "    def __init__(self,*a):\n",
    "        print('Constructor with any number of arguments')\n",
    "\n",
    "t1=Test()\n",
    "t2=Test(10)\n",
    "t3=Test(10,20)\n",
    "t4=Test(10,20,30)\n",
    "t5=Test(10,20,30,40,50,60)"
   ]
  },
  {
   "cell_type": "code",
   "execution_count": null,
   "metadata": {
    "collapsed": true
   },
   "outputs": [],
   "source": [
    "Method Overriding: for this we need two classes.\n",
    "Overriding concept applicable for both methods and constructors. if parent method is not meeting the requirement of\n",
    "child. child can override parent class method/constuctor. child can also reuse parent class by using super keyword"
   ]
  },
  {
   "cell_type": "code",
   "execution_count": 95,
   "metadata": {
    "collapsed": false
   },
   "outputs": [
    {
     "name": "stdout",
     "output_type": "stream",
     "text": [
      "Gold+Land+Cash+Power\n",
      "Katrina Kaif\n"
     ]
    }
   ],
   "source": [
    "class P:\n",
    "    def property(self):\n",
    "        print('Gold+Land+Cash+Power')\n",
    "    def marry(self):\n",
    "        print('Appalamma')\n",
    "class C(P):\n",
    "    def marry(self):\n",
    "        print('Katrina Kaif')\n",
    "c=C()\n",
    "c.property()\n",
    "c.marry()"
   ]
  },
  {
   "cell_type": "code",
   "execution_count": 96,
   "metadata": {
    "collapsed": false
   },
   "outputs": [
    {
     "name": "stdout",
     "output_type": "stream",
     "text": [
      "Gold+Land+Cash+Power\n",
      "Appalamma\n",
      "Katrina Kaif\n"
     ]
    }
   ],
   "source": [
    "#calling parent class method.\n",
    "class C(P):\n",
    "    def marry(self):\n",
    "        super().marry()\n",
    "        print('Katrina Kaif')\n",
    "c=C()\n",
    "c.property()\n",
    "c.marry()"
   ]
  },
  {
   "cell_type": "code",
   "execution_count": 97,
   "metadata": {
    "collapsed": false
   },
   "outputs": [
    {
     "name": "stdout",
     "output_type": "stream",
     "text": [
      "Employee Name: Durga\n",
      "Employee Age: 48\n",
      "Employee Number: 872425\n",
      "Employee Salary: 26000\n",
      "Employee Name: Sunny\n",
      "Employee Age: 39\n",
      "Employee Number: 872426\n",
      "Employee Salary: 36000\n"
     ]
    }
   ],
   "source": [
    "class Person:\n",
    "    def __init__(self,name,age):\n",
    "        self.name=name\n",
    "        self.age=age\n",
    "\n",
    "class Employee(Person):\n",
    "    def __init__(self,name,age,eno,esal):\n",
    "        super().__init__(name,age)\n",
    "        self.eno=eno\n",
    "        self.esal=esal\n",
    "\n",
    "    def display(self):\n",
    "        print('Employee Name:',self.name)\n",
    "        print('Employee Age:',self.age)\n",
    "        print('Employee Number:',self.eno)\n",
    "        print('Employee Salary:',self.esal)\n",
    "     \n",
    "e1=Employee('Durga',48,872425,26000)\n",
    "e1.display()\n",
    "e2=Employee('Sunny',39,872426,36000)\n",
    "e2.display()"
   ]
  },
  {
   "cell_type": "code",
   "execution_count": null,
   "metadata": {
    "collapsed": true
   },
   "outputs": [],
   "source": [
    "Abstract:\n",
    "sometime we may not know implementation of a method in a class. Still we can define it with abstractclass decorator.\n",
    "\n",
    "from abc import *\n",
    "class Vehical(ABC):\n",
    "    @abstractmethod\n",
    "    def carGearBox(self): pass\n",
    "\n",
    "@abstractmethod is in abc module. We need to import it otherwise we get NameError.\n",
    "Its child class reponsibility to implement abstract methods\n",
    "\n",
    "In the above example, we can not create object as it is derived from ABC and a method has abstract decorator.\n",
    "\n",
    "In the above example, if we do not have @abstractmedhod decorator then it is concreate method and can crerate \n",
    "object even it extends lefrom ABC\n",
    "\n",
    "In the above example, if it is not derived from ABC, then derived class is not abstract class and we can crerate \n",
    "object even it has @abstractmethod decorator.\n",
    "\n",
    "If child class not implemented parent class abstract method, then child class also abstract class. we can not create\n",
    "object for the child class.\n",
    "\n",
    "Abstract class can also contain non-abstract methods."
   ]
  },
  {
   "cell_type": "code",
   "execution_count": null,
   "metadata": {
    "collapsed": true
   },
   "outputs": [],
   "source": [
    "Interface: In Python therotically this concept is not exist but we have work around.\n",
    "Any abstract class contains only abstract methods then we can treat it as interface"
   ]
  },
  {
   "cell_type": "code",
   "execution_count": null,
   "metadata": {
    "collapsed": true
   },
   "outputs": [],
   "source": [
    "publc protected and private : \n",
    "    \n",
    "    protected proceeded by single underscore. will be accessed by child classes only\n",
    "    priave proceeded by mulitple underscore.  will be accessed inside class only\n",
    "\n",
    "therotically even these are exit, everything accessed outside of class either class / object __dict__ methods."
   ]
  },
  {
   "cell_type": "code",
   "execution_count": null,
   "metadata": {
    "collapsed": true
   },
   "outputs": [],
   "source": [
    "__str__() /str() ->converts object to stirng\n",
    "__repr__()/repr() -> covnert results string to original object with help of eval function."
   ]
  }
 ],
 "metadata": {
  "kernelspec": {
   "display_name": "Python 3",
   "language": "python",
   "name": "python3"
  },
  "language_info": {
   "codemirror_mode": {
    "name": "ipython",
    "version": 3
   },
   "file_extension": ".py",
   "mimetype": "text/x-python",
   "name": "python",
   "nbconvert_exporter": "python",
   "pygments_lexer": "ipython3",
   "version": "3.4.3"
  }
 },
 "nbformat": 4,
 "nbformat_minor": 0
}
